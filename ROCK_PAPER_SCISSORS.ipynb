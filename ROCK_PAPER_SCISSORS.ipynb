{
  "nbformat": 4,
  "nbformat_minor": 0,
  "metadata": {
    "colab": {
      "name": "ROCK PAPER SCISSORS.ipynb",
      "provenance": [],
      "authorship_tag": "ABX9TyO7Io/mH2Ep/jAugMAsYxrO",
      "include_colab_link": true
    },
    "kernelspec": {
      "name": "python3",
      "display_name": "Python 3"
    },
    "language_info": {
      "name": "python"
    }
  },
  "cells": [
    {
      "cell_type": "markdown",
      "metadata": {
        "id": "view-in-github",
        "colab_type": "text"
      },
      "source": [
        "<a href=\"https://colab.research.google.com/github/camerontruong/ARA-READABILITY/blob/main/ROCK_PAPER_SCISSORS.ipynb\" target=\"_parent\"><img src=\"https://colab.research.google.com/assets/colab-badge.svg\" alt=\"Open In Colab\"/></a>"
      ]
    },
    {
      "cell_type": "code",
      "metadata": {
        "id": "rdTTPboo0aN6"
      },
      "source": [
        "#List of options\n",
        "game  = [\"Rock\", \"Paper\", \"Scissors\"]"
      ],
      "execution_count": null,
      "outputs": []
    },
    {
      "cell_type": "code",
      "metadata": {
        "colab": {
          "base_uri": "https://localhost:8080/"
        },
        "id": "jbP3Zed70laf",
        "outputId": "e048fd03-b85a-4620-b51e-ff3efd6bb712"
      },
      "source": [
        "from random import randint\n",
        "\n",
        "#List of options\n",
        "game  = [\"Rock\", \"Paper\", \"Scissors\"]\n",
        "\n",
        "#Assigning a random option to computer\n",
        "computer = game[randint(0,2)]\n",
        "\n",
        "\n",
        "#Keep count for points\n",
        "playersPoint = 0\n",
        "computersPoint = 0\n",
        "\n",
        "goOn = True\n",
        "\n",
        "#Loop goes on until goOn is false\n",
        "while(goOn):\n",
        "    #Ask for user input\n",
        "    player = input(\"Rock, Paper or Scissors? or enter Finish to end!\\n\")\n",
        "\n",
        "    #Check for scenarios\n",
        "    if(player == 'Finish'):\n",
        "        goOn = False\n",
        "    elif(player == computer):\n",
        "        print(\"Tie!\")\n",
        "    elif(player == \"Rock\"):\n",
        "        if(computer == \"Paper\"):\n",
        "            print(\"You lose!\", computer, \"covers\", player)\n",
        "            computersPoint = computersPoint + 1 \n",
        "        else:\n",
        "            print(\"You win!\", player, \"smashes\", computer)\n",
        "            playersPoint = playersPoint + 1\n",
        "    elif(player == \"Paper\"):\n",
        "        if(computer == \"Scissors\"):\n",
        "            print(\"You lose!\", computer, \"cut\", player)\n",
        "            computersPoint = computersPoint + 1\n",
        "        else:\n",
        "            print(\"You win!\", player, \"covers\", computer)\n",
        "            playersPoint = playersPoint + 1\n",
        "    elif(player == \"Scissors\"):\n",
        "        if(computer == \"Rock\"):\n",
        "            print(\"You lose...\", computer, \"smashes\", player)\n",
        "            computersPoint = computersPoint + 1\n",
        "        else:\n",
        "            print(\"You win!\", player, \"cut\", computer)\n",
        "            playersPoint = playersPoint + 1\n",
        "    else:\n",
        "        print(\"That's not a valid play. Check your spelling!\")\n",
        "    #Assigning a random option to computer\n",
        "    computer = game[randint(0,2)]\n",
        "    print('********Next Turn********')\n",
        "\n",
        "#Printing final points\n",
        "print(\"********Final Points********\")\n",
        "print(\"Player: \", playersPoint)\n",
        "print(\"Computer: \", computersPoint)"
      ],
      "execution_count": 1,
      "outputs": [
        {
          "output_type": "stream",
          "text": [
            "Rock, Paper or Scissors? or enter Finish to end!\n",
            "Rock\n",
            "Tie!\n",
            "********Next Turn********\n",
            "Rock, Paper or Scissors? or enter Finish to end!\n",
            "paper\n",
            "That's not a valid play. Check your spelling!\n",
            "********Next Turn********\n",
            "Rock, Paper or Scissors? or enter Finish to end!\n",
            "Paper\n",
            "You win! Paper covers Rock\n",
            "********Next Turn********\n",
            "Rock, Paper or Scissors? or enter Finish to end!\n",
            "Rock\n",
            "Tie!\n",
            "********Next Turn********\n",
            "Rock, Paper or Scissors? or enter Finish to end!\n",
            "Paper\n",
            "Tie!\n",
            "********Next Turn********\n",
            "Rock, Paper or Scissors? or enter Finish to end!\n",
            "Paper\n",
            "You lose! Scissors cut Paper\n",
            "********Next Turn********\n",
            "Rock, Paper or Scissors? or enter Finish to end!\n",
            "Rock\n",
            "You win! Rock smashes Scissors\n",
            "********Next Turn********\n",
            "Rock, Paper or Scissors? or enter Finish to end!\n",
            "Rock\n",
            "Tie!\n",
            "********Next Turn********\n",
            "Rock, Paper or Scissors? or enter Finish to end!\n",
            "Paper\n",
            "You lose! Scissors cut Paper\n",
            "********Next Turn********\n",
            "Rock, Paper or Scissors? or enter Finish to end!\n",
            "Rock\n",
            "Tie!\n",
            "********Next Turn********\n",
            "Rock, Paper or Scissors? or enter Finish to end!\n",
            "Paper\n",
            "Tie!\n",
            "********Next Turn********\n",
            "Rock, Paper or Scissors? or enter Finish to end!\n",
            "Scissors\n",
            "You win! Scissors cut Paper\n",
            "********Next Turn********\n",
            "Rock, Paper or Scissors? or enter Finish to end!\n",
            "Finish\n",
            "********Next Turn********\n",
            "********Final Points********\n",
            "Player:  3\n",
            "Computer:  2\n"
          ],
          "name": "stdout"
        }
      ]
    }
  ]
}