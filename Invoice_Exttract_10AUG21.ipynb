{
  "nbformat": 4,
  "nbformat_minor": 0,
  "metadata": {
    "colab": {
      "name": "Invoice_Exttract.ipynb",
      "provenance": [],
      "authorship_tag": "ABX9TyParMVYdgbNB8xkReeuXBWY",
      "include_colab_link": true
    },
    "kernelspec": {
      "name": "python3",
      "display_name": "Python 3"
    },
    "language_info": {
      "name": "python"
    }
  },
  "cells": [
    {
      "cell_type": "markdown",
      "metadata": {
        "id": "view-in-github",
        "colab_type": "text"
      },
      "source": [
        "<a href=\"https://colab.research.google.com/github/camerontruong/ARA-READABILITY/blob/main/Invoice_Exttract_10AUG21.ipynb\" target=\"_parent\"><img src=\"https://colab.research.google.com/assets/colab-badge.svg\" alt=\"Open In Colab\"/></a>"
      ]
    },
    {
      "cell_type": "code",
      "metadata": {
        "colab": {
          "base_uri": "https://localhost:8080/"
        },
        "id": "o9ZhwtNkKzJF",
        "outputId": "53138f58-4d9b-45f9-97b0-7b571281b4f1"
      },
      "source": [
        "!pip install pdfplumber\n",
        "import requests\n",
        "import pdfplumber"
      ],
      "execution_count": 2,
      "outputs": [
        {
          "output_type": "stream",
          "text": [
            "Collecting pdfplumber\n",
            "  Downloading pdfplumber-0.5.28.tar.gz (45 kB)\n",
            "\u001b[K     |████████████████████████████████| 45 kB 1.6 MB/s \n",
            "\u001b[?25hCollecting pdfminer.six==20200517\n",
            "  Downloading pdfminer.six-20200517-py3-none-any.whl (5.6 MB)\n",
            "\u001b[K     |████████████████████████████████| 5.6 MB 7.8 MB/s \n",
            "\u001b[?25hRequirement already satisfied: Pillow>=7.0.0 in /usr/local/lib/python3.7/dist-packages (from pdfplumber) (7.1.2)\n",
            "Collecting Wand\n",
            "  Downloading Wand-0.6.6-py2.py3-none-any.whl (138 kB)\n",
            "\u001b[K     |████████████████████████████████| 138 kB 37.3 MB/s \n",
            "\u001b[?25hCollecting pycryptodome\n",
            "  Downloading pycryptodome-3.10.1-cp35-abi3-manylinux2010_x86_64.whl (1.9 MB)\n",
            "\u001b[K     |████████████████████████████████| 1.9 MB 39.1 MB/s \n",
            "\u001b[?25hRequirement already satisfied: chardet in /usr/local/lib/python3.7/dist-packages (from pdfminer.six==20200517->pdfplumber) (3.0.4)\n",
            "Requirement already satisfied: sortedcontainers in /usr/local/lib/python3.7/dist-packages (from pdfminer.six==20200517->pdfplumber) (2.4.0)\n",
            "Building wheels for collected packages: pdfplumber\n",
            "  Building wheel for pdfplumber (setup.py) ... \u001b[?25l\u001b[?25hdone\n",
            "  Created wheel for pdfplumber: filename=pdfplumber-0.5.28-py3-none-any.whl size=32239 sha256=5b7931cb5d5a10f08870ccc2360fd19cdb91b2119df066c24d1ca8eeda54d284\n",
            "  Stored in directory: /root/.cache/pip/wheels/f2/b1/a0/c0a77b756d580f53b3806ae0e0b3ec945a8d05fca1d6e10cc1\n",
            "Successfully built pdfplumber\n",
            "Installing collected packages: pycryptodome, Wand, pdfminer.six, pdfplumber\n",
            "Successfully installed Wand-0.6.6 pdfminer.six-20200517 pdfplumber-0.5.28 pycryptodome-3.10.1\n"
          ],
          "name": "stdout"
        }
      ]
    },
    {
      "cell_type": "code",
      "metadata": {
        "id": "8Rja_JZYK_zy"
      },
      "source": [
        "\n",
        "def download_file(url):\n",
        "    local_filename = url.split('/')[-1]\n",
        "    \n",
        "    with requests.get(url) as r:\n",
        "        with open(local_filename, 'wb') as f:\n",
        "            f.write(r.content)\n",
        "        \n",
        "    return local_filename"
      ],
      "execution_count": 3,
      "outputs": []
    },
    {
      "cell_type": "code",
      "metadata": {
        "id": "Etwx4fFELGPd"
      },
      "source": [
        "invoice_url = 'http://www.k-billing.com/example_invoices/professionalblue_example.pdf'\n",
        "\n",
        "invoice = download_file(invoice_url)"
      ],
      "execution_count": 4,
      "outputs": []
    },
    {
      "cell_type": "code",
      "metadata": {
        "id": "SrdlYfHALKbA"
      },
      "source": [
        "with pdfplumber.open(invoice) as pdf:\n",
        "    page = pdf.pages[0]\n",
        "    text = page.extract_text()"
      ],
      "execution_count": 5,
      "outputs": []
    },
    {
      "cell_type": "code",
      "metadata": {
        "colab": {
          "base_uri": "https://localhost:8080/"
        },
        "id": "VjngqTCyLQNc",
        "outputId": "00e4e77b-2e67-49a7-b55e-b9d680e67977"
      },
      "source": [
        "print(text)"
      ],
      "execution_count": 8,
      "outputs": [
        {
          "output_type": "stream",
          "text": [
            "INVOICE\n",
            "Invoice No. I1083\n",
            "Account # C1006\n",
            "Date 08-14-2008\n",
            "Due By 08-31-2008\n",
            "Demo Company\n",
            "Phone : 111-222-3333 Terms None\n",
            "1234 Main Street E-Mail : 333-444-4444 PO No. PO1234\n",
            "Ashland, KY 41102 Web : http://www.ksoftware.net Sales Rep SalesPerson1\n",
            "Bill To Ship To\n",
            "Test Customer Test Customer\n",
            "1234 Main Street 1234 Main Street\n",
            "Ashland, KY 41101 Ashland,  41101\n",
            "CCooddee DDeessccrriippttiioonn QTY Price Line Total\n",
            "SKU1222 Test Import Name - Description Goes Here 1 $10.00 $10.00\n",
            "Labor - Example labor item. Quantity is number of hours spent,  1.5 $100.00 $150.00\n",
            "price is hourly rate. Quantity accepts decimal values.\n",
            "Notes\n",
            "An invoice note can go here. Multi-line and even multi-page notes are supported.\n",
            "PPaayymmeenntt  DDeettaaiillss\n",
            "Subtotal $160.00\n",
            "Shipping$10.00 Tax $0.78\n",
            "UPS Ground Total $170.78\n",
            "Payments (-) $0.00\n",
            "Balance Due $170.78\n",
            "An invoice footer can go here\n"
          ],
          "name": "stdout"
        }
      ]
    },
    {
      "cell_type": "code",
      "metadata": {
        "id": "ly0HI4geLSkB"
      },
      "source": [
        "for row in text.split('\\n'):\n",
        "    if row.startswith('Balance Due'):\n",
        "        balance = row.split()[-1]"
      ],
      "execution_count": 9,
      "outputs": []
    },
    {
      "cell_type": "code",
      "metadata": {
        "colab": {
          "base_uri": "https://localhost:8080/",
          "height": 35
        },
        "id": "WfAEnzTSLbt8",
        "outputId": "cfbeb707-00da-4af0-af61-208ce2523d42"
      },
      "source": [
        "balance"
      ],
      "execution_count": 10,
      "outputs": [
        {
          "output_type": "execute_result",
          "data": {
            "application/vnd.google.colaboratory.intrinsic+json": {
              "type": "string"
            },
            "text/plain": [
              "'$170.78'"
            ]
          },
          "metadata": {
            "tags": []
          },
          "execution_count": 10
        }
      ]
    },
    {
      "cell_type": "code",
      "metadata": {
        "colab": {
          "base_uri": "https://localhost:8080/"
        },
        "id": "bNLxbADQLdnc",
        "outputId": "8a5dc3bb-c16c-424f-9c4e-a66ab8eda0f1"
      },
      "source": [
        "data =text.split('\\n')\n",
        "data"
      ],
      "execution_count": 11,
      "outputs": [
        {
          "output_type": "execute_result",
          "data": {
            "text/plain": [
              "['INVOICE',\n",
              " 'Invoice No. I1083',\n",
              " 'Account # C1006',\n",
              " 'Date 08-14-2008',\n",
              " 'Due By 08-31-2008',\n",
              " 'Demo Company',\n",
              " 'Phone : 111-222-3333 Terms None',\n",
              " '1234 Main Street E-Mail : 333-444-4444 PO No. PO1234',\n",
              " 'Ashland, KY 41102 Web : http://www.ksoftware.net Sales Rep SalesPerson1',\n",
              " 'Bill To Ship To',\n",
              " 'Test Customer Test Customer',\n",
              " '1234 Main Street 1234 Main Street',\n",
              " 'Ashland, KY 41101 Ashland,  41101',\n",
              " 'CCooddee DDeessccrriippttiioonn QTY Price Line Total',\n",
              " 'SKU1222 Test Import Name - Description Goes Here 1 $10.00 $10.00',\n",
              " 'Labor - Example labor item. Quantity is number of hours spent,  1.5 $100.00 $150.00',\n",
              " 'price is hourly rate. Quantity accepts decimal values.',\n",
              " 'Notes',\n",
              " 'An invoice note can go here. Multi-line and even multi-page notes are supported.',\n",
              " 'PPaayymmeenntt  DDeettaaiillss',\n",
              " 'Subtotal $160.00',\n",
              " 'Shipping$10.00 Tax $0.78',\n",
              " 'UPS Ground Total $170.78',\n",
              " 'Payments (-) $0.00',\n",
              " 'Balance Due $170.78',\n",
              " 'An invoice footer can go here']"
            ]
          },
          "metadata": {
            "tags": []
          },
          "execution_count": 11
        }
      ]
    },
    {
      "cell_type": "code",
      "metadata": {
        "colab": {
          "base_uri": "https://localhost:8080/"
        },
        "id": "Rt79hG_8NbUK",
        "outputId": "580b0025-0d6c-4d03-a698-f3c8ac544f53"
      },
      "source": [
        "for item in data:\n",
        "  if 'Subtotal' in item:\n",
        "    print(item.split()[-1])"
      ],
      "execution_count": 14,
      "outputs": [
        {
          "output_type": "stream",
          "text": [
            "$160.00\n"
          ],
          "name": "stdout"
        }
      ]
    },
    {
      "cell_type": "code",
      "metadata": {
        "id": "wKdAIU_SNnE7"
      },
      "source": [
        ""
      ],
      "execution_count": null,
      "outputs": []
    }
  ]
}