{
  "nbformat": 4,
  "nbformat_minor": 0,
  "metadata": {
    "colab": {
      "name": "ACF5510_Week8_Thursday1_4.ipynb",
      "provenance": [],
      "authorship_tag": "ABX9TyMfdAIj0Yk5PDOQaoWmq18M",
      "include_colab_link": true
    },
    "kernelspec": {
      "name": "python3",
      "display_name": "Python 3"
    },
    "language_info": {
      "name": "python"
    }
  },
  "cells": [
    {
      "cell_type": "markdown",
      "metadata": {
        "id": "view-in-github",
        "colab_type": "text"
      },
      "source": [
        "<a href=\"https://colab.research.google.com/github/camerontruong/ARA-READABILITY/blob/main/ACF5510_Week8_Thursday1_4.ipynb\" target=\"_parent\"><img src=\"https://colab.research.google.com/assets/colab-badge.svg\" alt=\"Open In Colab\"/></a>"
      ]
    },
    {
      "cell_type": "code",
      "execution_count": 2,
      "metadata": {
        "colab": {
          "base_uri": "https://localhost:8080/"
        },
        "id": "SejFSP4JJBQ-",
        "outputId": "fa0673fc-c8a8-488f-b789-f80bfde8f104"
      },
      "outputs": [
        {
          "output_type": "stream",
          "name": "stdout",
          "text": [
            "Hello World. We are from ACF5510 Thursday class\n"
          ]
        }
      ],
      "source": [
        "print(\"Hello World. We are from ACF5510 Thursday class\")"
      ]
    },
    {
      "cell_type": "code",
      "source": [
        "name = \"Cameron Truong\"\n",
        "print(name)\n",
        "\n",
        "name1=\"Dharmendra Naidu\"\n",
        "name2=\"Alvin Truong\"\n",
        "\n",
        "print(name, name1, name2)"
      ],
      "metadata": {
        "colab": {
          "base_uri": "https://localhost:8080/"
        },
        "id": "AUW5atP8LLdK",
        "outputId": "4e1f43a2-7fa9-4a6c-8259-f909f71a54af"
      },
      "execution_count": 4,
      "outputs": [
        {
          "output_type": "stream",
          "name": "stdout",
          "text": [
            "Cameron Truong\n",
            "Cameron Truong Dharmendra Naidu Alvin Truong\n"
          ]
        }
      ]
    },
    {
      "cell_type": "code",
      "source": [
        "name=input(\"What is your name? \")\n",
        "print(name)"
      ],
      "metadata": {
        "colab": {
          "base_uri": "https://localhost:8080/"
        },
        "id": "MWMATarnL_vl",
        "outputId": "aad7bb91-56a9-4ed5-dfed-e6b015756627"
      },
      "execution_count": 5,
      "outputs": [
        {
          "output_type": "stream",
          "name": "stdout",
          "text": [
            "What is your name? Cameron Truong\n",
            "Cameron Truong\n"
          ]
        }
      ]
    },
    {
      "cell_type": "code",
      "source": [
        "print(\"What's up! Welcome to ACF5510 Week 8\")\n",
        "welcome_message = \"Our instructor of ACF5510 class in week 8 is \"+name\n",
        "print(welcome_message)"
      ],
      "metadata": {
        "colab": {
          "base_uri": "https://localhost:8080/"
        },
        "id": "-LK09OjFMW-o",
        "outputId": "8a804fc3-1796-456b-82d0-6e5ca6dbdec1"
      },
      "execution_count": 7,
      "outputs": [
        {
          "output_type": "stream",
          "name": "stdout",
          "text": [
            "What's up! Welcome to ACF5510 Week 8\n",
            "Our instructor of ACF5510 class in week 8 is Cameron Truong\n"
          ]
        }
      ]
    },
    {
      "cell_type": "markdown",
      "source": [
        "Exercise 1:\n",
        "#Exercise: i) print \"Welcome to Group Name Generator\", ii) city, takes the input of the city where you grew up, \"What is the name of the city where you grew up\"\n",
        "# iii), ask \" What is your pet's name? \"\n",
        "#iv)  print out \" Your group name can be\" + city + petname"
      ],
      "metadata": {
        "id": "FvAX2AtiNLus"
      }
    },
    {
      "cell_type": "code",
      "source": [
        "print(\"Welcome to Group Name Generator\")\n",
        "city=input(\"What is the name of the city where you grew up? \")\n",
        "petname=input(\"What is your pet's name? \")\n",
        "print(\"Your group name can be \"+city+\" \"+petname)"
      ],
      "metadata": {
        "colab": {
          "base_uri": "https://localhost:8080/"
        },
        "id": "J7wDeaDxNZqS",
        "outputId": "80dc5147-553f-4d46-f249-7d51ae9d34d7"
      },
      "execution_count": 10,
      "outputs": [
        {
          "output_type": "stream",
          "name": "stdout",
          "text": [
            "Welcome to Group Name Generator\n",
            "What is the name of the city where you grew up? Shanghai\n",
            "What is your pet's name? Aoli\n",
            "Your group name can be Shanghai Aoli\n"
          ]
        }
      ]
    },
    {
      "cell_type": "code",
      "source": [
        "two_digit_number=input(\"Please type a two-digit number: \")\n",
        "digit1=two_digit_number[0]\n",
        "digit2=two_digit_number[1]\n",
        "sum=int(digit1)+int(digit2)\n",
        "print(sum)\n",
        "type(sum)"
      ],
      "metadata": {
        "colab": {
          "base_uri": "https://localhost:8080/"
        },
        "id": "r6hh595hQBWU",
        "outputId": "ff91ace2-38d6-4126-c051-d05e48eff245"
      },
      "execution_count": 16,
      "outputs": [
        {
          "output_type": "stream",
          "name": "stdout",
          "text": [
            "Please type a two-digit number: 14\n",
            "5\n"
          ]
        },
        {
          "output_type": "execute_result",
          "data": {
            "text/plain": [
              "int"
            ]
          },
          "metadata": {},
          "execution_count": 16
        }
      ]
    },
    {
      "cell_type": "markdown",
      "source": [
        "Exercise 2: 1) Ask the user for their height in m.\n",
        "            2) Ask the user for their weight in kg.\n",
        "            3) Print out the bmi=weight/(height*height)"
      ],
      "metadata": {
        "id": "50_y2lmESHyr"
      }
    },
    {
      "cell_type": "code",
      "source": [
        "height= float(input(\"What is your height in meter ? \"))\n",
        "weight = float(input(\"What is your weight in kg? \"))\n",
        "bmi=round(weight/(height*height),2)\n",
        "print(\"Your body mass index (bmi) is: \"+str(bmi))"
      ],
      "metadata": {
        "id": "Dqh778iNSkE7"
      },
      "execution_count": 25,
      "outputs": []
    },
    {
      "cell_type": "code",
      "source": [
        "# String manipulation\n",
        "name = \"Cameron Truong is the lecturer in charge for weeks 7-10. Cameron will be teaching Python scripting and host group presentations and the accounting debate.\"\n",
        "print(name[0])\n",
        "print(name[6])\n",
        "print(name[7])\n",
        "print(len(name))"
      ],
      "metadata": {
        "colab": {
          "base_uri": "https://localhost:8080/"
        },
        "id": "AROf_NEQV25C",
        "outputId": "92d4ba60-6c7a-4d23-9b19-d31d1ee1c860"
      },
      "execution_count": 30,
      "outputs": [
        {
          "output_type": "stream",
          "name": "stdout",
          "text": [
            "C\n",
            "n\n",
            " \n",
            "154\n"
          ]
        }
      ]
    },
    {
      "cell_type": "code",
      "source": [
        "name.index(\"a\")\n",
        "name.index(\"ron\")"
      ],
      "metadata": {
        "colab": {
          "base_uri": "https://localhost:8080/"
        },
        "id": "FO_Uzyt7Xvs_",
        "outputId": "a73dd7f4-79cc-4d4f-ab5a-6e93c5f4cdad"
      },
      "execution_count": 33,
      "outputs": [
        {
          "output_type": "execute_result",
          "data": {
            "text/plain": [
              "4"
            ]
          },
          "metadata": {},
          "execution_count": 33
        }
      ]
    },
    {
      "cell_type": "code",
      "source": [
        "name.index(\"7\")"
      ],
      "metadata": {
        "colab": {
          "base_uri": "https://localhost:8080/"
        },
        "id": "k4qEcY8WYQuP",
        "outputId": "39dba210-8ddc-452a-8587-4afcd2c026bc"
      },
      "execution_count": 34,
      "outputs": [
        {
          "output_type": "execute_result",
          "data": {
            "text/plain": [
              "51"
            ]
          },
          "metadata": {},
          "execution_count": 34
        }
      ]
    },
    {
      "cell_type": "code",
      "source": [
        "name.split(\"7-10\")\n"
      ],
      "metadata": {
        "colab": {
          "base_uri": "https://localhost:8080/"
        },
        "id": "dOBudZxpYfKe",
        "outputId": "1229a1c7-eabc-459d-d2f0-dd7abe151125"
      },
      "execution_count": 38,
      "outputs": [
        {
          "output_type": "execute_result",
          "data": {
            "text/plain": [
              "['Cameron Truong is the lecturer in charge for weeks ',\n",
              " '. Cameron will be teaching Python scripting and host group presentations and the accounting debate.']"
            ]
          },
          "metadata": {},
          "execution_count": 38
        }
      ]
    },
    {
      "cell_type": "code",
      "source": [
        "name=name.replace(\"Cameron\",\"Cam\")\n",
        "print(name)"
      ],
      "metadata": {
        "colab": {
          "base_uri": "https://localhost:8080/"
        },
        "id": "GMCU8dJAZKiq",
        "outputId": "0016432a-4ce5-462d-cc71-7bfb01f82f17"
      },
      "execution_count": 39,
      "outputs": [
        {
          "output_type": "stream",
          "name": "stdout",
          "text": [
            "Cam Truong is the lecturer in charge for weeks 7-10. Cam will be teaching Python scripting and host group presentations and the accounting debate.\n"
          ]
        }
      ]
    },
    {
      "cell_type": "code",
      "source": [
        "name.index(\".\")"
      ],
      "metadata": {
        "colab": {
          "base_uri": "https://localhost:8080/"
        },
        "id": "IU4wAAXVZciw",
        "outputId": "2697f3fd-928c-4752-b2de-d3f6fd352c6a"
      },
      "execution_count": 41,
      "outputs": [
        {
          "output_type": "execute_result",
          "data": {
            "text/plain": [
              "51"
            ]
          },
          "metadata": {},
          "execution_count": 41
        }
      ]
    },
    {
      "cell_type": "code",
      "source": [
        "print(name[:name.index(\".\")])"
      ],
      "metadata": {
        "colab": {
          "base_uri": "https://localhost:8080/"
        },
        "id": "GOjgKmPvZyXz",
        "outputId": "817ec471-be02-45be-d6cc-670d0673b872"
      },
      "execution_count": 44,
      "outputs": [
        {
          "output_type": "stream",
          "name": "stdout",
          "text": [
            "Cam Truong is the lecturer in charge for weeks 7-10\n"
          ]
        }
      ]
    },
    {
      "cell_type": "code",
      "source": [
        "print(name[51:])"
      ],
      "metadata": {
        "colab": {
          "base_uri": "https://localhost:8080/"
        },
        "id": "LcAobezxaKCE",
        "outputId": "1f5f1d15-4d0f-4e4e-b7e5-5bc645e90500"
      },
      "execution_count": 45,
      "outputs": [
        {
          "output_type": "stream",
          "name": "stdout",
          "text": [
            ". Cam will be teaching Python scripting and host group presentations and the accounting debate.\n"
          ]
        }
      ]
    },
    {
      "cell_type": "code",
      "source": [
        "name=name.upper()\n",
        "print(name)"
      ],
      "metadata": {
        "colab": {
          "base_uri": "https://localhost:8080/"
        },
        "id": "mplWepC6aX_9",
        "outputId": "f1f08e45-ad40-4021-bf4b-4fc284759d6f"
      },
      "execution_count": 46,
      "outputs": [
        {
          "output_type": "stream",
          "name": "stdout",
          "text": [
            "CAM TRUONG IS THE LECTURER IN CHARGE FOR WEEKS 7-10. CAM WILL BE TEACHING PYTHON SCRIPTING AND HOST GROUP PRESENTATIONS AND THE ACCOUNTING DEBATE.\n"
          ]
        }
      ]
    },
    {
      "cell_type": "code",
      "source": [
        "name=name.lower()\n",
        "print(name)"
      ],
      "metadata": {
        "colab": {
          "base_uri": "https://localhost:8080/"
        },
        "id": "ZMAJ2rN9af4T",
        "outputId": "c1af0bbb-1943-419d-a05c-0267167cefc4"
      },
      "execution_count": 47,
      "outputs": [
        {
          "output_type": "stream",
          "name": "stdout",
          "text": [
            "cam truong is the lecturer in charge for weeks 7-10. cam will be teaching python scripting and host group presentations and the accounting debate.\n"
          ]
        }
      ]
    },
    {
      "cell_type": "code",
      "source": [
        "name=name.title()\n",
        "print(name)"
      ],
      "metadata": {
        "colab": {
          "base_uri": "https://localhost:8080/"
        },
        "id": "hYKxBZF2ak_j",
        "outputId": "e8d9b78a-482d-4cff-f298-56465955073c"
      },
      "execution_count": 48,
      "outputs": [
        {
          "output_type": "stream",
          "name": "stdout",
          "text": [
            "Cam Truong Is The Lecturer In Charge For Weeks 7-10. Cam Will Be Teaching Python Scripting And Host Group Presentations And The Accounting Debate.\n"
          ]
        }
      ]
    },
    {
      "cell_type": "code",
      "source": [
        "text =\" Qantas is highly concerned with sustainability issues. We have our own Sustainability Manager and she looks after all key sustainability matters. SUSTAINABILITY\"\n",
        "text=text.lower()\n",
        "print(text)\n",
        "print(text.count(\"sustainability\"))"
      ],
      "metadata": {
        "colab": {
          "base_uri": "https://localhost:8080/"
        },
        "id": "GCMgDr3yaz5t",
        "outputId": "3e37aeb8-d56f-45cc-b829-f1380f6a7d1a"
      },
      "execution_count": 50,
      "outputs": [
        {
          "output_type": "stream",
          "name": "stdout",
          "text": [
            " qantas is highly concerned with sustainability issues. we have our own sustainability manager and she looks after all key sustainability matters. sustainability\n",
            "4\n"
          ]
        }
      ]
    },
    {
      "cell_type": "code",
      "source": [
        "name = \"              Cameron Truong\"\n",
        "print(name)\n",
        "name=name.strip()\n",
        "print(name)"
      ],
      "metadata": {
        "colab": {
          "base_uri": "https://localhost:8080/"
        },
        "id": "LI6PC5pkbgFZ",
        "outputId": "2bb46e16-2e05-482a-a197-5b13b1a6bd30"
      },
      "execution_count": 52,
      "outputs": [
        {
          "output_type": "stream",
          "name": "stdout",
          "text": [
            "              Cameron Truong\n",
            "Cameron Truong\n"
          ]
        }
      ]
    },
    {
      "cell_type": "markdown",
      "source": [
        "Exercise 3: Your life in days, weeks, months exercise: Create a program using maths and f-Strings that tells us how many days, weeks, months we have left if we live until 90 years old.\n",
        "\n",
        "It will take your current age as the input and output a message with our time left in this format:\n",
        "\n",
        "You have x days, y weeks, and z months left.\n",
        "\n",
        "Where x, y and z are replaced with the actual calculated numbers.\n",
        "\n",
        "Warning your output should match the Example Output format exactly, even the positions of the commas and full stops.\n",
        "\n",
        "Example Input 56 56 Example Output You have 12410 days, 1768 weeks, and 408 months left. You have 12410 days, 1768 weeks, and 408 months left. e.g. When you hit run, this is what should happen:"
      ],
      "metadata": {
        "id": "I2WAv-ZrfAYU"
      }
    },
    {
      "cell_type": "markdown",
      "source": [
        "Note: this is our first code in Python\n",
        "Ctrl+enter to excute code in a cell\n",
        "Ctrl+m+b to go to a new code cell\n",
        "Ctrl+/ is to comment out code, one more time is to undo comment"
      ],
      "metadata": {
        "id": "uEQsNt1iKCsJ"
      }
    },
    {
      "cell_type": "code",
      "source": [
        "#get the age from the user\n",
        "age=int(input(\"What is your current age? \\n\"))\n",
        "#print(age)\n",
        "#compute how many days the user has left\n",
        "days_left=32850-age*365\n",
        "#compute how many weeks the user has left\n",
        "weeks_left=4680-age*52\n",
        "#compute how many months the user has left\n",
        "months_left=1080-age*12\n",
        "#print out the advice\n",
        "# print(\"The number of days left is: \" + str(days_left))\n",
        "# print(\"The number of weeks left is: \" + str(weeks_left))\n",
        "# print(\"The number of months left is: \"+ str(months_left))\n",
        "print(f\"You have {days_left} days left, {weeks_left} weeks left, and {months_left} months left.\")\n",
        "\n",
        "\n",
        "\n"
      ],
      "metadata": {
        "colab": {
          "base_uri": "https://localhost:8080/"
        },
        "id": "_nZxd5DNfCmT",
        "outputId": "26d5da4b-36ac-4bfb-e495-bea1864f26c5"
      },
      "execution_count": 59,
      "outputs": [
        {
          "output_type": "stream",
          "name": "stdout",
          "text": [
            "What is your current age? \n",
            "12\n",
            "You have 28470 days left, 4056 weeks left, and 936 months left.\n"
          ]
        }
      ]
    },
    {
      "cell_type": "code",
      "source": [
        "# Conditional statement\n",
        "age=int(input(\"What is your age? \\n\"))\n",
        "if age<30:\n",
        "    print(\"You are so young\")\n",
        "else:\n",
        "    print(\"You are no longer young\")"
      ],
      "metadata": {
        "colab": {
          "base_uri": "https://localhost:8080/"
        },
        "id": "xzOVwt8Ph2KS",
        "outputId": "7bde3544-3aa0-4c11-ba33-5a084c46041d"
      },
      "execution_count": 61,
      "outputs": [
        {
          "output_type": "stream",
          "name": "stdout",
          "text": [
            "What is your age? \n",
            "15\n",
            "You are so young\n"
          ]
        }
      ]
    },
    {
      "cell_type": "code",
      "source": [
        "student_age=int(input(\"What is the student's age? \\n\"))\n",
        "lecturer_age=int(input(\"What is the lecturer's age? \\n\"))\n",
        "\n",
        "if student_age<lecturer_age:\n",
        "    print(\"The student is so young\")\n",
        "    print(\"Our lecturer is kinda young\")\n",
        "elif student_age>lecturer_age and student_age>50:\n",
        "    print(\"The student must be a corporate manager\")\n",
        "\n",
        "elif student_age>lecturer_age:\n",
        "    print(\"The lecturer is so young\")\n",
        "    print(\"The student is mature\")\n",
        "\n",
        "else:\n",
        "    print(\" The student and the lecturer are mates!\")\n"
      ],
      "metadata": {
        "colab": {
          "base_uri": "https://localhost:8080/"
        },
        "id": "NBdzuF_LiQQi",
        "outputId": "47f573fa-8058-4a7b-b368-8090439fe064"
      },
      "execution_count": 65,
      "outputs": [
        {
          "output_type": "stream",
          "name": "stdout",
          "text": [
            "What is the student's age? \n",
            "43\n",
            "What is the lecturer's age? \n",
            "43\n",
            " The student and the lecture are mates!\n"
          ]
        }
      ]
    },
    {
      "cell_type": "markdown",
      "source": [
        "Excercise 4: BMI version 2.0\n",
        "1) Get height from the user (m)\n",
        "2) Get weight from the user (kg)\n",
        "3) Compute bmi\n",
        "4) bmi<=18.5 \"underweight\", 18.5<bmi<25, \"normal weight\", 25<=bmi<30, \"overweight\", 30<=bmi<35, \"obese\", bmi>=35, \"clinically obese\""
      ],
      "metadata": {
        "id": "-_3t8wPtmdeK"
      }
    },
    {
      "cell_type": "code",
      "source": [
        "#Get user's height\n",
        "height = float(input(\"What is your height in m? \\n\"))\n",
        "#Get user's weight\n",
        "weight = float(input(\"What is your weight in kg? \\n\"))\n",
        "#Compute bmi\n",
        "bmi=round(weight/(height*height),2)\n",
        "\n",
        "#print(bmi)\n",
        "#Advise\n",
        "if bmi<=18.5:\n",
        "    print(f\"Your bmi value is {bmi}, you are underweight\")\n",
        "\n",
        "elif bmi<25:\n",
        "    print(f\"Your bmi value is {bmi}, you are normal weight\")\n",
        "\n",
        "elif bmi<30:\n",
        "    print(f\"Your bmi value is {bmi}, you are overweight\")    \n",
        "\n",
        "elif bmi<35:\n",
        "    print(f\"Your bmi value is {bmi}, you are obese\")\n",
        "\n",
        "else:\n",
        "    print(f\"Your bmi value is {bmi}, you are clinically obese\")"
      ],
      "metadata": {
        "colab": {
          "base_uri": "https://localhost:8080/"
        },
        "id": "SdxwC1dtpjQ7",
        "outputId": "439df45c-d93d-4e4f-97be-fb0b12276234"
      },
      "execution_count": 74,
      "outputs": [
        {
          "output_type": "stream",
          "name": "stdout",
          "text": [
            "What is your height in m? \n",
            "1.76\n",
            "What is your weight in kg? \n",
            "110\n",
            "Your bmi value is 35.51, you are clinically obese\n"
          ]
        }
      ]
    }
  ]
}