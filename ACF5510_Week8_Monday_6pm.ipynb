{
  "nbformat": 4,
  "nbformat_minor": 0,
  "metadata": {
    "colab": {
      "name": "ACF5510 Week8 Monday 6pm.ipynb",
      "provenance": [],
      "authorship_tag": "ABX9TyMGIi2hFb9VLRgB8lLqDyU+",
      "include_colab_link": true
    },
    "kernelspec": {
      "name": "python3",
      "display_name": "Python 3"
    },
    "language_info": {
      "name": "python"
    }
  },
  "cells": [
    {
      "cell_type": "markdown",
      "metadata": {
        "id": "view-in-github",
        "colab_type": "text"
      },
      "source": [
        "<a href=\"https://colab.research.google.com/github/camerontruong/ARA-READABILITY/blob/main/ACF5510_Week8_Monday_6pm.ipynb\" target=\"_parent\"><img src=\"https://colab.research.google.com/assets/colab-badge.svg\" alt=\"Open In Colab\"/></a>"
      ]
    },
    {
      "cell_type": "markdown",
      "metadata": {
        "id": "LQT4cYKuNqWw"
      },
      "source": [
        "ACF5510 Week 8 Colab and Python script\n"
      ]
    },
    {
      "cell_type": "code",
      "metadata": {
        "colab": {
          "base_uri": "https://localhost:8080/"
        },
        "id": "A3ug0ksmN2Jg",
        "outputId": "0c4263b7-3f08-4307-f6fe-ba331e391bb9"
      },
      "source": [
        "print(\"Hello World. We are from ACF5510.\")"
      ],
      "execution_count": 4,
      "outputs": [
        {
          "output_type": "stream",
          "name": "stdout",
          "text": [
            "Hello World. We are from ACF5510.\n"
          ]
        }
      ]
    },
    {
      "cell_type": "code",
      "metadata": {
        "colab": {
          "base_uri": "https://localhost:8080/"
        },
        "id": "I-7tV9SGPE9s",
        "outputId": "d506f5f6-21b6-46ff-e671-322dc84f067d"
      },
      "source": [
        "name = \"Cameron Truong\"\n",
        "print(name)\n",
        "name1 = \"Alvin Truong\"\n",
        "print(name, name1)"
      ],
      "execution_count": 6,
      "outputs": [
        {
          "output_type": "stream",
          "name": "stdout",
          "text": [
            "Cameron Truong\n",
            "Cameron Truong Alvin Truong\n"
          ]
        }
      ]
    },
    {
      "cell_type": "code",
      "metadata": {
        "colab": {
          "base_uri": "https://localhost:8080/"
        },
        "id": "QugOCBvrPjTa",
        "outputId": "de9e490f-c826-47b3-a257-055d4cd20c89"
      },
      "source": [
        "name = input(\"What's up. What is your name? \")\n",
        "print(len(name))"
      ],
      "execution_count": 14,
      "outputs": [
        {
          "output_type": "stream",
          "name": "stdout",
          "text": [
            "What's up. What is your name? Cameron Truong\n",
            "14\n"
          ]
        }
      ]
    },
    {
      "cell_type": "code",
      "metadata": {
        "colab": {
          "base_uri": "https://localhost:8080/"
        },
        "id": "oQWnFmMnQtej",
        "outputId": "13d9c76e-0a40-49f2-ed86-28002ef30683"
      },
      "source": [
        "welcome_message = \"My name is \"+ name\n",
        "print(welcome_message)"
      ],
      "execution_count": 15,
      "outputs": [
        {
          "output_type": "stream",
          "name": "stdout",
          "text": [
            "My name is Cameron Truong\n"
          ]
        }
      ]
    },
    {
      "cell_type": "markdown",
      "metadata": {
        "id": "Hh8ntp2LRHHg"
      },
      "source": [
        "Exercise: Group Name Generator\n",
        "1) print out a message \"Welcome to the Group Name Generator\"\n",
        "2) take an input that asks user \"What's the name of the city you grew up in?\"\n",
        "3) take an input that asks user \"What's your pet's name?\"\n",
        "4) print \"Your group name could be\" + city +pet"
      ]
    },
    {
      "cell_type": "code",
      "metadata": {
        "colab": {
          "base_uri": "https://localhost:8080/"
        },
        "id": "dexc2zFTQ895",
        "outputId": "33a7dea7-e9b3-4c71-9390-de5483f85cf2"
      },
      "source": [
        "print(\"Welcome to the Group Name Generator\")\n",
        "city = input(\"What's the name of the city you grew up in? \\n\")\n",
        "pet = input(\"What's your pet's name? \\n\")\n",
        "print(\"Your group name could be \"+city+\" \"+pet)"
      ],
      "execution_count": 19,
      "outputs": [
        {
          "output_type": "stream",
          "name": "stdout",
          "text": [
            "Welcome to the Group Name Generator\n",
            "What's the name of the city you grew up in? \n",
            "Melbourne\n",
            "What's your pet's name? \n",
            "Russell\n",
            "Your group name could be Melbourne Russell\n"
          ]
        }
      ]
    },
    {
      "cell_type": "code",
      "metadata": {
        "colab": {
          "base_uri": "https://localhost:8080/"
        },
        "id": "qudlN_reUr0-",
        "outputId": "d6f74aa2-8743-4a6d-a55e-8698ae5fba83"
      },
      "source": [
        "two_digit_number = input(\"Type a two digit number: \")\n",
        "\n",
        "first_digit = int(two_digit_number[0])\n",
        "second_digit = int(two_digit_number[1])\n",
        "sum = first_digit+second_digit\n",
        "\n",
        "print(sum)\n",
        "\n"
      ],
      "execution_count": 25,
      "outputs": [
        {
          "output_type": "stream",
          "name": "stdout",
          "text": [
            "Type a two digit number: 54\n",
            "9\n"
          ]
        }
      ]
    },
    {
      "cell_type": "markdown",
      "metadata": {
        "id": "UXsbvZvUY7il"
      },
      "source": [
        "BMI calculator \n",
        "Print out bmi=weight/(height*height)"
      ]
    },
    {
      "cell_type": "code",
      "metadata": {
        "colab": {
          "base_uri": "https://localhost:8080/"
        },
        "id": "nAwHytNzYlQv",
        "outputId": "8196cd8e-c370-4e25-8e70-4b40d3197f62"
      },
      "source": [
        "height = float(input(\"enter your height in m: \"))\n",
        "weight = int(input(\"enter your weight in kg: \"))\n",
        "bmi = int(weight/(height*height))\n",
        "print(bmi)"
      ],
      "execution_count": 34,
      "outputs": [
        {
          "output_type": "stream",
          "name": "stdout",
          "text": [
            "enter your height in m: 1.76\n",
            "enter your weight in kg: 72\n",
            "23\n"
          ]
        }
      ]
    },
    {
      "cell_type": "markdown",
      "metadata": {
        "id": "zi_Blen1b7kk"
      },
      "source": [
        "String manipulation"
      ]
    },
    {
      "cell_type": "code",
      "metadata": {
        "colab": {
          "base_uri": "https://localhost:8080/"
        },
        "id": "dG4B_Irob_N7",
        "outputId": "3be49426-0056-417b-82b9-4e974775570b"
      },
      "source": [
        "name = \"Cameron Truong\"\n",
        "# type(name)\n",
        "# print(len(name))\n",
        "# print(name[0])\n",
        "print(name[8])\n"
      ],
      "execution_count": 50,
      "outputs": [
        {
          "output_type": "stream",
          "name": "stdout",
          "text": [
            "T\n"
          ]
        }
      ]
    },
    {
      "cell_type": "code",
      "metadata": {
        "colab": {
          "base_uri": "https://localhost:8080/"
        },
        "id": "rw2wjqDncv1q",
        "outputId": "d94e5526-9800-408c-9d69-b13fea0404de"
      },
      "source": [
        "print(name.index(\"ron\"))"
      ],
      "execution_count": 43,
      "outputs": [
        {
          "output_type": "stream",
          "name": "stdout",
          "text": [
            "4\n"
          ]
        }
      ]
    },
    {
      "cell_type": "code",
      "metadata": {
        "colab": {
          "base_uri": "https://localhost:8080/"
        },
        "id": "KlWG9wyAdHUM",
        "outputId": "acee43bf-e109-4e24-f4b0-40ba64c02bbe"
      },
      "source": [
        "print(name.split(\" \"))"
      ],
      "execution_count": 49,
      "outputs": [
        {
          "output_type": "stream",
          "name": "stdout",
          "text": [
            "['Cameron', 'Truong']\n"
          ]
        }
      ]
    },
    {
      "cell_type": "code",
      "metadata": {
        "colab": {
          "base_uri": "https://localhost:8080/"
        },
        "id": "ICbh4ScBdsra",
        "outputId": "e2e14a47-7b00-4761-b0e7-3e0417696908"
      },
      "source": [
        "name = name.replace(\"Cameron\",\"Cam\")\n",
        "print(name)"
      ],
      "execution_count": 51,
      "outputs": [
        {
          "output_type": "stream",
          "name": "stdout",
          "text": [
            "Cam Truong\n"
          ]
        }
      ]
    },
    {
      "cell_type": "code",
      "metadata": {
        "colab": {
          "base_uri": "https://localhost:8080/"
        },
        "id": "3tm3eqQJd-jU",
        "outputId": "e2043df2-5c6d-40cc-b37c-a4f147622d42"
      },
      "source": [
        "name = \"Cameron Truong\"\n",
        "print(name[:2])\n",
        "print(name[8:])\n",
        "print(name[:])"
      ],
      "execution_count": 56,
      "outputs": [
        {
          "output_type": "stream",
          "name": "stdout",
          "text": [
            "Ca\n",
            "Truong\n",
            "Cameron Truong\n"
          ]
        }
      ]
    },
    {
      "cell_type": "code",
      "metadata": {
        "colab": {
          "base_uri": "https://localhost:8080/"
        },
        "id": "qEhIDWhwfHMl",
        "outputId": "777c5822-f570-488d-dc17-531ba5586682"
      },
      "source": [
        "name =name.upper()\n",
        "print(name)"
      ],
      "execution_count": 57,
      "outputs": [
        {
          "output_type": "stream",
          "name": "stdout",
          "text": [
            "CAMERON TRUONG\n"
          ]
        }
      ]
    },
    {
      "cell_type": "code",
      "metadata": {
        "colab": {
          "base_uri": "https://localhost:8080/"
        },
        "id": "iR77TltAfPdU",
        "outputId": "36fdce30-a167-43a7-86cc-b634ba07fd07"
      },
      "source": [
        "name = name.lower()\n",
        "print(name)"
      ],
      "execution_count": 58,
      "outputs": [
        {
          "output_type": "stream",
          "name": "stdout",
          "text": [
            "cameron truong\n"
          ]
        }
      ]
    },
    {
      "cell_type": "code",
      "metadata": {
        "colab": {
          "base_uri": "https://localhost:8080/"
        },
        "id": "Y6X24pQifWCa",
        "outputId": "ad0a6db8-bac1-4509-e70a-13b342651964"
      },
      "source": [
        "name =name.title()\n",
        "print(name)"
      ],
      "execution_count": 59,
      "outputs": [
        {
          "output_type": "stream",
          "name": "stdout",
          "text": [
            "Cameron Truong\n"
          ]
        }
      ]
    },
    {
      "cell_type": "code",
      "metadata": {
        "colab": {
          "base_uri": "https://localhost:8080/"
        },
        "id": "sJtRwsipfi9o",
        "outputId": "9916c04b-8fad-413a-c9f9-0a81d7171829"
      },
      "source": [
        "name= \"       Cameron Truong\"\n",
        "name=name.strip()\n",
        "print(name)\n"
      ],
      "execution_count": 60,
      "outputs": [
        {
          "output_type": "stream",
          "name": "stdout",
          "text": [
            "Cameron Truong\n"
          ]
        }
      ]
    },
    {
      "cell_type": "code",
      "metadata": {
        "colab": {
          "base_uri": "https://localhost:8080/"
        },
        "id": "XGFUPSuDfxlb",
        "outputId": "41f61d2c-3450-4082-875d-033a6e0b4538"
      },
      "source": [
        "name = \"Cameron cameron Cameron Cameron Cameron Truong\"\n",
        "name =name.lower()\n",
        "print(name.count(\"cameron\"))"
      ],
      "execution_count": 62,
      "outputs": [
        {
          "output_type": "stream",
          "name": "stdout",
          "text": [
            "5\n"
          ]
        }
      ]
    },
    {
      "cell_type": "markdown",
      "metadata": {
        "id": "tdIa8aP2WYOf"
      },
      "source": [
        "Your life in days, weeks, months exercise:\n",
        "Create a program using maths and f-Strings that tells us how many days, weeks, months we have left if we live until 90 years old.\n",
        "\n",
        "It will take your current age as the input and output a message with our time left in this format:\n",
        "\n",
        "You have x days, y weeks, and z months left.\n",
        "\n",
        "Where x, y and z are replaced with the actual calculated numbers.\n",
        "\n",
        "Warning your output should match the Example Output format exactly, even the positions of the commas and full stops.\n",
        "\n",
        "Example Input\n",
        "56\n",
        "56\n",
        "Example Output\n",
        "You have 12410 days, 1768 weeks, and 408 months left.\n",
        "You have 12410 days, 1768 weeks, and 408 months left.\n",
        "e.g. When you hit run, this is what should happen:"
      ]
    },
    {
      "cell_type": "code",
      "metadata": {
        "colab": {
          "base_uri": "https://localhost:8080/"
        },
        "id": "bN5HQKnDlD5E",
        "outputId": "2e80e2ef-5739-4455-c1d0-81a93575e15d"
      },
      "source": [
        "age = int(input(\"What is your current age? \"))\n",
        "\n",
        "x = 32850 - age*365\n",
        "y = 4680 - age*52\n",
        "z = 1080 - age*12\n",
        "\n",
        "print(f\"You have {x} days, {y} weeks, {z} months left\")\n"
      ],
      "execution_count": 66,
      "outputs": [
        {
          "output_type": "execute_result",
          "data": {
            "text/plain": [
              "1080"
            ]
          },
          "metadata": {},
          "execution_count": 66
        }
      ]
    },
    {
      "cell_type": "markdown",
      "metadata": {
        "id": "SqPgIKATmnni"
      },
      "source": [
        "Conditional statement"
      ]
    },
    {
      "cell_type": "markdown",
      "metadata": {
        "id": "7H-ZUDvXny-E"
      },
      "source": [
        "int() converts a string into an integer number."
      ]
    },
    {
      "cell_type": "code",
      "metadata": {
        "colab": {
          "base_uri": "https://localhost:8080/"
        },
        "id": "PrN5UF1jmrdK",
        "outputId": "69be87cc-636c-4e03-fdbc-d1ac4ab5fbab"
      },
      "source": [
        "student_age = int(input(\"What is students'age? \"))\n",
        "lecturer_age = int(input(\"What is lecturer's age? \"))\n",
        "\n",
        "if student_age<lecturer_age:\n",
        "  print(\"Students are so young\")\n",
        "  print(\"It's great to be young\")\n",
        "\n",
        "elif student_age>lecturer_age and student_age>50:\n",
        "  print(\"Wow, students should be corporate managers!\")\n",
        "\n",
        "elif student_age>lecturer_age:\n",
        "  print(\"Students are so mature\")\n",
        "  print(\"It's great to be wise\")\n",
        "\n",
        "else:\n",
        "  print(\"Students and lecturer are mates!\")\n",
        "\n",
        " "
      ],
      "execution_count": 83,
      "outputs": [
        {
          "output_type": "stream",
          "name": "stdout",
          "text": [
            "What is students'age? 49\n",
            "What is lecturer's age? 42\n",
            "Students are so mature\n",
            "It's great to be wise\n"
          ]
        }
      ]
    },
    {
      "cell_type": "markdown",
      "metadata": {
        "id": "NIjewnPlrp-k"
      },
      "source": [
        "BMI calculator version2.\n",
        "Conditional statement exercise BMI 2.0 if BMI< 18.5, underweight if 18.5<=BMI <25, normal weight if 25<=bmi<30, overweight if 30<=BMI<35, obese if BMI>=35, clinicaly obese"
      ]
    },
    {
      "cell_type": "code",
      "metadata": {
        "colab": {
          "base_uri": "https://localhost:8080/"
        },
        "id": "WokIVaDzryOE",
        "outputId": "8c154ba5-0678-412d-d4c0-f636213c9ded"
      },
      "source": [
        "height = float(input(\"enter your height in m: \"))\n",
        "weight = float(input(\"enter your weight in kg: \"))\n",
        "\n",
        "bmi = round(weight/(height*height),2)\n",
        "\n",
        "if bmi<18.5:\n",
        "  print(f\"Your bmi is {bmi}, you are underweight\")\n",
        "elif bmi<25:\n",
        "  print(f\"Your bmi is {bmi}, you are normal weight\")\n",
        "elif bmi<30:\n",
        "  print(f\"Your bmi is {bmi}, you are overweight\")\n",
        "elif bmi<35:\n",
        "  print(f\"Your bmi is {bmi}, you are obese\")\n",
        "else:\n",
        "  print(f\"Your bmi is {bmi}, you are clinically obese\")\n",
        "\n"
      ],
      "execution_count": 86,
      "outputs": [
        {
          "output_type": "stream",
          "name": "stdout",
          "text": [
            "enter your height in m: 1.76\n",
            "enter your weight in kg: 180\n",
            "Your bmi is 58.11, you are clinically obese\n"
          ]
        }
      ]
    }
  ]
}