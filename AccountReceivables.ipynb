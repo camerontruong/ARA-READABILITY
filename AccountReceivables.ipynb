{
  "nbformat": 4,
  "nbformat_minor": 0,
  "metadata": {
    "colab": {
      "name": "AccountReceivables.ipynb",
      "private_outputs": true,
      "provenance": [],
      "authorship_tag": "ABX9TyN4vR66AQ2hTQ76uK3SHDcn",
      "include_colab_link": true
    },
    "kernelspec": {
      "name": "python3",
      "display_name": "Python 3"
    },
    "language_info": {
      "name": "python"
    }
  },
  "cells": [
    {
      "cell_type": "markdown",
      "metadata": {
        "id": "view-in-github",
        "colab_type": "text"
      },
      "source": [
        "<a href=\"https://colab.research.google.com/github/camerontruong/ARA-READABILITY/blob/main/AccountReceivables.ipynb\" target=\"_parent\"><img src=\"https://colab.research.google.com/assets/colab-badge.svg\" alt=\"Open In Colab\"/></a>"
      ]
    },
    {
      "cell_type": "code",
      "metadata": {
        "id": "ps4QKwC6jQrv"
      },
      "source": [
        "api = '95a3aac577bc5eb52d543ac0850ecee2'\n",
        "end_point = 'https://financialmodelingprep.com/api/v3/balance-sheet-statement'\n",
        "params= {\n",
        "    \"apikey\": api,\n",
        "    \"limit\": 10,\n",
        "}\n",
        "import requests\n",
        "import pandas as pd\n",
        "stock = 'AAPL'\n",
        "balance_sheet = requests.get(f\"{end_point}/{stock}\",params=params).json()\n",
        "# account_receivable = requests.get(f\"{end_point}/{stock}\",params=params).json()\n",
        "balance_sheet"
      ],
      "execution_count": null,
      "outputs": []
    },
    {
      "cell_type": "code",
      "metadata": {
        "id": "gx0SN1Z0lZpQ"
      },
      "source": [
        "account_receivables =[item['netReceivables'] for item in balance_sheet]\n",
        "period =[item['date'] for item in balance_sheet]\n",
        "\n",
        "receivables = {period[i]:account_receivables[i] for i in range(len(period))}\n",
        "receivables"
      ],
      "execution_count": null,
      "outputs": []
    },
    {
      "cell_type": "code",
      "metadata": {
        "id": "FwJuW4JvmQrB"
      },
      "source": [
        "all_receivables = {stock:receivables}\n",
        "all_receivables"
      ],
      "execution_count": null,
      "outputs": []
    },
    {
      "cell_type": "code",
      "metadata": {
        "id": "tIlv9YsQofvd"
      },
      "source": [
        "receivables_apple = pd.DataFrame.from_dict(all_receivables)\n",
        "receivables_apple"
      ],
      "execution_count": null,
      "outputs": []
    },
    {
      "cell_type": "code",
      "metadata": {
        "id": "8d-SZu9borJd"
      },
      "source": [
        "import plotly.express as px\n",
        "fig = px.bar(receivables_apple, x=receivables_apple.index, y=receivables_apple[stock], title= \"Account Receivables \" + stock)\n",
        "fig.show()"
      ],
      "execution_count": null,
      "outputs": []
    },
    {
      "cell_type": "code",
      "metadata": {
        "id": "hkfMlpRUpdCR"
      },
      "source": [
        "companies = ['AAPL', 'MSFT', 'NVDA', 'ASML', 'ADBE', 'CSCO', 'INTC', 'AVGO', 'TXN', 'QCOM']\n",
        "api = '95a3aac577bc5eb52d543ac0850ecee2'\n",
        "end_point = 'https://financialmodelingprep.com/api/v3/balance-sheet-statement'\n",
        "params= {\n",
        "    \"apikey\": api,\n",
        "    \"limit\": 1,\n",
        "}\n",
        "\n",
        "IS_END_POINT= 'https://financialmodelingprep.com/api/v3/income-statement'\n",
        "\n",
        "AR = {}\n",
        "for company in companies:\n",
        "  balance_sheet = requests.get(f\"{end_point}/{company}\",params=params).json()\n",
        "  print(balance_sheet)\n",
        "\n",
        "\n",
        "  AR[company] = {}\n",
        "  receivables = balance_sheet[0]['netReceivables']\n",
        "\n",
        "  AR[company]['receivables'] = receivables\n",
        "\n",
        "  \n",
        "  IS = requests.get(f\"{IS_END_POINT}/{company}\",params=params).json()\n",
        "  revenue = IS[0]['revenue']\n",
        "  AR[company]['revenue'] = revenue\n",
        "  AR[company]['receivable_Turnover']=revenue/receivables\n",
        "\n",
        "  AR[company]['DSO']=365/(revenue/receivables)"
      ],
      "execution_count": null,
      "outputs": []
    },
    {
      "cell_type": "code",
      "metadata": {
        "id": "sqT5N-iUs9mb"
      },
      "source": [
        "AR"
      ],
      "execution_count": null,
      "outputs": []
    },
    {
      "cell_type": "code",
      "metadata": {
        "id": "9bBHBYUBwyEP"
      },
      "source": [
        "receivables_data = pd.DataFrame.from_dict(AR)\n",
        "receivables_data"
      ],
      "execution_count": null,
      "outputs": []
    },
    {
      "cell_type": "code",
      "metadata": {
        "id": "Ug3SO0c0zeCu"
      },
      "source": [
        "receivables_DSO = receivables_data[receivables_data.index == 'DSO'].T\n",
        "receivables_DSO\n",
        "\n",
        "# Alternatively\n",
        "# receivables_DSO = receivables_data.T.DSO.T\n",
        "# receivables_DSO"
      ],
      "execution_count": null,
      "outputs": []
    },
    {
      "cell_type": "code",
      "metadata": {
        "id": "I3TXOGzL1gUC"
      },
      "source": [
        "import plotly.express as px\n",
        "fig = px.bar(receivables_DSO, x=receivables_DSO.index, y=receivables_DSO.DSO, title= \"Days of Sales Oustanding \" )\n",
        "fig.show()"
      ],
      "execution_count": null,
      "outputs": []
    }
  ]
}