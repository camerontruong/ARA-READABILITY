{
  "nbformat": 4,
  "nbformat_minor": 0,
  "metadata": {
    "colab": {
      "name": "READABILITY_ASX_V4_28JUNE.ipynb",
      "provenance": [],
      "collapsed_sections": [],
      "include_colab_link": true
    },
    "kernelspec": {
      "name": "python3",
      "display_name": "Python 3"
    },
    "language_info": {
      "name": "python"
    }
  },
  "cells": [
    {
      "cell_type": "markdown",
      "metadata": {
        "id": "view-in-github",
        "colab_type": "text"
      },
      "source": [
        "<a href=\"https://colab.research.google.com/github/camerontruong/ARA-READABILITY/blob/main/READABILITY_ASX_V4_28JUNE.ipynb\" target=\"_parent\"><img src=\"https://colab.research.google.com/assets/colab-badge.svg\" alt=\"Open In Colab\"/></a>"
      ]
    },
    {
      "cell_type": "code",
      "metadata": {
        "colab": {
          "base_uri": "https://localhost:8080/"
        },
        "id": "cJ5NcQkKt5dL",
        "outputId": "2149eacc-ee57-4ec3-cc2a-a73e7e201330"
      },
      "source": [
        "from google.colab import drive\n",
        "drive.mount('/content/drive')"
      ],
      "execution_count": 1,
      "outputs": [
        {
          "output_type": "stream",
          "text": [
            "Mounted at /content/drive\n"
          ],
          "name": "stdout"
        }
      ]
    },
    {
      "cell_type": "code",
      "metadata": {
        "colab": {
          "base_uri": "https://localhost:8080/"
        },
        "id": "zLG65ApguAu_",
        "outputId": "330d6b30-e154-4488-b317-4ca494edac04"
      },
      "source": [
        "!pip install textstat\n",
        "!pip install PyPDF2\n",
        "!pip install -U textblob\n",
        "import os\n",
        "import glob\n",
        "import textstat\n",
        "import csv\n",
        "import PyPDF2\n",
        "from textblob import TextBlob"
      ],
      "execution_count": 2,
      "outputs": [
        {
          "output_type": "stream",
          "text": [
            "Collecting textstat\n",
            "\u001b[?25l  Downloading https://files.pythonhosted.org/packages/ce/42/3e3691ff23d2f3e30ef18bd382d9450e992e2da7e01ca33d392b473eba05/textstat-0.7.1-py3-none-any.whl (99kB)\n",
            "\r\u001b[K     |███▎                            | 10kB 13.5MB/s eta 0:00:01\r\u001b[K     |██████▋                         | 20kB 17.9MB/s eta 0:00:01\r\u001b[K     |█████████▉                      | 30kB 21.1MB/s eta 0:00:01\r\u001b[K     |█████████████▏                  | 40kB 24.0MB/s eta 0:00:01\r\u001b[K     |████████████████▍               | 51kB 26.7MB/s eta 0:00:01\r\u001b[K     |███████████████████▊            | 61kB 27.6MB/s eta 0:00:01\r\u001b[K     |███████████████████████         | 71kB 28.5MB/s eta 0:00:01\r\u001b[K     |██████████████████████████▎     | 81kB 28.3MB/s eta 0:00:01\r\u001b[K     |█████████████████████████████▌  | 92kB 25.8MB/s eta 0:00:01\r\u001b[K     |████████████████████████████████| 102kB 10.2MB/s \n",
            "\u001b[?25hCollecting pyphen\n",
            "\u001b[?25l  Downloading https://files.pythonhosted.org/packages/77/95/b98d82fbfcd33f34a12d3d1eeb127e57d9dc5a272b6f08f4e889766d8b3a/pyphen-0.11.0-py3-none-any.whl (2.0MB)\n",
            "\u001b[K     |████████████████████████████████| 2.0MB 27.5MB/s \n",
            "\u001b[?25hInstalling collected packages: pyphen, textstat\n",
            "Successfully installed pyphen-0.11.0 textstat-0.7.1\n",
            "Collecting PyPDF2\n",
            "\u001b[?25l  Downloading https://files.pythonhosted.org/packages/b4/01/68fcc0d43daf4c6bdbc6b33cc3f77bda531c86b174cac56ef0ffdb96faab/PyPDF2-1.26.0.tar.gz (77kB)\n",
            "\u001b[K     |████████████████████████████████| 81kB 8.2MB/s \n",
            "\u001b[?25hBuilding wheels for collected packages: PyPDF2\n",
            "  Building wheel for PyPDF2 (setup.py) ... \u001b[?25l\u001b[?25hdone\n",
            "  Created wheel for PyPDF2: filename=PyPDF2-1.26.0-cp37-none-any.whl size=61102 sha256=22dc133ed09ad666e79eb3242413c3c625dddaa0a2a450551db91c05c1151c2f\n",
            "  Stored in directory: /root/.cache/pip/wheels/53/84/19/35bc977c8bf5f0c23a8a011aa958acd4da4bbd7a229315c1b7\n",
            "Successfully built PyPDF2\n",
            "Installing collected packages: PyPDF2\n",
            "Successfully installed PyPDF2-1.26.0\n",
            "Requirement already up-to-date: textblob in /usr/local/lib/python3.7/dist-packages (0.15.3)\n",
            "Requirement already satisfied, skipping upgrade: nltk>=3.1 in /usr/local/lib/python3.7/dist-packages (from textblob) (3.2.5)\n",
            "Requirement already satisfied, skipping upgrade: six in /usr/local/lib/python3.7/dist-packages (from nltk>=3.1->textblob) (1.15.0)\n"
          ],
          "name": "stdout"
        }
      ]
    },
    {
      "cell_type": "code",
      "metadata": {
        "id": "Bd_HPEzruc74"
      },
      "source": [
        "TARGET_FILES = r'/content/drive/My Drive/ASX50_2020/*.pdf'\n",
        "file_list = glob.glob(TARGET_FILES)"
      ],
      "execution_count": 3,
      "outputs": []
    },
    {
      "cell_type": "code",
      "metadata": {
        "id": "WIS8b2gi9uif",
        "colab": {
          "base_uri": "https://localhost:8080/"
        },
        "outputId": "4b8ed030-073a-4234-c3d2-e1ba58eeb4d6"
      },
      "source": [
        "new_list={}\n",
        "name=[]\n",
        "size=[]\n",
        "pagen=[]\n",
        "for file in file_list:\n",
        "  print(file)\n",
        "  n=(file.split('.pdf',0))\n",
        "  name+=n\n",
        "  size.append((os.stat(file).st_size)/1000000)\n",
        "    \n",
        "  \n",
        "  if file.endswith(\".pdf\"):\n",
        "    with open (file,'rb') as pdfobject:\n",
        "      pdfreader=PyPDF2.PdfFileReader(pdfobject)\n",
        "      page_numbers=pdfreader.numPages\n",
        "      pagen.append(page_numbers)\n",
        "      if pdfreader.isEncrypted == True:\n",
        "        pass\n",
        "      else:\n",
        "          currentpage = 0\n",
        "          text = \"\"\n",
        "          while (currentpage <page_numbers):\n",
        "            page=pdfreader.getPage(currentpage)\n",
        "            try:\n",
        "              text=text+page.extractText()\n",
        "            except:\n",
        "                print(currentpage) #to print the error page\n",
        "            currentpage +=1\n",
        "    new_list[file]=(text)  \n",
        "          \n"
      ],
      "execution_count": 4,
      "outputs": [
        {
          "output_type": "stream",
          "text": [
            "/content/drive/My Drive/ASX50_2020/ald20_02358879.pdf\n",
            "/content/drive/My Drive/ASX50_2020/ald20.pdf\n",
            "/content/drive/My Drive/ASX50_2020/amc20_02285921.pdf\n",
            "/content/drive/My Drive/ASX50_2020/apt20.pdf\n",
            "/content/drive/My Drive/ASX50_2020/agl20.pdf\n"
          ],
          "name": "stdout"
        },
        {
          "output_type": "stream",
          "text": [
            "PdfReadWarning: Xref table not zero-indexed. ID numbers for objects will be corrected. [pdf.py:1736]\n"
          ],
          "name": "stderr"
        },
        {
          "output_type": "stream",
          "text": [
            "/content/drive/My Drive/ASX50_2020/amc20.pdf\n",
            "/content/drive/My Drive/ASX50_2020/apa20_02271836.pdf\n",
            "/content/drive/My Drive/ASX50_2020/apt20_02272373.pdf\n",
            "/content/drive/My Drive/ASX50_2020/agl20_02266206.pdf\n",
            "/content/drive/My Drive/ASX50_2020/all20.pdf\n",
            "/content/drive/My Drive/ASX50_2020/asx20.pdf\n",
            "/content/drive/My Drive/ASX50_2020/anz20.pdf\n",
            "/content/drive/My Drive/ASX50_2020/coh20_02267767.pdf\n",
            "/content/drive/My Drive/ASX50_2020/apa20.pdf\n",
            "/content/drive/My Drive/ASX50_2020/bxb20.pdf\n",
            "/content/drive/My Drive/ASX50_2020/azj20.pdf\n",
            "/content/drive/My Drive/ASX50_2020/bhp20.pdf\n",
            "/content/drive/My Drive/ASX50_2020/bxb20_02268823.pdf\n",
            "/content/drive/My Drive/ASX50_2020/all20_02324328.pdf\n",
            "/content/drive/My Drive/ASX50_2020/anz20_02306357.pdf\n",
            "/content/drive/My Drive/ASX50_2020/col20.pdf\n",
            "/content/drive/My Drive/ASX50_2020/dxs20_02268468.pdf\n",
            "/content/drive/My Drive/ASX50_2020/coh20.pdf\n",
            "/content/drive/My Drive/ASX50_2020/coh20_02269425.pdf\n",
            "/content/drive/My Drive/ASX50_2020/col20_02284767.pdf\n",
            "/content/drive/My Drive/ASX50_2020/cba20.pdf\n",
            "/content/drive/My Drive/ASX50_2020/cba20_02265605.pdf\n",
            "/content/drive/My Drive/ASX50_2020/gmg20_02284986.pdf\n",
            "/content/drive/My Drive/ASX50_2020/llc20_02267195.pdf\n",
            "/content/drive/My Drive/ASX50_2020/ncm20_02289638.pdf\n",
            "/content/drive/My Drive/ASX50_2020/sto20_02342675.pdf\n",
            "/content/drive/My Drive/ASX50_2020/rhc20_02296623.pdf\n",
            "/content/drive/My Drive/ASX50_2020/scg20_02345413.pdf\n",
            "/content/drive/My Drive/ASX50_2020/syd20_02345338.pdf\n",
            "/content/drive/My Drive/ASX50_2020/sgp20_02286666.pdf\n",
            "/content/drive/My Drive/ASX50_2020/wbc20_02303223.pdf\n",
            "/content/drive/My Drive/ASX50_2020/twe20_02270983.pdf\n",
            "/content/drive/My Drive/ASX50_2020/a2m20_02268264.pdf\n",
            "/content/drive/My Drive/ASX50_2020/a2m20.pdf\n",
            "/content/drive/My Drive/ASX50_2020/wpl20_02342819.pdf\n",
            "/content/drive/My Drive/ASX50_2020/dxs20.pdf\n",
            "/content/drive/My Drive/ASX50_2020/csl20.pdf\n",
            "/content/drive/My Drive/ASX50_2020/cpu20.pdf\n",
            "/content/drive/My Drive/ASX50_2020/gpt20_02341075.pdf\n",
            "/content/drive/My Drive/ASX50_2020/gpt20.pdf\n",
            "/content/drive/My Drive/ASX50_2020/gmg20.pdf\n",
            "/content/drive/My Drive/ASX50_2020/fmg20_02270305.pdf\n",
            "/content/drive/My Drive/ASX50_2020/fmg20.pdf\n",
            "/content/drive/My Drive/ASX50_2020/llc20.pdf\n",
            "/content/drive/My Drive/ASX50_2020/jhx20.pdf\n",
            "/content/drive/My Drive/ASX50_2020/iag20_02264194.pdf\n",
            "/content/drive/My Drive/ASX50_2020/iag20.pdf\n",
            "/content/drive/My Drive/ASX50_2020/gpt20_02341109.pdf\n",
            "/content/drive/My Drive/ASX50_2020/mgr20_02269152.pdf\n",
            "/content/drive/My Drive/ASX50_2020/mgr20_02269126.pdf\n",
            "/content/drive/My Drive/ASX50_2020/mgr20.pdf\n",
            "/content/drive/My Drive/ASX50_2020/nab20_02307145.pdf\n",
            "/content/drive/My Drive/ASX50_2020/nab20_02307144.pdf\n",
            "/content/drive/My Drive/ASX50_2020/nab20.pdf\n",
            "/content/drive/My Drive/ASX50_2020/mqg20.pdf\n",
            "/content/drive/My Drive/ASX50_2020/mpl20.pdf\n",
            "/content/drive/My Drive/ASX50_2020/nst20_02268345.pdf\n",
            "/content/drive/My Drive/ASX50_2020/nst20.pdf\n",
            "/content/drive/My Drive/ASX50_2020/ncm20.pdf\n",
            "/content/drive/My Drive/ASX50_2020/qbe20.pdf\n",
            "/content/drive/My Drive/ASX50_2020/qan20_02282629.pdf\n",
            "/content/drive/My Drive/ASX50_2020/qan20.pdf\n",
            "/content/drive/My Drive/ASX50_2020/org20.pdf\n",
            "/content/drive/My Drive/ASX50_2020/s3220.pdf\n",
            "/content/drive/My Drive/ASX50_2020/rio20.pdf\n",
            "/content/drive/My Drive/ASX50_2020/rhc20.pdf\n",
            "/content/drive/My Drive/ASX50_2020/sto20.pdf\n",
            "/content/drive/My Drive/ASX50_2020/shl20.pdf\n",
            "/content/drive/My Drive/ASX50_2020/sgp20.pdf\n",
            "/content/drive/My Drive/ASX50_2020/scg20.pdf\n",
            "/content/drive/My Drive/ASX50_2020/s3220_02277370.pdf\n",
            "/content/drive/My Drive/ASX50_2020/syd20.pdf\n",
            "/content/drive/My Drive/ASX50_2020/sun20_02269619.pdf\n",
            "/content/drive/My Drive/ASX50_2020/sun20.pdf\n",
            "/content/drive/My Drive/ASX50_2020/tls20_02273642.pdf\n",
            "/content/drive/My Drive/ASX50_2020/tls20.pdf\n",
            "/content/drive/My Drive/ASX50_2020/tcl20_02265610.pdf\n",
            "/content/drive/My Drive/ASX50_2020/tcl20.pdf\n",
            "/content/drive/My Drive/ASX50_2020/wes20.pdf\n",
            "/content/drive/My Drive/ASX50_2020/wbc20.pdf\n",
            "/content/drive/My Drive/ASX50_2020/twe20.pdf\n",
            "/content/drive/My Drive/ASX50_2020/wpl20.pdf\n",
            "/content/drive/My Drive/ASX50_2020/wow20_02272725.pdf\n",
            "/content/drive/My Drive/ASX50_2020/wow20.pdf\n",
            "/content/drive/My Drive/ASX50_2020/wes20_02284305.pdf\n"
          ],
          "name": "stdout"
        }
      ]
    },
    {
      "cell_type": "code",
      "metadata": {
        "id": "0LhrioSKvEEl",
        "colab": {
          "base_uri": "https://localhost:8080/"
        },
        "outputId": "5dc97e0d-6916-4239-e84c-9fcdb7e89c87"
      },
      "source": [
        "gf=[]\n",
        "kg=[]\n",
        "ke=[]\n",
        "dc=[]\n",
        "sc=[]\n",
        "dif=[]\n",
        "st=[]\n",
        "ct=[]\n",
        "sep=[]\n",
        "ses=[]\n",
        "for test in new_list:\n",
        "  print(test)\n",
        "  #print(textstat.gunning_fog(test))\n",
        "  #print(textstat.lexicon_count(test, removepunct=True))\n",
        "  gf.append(textstat.gunning_fog(new_list[test]))\n",
        "  kg.append(textstat.flesch_kincaid_grade(new_list[test]))\n",
        "  ke.append(textstat.flesch_reading_ease(new_list[test]))\n",
        "  dc.append(textstat.dale_chall_readability_score(new_list[test]))\n",
        "  sc.append(textstat.sentence_count(new_list[test]))\n",
        "  dif.append(textstat.difficult_words(new_list[test]))\n",
        "  st.append(textstat.text_standard(new_list[test]))\n",
        "  ct.append(textstat.lexicon_count(new_list[test], removepunct=True))\n",
        "  sep.append(TextBlob(new_list[test]).sentiment.polarity)\n",
        "  ses.append(TextBlob(new_list[test]).sentiment.subjectivity)"
      ],
      "execution_count": 5,
      "outputs": [
        {
          "output_type": "stream",
          "text": [
            "/content/drive/My Drive/ASX50_2020/ald20_02358879.pdf\n",
            "/content/drive/My Drive/ASX50_2020/ald20.pdf\n",
            "/content/drive/My Drive/ASX50_2020/amc20_02285921.pdf\n",
            "/content/drive/My Drive/ASX50_2020/apt20.pdf\n",
            "/content/drive/My Drive/ASX50_2020/agl20.pdf\n",
            "/content/drive/My Drive/ASX50_2020/amc20.pdf\n",
            "/content/drive/My Drive/ASX50_2020/apa20_02271836.pdf\n",
            "/content/drive/My Drive/ASX50_2020/apt20_02272373.pdf\n",
            "/content/drive/My Drive/ASX50_2020/agl20_02266206.pdf\n",
            "/content/drive/My Drive/ASX50_2020/all20.pdf\n",
            "/content/drive/My Drive/ASX50_2020/asx20.pdf\n",
            "/content/drive/My Drive/ASX50_2020/anz20.pdf\n",
            "/content/drive/My Drive/ASX50_2020/coh20_02267767.pdf\n",
            "/content/drive/My Drive/ASX50_2020/apa20.pdf\n",
            "/content/drive/My Drive/ASX50_2020/bxb20.pdf\n",
            "/content/drive/My Drive/ASX50_2020/azj20.pdf\n",
            "/content/drive/My Drive/ASX50_2020/bhp20.pdf\n",
            "/content/drive/My Drive/ASX50_2020/bxb20_02268823.pdf\n",
            "/content/drive/My Drive/ASX50_2020/all20_02324328.pdf\n",
            "/content/drive/My Drive/ASX50_2020/anz20_02306357.pdf\n",
            "/content/drive/My Drive/ASX50_2020/col20.pdf\n",
            "/content/drive/My Drive/ASX50_2020/dxs20_02268468.pdf\n",
            "/content/drive/My Drive/ASX50_2020/coh20.pdf\n",
            "/content/drive/My Drive/ASX50_2020/coh20_02269425.pdf\n",
            "/content/drive/My Drive/ASX50_2020/col20_02284767.pdf\n",
            "/content/drive/My Drive/ASX50_2020/cba20.pdf\n",
            "/content/drive/My Drive/ASX50_2020/cba20_02265605.pdf\n",
            "/content/drive/My Drive/ASX50_2020/gmg20_02284986.pdf\n",
            "/content/drive/My Drive/ASX50_2020/llc20_02267195.pdf\n",
            "/content/drive/My Drive/ASX50_2020/ncm20_02289638.pdf\n",
            "/content/drive/My Drive/ASX50_2020/sto20_02342675.pdf\n",
            "/content/drive/My Drive/ASX50_2020/rhc20_02296623.pdf\n",
            "/content/drive/My Drive/ASX50_2020/scg20_02345413.pdf\n",
            "/content/drive/My Drive/ASX50_2020/syd20_02345338.pdf\n",
            "/content/drive/My Drive/ASX50_2020/sgp20_02286666.pdf\n",
            "/content/drive/My Drive/ASX50_2020/wbc20_02303223.pdf\n",
            "/content/drive/My Drive/ASX50_2020/twe20_02270983.pdf\n",
            "/content/drive/My Drive/ASX50_2020/a2m20_02268264.pdf\n",
            "/content/drive/My Drive/ASX50_2020/a2m20.pdf\n",
            "/content/drive/My Drive/ASX50_2020/wpl20_02342819.pdf\n",
            "/content/drive/My Drive/ASX50_2020/dxs20.pdf\n",
            "/content/drive/My Drive/ASX50_2020/csl20.pdf\n",
            "/content/drive/My Drive/ASX50_2020/cpu20.pdf\n",
            "/content/drive/My Drive/ASX50_2020/gpt20_02341075.pdf\n",
            "/content/drive/My Drive/ASX50_2020/gpt20.pdf\n",
            "/content/drive/My Drive/ASX50_2020/gmg20.pdf\n",
            "/content/drive/My Drive/ASX50_2020/fmg20_02270305.pdf\n",
            "/content/drive/My Drive/ASX50_2020/fmg20.pdf\n",
            "/content/drive/My Drive/ASX50_2020/llc20.pdf\n",
            "/content/drive/My Drive/ASX50_2020/jhx20.pdf\n",
            "/content/drive/My Drive/ASX50_2020/iag20_02264194.pdf\n",
            "/content/drive/My Drive/ASX50_2020/iag20.pdf\n",
            "/content/drive/My Drive/ASX50_2020/gpt20_02341109.pdf\n",
            "/content/drive/My Drive/ASX50_2020/mgr20_02269152.pdf\n",
            "/content/drive/My Drive/ASX50_2020/mgr20_02269126.pdf\n",
            "/content/drive/My Drive/ASX50_2020/mgr20.pdf\n",
            "/content/drive/My Drive/ASX50_2020/nab20_02307145.pdf\n",
            "/content/drive/My Drive/ASX50_2020/nab20_02307144.pdf\n",
            "/content/drive/My Drive/ASX50_2020/nab20.pdf\n",
            "/content/drive/My Drive/ASX50_2020/mqg20.pdf\n",
            "/content/drive/My Drive/ASX50_2020/mpl20.pdf\n",
            "/content/drive/My Drive/ASX50_2020/nst20_02268345.pdf\n",
            "/content/drive/My Drive/ASX50_2020/nst20.pdf\n",
            "/content/drive/My Drive/ASX50_2020/ncm20.pdf\n",
            "/content/drive/My Drive/ASX50_2020/qbe20.pdf\n",
            "/content/drive/My Drive/ASX50_2020/qan20_02282629.pdf\n",
            "/content/drive/My Drive/ASX50_2020/qan20.pdf\n",
            "/content/drive/My Drive/ASX50_2020/org20.pdf\n",
            "/content/drive/My Drive/ASX50_2020/s3220.pdf\n",
            "/content/drive/My Drive/ASX50_2020/rio20.pdf\n",
            "/content/drive/My Drive/ASX50_2020/rhc20.pdf\n",
            "/content/drive/My Drive/ASX50_2020/sto20.pdf\n",
            "/content/drive/My Drive/ASX50_2020/shl20.pdf\n",
            "/content/drive/My Drive/ASX50_2020/sgp20.pdf\n",
            "/content/drive/My Drive/ASX50_2020/scg20.pdf\n",
            "/content/drive/My Drive/ASX50_2020/s3220_02277370.pdf\n",
            "/content/drive/My Drive/ASX50_2020/syd20.pdf\n",
            "/content/drive/My Drive/ASX50_2020/sun20_02269619.pdf\n",
            "/content/drive/My Drive/ASX50_2020/sun20.pdf\n",
            "/content/drive/My Drive/ASX50_2020/tls20_02273642.pdf\n",
            "/content/drive/My Drive/ASX50_2020/tls20.pdf\n",
            "/content/drive/My Drive/ASX50_2020/tcl20_02265610.pdf\n",
            "/content/drive/My Drive/ASX50_2020/tcl20.pdf\n",
            "/content/drive/My Drive/ASX50_2020/wes20.pdf\n",
            "/content/drive/My Drive/ASX50_2020/wbc20.pdf\n",
            "/content/drive/My Drive/ASX50_2020/twe20.pdf\n",
            "/content/drive/My Drive/ASX50_2020/wpl20.pdf\n",
            "/content/drive/My Drive/ASX50_2020/wow20_02272725.pdf\n",
            "/content/drive/My Drive/ASX50_2020/wow20.pdf\n",
            "/content/drive/My Drive/ASX50_2020/wes20_02284305.pdf\n"
          ],
          "name": "stdout"
        }
      ]
    },
    {
      "cell_type": "code",
      "metadata": {
        "id": "Q0aRlgLnozly"
      },
      "source": [
        "ticker=[]\n",
        "year=[]\n",
        "full=[]\n",
        "for file in file_list:\n",
        "  n=(file.split('.pdf',0))\n",
        "  ticker.append((file.rsplit('/content/drive/My Drive/ASX50_2020/')[1][0:3]).upper())\n",
        "  year.append((file.rsplit('/content/drive/My Drive/ASX50_2020/')[1][3:5])+'20')\n",
        "  m=(file.rsplit('/content/drive/My Drive/ASX50_2020/')[1][5:6])\n",
        "  \n",
        "  if m == '.':\n",
        "    full.append('full_report')\n",
        "  else:\n",
        "    full.append('corporate_governance')"
      ],
      "execution_count": 39,
      "outputs": []
    },
    {
      "cell_type": "code",
      "metadata": {
        "id": "a5RtqEXBNVlr"
      },
      "source": [
        "from itertools import zip_longest\n",
        "data = [ticker, year, full, gf, kg,ke,dc,sc,dif,st,name,ct, pagen, size,sep,ses]\n",
        "export_data = zip_longest(*data, fillvalue = '')\n",
        "with open('/content/drive/My Drive/VNMILK/READABILITY_ASX50.csv', 'w', encoding=\"ISO-8859-1\", newline='') as file:\n",
        "      write = csv.writer(file)\n",
        "      write.writerow((\"TICKER\", \"YEAR\", \"FLAG-REPORT\", \"GUNNING FOG\", \"FLESCH-KINCAID GRADE\",\"FLESCH-READING EASE\",\"DALE-CHALL\",\"SENTENCE COUNT\",\"DIFFICULT WORDS\",\"STANDARD READABILITY\",\"NAME\",\"TOTAL WORDS\",\"TOTAL PAGES\",\"FILE SIZE\",\"SENTIMENT POLARITY\",\"SENTIMENT SUBJECTIVITY\"))\n",
        "      write.writerows(export_data)"
      ],
      "execution_count": 41,
      "outputs": []
    },
    {
      "cell_type": "code",
      "metadata": {
        "colab": {
          "base_uri": "https://localhost:8080/"
        },
        "id": "uGXLDTjEL0tD",
        "outputId": "23e35329-36d7-46ee-bf2d-ae74c1eb3f53"
      },
      "source": [
        "print(full)"
      ],
      "execution_count": 40,
      "outputs": [
        {
          "output_type": "stream",
          "text": [
            "['corporate_governance', 'full_report', 'corporate_governance', 'full_report', 'full_report', 'full_report', 'corporate_governance', 'corporate_governance', 'corporate_governance', 'full_report', 'full_report', 'full_report', 'corporate_governance', 'full_report', 'full_report', 'full_report', 'full_report', 'corporate_governance', 'corporate_governance', 'corporate_governance', 'full_report', 'corporate_governance', 'full_report', 'corporate_governance', 'corporate_governance', 'full_report', 'corporate_governance', 'corporate_governance', 'corporate_governance', 'corporate_governance', 'corporate_governance', 'corporate_governance', 'corporate_governance', 'corporate_governance', 'corporate_governance', 'corporate_governance', 'corporate_governance', 'corporate_governance', 'full_report', 'corporate_governance', 'full_report', 'full_report', 'full_report', 'corporate_governance', 'full_report', 'full_report', 'corporate_governance', 'full_report', 'full_report', 'full_report', 'corporate_governance', 'full_report', 'corporate_governance', 'corporate_governance', 'corporate_governance', 'full_report', 'corporate_governance', 'corporate_governance', 'full_report', 'full_report', 'full_report', 'corporate_governance', 'full_report', 'full_report', 'full_report', 'corporate_governance', 'full_report', 'full_report', 'full_report', 'full_report', 'full_report', 'full_report', 'full_report', 'full_report', 'full_report', 'corporate_governance', 'full_report', 'corporate_governance', 'full_report', 'corporate_governance', 'full_report', 'corporate_governance', 'full_report', 'full_report', 'full_report', 'full_report', 'full_report', 'corporate_governance', 'full_report', 'corporate_governance']\n"
          ],
          "name": "stdout"
        }
      ]
    }
  ]
}