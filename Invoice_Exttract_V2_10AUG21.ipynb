{
  "nbformat": 4,
  "nbformat_minor": 0,
  "metadata": {
    "colab": {
      "name": "Invoice_Exttract.ipynb",
      "provenance": [],
      "authorship_tag": "ABX9TyPdiH7YVsCRbmQRwsHaazFI",
      "include_colab_link": true
    },
    "kernelspec": {
      "name": "python3",
      "display_name": "Python 3"
    },
    "language_info": {
      "name": "python"
    }
  },
  "cells": [
    {
      "cell_type": "markdown",
      "metadata": {
        "id": "view-in-github",
        "colab_type": "text"
      },
      "source": [
        "<a href=\"https://colab.research.google.com/github/camerontruong/ARA-READABILITY/blob/main/Invoice_Exttract_V2_10AUG21.ipynb\" target=\"_parent\"><img src=\"https://colab.research.google.com/assets/colab-badge.svg\" alt=\"Open In Colab\"/></a>"
      ]
    },
    {
      "cell_type": "code",
      "metadata": {
        "id": "o9ZhwtNkKzJF"
      },
      "source": [
        "!pip install pdfplumber\n",
        "import requests\n",
        "import pdfplumber"
      ],
      "execution_count": 26,
      "outputs": []
    },
    {
      "cell_type": "code",
      "metadata": {
        "id": "Etwx4fFELGPd"
      },
      "source": [
        "invoice_url = 'http://www.k-billing.com/example_invoices/professionalred_example.pdf'\n",
        "with requests.get(invoice_url) as r:\n",
        "  with open('sample.pdf', 'wb') as file:\n",
        "    file.write(r.content)\n"
      ],
      "execution_count": 37,
      "outputs": []
    },
    {
      "cell_type": "code",
      "metadata": {
        "id": "SrdlYfHALKbA"
      },
      "source": [
        "with pdfplumber.open('sample.pdf') as pdf:\n",
        "    page = pdf.pages[0]\n",
        "    text = page.extract_text()"
      ],
      "execution_count": 38,
      "outputs": []
    },
    {
      "cell_type": "code",
      "metadata": {
        "colab": {
          "base_uri": "https://localhost:8080/"
        },
        "id": "VjngqTCyLQNc",
        "outputId": "cd88a4d2-ebfd-437d-8af6-952122681223"
      },
      "source": [
        "print(text)"
      ],
      "execution_count": 39,
      "outputs": [
        {
          "output_type": "stream",
          "text": [
            "Demo Company INVOICE\n",
            "Invoice No. I1083\n",
            "Demo Company\n",
            "Account # C1006\n",
            "1234 Main Street\n",
            "Date 08-14-2008\n",
            "Ashland, KY 41102\n",
            "Due By 08-31-2008\n",
            "Terms None\n",
            "Phone : 111-222-3333 PO No. PO1234\n",
            "E-Mail : 333-444-4444 Sales Rep SalesPerson1\n",
            "Web : http://www.ksoftware.net\n",
            "Bill To Ship To\n",
            "Test Customer Test Customer\n",
            "1234 Main Street 1234 Main Street\n",
            "Ashland, KY 41101 Ashland,  41101\n",
            "Code Description QTY Price T Line Total\n",
            "SKU1222 Test Import Name - Description Goes Here 1 $10.00 Y $10.00\n",
            "Labor - Example labor item. Quantity is number of hours  1.5 $100.00 N $150.00\n",
            "spent, price is hourly rate. Quantity accepts decimal values.\n",
            "Shipping $10.00 Tax $0.78 Subtotal $160.00\n",
            "UPS Ground Total $170.78\n",
            "Payments (-) $0.00\n",
            "An invoice note can go here. Multi-line and even multi-page notes are supported. Balance Due $170.78\n",
            "An invoice footer can go here\n"
          ],
          "name": "stdout"
        }
      ]
    },
    {
      "cell_type": "code",
      "metadata": {
        "id": "ly0HI4geLSkB"
      },
      "source": [
        "for row in text.split('\\n'):\n",
        "    if row.startswith('Balance Due'):\n",
        "        balance = row.split()[-1]"
      ],
      "execution_count": 31,
      "outputs": []
    },
    {
      "cell_type": "code",
      "metadata": {
        "colab": {
          "base_uri": "https://localhost:8080/",
          "height": 35
        },
        "id": "WfAEnzTSLbt8",
        "outputId": "404e4b2c-3d89-47e5-f7f7-076615515789"
      },
      "source": [
        "balance"
      ],
      "execution_count": 32,
      "outputs": [
        {
          "output_type": "execute_result",
          "data": {
            "application/vnd.google.colaboratory.intrinsic+json": {
              "type": "string"
            },
            "text/plain": [
              "'$170.78'"
            ]
          },
          "metadata": {
            "tags": []
          },
          "execution_count": 32
        }
      ]
    },
    {
      "cell_type": "code",
      "metadata": {
        "colab": {
          "base_uri": "https://localhost:8080/"
        },
        "id": "bNLxbADQLdnc",
        "outputId": "4c9c3cc4-5fea-4888-ba0a-5622765a8d15"
      },
      "source": [
        "data =text.split('\\n')\n",
        "data"
      ],
      "execution_count": 33,
      "outputs": [
        {
          "output_type": "execute_result",
          "data": {
            "text/plain": [
              "['INVOICE',\n",
              " 'Invoice No. I1083',\n",
              " 'Account # C1006',\n",
              " 'Date 08-14-2008',\n",
              " 'Due By 08-31-2008',\n",
              " 'Demo Company',\n",
              " 'Phone : 111-222-3333 Terms None',\n",
              " '1234 Main Street E-Mail : 333-444-4444 PO No. PO1234',\n",
              " 'Ashland, KY 41102 Web : http://www.ksoftware.net Sales Rep SalesPerson1',\n",
              " 'Bill To Ship To',\n",
              " 'Test Customer Test Customer',\n",
              " '1234 Main Street 1234 Main Street',\n",
              " 'Ashland, KY 41101 Ashland,  41101',\n",
              " 'CCooddee DDeessccrriippttiioonn QTY Price Line Total',\n",
              " 'SKU1222 Test Import Name - Description Goes Here 1 $10.00 $10.00',\n",
              " 'Labor - Example labor item. Quantity is number of hours spent,  1.5 $100.00 $150.00',\n",
              " 'price is hourly rate. Quantity accepts decimal values.',\n",
              " 'Notes',\n",
              " 'An invoice note can go here. Multi-line and even multi-page notes are supported.',\n",
              " 'PPaayymmeenntt  DDeettaaiillss',\n",
              " 'Subtotal $160.00',\n",
              " 'Shipping$10.00 Tax $0.78',\n",
              " 'UPS Ground Total $170.78',\n",
              " 'Payments (-) $0.00',\n",
              " 'Balance Due $170.78',\n",
              " 'An invoice footer can go here']"
            ]
          },
          "metadata": {
            "tags": []
          },
          "execution_count": 33
        }
      ]
    },
    {
      "cell_type": "code",
      "metadata": {
        "colab": {
          "base_uri": "https://localhost:8080/"
        },
        "id": "Rt79hG_8NbUK",
        "outputId": "9300b28c-f69f-4ea2-c3d2-9e3705f42c98"
      },
      "source": [
        "for item in data:\n",
        "  if 'Subtotal' in item:\n",
        "    print(item.split()[-1])"
      ],
      "execution_count": 34,
      "outputs": [
        {
          "output_type": "stream",
          "text": [
            "$160.00\n"
          ],
          "name": "stdout"
        }
      ]
    },
    {
      "cell_type": "markdown",
      "metadata": {
        "id": "5yBcB0ixr_1n"
      },
      "source": [
        "RETRIEVING INVOICE NO"
      ]
    },
    {
      "cell_type": "code",
      "metadata": {
        "colab": {
          "base_uri": "https://localhost:8080/"
        },
        "id": "G4eERlPnsCCZ",
        "outputId": "c9a5a29a-f15f-49de-fe19-1409953557df"
      },
      "source": [
        "for item in data:\n",
        "  if 'Invoice No.' in item:\n",
        "    invoice = item.split('Invoice No.')[-1]\n",
        "    print(invoice)\n"
      ],
      "execution_count": 35,
      "outputs": [
        {
          "output_type": "stream",
          "text": [
            " I1083\n"
          ],
          "name": "stdout"
        }
      ]
    },
    {
      "cell_type": "code",
      "metadata": {
        "id": "iFeiEnAPsQN4"
      },
      "source": [
        ""
      ],
      "execution_count": null,
      "outputs": []
    }
  ]
}