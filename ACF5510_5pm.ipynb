{
  "nbformat": 4,
  "nbformat_minor": 0,
  "metadata": {
    "colab": {
      "name": "ACF5510_5pm.ipynb",
      "provenance": [],
      "collapsed_sections": [],
      "authorship_tag": "ABX9TyPg/2ok70Q4ehWG7D7KRfVv",
      "include_colab_link": true
    },
    "kernelspec": {
      "name": "python3",
      "display_name": "Python 3"
    },
    "language_info": {
      "name": "python"
    }
  },
  "cells": [
    {
      "cell_type": "markdown",
      "metadata": {
        "id": "view-in-github",
        "colab_type": "text"
      },
      "source": [
        "<a href=\"https://colab.research.google.com/github/camerontruong/ARA-READABILITY/blob/main/ACF5510_5pm.ipynb\" target=\"_parent\"><img src=\"https://colab.research.google.com/assets/colab-badge.svg\" alt=\"Open In Colab\"/></a>"
      ]
    },
    {
      "cell_type": "markdown",
      "source": [
        "Love Calulator: You are going to write a program that tests the compatibility between two people.\n",
        "\n",
        "To work out the love score between two people:\n",
        "\n",
        "Take both people's names and check for the number of times the letters in the word TRUE occurs. Then check for the number of times the letters in the word LOVE occurs. Then combine these numbers to make a 2 digit number.\n",
        "\n",
        "For Love Scores less than 10 or greater than 90, the message should be:\n",
        "\n",
        "\"Your score is x, you go together like coke and mentos.\"\n",
        "\n",
        "For Love Scores between 40 and 50, the message should be:\n",
        "\n",
        "\"Your score is y, you are alright together.\"\n",
        "\n",
        "Otherwise, the message will just be their score. e.g.:\n",
        "\n",
        "\"Your score is z.\"\n",
        "\n",
        "Example Input 1 name1 = \"Kanye West\" name2 = \"Kim Kardashian\" Example Output 1 Your score is 42, you are alright together. Example Input 2 name1 = \"Brad Pitt\" name2 = \"Jennifer Aniston\" Example Output 2 Your score is 73."
      ],
      "metadata": {
        "id": "AhlPi-qyC3NP"
      }
    },
    {
      "cell_type": "code",
      "source": [
        "print(\"Welcome to the Love score calculator\")\n",
        "name1=input(\"What is your name? \\n\")\n",
        "name2=input(\"What is the other person's name? \\n\")\n",
        "# print(name1,name2)\n",
        "name1=name1.lower()\n",
        "name2=name2.lower()\n",
        "\n",
        "t=name1.count(\"t\")+name2.count(\"t\")\n",
        "r=name1.count(\"r\")+name2.count(\"r\")\n",
        "u=name1.count(\"u\")+name2.count(\"u\")\n",
        "e=name1.count(\"e\")+name2.count(\"e\")\n",
        "\n",
        "l=name1.count(\"l\")+name2.count(\"l\")\n",
        "o=name1.count(\"o\")+name2.count(\"o\")\n",
        "v=name1.count(\"v\")+name2.count(\"v\")\n",
        "e=name1.count(\"e\")+name2.count(\"e\")\n",
        "\n",
        "digit1=t+r+u+e\n",
        "digit2=l+o+v+e\n",
        "\n",
        "score=str(digit1)+str(digit2)\n",
        "score=int(score)\n",
        "\n",
        "if score<10 or score>90:\n",
        "    print(f\"Your score is {score}, you go together like coke and mentos. \")\n",
        "elif score>40 and score<50:\n",
        "    print(f\"Your score is {score}, you are alright together. \")\n",
        "else:\n",
        "    print(f\"Your score is {score}.\")\n"
      ],
      "metadata": {
        "colab": {
          "base_uri": "https://localhost:8080/"
        },
        "id": "OpEEgPHPC7dW",
        "outputId": "39565b93-5b6c-45d3-e64d-333efac9506e"
      },
      "execution_count": 5,
      "outputs": [
        {
          "output_type": "stream",
          "name": "stdout",
          "text": [
            "Welcome to the Love score calculator\n",
            "What is your name? \n",
            "Brad Pitt\n",
            "What is the other person's name? \n",
            "Jenifer Aniston\n",
            "Your score is 73.\n"
          ]
        }
      ]
    },
    {
      "cell_type": "code",
      "source": [
        "#Check if a number is even or odd\n",
        "number=int(input(\"Please enter the number you wish to check: \\n\"))\n",
        "check=number%2\n",
        "\n",
        "if check==0:\n",
        "    print(\"This is an even number.\")\n",
        "else:\n",
        "    print(\"This is an odd number.\")\n"
      ],
      "metadata": {
        "colab": {
          "base_uri": "https://localhost:8080/"
        },
        "id": "vxSOkyjCGa-o",
        "outputId": "28f7c8a7-b1bc-44cf-f15e-69adb800e7e9"
      },
      "execution_count": 9,
      "outputs": [
        {
          "output_type": "stream",
          "name": "stdout",
          "text": [
            "Please enter the number you wish to check: \n",
            "9\n",
            "This is an odd number.\n"
          ]
        }
      ]
    },
    {
      "cell_type": "code",
      "source": [
        "#LOOPS\n",
        "for i in range(1,101):\n",
        "    print(i)\n",
        "    "
      ],
      "metadata": {
        "id": "mj-QG3jtGy8L"
      },
      "execution_count": null,
      "outputs": []
    },
    {
      "cell_type": "code",
      "source": [
        "#Exercise: print out all odd numbers from 1 to 100\n",
        "for i in range(1,101):\n",
        "    if i%2!=0:\n",
        "        print(i)\n",
        "        "
      ],
      "metadata": {
        "id": "hlDo7uGaISng"
      },
      "execution_count": null,
      "outputs": []
    },
    {
      "cell_type": "code",
      "source": [
        "#Exercise: add all odd numbers from 1 to 100\n",
        "odd_sum=0\n",
        "for i in range(1,100000001):\n",
        "    if i%2!=0:\n",
        "        odd_sum+=i\n",
        "\n",
        "print(f\"The sum of all odd numbers is {odd_sum}\")"
      ],
      "metadata": {
        "colab": {
          "base_uri": "https://localhost:8080/"
        },
        "id": "KbG40ER0Jt3d",
        "outputId": "16a8dd6c-e2dd-4103-f40e-77e437f6e878"
      },
      "execution_count": 16,
      "outputs": [
        {
          "output_type": "stream",
          "name": "stdout",
          "text": [
            "The sum of all odd numbers is 2500000000000000\n"
          ]
        }
      ]
    },
    {
      "cell_type": "code",
      "source": [
        "# WHILE LOOP\n",
        "i=1\n",
        "while i<=100:\n",
        "    print(i)\n",
        "    i+=1\n"
      ],
      "metadata": {
        "id": "euT2jYQlLKZ7"
      },
      "execution_count": null,
      "outputs": []
    },
    {
      "cell_type": "code",
      "source": [
        "i=1\n",
        "odd_sum=0\n",
        "while i<=100:\n",
        "    if i%2!=0:\n",
        "        print(i)\n",
        "        odd_sum+=i\n",
        "    i+=1\n",
        "\n",
        "print(f\"The sum of all odd numbers is {odd_sum}\")"
      ],
      "metadata": {
        "id": "BV_2hfl-Lw_0"
      },
      "execution_count": null,
      "outputs": []
    },
    {
      "cell_type": "code",
      "source": [
        "# Instructions You are going to write a program that automatically prints the solution to the FizzBuzz game.\n",
        "# Your program should print each number from 1 to 100 in turn.\n",
        "# When the number is divisible by 3 then instead of printing the number it should print \"Fizz\".\n",
        "# When the number is divisible by 5, then instead of printing the number it should print \"Buzz\".\n",
        "#And if the number is divisible by both 3 and 5 e.g. 15 then instead of the number it should print \"FizzBuzz\" \n",
        "# 1 2 Fizz 4 Buzz Fizz 7 8 Fizz Buzz 11 Fizz 13 14 FizzBuzz .... etc.\n",
        "# Hint Remember your answer should start from 1 and go up to and including 100.\n",
        "# Each number/text should be printed on a separate line.\n",
        "\n",
        "for i in range(1,101):\n",
        "    if i%3==0:\n",
        "        if i%5==0:\n",
        "            print(\"FIZZBUZZ\")\n",
        "        else:\n",
        "            print(\"FIZZ\")\n",
        "    elif i%5==0:\n",
        "        print(\"BUZZ\")\n",
        "    else:\n",
        "        print(i)"
      ],
      "metadata": {
        "id": "_YQ9OlCDNsIX"
      },
      "execution_count": null,
      "outputs": []
    },
    {
      "cell_type": "code",
      "source": [
        "#LIST\n",
        "fruits=['apple','banana','mango']\n",
        "print(fruits)\n",
        "type(fruits)\n",
        "len(fruits)"
      ],
      "metadata": {
        "colab": {
          "base_uri": "https://localhost:8080/"
        },
        "id": "W_sc0j1iQ8sL",
        "outputId": "2017cd0f-e56e-483f-cb60-2cc1f1062c92"
      },
      "execution_count": 23,
      "outputs": [
        {
          "output_type": "stream",
          "name": "stdout",
          "text": [
            "['apple', 'banana', 'mango']\n"
          ]
        },
        {
          "output_type": "execute_result",
          "data": {
            "text/plain": [
              "3"
            ]
          },
          "metadata": {},
          "execution_count": 23
        }
      ]
    },
    {
      "cell_type": "code",
      "source": [
        "fruits.append(\"pear\")\n",
        "fruits"
      ],
      "metadata": {
        "colab": {
          "base_uri": "https://localhost:8080/"
        },
        "id": "KTQAAz6QRc_1",
        "outputId": "f7db968f-d0a4-4c86-e5b4-6a673f25f86f"
      },
      "execution_count": 24,
      "outputs": [
        {
          "output_type": "execute_result",
          "data": {
            "text/plain": [
              "['apple', 'banana', 'mango', 'pear']"
            ]
          },
          "metadata": {},
          "execution_count": 24
        }
      ]
    },
    {
      "cell_type": "code",
      "source": [
        "fruits.remove(\"banana\")\n",
        "fruits"
      ],
      "metadata": {
        "id": "WBoa5eBxR2r-"
      },
      "execution_count": null,
      "outputs": []
    },
    {
      "cell_type": "code",
      "source": [
        "fruits.index('mango')\n",
        "fruits"
      ],
      "metadata": {
        "colab": {
          "base_uri": "https://localhost:8080/"
        },
        "id": "P1yAhcYkSC93",
        "outputId": "0e7b9591-eccc-47e8-f1bd-a2bbe1cb7ee5"
      },
      "execution_count": 28,
      "outputs": [
        {
          "output_type": "execute_result",
          "data": {
            "text/plain": [
              "['apple', 'mango', 'pear']"
            ]
          },
          "metadata": {},
          "execution_count": 28
        }
      ]
    },
    {
      "cell_type": "code",
      "source": [
        "odd_number=[]\n",
        "even_number=[]\n",
        "for i in range(1,101):\n",
        "    if i%2!=0:\n",
        "        odd_number.append(i)\n",
        "    else:\n",
        "        even_number.append(i)\n",
        "print(odd_number,even_number)"
      ],
      "metadata": {
        "colab": {
          "base_uri": "https://localhost:8080/"
        },
        "id": "M17duBnNSS55",
        "outputId": "11982ef4-78a2-4db8-fac8-9520852089fb"
      },
      "execution_count": 32,
      "outputs": [
        {
          "output_type": "stream",
          "name": "stdout",
          "text": [
            "[1, 3, 5, 7, 9, 11, 13, 15, 17, 19, 21, 23, 25, 27, 29, 31, 33, 35, 37, 39, 41, 43, 45, 47, 49, 51, 53, 55, 57, 59, 61, 63, 65, 67, 69, 71, 73, 75, 77, 79, 81, 83, 85, 87, 89, 91, 93, 95, 97, 99] [2, 4, 6, 8, 10, 12, 14, 16, 18, 20, 22, 24, 26, 28, 30, 32, 34, 36, 38, 40, 42, 44, 46, 48, 50, 52, 54, 56, 58, 60, 62, 64, 66, 68, 70, 72, 74, 76, 78, 80, 82, 84, 86, 88, 90, 92, 94, 96, 98, 100]\n"
          ]
        }
      ]
    },
    {
      "cell_type": "code",
      "source": [
        "#excercise: get names from the user, and randomly choose one name, and suggest that person as the payer\n",
        "names_list=input(\"Please give everyone's names, seperated by a comma: \\n\")\n",
        "names=names_list.split(\",\")\n",
        "\n",
        "import random\n",
        "payer=random.choice(names)\n",
        "print(f\"The payer for the meal to day is {payer}\")"
      ],
      "metadata": {
        "colab": {
          "base_uri": "https://localhost:8080/"
        },
        "id": "c1-VtgtkTJcC",
        "outputId": "1f40b686-d8bb-48e9-fadf-1cd0e16b04c9"
      },
      "execution_count": 35,
      "outputs": [
        {
          "output_type": "stream",
          "name": "stdout",
          "text": [
            "Please give everyone's names, seperated by a comma: \n",
            "Alvin,Amy,Cameron,Maya,Joey,Russell\n",
            "The payer for the meal to day is Maya\n"
          ]
        }
      ]
    },
    {
      "cell_type": "code",
      "source": [
        "#Password Generator Project\n",
        "import random\n",
        "letters = ['a', 'b', 'c', 'd', 'e', 'f', 'g', 'h', 'i', 'j', 'k', 'l', 'm', 'n', 'o', 'p', 'q', 'r', 's', 't', 'u', 'v', 'w', 'x', 'y', 'z', 'A', 'B', 'C', 'D', 'E', 'F', 'G', 'H', 'I', 'J', 'K', 'L', 'M', 'N', 'O', 'P', 'Q', 'R', 'S', 'T', 'U', 'V', 'W', 'X', 'Y', 'Z']\n",
        "numbers = ['0', '1', '2', '3', '4', '5', '6', '7', '8', '9']\n",
        "symbols = ['!', '#', '$', '%', '&', '(', ')', '*', '+']\n",
        "\n",
        "#gererate a password with 4 letters, 3 numbers, and 2 symbols\n",
        "password =[]\n",
        "l=int(input(\"How many letters do you want : \\n\"))\n",
        "n=int(input(\"How many numbers do you want: \\n\"))\n",
        "s=int(input(\"How many symbols do you want: \\n\"))\n",
        "\n",
        "for i in range(1,l+1):\n",
        "    password.append(random.choice(letters))\n",
        "\n",
        "for i in range(1,n+1):\n",
        "    password.append(random.choice(numbers))\n",
        "\n",
        "for i in range(1,s+1):\n",
        "    password.append(random.choice(symbols))\n",
        "\n",
        "random.shuffle(password)\n",
        "password_text=\"\".join(password)\n",
        "print(f\"Your password could be {password_text}\")"
      ],
      "metadata": {
        "colab": {
          "base_uri": "https://localhost:8080/"
        },
        "id": "4mvLUw6OYNuR",
        "outputId": "d36652fc-7636-4fdf-9893-9c7083a00ad7"
      },
      "execution_count": 46,
      "outputs": [
        {
          "output_type": "stream",
          "name": "stdout",
          "text": [
            "How many letters do you want : \n",
            "5\n",
            "How many numbers do you want: \n",
            "5\n",
            "How many symbols do you want: \n",
            "6\n",
            "Your password could be #46(81d2*Z)$AwA#\n"
          ]
        }
      ]
    },
    {
      "cell_type": "code",
      "source": [
        "#install pdfplumber\n",
        "!pip install pdfplumber"
      ],
      "metadata": {
        "colab": {
          "base_uri": "https://localhost:8080/",
          "height": 537
        },
        "id": "2XLRvifPd85m",
        "outputId": "ffe15694-8b16-4696-eba2-f66169af3c6b"
      },
      "execution_count": 47,
      "outputs": [
        {
          "output_type": "stream",
          "name": "stdout",
          "text": [
            "Collecting pdfplumber\n",
            "  Downloading pdfplumber-0.6.1-py3-none-any.whl (33 kB)\n",
            "Collecting Wand>=0.6.7\n",
            "  Downloading Wand-0.6.7-py2.py3-none-any.whl (139 kB)\n",
            "\u001b[K     |████████████████████████████████| 139 kB 8.0 MB/s \n",
            "\u001b[?25hCollecting pdfminer.six==20220319\n",
            "  Downloading pdfminer.six-20220319-py3-none-any.whl (5.6 MB)\n",
            "\u001b[K     |████████████████████████████████| 5.6 MB 43.9 MB/s \n",
            "\u001b[?25hCollecting Pillow>=9.1\n",
            "  Downloading Pillow-9.1.0-cp37-cp37m-manylinux_2_17_x86_64.manylinux2014_x86_64.whl (4.3 MB)\n",
            "\u001b[K     |████████████████████████████████| 4.3 MB 35.9 MB/s \n",
            "\u001b[?25hCollecting cryptography\n",
            "  Downloading cryptography-37.0.2-cp36-abi3-manylinux_2_24_x86_64.whl (4.0 MB)\n",
            "\u001b[K     |████████████████████████████████| 4.0 MB 30.3 MB/s \n",
            "\u001b[?25hRequirement already satisfied: chardet in /usr/local/lib/python3.7/dist-packages (from pdfminer.six==20220319->pdfplumber) (3.0.4)\n",
            "Requirement already satisfied: cffi>=1.12 in /usr/local/lib/python3.7/dist-packages (from cryptography->pdfminer.six==20220319->pdfplumber) (1.15.0)\n",
            "Requirement already satisfied: pycparser in /usr/local/lib/python3.7/dist-packages (from cffi>=1.12->cryptography->pdfminer.six==20220319->pdfplumber) (2.21)\n",
            "Installing collected packages: cryptography, Wand, Pillow, pdfminer.six, pdfplumber\n",
            "  Attempting uninstall: Pillow\n",
            "    Found existing installation: Pillow 7.1.2\n",
            "    Uninstalling Pillow-7.1.2:\n",
            "      Successfully uninstalled Pillow-7.1.2\n",
            "\u001b[31mERROR: pip's dependency resolver does not currently take into account all the packages that are installed. This behaviour is the source of the following dependency conflicts.\n",
            "albumentations 0.1.12 requires imgaug<0.2.7,>=0.2.5, but you have imgaug 0.2.9 which is incompatible.\u001b[0m\n",
            "Successfully installed Pillow-9.1.0 Wand-0.6.7 cryptography-37.0.2 pdfminer.six-20220319 pdfplumber-0.6.1\n"
          ]
        },
        {
          "output_type": "display_data",
          "data": {
            "application/vnd.colab-display-data+json": {
              "pip_warning": {
                "packages": [
                  "PIL"
                ]
              }
            }
          },
          "metadata": {}
        }
      ]
    },
    {
      "cell_type": "code",
      "source": [
        "import pdfplumber\n",
        "import requests"
      ],
      "metadata": {
        "id": "yLYZjTpCePlb"
      },
      "execution_count": 48,
      "outputs": []
    },
    {
      "cell_type": "code",
      "source": [
        "url = \"https://slicedinvoices.com/pdf/wordpress-pdf-invoice-plugin-sample.pdf\"\n",
        "with requests.get(url) as r:\n",
        "    with open(\"sample_invoice.pdf\",\"wb\") as file:\n",
        "        file.write(r.content)"
      ],
      "metadata": {
        "id": "huAWbrSieZVB"
      },
      "execution_count": 49,
      "outputs": []
    },
    {
      "cell_type": "code",
      "source": [
        "with pdfplumber.open(\"sample_invoice.pdf\") as pdf:\n",
        "    page=pdf.pages[0]\n",
        "    text=page.extract_text()"
      ],
      "metadata": {
        "id": "cuGXOUiyfRHt"
      },
      "execution_count": 50,
      "outputs": []
    },
    {
      "cell_type": "code",
      "source": [
        "data =text.split(\"\\n\")\n",
        "data"
      ],
      "metadata": {
        "colab": {
          "base_uri": "https://localhost:8080/"
        },
        "id": "VPXk8MsHfkqL",
        "outputId": "fc259540-1d50-42fc-f4bf-8799b8623e53"
      },
      "execution_count": 54,
      "outputs": [
        {
          "output_type": "execute_result",
          "data": {
            "text/plain": [
              "['Invoice',\n",
              " 'Invoice Number INV-3337',\n",
              " 'From:',\n",
              " 'DEMO - Sliced Invoices Order Number 12345',\n",
              " 'Suite 5A-1204 Invoice Date January 25, 2016',\n",
              " '123 Somewhere Street',\n",
              " 'Due Date January 31, 2016',\n",
              " 'Your City AZ 12345',\n",
              " 'Total Due $93.50',\n",
              " 'admin@slicedinvoices.com',\n",
              " 'To:',\n",
              " 'Test Business',\n",
              " '123 Somewhere St',\n",
              " 'd',\n",
              " 'Melbourne, VIC 3000',\n",
              " 'test@test.com',\n",
              " 'i',\n",
              " 'Hrs/Qty Service Rate/Price Adjust Sub Total',\n",
              " 'a',\n",
              " 'Web Design',\n",
              " '1.00 $85.00 0.00% $85.00',\n",
              " 'This is a sample description...',\n",
              " 'P',\n",
              " 'Sub Total $85.00',\n",
              " 'Tax $8.50',\n",
              " 'Total $93.50',\n",
              " 'ANZ Bank',\n",
              " 'ACC # 1234 1234',\n",
              " 'BSB # 4321 432',\n",
              " 'Payment is due within 30 days from date of invoice. Late payment is subject to fees of 5% per month.',\n",
              " 'Thanks for choosing DEMO - Sliced Invoices | admin@slicedinvoices.com',\n",
              " 'Page 1/1']"
            ]
          },
          "metadata": {},
          "execution_count": 54
        }
      ]
    },
    {
      "cell_type": "code",
      "source": [
        "for item in data:\n",
        "    if 'Invoice Number' in item:\n",
        "        inv=item.split()[-1]\n",
        "inv"
      ],
      "metadata": {
        "colab": {
          "base_uri": "https://localhost:8080/",
          "height": 35
        },
        "id": "8b0w-EEegDjv",
        "outputId": "feaa78eb-5cf0-4e7b-f574-737cdd2c5e08"
      },
      "execution_count": 59,
      "outputs": [
        {
          "output_type": "execute_result",
          "data": {
            "text/plain": [
              "'INV-3337'"
            ],
            "application/vnd.google.colaboratory.intrinsic+json": {
              "type": "string"
            }
          },
          "metadata": {},
          "execution_count": 59
        }
      ]
    },
    {
      "cell_type": "code",
      "source": [
        "#Exercise : get $93.50\n",
        "for item in data:\n",
        "    if \"Total Due\" in item:\n",
        "        pay=item.split()[-1]\n",
        "pay"
      ],
      "metadata": {
        "colab": {
          "base_uri": "https://localhost:8080/",
          "height": 35
        },
        "id": "xgFDfN6WgyPe",
        "outputId": "8d2c1360-9ec4-4820-e95f-9eaadac827a7"
      },
      "execution_count": 62,
      "outputs": [
        {
          "output_type": "execute_result",
          "data": {
            "text/plain": [
              "'$93.50'"
            ],
            "application/vnd.google.colaboratory.intrinsic+json": {
              "type": "string"
            }
          },
          "metadata": {},
          "execution_count": 62
        }
      ]
    },
    {
      "cell_type": "code",
      "source": [
        "#Exercise: get account number\n",
        "for item in data:\n",
        "    if \"ACC #\" in item:\n",
        "        acc=item.split(\"#\")[-1]\n",
        "acc"
      ],
      "metadata": {
        "colab": {
          "base_uri": "https://localhost:8080/",
          "height": 35
        },
        "id": "4dbcDVQnh3bE",
        "outputId": "788fc6f4-189b-40dc-fa34-e1b337abaef9"
      },
      "execution_count": 67,
      "outputs": [
        {
          "output_type": "execute_result",
          "data": {
            "text/plain": [
              "' 1234 1234'"
            ],
            "application/vnd.google.colaboratory.intrinsic+json": {
              "type": "string"
            }
          },
          "metadata": {},
          "execution_count": 67
        }
      ]
    },
    {
      "cell_type": "code",
      "source": [
        "url= \"https://www.anz.com/content/dam/anzcom/shareholder/2021-anz-annual-report.pdf\"\n",
        "with requests.get(url) as r:\n",
        "    with open('ANZ.pdf','wb') as file:\n",
        "        file.write(r.content)"
      ],
      "metadata": {
        "id": "JlS-xrH_ii1n"
      },
      "execution_count": 68,
      "outputs": []
    },
    {
      "cell_type": "code",
      "source": [
        "fulltext = \"\"\n",
        "with pdfplumber.open('ANZ.pdf') as pdf:\n",
        "    for page in pdf.pages:\n",
        "        text=page.extract_text()\n",
        "        fulltext+=text\n",
        "        print(f\"We are extracting page {page}\")"
      ],
      "metadata": {
        "colab": {
          "base_uri": "https://localhost:8080/"
        },
        "id": "-8svFG6_i1ye",
        "outputId": "e188ac84-c987-4fd9-ec5f-9288cb5bde48"
      },
      "execution_count": 69,
      "outputs": [
        {
          "output_type": "stream",
          "name": "stdout",
          "text": [
            "We are extracting page <Page:1>\n",
            "We are extracting page <Page:2>\n",
            "We are extracting page <Page:3>\n",
            "We are extracting page <Page:4>\n",
            "We are extracting page <Page:5>\n",
            "We are extracting page <Page:6>\n",
            "We are extracting page <Page:7>\n",
            "We are extracting page <Page:8>\n",
            "We are extracting page <Page:9>\n",
            "We are extracting page <Page:10>\n",
            "We are extracting page <Page:11>\n",
            "We are extracting page <Page:12>\n",
            "We are extracting page <Page:13>\n",
            "We are extracting page <Page:14>\n",
            "We are extracting page <Page:15>\n",
            "We are extracting page <Page:16>\n",
            "We are extracting page <Page:17>\n",
            "We are extracting page <Page:18>\n",
            "We are extracting page <Page:19>\n",
            "We are extracting page <Page:20>\n",
            "We are extracting page <Page:21>\n",
            "We are extracting page <Page:22>\n",
            "We are extracting page <Page:23>\n",
            "We are extracting page <Page:24>\n",
            "We are extracting page <Page:25>\n",
            "We are extracting page <Page:26>\n",
            "We are extracting page <Page:27>\n",
            "We are extracting page <Page:28>\n",
            "We are extracting page <Page:29>\n",
            "We are extracting page <Page:30>\n",
            "We are extracting page <Page:31>\n",
            "We are extracting page <Page:32>\n",
            "We are extracting page <Page:33>\n",
            "We are extracting page <Page:34>\n",
            "We are extracting page <Page:35>\n",
            "We are extracting page <Page:36>\n",
            "We are extracting page <Page:37>\n",
            "We are extracting page <Page:38>\n",
            "We are extracting page <Page:39>\n",
            "We are extracting page <Page:40>\n",
            "We are extracting page <Page:41>\n",
            "We are extracting page <Page:42>\n",
            "We are extracting page <Page:43>\n",
            "We are extracting page <Page:44>\n",
            "We are extracting page <Page:45>\n",
            "We are extracting page <Page:46>\n",
            "We are extracting page <Page:47>\n",
            "We are extracting page <Page:48>\n",
            "We are extracting page <Page:49>\n",
            "We are extracting page <Page:50>\n",
            "We are extracting page <Page:51>\n",
            "We are extracting page <Page:52>\n",
            "We are extracting page <Page:53>\n",
            "We are extracting page <Page:54>\n",
            "We are extracting page <Page:55>\n",
            "We are extracting page <Page:56>\n",
            "We are extracting page <Page:57>\n",
            "We are extracting page <Page:58>\n",
            "We are extracting page <Page:59>\n",
            "We are extracting page <Page:60>\n",
            "We are extracting page <Page:61>\n",
            "We are extracting page <Page:62>\n",
            "We are extracting page <Page:63>\n",
            "We are extracting page <Page:64>\n",
            "We are extracting page <Page:65>\n",
            "We are extracting page <Page:66>\n",
            "We are extracting page <Page:67>\n",
            "We are extracting page <Page:68>\n",
            "We are extracting page <Page:69>\n",
            "We are extracting page <Page:70>\n",
            "We are extracting page <Page:71>\n",
            "We are extracting page <Page:72>\n",
            "We are extracting page <Page:73>\n",
            "We are extracting page <Page:74>\n",
            "We are extracting page <Page:75>\n",
            "We are extracting page <Page:76>\n",
            "We are extracting page <Page:77>\n",
            "We are extracting page <Page:78>\n",
            "We are extracting page <Page:79>\n",
            "We are extracting page <Page:80>\n",
            "We are extracting page <Page:81>\n",
            "We are extracting page <Page:82>\n",
            "We are extracting page <Page:83>\n",
            "We are extracting page <Page:84>\n",
            "We are extracting page <Page:85>\n",
            "We are extracting page <Page:86>\n",
            "We are extracting page <Page:87>\n",
            "We are extracting page <Page:88>\n",
            "We are extracting page <Page:89>\n",
            "We are extracting page <Page:90>\n",
            "We are extracting page <Page:91>\n",
            "We are extracting page <Page:92>\n",
            "We are extracting page <Page:93>\n",
            "We are extracting page <Page:94>\n",
            "We are extracting page <Page:95>\n",
            "We are extracting page <Page:96>\n",
            "We are extracting page <Page:97>\n",
            "We are extracting page <Page:98>\n",
            "We are extracting page <Page:99>\n",
            "We are extracting page <Page:100>\n",
            "We are extracting page <Page:101>\n",
            "We are extracting page <Page:102>\n",
            "We are extracting page <Page:103>\n",
            "We are extracting page <Page:104>\n",
            "We are extracting page <Page:105>\n",
            "We are extracting page <Page:106>\n",
            "We are extracting page <Page:107>\n",
            "We are extracting page <Page:108>\n",
            "We are extracting page <Page:109>\n",
            "We are extracting page <Page:110>\n",
            "We are extracting page <Page:111>\n",
            "We are extracting page <Page:112>\n",
            "We are extracting page <Page:113>\n",
            "We are extracting page <Page:114>\n",
            "We are extracting page <Page:115>\n",
            "We are extracting page <Page:116>\n",
            "We are extracting page <Page:117>\n",
            "We are extracting page <Page:118>\n",
            "We are extracting page <Page:119>\n",
            "We are extracting page <Page:120>\n",
            "We are extracting page <Page:121>\n",
            "We are extracting page <Page:122>\n",
            "We are extracting page <Page:123>\n",
            "We are extracting page <Page:124>\n",
            "We are extracting page <Page:125>\n",
            "We are extracting page <Page:126>\n",
            "We are extracting page <Page:127>\n",
            "We are extracting page <Page:128>\n",
            "We are extracting page <Page:129>\n",
            "We are extracting page <Page:130>\n",
            "We are extracting page <Page:131>\n",
            "We are extracting page <Page:132>\n",
            "We are extracting page <Page:133>\n",
            "We are extracting page <Page:134>\n",
            "We are extracting page <Page:135>\n",
            "We are extracting page <Page:136>\n",
            "We are extracting page <Page:137>\n",
            "We are extracting page <Page:138>\n",
            "We are extracting page <Page:139>\n",
            "We are extracting page <Page:140>\n",
            "We are extracting page <Page:141>\n",
            "We are extracting page <Page:142>\n",
            "We are extracting page <Page:143>\n",
            "We are extracting page <Page:144>\n",
            "We are extracting page <Page:145>\n",
            "We are extracting page <Page:146>\n",
            "We are extracting page <Page:147>\n",
            "We are extracting page <Page:148>\n",
            "We are extracting page <Page:149>\n",
            "We are extracting page <Page:150>\n",
            "We are extracting page <Page:151>\n",
            "We are extracting page <Page:152>\n",
            "We are extracting page <Page:153>\n",
            "We are extracting page <Page:154>\n",
            "We are extracting page <Page:155>\n",
            "We are extracting page <Page:156>\n",
            "We are extracting page <Page:157>\n",
            "We are extracting page <Page:158>\n",
            "We are extracting page <Page:159>\n",
            "We are extracting page <Page:160>\n",
            "We are extracting page <Page:161>\n",
            "We are extracting page <Page:162>\n",
            "We are extracting page <Page:163>\n",
            "We are extracting page <Page:164>\n",
            "We are extracting page <Page:165>\n",
            "We are extracting page <Page:166>\n",
            "We are extracting page <Page:167>\n",
            "We are extracting page <Page:168>\n",
            "We are extracting page <Page:169>\n",
            "We are extracting page <Page:170>\n",
            "We are extracting page <Page:171>\n",
            "We are extracting page <Page:172>\n",
            "We are extracting page <Page:173>\n",
            "We are extracting page <Page:174>\n",
            "We are extracting page <Page:175>\n",
            "We are extracting page <Page:176>\n",
            "We are extracting page <Page:177>\n",
            "We are extracting page <Page:178>\n",
            "We are extracting page <Page:179>\n",
            "We are extracting page <Page:180>\n",
            "We are extracting page <Page:181>\n",
            "We are extracting page <Page:182>\n",
            "We are extracting page <Page:183>\n",
            "We are extracting page <Page:184>\n",
            "We are extracting page <Page:185>\n",
            "We are extracting page <Page:186>\n",
            "We are extracting page <Page:187>\n",
            "We are extracting page <Page:188>\n",
            "We are extracting page <Page:189>\n",
            "We are extracting page <Page:190>\n",
            "We are extracting page <Page:191>\n",
            "We are extracting page <Page:192>\n",
            "We are extracting page <Page:193>\n",
            "We are extracting page <Page:194>\n",
            "We are extracting page <Page:195>\n",
            "We are extracting page <Page:196>\n",
            "We are extracting page <Page:197>\n",
            "We are extracting page <Page:198>\n",
            "We are extracting page <Page:199>\n",
            "We are extracting page <Page:200>\n",
            "We are extracting page <Page:201>\n",
            "We are extracting page <Page:202>\n",
            "We are extracting page <Page:203>\n",
            "We are extracting page <Page:204>\n",
            "We are extracting page <Page:205>\n",
            "We are extracting page <Page:206>\n",
            "We are extracting page <Page:207>\n",
            "We are extracting page <Page:208>\n",
            "We are extracting page <Page:209>\n",
            "We are extracting page <Page:210>\n",
            "We are extracting page <Page:211>\n",
            "We are extracting page <Page:212>\n",
            "We are extracting page <Page:213>\n",
            "We are extracting page <Page:214>\n",
            "We are extracting page <Page:215>\n",
            "We are extracting page <Page:216>\n",
            "We are extracting page <Page:217>\n",
            "We are extracting page <Page:218>\n",
            "We are extracting page <Page:219>\n",
            "We are extracting page <Page:220>\n",
            "We are extracting page <Page:221>\n",
            "We are extracting page <Page:222>\n",
            "We are extracting page <Page:223>\n",
            "We are extracting page <Page:224>\n",
            "We are extracting page <Page:225>\n",
            "We are extracting page <Page:226>\n",
            "We are extracting page <Page:227>\n",
            "We are extracting page <Page:228>\n",
            "We are extracting page <Page:229>\n",
            "We are extracting page <Page:230>\n",
            "We are extracting page <Page:231>\n",
            "We are extracting page <Page:232>\n",
            "We are extracting page <Page:233>\n",
            "We are extracting page <Page:234>\n",
            "We are extracting page <Page:235>\n",
            "We are extracting page <Page:236>\n",
            "We are extracting page <Page:237>\n",
            "We are extracting page <Page:238>\n",
            "We are extracting page <Page:239>\n",
            "We are extracting page <Page:240>\n",
            "We are extracting page <Page:241>\n",
            "We are extracting page <Page:242>\n",
            "We are extracting page <Page:243>\n",
            "We are extracting page <Page:244>\n",
            "We are extracting page <Page:245>\n",
            "We are extracting page <Page:246>\n",
            "We are extracting page <Page:247>\n",
            "We are extracting page <Page:248>\n",
            "We are extracting page <Page:249>\n",
            "We are extracting page <Page:250>\n",
            "We are extracting page <Page:251>\n",
            "We are extracting page <Page:252>\n",
            "We are extracting page <Page:253>\n",
            "We are extracting page <Page:254>\n",
            "We are extracting page <Page:255>\n",
            "We are extracting page <Page:256>\n",
            "We are extracting page <Page:257>\n",
            "We are extracting page <Page:258>\n",
            "We are extracting page <Page:259>\n",
            "We are extracting page <Page:260>\n",
            "We are extracting page <Page:261>\n",
            "We are extracting page <Page:262>\n",
            "We are extracting page <Page:263>\n",
            "We are extracting page <Page:264>\n",
            "We are extracting page <Page:265>\n",
            "We are extracting page <Page:266>\n",
            "We are extracting page <Page:267>\n",
            "We are extracting page <Page:268>\n"
          ]
        }
      ]
    },
    {
      "cell_type": "code",
      "source": [
        "data =fulltext.split(\"\\n\")\n",
        "len(data)"
      ],
      "metadata": {
        "colab": {
          "base_uri": "https://localhost:8080/"
        },
        "id": "AFurSDRbjrCg",
        "outputId": "f78fae99-441f-414e-e1c9-81ef8bda2d5e"
      },
      "execution_count": 74,
      "outputs": [
        {
          "output_type": "execute_result",
          "data": {
            "text/plain": [
              "13824"
            ]
          },
          "metadata": {},
          "execution_count": 74
        }
      ]
    },
    {
      "cell_type": "code",
      "source": [
        "sus=fulltext.lower().count('sustainability')\n",
        "sus"
      ],
      "metadata": {
        "colab": {
          "base_uri": "https://localhost:8080/"
        },
        "id": "t0xFOhUrkHMS",
        "outputId": "c76ba7b2-2f6f-4af7-de6e-d9f5c7cc5667"
      },
      "execution_count": 75,
      "outputs": [
        {
          "output_type": "execute_result",
          "data": {
            "text/plain": [
              "65"
            ]
          },
          "metadata": {},
          "execution_count": 75
        }
      ]
    },
    {
      "cell_type": "code",
      "source": [
        "covid=fulltext.lower().count('covid')\n",
        "print(covid)"
      ],
      "metadata": {
        "colab": {
          "base_uri": "https://localhost:8080/"
        },
        "id": "xMUPRy2zkQh0",
        "outputId": "31c840f6-2cc8-4136-df28-44c3aeefe580"
      },
      "execution_count": 77,
      "outputs": [
        {
          "output_type": "stream",
          "name": "stdout",
          "text": [
            "137\n"
          ]
        }
      ]
    },
    {
      "cell_type": "code",
      "source": [
        "crisk=fulltext.lower().count('climate risk')\n",
        "crisk"
      ],
      "metadata": {
        "colab": {
          "base_uri": "https://localhost:8080/"
        },
        "id": "5ccFJ40Ika9T",
        "outputId": "381dd9c7-a0ba-4a67-8ed6-d553648b2a87"
      },
      "execution_count": 78,
      "outputs": [
        {
          "output_type": "execute_result",
          "data": {
            "text/plain": [
              "2"
            ]
          },
          "metadata": {},
          "execution_count": 78
        }
      ]
    },
    {
      "cell_type": "code",
      "source": [
        "evn=fulltext.lower().count('environment')\n",
        "evn"
      ],
      "metadata": {
        "colab": {
          "base_uri": "https://localhost:8080/"
        },
        "id": "U6D0ROpFkiEz",
        "outputId": "770a3107-89aa-451f-9968-97b12c540700"
      },
      "execution_count": 79,
      "outputs": [
        {
          "output_type": "execute_result",
          "data": {
            "text/plain": [
              "103"
            ]
          },
          "metadata": {},
          "execution_count": 79
        }
      ]
    }
  ]
}