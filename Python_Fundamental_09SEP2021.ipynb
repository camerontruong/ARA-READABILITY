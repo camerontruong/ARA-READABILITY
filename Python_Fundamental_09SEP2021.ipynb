{
  "nbformat": 4,
  "nbformat_minor": 0,
  "metadata": {
    "colab": {
      "name": "Python_Fundamental_09SEP2021.ipynb",
      "provenance": [],
      "collapsed_sections": [],
      "include_colab_link": true
    },
    "kernelspec": {
      "display_name": "Python 3",
      "name": "python3"
    },
    "language_info": {
      "name": "python"
    }
  },
  "cells": [
    {
      "cell_type": "markdown",
      "metadata": {
        "id": "view-in-github",
        "colab_type": "text"
      },
      "source": [
        "<a href=\"https://colab.research.google.com/github/camerontruong/ARA-READABILITY/blob/main/Python_Fundamental_09SEP2021.ipynb\" target=\"_parent\"><img src=\"https://colab.research.google.com/assets/colab-badge.svg\" alt=\"Open In Colab\"/></a>"
      ]
    },
    {
      "cell_type": "markdown",
      "metadata": {
        "id": "7bbr_chg-S89"
      },
      "source": [
        "**PYTHON FUNDAMENTALS**"
      ]
    },
    {
      "cell_type": "code",
      "metadata": {
        "id": "FxVEMLze0DsZ",
        "colab": {
          "base_uri": "https://localhost:8080/"
        },
        "outputId": "cc6a9fb4-724e-4926-d55d-8eb5042d8f3e"
      },
      "source": [
        "print(\"Hello World\")"
      ],
      "execution_count": null,
      "outputs": [
        {
          "output_type": "stream",
          "name": "stdout",
          "text": [
            "Hello World\n"
          ]
        }
      ]
    },
    {
      "cell_type": "markdown",
      "metadata": {
        "id": "p9U5LX9y0dJ3"
      },
      "source": [
        "Create a variable"
      ]
    },
    {
      "cell_type": "code",
      "metadata": {
        "colab": {
          "base_uri": "https://localhost:8080/"
        },
        "id": "p4S8v-8g0kXi",
        "outputId": "f2a29006-27f0-4bec-90fc-1364d4624c41"
      },
      "source": [
        "name = \"Cameron Truong\"\n",
        "print(name)"
      ],
      "execution_count": null,
      "outputs": [
        {
          "output_type": "stream",
          "name": "stdout",
          "text": [
            "Cameron Truong\n"
          ]
        }
      ]
    },
    {
      "cell_type": "code",
      "metadata": {
        "id": "Q5fcVLApRSOc",
        "colab": {
          "base_uri": "https://localhost:8080/"
        },
        "outputId": "d6667198-461c-46c2-a9dc-d753a90b0a40"
      },
      "source": [
        "name = \"Alvin\"\n",
        "print(name)\n",
        "\n",
        "name = \"Maya\"\n",
        "print(name)\n",
        "\n",
        "\n",
        "name = input(\"What is your name? \")\n",
        "E = len(name)\n",
        "print(E) "
      ],
      "execution_count": 1,
      "outputs": [
        {
          "output_type": "stream",
          "name": "stdout",
          "text": [
            "Alvin\n",
            "Maya\n",
            "What is your name? Cameron Truong\n",
            "14\n"
          ]
        }
      ]
    },
    {
      "cell_type": "code",
      "metadata": {
        "colab": {
          "base_uri": "https://localhost:8080/"
        },
        "id": "hUBfBQAlSJwG",
        "outputId": "af39d918-019b-477b-fe75-a1ec2baccad7"
      },
      "source": [
        "print(len(input(\"What is your name? \") ) )"
      ],
      "execution_count": 2,
      "outputs": [
        {
          "output_type": "stream",
          "name": "stdout",
          "text": [
            "What is your name? Cameron Hai Au Truong\n",
            "21\n"
          ]
        }
      ]
    },
    {
      "cell_type": "markdown",
      "metadata": {
        "id": "Ocd7xvlCSdRX"
      },
      "source": [
        "Print Statement"
      ]
    },
    {
      "cell_type": "code",
      "metadata": {
        "colab": {
          "base_uri": "https://localhost:8080/"
        },
        "id": "L4drxAn9SggP",
        "outputId": "bbc03862-16a4-416f-c635-369c9b845aa2"
      },
      "source": [
        "print(\"Day 1 - Python Print Function\")\n",
        "print(\"The function is declared like this:\")\n",
        "print(\"print('what to print')\")"
      ],
      "execution_count": 3,
      "outputs": [
        {
          "output_type": "stream",
          "name": "stdout",
          "text": [
            "Day 1 - Python Print Function\n",
            "The function is declared like this:\n",
            "print('what to print')\n"
          ]
        }
      ]
    },
    {
      "cell_type": "markdown",
      "metadata": {
        "id": "x6zkn_sV0yoR"
      },
      "source": [
        "String Concatenation"
      ]
    },
    {
      "cell_type": "code",
      "metadata": {
        "colab": {
          "base_uri": "https://localhost:8080/"
        },
        "id": "G242ntVl1BQ6",
        "outputId": "a84d9aa2-69f3-479e-e48e-eb4309b3b4a1"
      },
      "source": [
        "hello_message = \"My name is \" + name\n",
        "print(hello_message)"
      ],
      "execution_count": 4,
      "outputs": [
        {
          "output_type": "stream",
          "name": "stdout",
          "text": [
            "My name is Cameron Truong\n"
          ]
        }
      ]
    },
    {
      "cell_type": "markdown",
      "metadata": {
        "id": "Nk5HzcaQTTFu"
      },
      "source": [
        "Exercise: Group Name Generator: i) take the city where you live in, ii) take the pet name, and iii) print out the suggested group name as city + petname"
      ]
    },
    {
      "cell_type": "code",
      "metadata": {
        "colab": {
          "base_uri": "https://localhost:8080/"
        },
        "id": "wF8SGv3ZSwzx",
        "outputId": "1d992b9b-d655-4fe4-8712-ceb64d8f5088"
      },
      "source": [
        "print(\"Welcome to the Group Name Generator.\")\n",
        "city = input(\"What's the name of the city you grew up in?\\n\")\n",
        "pet = input(\"What's your pet's name?\\n\")\n",
        "print(\"Your band name could be \" + city + \" \" + pet)\n"
      ],
      "execution_count": 6,
      "outputs": [
        {
          "output_type": "stream",
          "name": "stdout",
          "text": [
            "Welcome to the Group Name Generator.\n",
            "What's the name of the city you grew up in?\n",
            "Shanghai\n",
            "What's your pet's name?\n",
            "Scooby Doo\n",
            "Your band name could be Shanghai Scooby Doo\n"
          ]
        }
      ]
    },
    {
      "cell_type": "markdown",
      "metadata": {
        "id": "BS7ZduleT2PC"
      },
      "source": [
        "Data types\n",
        "Exercise: Instructions\n",
        "Write a program that adds the digits in a 2 digit number. e.g. if the input was 35, then the output should be 3 + 5 = 8\n",
        "\n",
        "Warning. Do not change the code on lines 1-3. Your program should work for different inputs. e.g. any two-digit number.\n",
        "\n",
        "Example Input\n",
        "39\n",
        "Example Output\n",
        "3 + 9 = 12\n",
        "\n",
        "Hints: string the input number, get the element, and intergeter it."
      ]
    },
    {
      "cell_type": "code",
      "metadata": {
        "colab": {
          "base_uri": "https://localhost:8080/"
        },
        "id": "eiCKtyB0T4ls",
        "outputId": "d8042eec-a16f-4bb2-d9b3-aaaba195d875"
      },
      "source": [
        "# 🚨 Don't change the code below 👇\n",
        "two_digit_number = input(\"Type a two digit number: \")\n",
        "# 🚨 Don't change the code above 👆\n",
        "\n",
        "####################################\n",
        "#Write your code below this line 👇\n",
        "print(int(str(two_digit_number)[0]) + int(str(two_digit_number)[1]))\n"
      ],
      "execution_count": 7,
      "outputs": [
        {
          "output_type": "stream",
          "name": "stdout",
          "text": [
            "Type a two digit number: 54\n",
            "9\n"
          ]
        }
      ]
    },
    {
      "cell_type": "markdown",
      "metadata": {
        "id": "7HcSvUKHUoNC"
      },
      "source": [
        "BMI Calculator:\n",
        "Write a program that calculates the Body Mass Index (BMI) from a user's weight and height.\n",
        "\n",
        "The BMI is a measure of some's weight taking into account their height. e.g. If a tall person and a short person both weigh the same amount, the short person is usually more overweight.\n",
        "\n",
        "The BMI is calculated by dividing a person's weight (in kg) by the square of their height (in m):\n",
        "\n",
        "https://cdn.fs.teachablecdn.com/jKHjnLrNQjqzdz3MTMyv\n",
        "\n",
        "Warning you should convert the result to a whole number.\n",
        "\n",
        "Example Input\n",
        "weight = 80\n",
        "weight = 80\n",
        "height = 1.75\n",
        "height = 1.75\n",
        "Example Output\n",
        "80 ÷ (1.75 x 1.75) = 26.122448979591837\n",
        "\n",
        "26\n",
        "Hint\n",
        "Check the data type of the inputs.\n",
        "Try to use the exponent operator in your code.\n",
        "Remember PEMDAS.\n",
        "Remember to convert your result to a whole number (int).\n"
      ]
    },
    {
      "cell_type": "code",
      "metadata": {
        "colab": {
          "base_uri": "https://localhost:8080/"
        },
        "id": "o6wsrXkoU31b",
        "outputId": "689add6f-2fe4-45d3-b444-8bb15dcd1737"
      },
      "source": [
        "# 🚨 Don't change the code below 👇\n",
        "height = input(\"enter your height in m: \")\n",
        "weight = input(\"enter your weight in kg: \")\n",
        "# 🚨 Don't change the code above 👆\n",
        "\n",
        "#Write your code below this line \n",
        "high = float(height)\n",
        "weigh = int(weight)\n",
        "bmi = weigh / (high * high)\n",
        "bmi_integer = int(bmi)\n",
        "print(bmi_integer)"
      ],
      "execution_count": 8,
      "outputs": [
        {
          "output_type": "stream",
          "name": "stdout",
          "text": [
            "enter your height in m: 1.76\n",
            "enter your weight in kg: 72\n",
            "23\n"
          ]
        }
      ]
    },
    {
      "cell_type": "code",
      "metadata": {
        "colab": {
          "base_uri": "https://localhost:8080/",
          "height": 53
        },
        "id": "W0zo2TpZVgtO",
        "outputId": "dce3bec0-d63e-4dec-f193-f2c5e66a89a2"
      },
      "source": [
        "height = input(\"enter your height in m: \")\n",
        "type(height)\n",
        "height[1]"
      ],
      "execution_count": 11,
      "outputs": [
        {
          "name": "stdout",
          "output_type": "stream",
          "text": [
            "enter your height in m: 1.79\n"
          ]
        },
        {
          "output_type": "execute_result",
          "data": {
            "application/vnd.google.colaboratory.intrinsic+json": {
              "type": "string"
            },
            "text/plain": [
              "'.'"
            ]
          },
          "metadata": {},
          "execution_count": 11
        }
      ]
    },
    {
      "cell_type": "markdown",
      "metadata": {
        "id": "tdIa8aP2WYOf"
      },
      "source": [
        "Your life in days, weeks, months exercise:\n",
        "Create a program using maths and f-Strings that tells us how many days, weeks, months we have left if we live until 90 years old.\n",
        "\n",
        "It will take your current age as the input and output a message with our time left in this format:\n",
        "\n",
        "You have x days, y weeks, and z months left.\n",
        "\n",
        "Where x, y and z are replaced with the actual calculated numbers.\n",
        "\n",
        "Warning your output should match the Example Output format exactly, even the positions of the commas and full stops.\n",
        "\n",
        "Example Input\n",
        "56\n",
        "56\n",
        "Example Output\n",
        "You have 12410 days, 1768 weeks, and 408 months left.\n",
        "You have 12410 days, 1768 weeks, and 408 months left.\n",
        "e.g. When you hit run, this is what should happen:"
      ]
    },
    {
      "cell_type": "code",
      "metadata": {
        "colab": {
          "base_uri": "https://localhost:8080/"
        },
        "id": "8LCAMHb_Wk8b",
        "outputId": "5afbff0d-db1c-4553-9918-4e79f2cf6e8f"
      },
      "source": [
        "# 🚨 Don't change the code below 👇\n",
        "age = input(\"What is your current age? \")\n",
        "# 🚨 Don't change the code above 👆\n",
        "\n",
        "#Write your code below this line 👇\n",
        "#I did this a bit differently but it works!\n",
        "x = 32850 - int(age) * 365\n",
        "y = 4680 - int(age) * 52\n",
        "z = 1080 - int(age) * 12\n",
        "\n",
        "print(f\"You have {x} days, {y} weeks and {z} months left.\")\n"
      ],
      "execution_count": 12,
      "outputs": [
        {
          "output_type": "stream",
          "name": "stdout",
          "text": [
            "What is your current age? 42\n",
            "You have 17520 days, 2496 weeks and 576 months left.\n"
          ]
        }
      ]
    },
    {
      "cell_type": "code",
      "metadata": {
        "colab": {
          "base_uri": "https://localhost:8080/"
        },
        "id": "byzr9Kej1RhU",
        "outputId": "e0f96ee8-afbc-4cdc-cd5d-b9623a3c6482"
      },
      "source": [
        "# Get current year using built-in library\n",
        "from datetime import date\n",
        "  \n",
        "today = date.today()\n",
        "CURRENT_YEAR = today.year\n",
        "\n",
        "print(\"Current year is: \")\n",
        "print(CURRENT_YEAR)"
      ],
      "execution_count": null,
      "outputs": [
        {
          "output_type": "stream",
          "name": "stdout",
          "text": [
            "Current year is: \n",
            "2021\n"
          ]
        }
      ]
    },
    {
      "cell_type": "code",
      "metadata": {
        "colab": {
          "base_uri": "https://localhost:8080/"
        },
        "id": "UDjYpPMH2hlv",
        "outputId": "b143a4e6-1d93-421c-8a93-def8a9da8807"
      },
      "source": [
        "birth = 1998\n",
        "age = CURRENT_YEAR - birth\n",
        "\n",
        "print(name + \" is \" + str(age) + \" year-old\")"
      ],
      "execution_count": null,
      "outputs": [
        {
          "output_type": "stream",
          "name": "stdout",
          "text": [
            "Cameron Truong is 23 year-old\n"
          ]
        }
      ]
    },
    {
      "cell_type": "markdown",
      "metadata": {
        "id": "CRSzvorm7g-3"
      },
      "source": [
        "Conditional Statement"
      ]
    },
    {
      "cell_type": "code",
      "metadata": {
        "colab": {
          "base_uri": "https://localhost:8080/"
        },
        "id": "qYlbGKri7jzI",
        "outputId": "47523ee6-b73d-4e3a-8483-584ef534d8cf"
      },
      "source": [
        "john_age = 20\n",
        "david_age = 45\n",
        "\n",
        "if (john_age < david_age):\n",
        "    print(\"John is younger than David\")\n",
        "else:\n",
        "    print(\"John is older than David\")"
      ],
      "execution_count": null,
      "outputs": [
        {
          "output_type": "stream",
          "name": "stdout",
          "text": [
            "John is younger than David\n"
          ]
        }
      ]
    },
    {
      "cell_type": "markdown",
      "metadata": {
        "id": "psOHCDqHW1ur"
      },
      "source": [
        "Conditional statement exercise BMI 2.0\n",
        "if BMI< 18.5, underweight\n",
        "if 18.5<BMI <25, normal weight\n",
        "if 25<=bmi<30, overweight\n",
        "if 20<=BMI<35, obese\n",
        "if BMI>=35, clinicaly obese"
      ]
    },
    {
      "cell_type": "code",
      "metadata": {
        "colab": {
          "base_uri": "https://localhost:8080/"
        },
        "id": "VKlBKPDdXZiv",
        "outputId": "da11a999-722a-43df-9a4e-9f028ddfb56a"
      },
      "source": [
        "height = float(input(\"enter your height in m: \"))\n",
        "weight = float(input(\"enter your weight in kg: \"))\n",
        "\n",
        "\n",
        "bmi = round(weight / (height * height))\n",
        "bmi_integer = float(bmi)\n",
        "if bmi_integer <= 18.5:\n",
        "  print(f\"Your bmi is {bmi_integer}, you are underweight\")\n",
        "elif bmi_integer < 25:\n",
        "  print(f\"Your bmi is {bmi_integer}, you are normal weight\")\n",
        "elif bmi_integer < 30:\n",
        "  print(f\"Your bmi is {bmi_integer}, you are overweight\")\n",
        "elif bmi_integer < 35:\n",
        "  print(f\"Your bmi is {bmi_integer}, you are obese\")\n",
        "else:\n",
        "  print(f\"Your bmi is {bmi_integer}, you are clinically obese\")\n"
      ],
      "execution_count": 13,
      "outputs": [
        {
          "output_type": "stream",
          "name": "stdout",
          "text": [
            "enter your height in m: 1.76\n",
            "enter your weight in kg: 72\n",
            "Your bmi is 23.0, you are normal weight\n"
          ]
        }
      ]
    },
    {
      "cell_type": "markdown",
      "metadata": {
        "id": "mSAONcUNZAJu"
      },
      "source": [
        "Love Calulator:\n",
        "You are going to write a program that tests the compatibility between two people.\n",
        "\n",
        "To work out the love score between two people:\n",
        "\n",
        "Take both people's names and check for the number of times the letters in the word TRUE occurs. Then check for the number of times the letters in the word LOVE occurs. Then combine these numbers to make a 2 digit number.\n",
        "\n",
        "For Love Scores less than 10 or greater than 90, the message should be:\n",
        "\n",
        "\"Your score is **x**, you go together like coke and mentos.\"\n",
        "\n",
        "For Love Scores between 40 and 50, the message should be:\n",
        "\n",
        "\"Your score is **y**, you are alright together.\"\n",
        "\n",
        "Otherwise, the message will just be their score. e.g.:\n",
        "\n",
        "\"Your score is **z**.\"\n",
        "\n",
        "Example Input 1\n",
        "name1 = \"Kanye West\"\n",
        "name2 = \"Kim Kardashian\"\n",
        "Example Output 1\n",
        "Your score is 42, you are alright together.\n",
        "Example Input 2\n",
        "name1 = \"Brad Pitt\"\n",
        "name2 = \"Jennifer Aniston\"\n",
        "Example Output 2\n",
        "Your score is 73.\n"
      ]
    },
    {
      "cell_type": "code",
      "metadata": {
        "colab": {
          "base_uri": "https://localhost:8080/"
        },
        "id": "om2FQovLZYnw",
        "outputId": "da357686-3a02-4bac-e966-7545a91aaeb2"
      },
      "source": [
        "# 🚨 Don't change the code below 👇\n",
        "print(\"Welcome to the Love Calculator!\")\n",
        "name1 = input(\"What is your name? \\n\")\n",
        "name2 = input(\"What is their name? \\n\")\n",
        "# 🚨 Don't change the code above 👆\n",
        "\n",
        "#Write your code below this line 👇\n",
        "name1 = name1.lower()\n",
        "name2 = name2.lower()\n",
        "T = name1.count(\"t\") + name2.count(\"t\")\n",
        "R = name1.count(\"r\") + name2.count(\"r\")\n",
        "U = name1.count(\"u\") + name2.count(\"u\")\n",
        "E = name1.count(\"e\") + name2.count(\"e\")\n",
        "\n",
        "L = name1.count(\"l\") + name2.count(\"l\")\n",
        "O = name1.count(\"o\") + name2.count(\"o\")\n",
        "V = name1.count(\"v\") + name2.count(\"v\")\n",
        "E = name1.count(\"e\") + name2.count(\"e\")\n",
        "\n",
        "number1 = T + R + U + E\n",
        "number2 = L + O + V + E\n",
        "score = str(number1) + str(number2)\n",
        "score = int(score)\n",
        "if score < 10 or score > 90:\n",
        "  print(f\"Your score is {score}, you go together like coke and mentos.\")\n",
        "elif score > 40 and score < 50:\n",
        "  print(f\"Your score is {score}, you are alright together.\")\n",
        "else:\n",
        "  print(f\"Your score is {score}.\")"
      ],
      "execution_count": 14,
      "outputs": [
        {
          "output_type": "stream",
          "name": "stdout",
          "text": [
            "Welcome to the Love Calculator!\n",
            "What is your name? \n",
            "Cameron Truong\n",
            "What is their name? \n",
            "Amy Pham\n",
            "Your score is 53.\n"
          ]
        }
      ]
    },
    {
      "cell_type": "markdown",
      "metadata": {
        "id": "SS53EpF2t6z2"
      },
      "source": [
        "Odd or even Odd or Even\n",
        "Instructions\n",
        "Write a program that works out whether if a given number is an odd or even number.\n",
        "\n",
        "Even numbers can be divided by 2 with no remainder.\n",
        "\n",
        "e.g. 86 is even because 86 ÷ 2 = 43\n",
        "\n",
        "43 does not have any decimal places. Therefore the division is clean.\n",
        "\n",
        "e.g. 59 is odd because 59 ÷ 2 = 29.5\n",
        "\n",
        "29.5 is not a whole number, it has decimal places. Therefore there is a remainder of 0.5, so the division is not clean.\n",
        "\n",
        "The modulo is written as a percentage sign (%) in Python. It gives you the remainder after a division.\n",
        "\n",
        "e.g.\n",
        "\n",
        "6 ÷ 2 = 3 with no remainder.\n",
        "\n",
        "6 % 2 = 0\n",
        "6 % 2 = 0\n",
        "5 ÷ 2 = 2 x 2 + 1, remainder is 1.\n",
        "\n",
        "5 % 2 = 1\n",
        "5 % 2 = 1\n",
        "14 ÷ 4 = 3 x 4 + 2, remainder is 2.\n",
        "\n",
        "14 % 4 = 2\n",
        "14 % 4 = 2\n",
        "Warning your output should match the Example Output format exactly, even the positions of the commas and full stops.\n",
        "\n",
        "Example Input 1\n",
        "43\n",
        "43\n",
        "Example Output 1\n",
        "This is an odd number.\n",
        "This is an odd number.\n",
        "Example Input 2\n",
        "94\n",
        "94\n",
        "Example Output 2\n",
        "This is an even number.\n",
        "This is an even number.\n",
        "e.g. When you hit run, this is what should happen:"
      ]
    },
    {
      "cell_type": "code",
      "metadata": {
        "colab": {
          "base_uri": "https://localhost:8080/"
        },
        "id": "oOTQhgN4t8T2",
        "outputId": "eea991fe-c3c2-4431-c0de-3efd4828f5f8"
      },
      "source": [
        "# 🚨 Don't change the code below 👇\n",
        "number = int(input(\"Which number do you want to check? \"))\n",
        "# 🚨 Don't change the code above 👆\n",
        "\n",
        "#Write your code below this line 👇\n",
        "outcome = number % 2\n",
        "if outcome == 1:\n",
        "  print(\"This is an odd number.\")\n",
        "else:\n",
        "  print(\"This is a even number.\")"
      ],
      "execution_count": 15,
      "outputs": [
        {
          "output_type": "stream",
          "name": "stdout",
          "text": [
            "Which number do you want to check? 95\n",
            "This is an odd number.\n"
          ]
        }
      ]
    },
    {
      "cell_type": "markdown",
      "metadata": {
        "id": "7v0-FIeJFJ0w"
      },
      "source": [
        "Loop"
      ]
    },
    {
      "cell_type": "code",
      "metadata": {
        "colab": {
          "base_uri": "https://localhost:8080/"
        },
        "id": "cY3_K_7fFLXv",
        "outputId": "4eab6e89-8f9a-4dff-c1ee-2bab3aa30c8e"
      },
      "source": [
        "# Calculate sum of all odd number from 1 to 100\n",
        "\n",
        "odd_sum = 0\n",
        "i=1\n",
        "while i<100:\n",
        "    if i % 2 == 1:\n",
        "        odd_sum += i\n",
        "    i=i+1\n",
        "\n",
        "print(\"Sum of all odd number from 1 to 100 is:  \" + str(odd_sum))"
      ],
      "execution_count": null,
      "outputs": [
        {
          "output_type": "stream",
          "name": "stdout",
          "text": [
            "Sum of all odd number from 1 to 100 is:  2500\n"
          ]
        }
      ]
    },
    {
      "cell_type": "markdown",
      "metadata": {
        "id": "BFsDRdidI2G1"
      },
      "source": [
        "List"
      ]
    },
    {
      "cell_type": "code",
      "metadata": {
        "colab": {
          "base_uri": "https://localhost:8080/"
        },
        "id": "ijy9-TY7I39Q",
        "outputId": "11f06c24-b7f3-4a05-900e-7bb674c7e821"
      },
      "source": [
        "juices = [\"apple\", \"banana\"]\n",
        "\n",
        "print(len(juices)) #length of the list\n",
        "print(juices[0])\n",
        "print(juices[1])"
      ],
      "execution_count": null,
      "outputs": [
        {
          "output_type": "stream",
          "name": "stdout",
          "text": [
            "2\n",
            "apple\n",
            "banana\n"
          ]
        }
      ]
    },
    {
      "cell_type": "code",
      "metadata": {
        "colab": {
          "base_uri": "https://localhost:8080/"
        },
        "id": "E0TIiBX-JD0j",
        "outputId": "2cd7b8e3-a031-4974-b5ed-7c234c3eea6c"
      },
      "source": [
        "juices.append(\"perl\")\n",
        "print(juices)"
      ],
      "execution_count": null,
      "outputs": [
        {
          "output_type": "stream",
          "name": "stdout",
          "text": [
            "['apple', 'banana', 'perl']\n"
          ]
        }
      ]
    },
    {
      "cell_type": "code",
      "metadata": {
        "colab": {
          "base_uri": "https://localhost:8080/"
        },
        "id": "-sm1plTKJIJs",
        "outputId": "99733c7b-b6a7-4eaa-909b-4eb03229b1d1"
      },
      "source": [
        "banana_index = juices.index(\"banana\")\n",
        "print(banana_index)"
      ],
      "execution_count": null,
      "outputs": [
        {
          "output_type": "stream",
          "name": "stdout",
          "text": [
            "1\n"
          ]
        }
      ]
    },
    {
      "cell_type": "code",
      "metadata": {
        "colab": {
          "base_uri": "https://localhost:8080/"
        },
        "id": "O5SAACj1JO_i",
        "outputId": "05bc1416-5bda-450a-d338-380dcefb810b"
      },
      "source": [
        "juices.remove(\"apple\")\n",
        "print(juices)"
      ],
      "execution_count": null,
      "outputs": [
        {
          "output_type": "stream",
          "name": "stdout",
          "text": [
            "['banana', 'perl']\n"
          ]
        }
      ]
    },
    {
      "cell_type": "code",
      "metadata": {
        "colab": {
          "base_uri": "https://localhost:8080/"
        },
        "id": "vpbfwOygJWOz",
        "outputId": "4e567dd3-8bf6-490d-978e-7a5070748e24"
      },
      "source": [
        "# find the smallest number in the list\n",
        "numbers = [91, 6,3, 12, 52, 24, 2]\n",
        "smallest = numbers[0]\n",
        "\n",
        "for number in numbers:\n",
        "    if number < smallest:\n",
        "        smallest = number\n",
        "\n",
        "print(\"Smallest number in the list is: \" + str(smallest))"
      ],
      "execution_count": null,
      "outputs": [
        {
          "output_type": "stream",
          "name": "stdout",
          "text": [
            "Smallest number in the list is: 2\n"
          ]
        }
      ]
    },
    {
      "cell_type": "code",
      "metadata": {
        "colab": {
          "base_uri": "https://localhost:8080/"
        },
        "id": "qoZx-wavLDLo",
        "outputId": "80afa598-23fa-443d-a67a-d791290fed8b"
      },
      "source": [
        "# sort a list from largest to smallest\n",
        "\n",
        "numbers = [91, 6,3, 12, 52, 24, 2]\n",
        "numbers.sort(reverse =  True)\n",
        "\n",
        "print(numbers)"
      ],
      "execution_count": null,
      "outputs": [
        {
          "output_type": "stream",
          "name": "stdout",
          "text": [
            "[91, 52, 24, 12, 6, 3, 2]\n"
          ]
        }
      ]
    },
    {
      "cell_type": "code",
      "metadata": {
        "colab": {
          "base_uri": "https://localhost:8080/"
        },
        "id": "BC9v0mE3Jayv",
        "outputId": "99dd1b53-45c2-4290-cd49-530e75e43971"
      },
      "source": [
        "# find the longest word in the list\n",
        "\n",
        "words = [\"bird\", \"language\", \"french\", \"computer\", \"camera\", \"screen\"]\n",
        "longest = words[0]\n",
        "\n",
        "for word in words:\n",
        "    if len(word) > len(longest):\n",
        "        longest = word\n",
        "\n",
        "print(\"Longest word in the list is: \" + longest)"
      ],
      "execution_count": null,
      "outputs": [
        {
          "output_type": "stream",
          "name": "stdout",
          "text": [
            "Longest word in the list is: language\n"
          ]
        }
      ]
    },
    {
      "cell_type": "markdown",
      "metadata": {
        "id": "NWNNQmgKOlPu"
      },
      "source": [
        "String manipulation"
      ]
    },
    {
      "cell_type": "code",
      "metadata": {
        "colab": {
          "base_uri": "https://localhost:8080/"
        },
        "id": "FR29WONHOm-C",
        "outputId": "5cfae925-adb3-44bd-b1c8-b184bd0fcbe2"
      },
      "source": [
        "name = \"Cameron Truong\"\n",
        "\n",
        "print(len(name))\n",
        "print(name[0])\n",
        "print(name[6])"
      ],
      "execution_count": null,
      "outputs": [
        {
          "output_type": "stream",
          "name": "stdout",
          "text": [
            "14\n",
            "C\n",
            "n\n"
          ]
        }
      ]
    },
    {
      "cell_type": "code",
      "metadata": {
        "colab": {
          "base_uri": "https://localhost:8080/"
        },
        "id": "RjTNuzx4O1QN",
        "outputId": "ccd3141e-52af-47f7-de93-262439423d7e"
      },
      "source": [
        "print(name.index(\"a\"))\n",
        "print(name.index(\"ron\"))"
      ],
      "execution_count": null,
      "outputs": [
        {
          "output_type": "stream",
          "name": "stdout",
          "text": [
            "1\n",
            "4\n"
          ]
        }
      ]
    },
    {
      "cell_type": "code",
      "metadata": {
        "colab": {
          "base_uri": "https://localhost:8080/"
        },
        "id": "cRnOczvIO9EO",
        "outputId": "40421d89-ae63-495f-a56c-e8a2859192bb"
      },
      "source": [
        "print(name.split(\" \"))"
      ],
      "execution_count": null,
      "outputs": [
        {
          "output_type": "stream",
          "name": "stdout",
          "text": [
            "['Cameron', 'Truong']\n"
          ]
        }
      ]
    },
    {
      "cell_type": "code",
      "metadata": {
        "colab": {
          "base_uri": "https://localhost:8080/"
        },
        "id": "SLF6bcDnPGPv",
        "outputId": "f256df92-3eff-4d01-a268-829aa059048e"
      },
      "source": [
        "name = name.replace(\"Cameron\", \"Cam\")\n",
        "print(name)"
      ],
      "execution_count": null,
      "outputs": [
        {
          "output_type": "stream",
          "name": "stdout",
          "text": [
            "Cam Truong\n"
          ]
        }
      ]
    },
    {
      "cell_type": "code",
      "metadata": {
        "colab": {
          "base_uri": "https://localhost:8080/"
        },
        "id": "-ltrxz2KPc9F",
        "outputId": "dfc03af6-9a8e-4956-82ee-7dc643fef86d"
      },
      "source": [
        "name = \"Cameron Truong\"\n",
        "print(name[:3])\n",
        "print(name[8 :])\n",
        "print(name[2:7])"
      ],
      "execution_count": null,
      "outputs": [
        {
          "output_type": "stream",
          "name": "stdout",
          "text": [
            "Cam\n",
            "Truong\n",
            "meron\n"
          ]
        }
      ]
    },
    {
      "cell_type": "code",
      "metadata": {
        "colab": {
          "base_uri": "https://localhost:8080/"
        },
        "id": "vcfWW9i7P11o",
        "outputId": "d0e8cc56-5ed7-4f5b-d2b7-278a83d4026d"
      },
      "source": [
        "name = name.upper()\n",
        "print(name)"
      ],
      "execution_count": null,
      "outputs": [
        {
          "output_type": "stream",
          "name": "stdout",
          "text": [
            "CAMERON TRUONG\n"
          ]
        }
      ]
    },
    {
      "cell_type": "code",
      "metadata": {
        "colab": {
          "base_uri": "https://localhost:8080/"
        },
        "id": "aU0Sto2QQFfh",
        "outputId": "39da50da-d457-4e4b-cc07-29a84368c124"
      },
      "source": [
        "name = name.lower()\n",
        "print(name)"
      ],
      "execution_count": null,
      "outputs": [
        {
          "output_type": "stream",
          "name": "stdout",
          "text": [
            "cameron truong\n"
          ]
        }
      ]
    },
    {
      "cell_type": "code",
      "metadata": {
        "colab": {
          "base_uri": "https://localhost:8080/"
        },
        "id": "0Yzzm_A1QI_C",
        "outputId": "b3807809-fdf3-42c8-f40d-8654a368c167"
      },
      "source": [
        "name = name.title()\n",
        "print(name)"
      ],
      "execution_count": null,
      "outputs": [
        {
          "output_type": "stream",
          "name": "stdout",
          "text": [
            "Cameron Truong\n"
          ]
        }
      ]
    },
    {
      "cell_type": "code",
      "metadata": {
        "colab": {
          "base_uri": "https://localhost:8080/"
        },
        "id": "2fAgBACGQM5i",
        "outputId": "2ce52421-f1e2-4a07-fcf3-d536594eb6d0"
      },
      "source": [
        "print(name[0])\n",
        "print(name[0].islower())\n",
        "print(name[0].isupper())"
      ],
      "execution_count": null,
      "outputs": [
        {
          "output_type": "stream",
          "name": "stdout",
          "text": [
            "C\n",
            "False\n",
            "True\n"
          ]
        }
      ]
    },
    {
      "cell_type": "code",
      "metadata": {
        "colab": {
          "base_uri": "https://localhost:8080/"
        },
        "id": "MsB8-RXeQX2s",
        "outputId": "c0802f23-6111-4d71-da33-d3544b345b14"
      },
      "source": [
        "name = \"Cam 123\"\n",
        "print(name[-1])\n",
        "print(name[-1].isdigit())"
      ],
      "execution_count": null,
      "outputs": [
        {
          "output_type": "stream",
          "name": "stdout",
          "text": [
            "3\n",
            "True\n"
          ]
        }
      ]
    },
    {
      "cell_type": "code",
      "metadata": {
        "colab": {
          "base_uri": "https://localhost:8080/"
        },
        "id": "WtMoky1OQhC1",
        "outputId": "771a60bd-7a95-4b1c-aedf-9a82f9aee27c"
      },
      "source": [
        "name = \"           Cameron Truong\"\n",
        "print(name)\n",
        "name = name.strip()\n",
        "print(name)"
      ],
      "execution_count": null,
      "outputs": [
        {
          "output_type": "stream",
          "name": "stdout",
          "text": [
            "           Cameron Truong\n",
            "Cameron Truong\n"
          ]
        }
      ]
    },
    {
      "cell_type": "code",
      "metadata": {
        "colab": {
          "base_uri": "https://localhost:8080/"
        },
        "id": "LThzsRcfQqHe",
        "outputId": "fdf8eb64-474c-4f34-d1b4-53f62679f03b"
      },
      "source": [
        "name = \"Cameron Cameron Cam Truong\"\n",
        "print(name.count(\"Cam\"))"
      ],
      "execution_count": null,
      "outputs": [
        {
          "output_type": "stream",
          "name": "stdout",
          "text": [
            "3\n"
          ]
        }
      ]
    },
    {
      "cell_type": "code",
      "metadata": {
        "colab": {
          "base_uri": "https://localhost:8080/"
        },
        "id": "OCfb1HzSQwWx",
        "outputId": "4ca93432-87a0-4c08-d11f-39c8a1f0c193"
      },
      "source": [
        "print(name.index(\"Truong\"))"
      ],
      "execution_count": null,
      "outputs": [
        {
          "output_type": "stream",
          "name": "stdout",
          "text": [
            "20\n"
          ]
        }
      ]
    },
    {
      "cell_type": "markdown",
      "metadata": {
        "id": "JI-VPDPtLd1y"
      },
      "source": [
        "Reading and writing to a file (FileIO)"
      ]
    },
    {
      "cell_type": "code",
      "metadata": {
        "id": "2Is-Ig5tLdHL"
      },
      "source": [
        "# Create data.txt in the \"content\" folder within Google Collab\n",
        "\n",
        "file = open(\"data.txt\", \"w\") # w - writing mode\n",
        "file.write(\"5\\n\")\n",
        "file.write(\"Cameron Truong\\n\")\n",
        "file.write(\"Johnathan Ma\\n\")\n",
        "file.write(\"Patrick Shyu\\n\")\n",
        "file.write(\"Nick White\\n\")\n",
        "file.write(\"Kalle Hallden\")\n",
        "file.close()"
      ],
      "execution_count": null,
      "outputs": []
    },
    {
      "cell_type": "code",
      "metadata": {
        "colab": {
          "base_uri": "https://localhost:8080/"
        },
        "id": "rso2BbnnTQaq",
        "outputId": "d7a74943-5699-41fd-fd30-f3b036552611"
      },
      "source": [
        "# Read from the text file and  print to the console, use the first number in the text file as the total number of name\n",
        "\n",
        "file = open(\"data.txt\", \"r\") # r - reading mode\n",
        "count = file.readline()\n",
        "for i in range(int(count)):\n",
        "    name = file.readline()\n",
        "    print(\"Line \" + str(i+1) + \": \" + name)"
      ],
      "execution_count": null,
      "outputs": [
        {
          "output_type": "stream",
          "name": "stdout",
          "text": [
            "Line 1: Cameron Truong\n",
            "\n",
            "Line 2: Johnathan Ma\n",
            "\n",
            "Line 3: Patrick Shyu\n",
            "\n",
            "Line 4: Nick White\n",
            "\n",
            "Line 5: Kalle Hallden\n"
          ]
        }
      ]
    },
    {
      "cell_type": "code",
      "metadata": {
        "id": "IKjBRYVmTaEt"
      },
      "source": [
        "# Create a CSV file for each month in a year\n",
        "\n",
        "days = [31,28,31,30,31,30,31,31,30,31,30,31]\n",
        "months = [\"January\", \"February\", \"March\", \"April\", \"May\", \"Jun\", \"July\", \"August\", \"September\", \"October\", \"November\", \"December\"]\n",
        "\n",
        "file = open(\"months.csv\", \"w\") # r - reading mode\n",
        "file.write(\"Months, Name, Days\\n\")\n",
        "for i in range(12):\n",
        "    file.write(\"{}, {}, {}\\n\".format(i+1, months[i], days[i]))\n",
        "\n",
        "file.close()"
      ],
      "execution_count": null,
      "outputs": []
    },
    {
      "cell_type": "markdown",
      "metadata": {
        "id": "2MM-BP8owjsK"
      },
      "source": [
        "Odd or Even\n",
        "Instructions\n",
        "Write a program that works out whether if a given number is an odd or even number.\n",
        "\n",
        "Even numbers can be divided by 2 with no remainder.\n",
        "\n",
        "e.g. 86 is even because 86 ÷ 2 = 43\n",
        "\n",
        "43 does not have any decimal places. Therefore the division is clean.\n",
        "\n",
        "e.g. 59 is odd because 59 ÷ 2 = 29.5\n",
        "\n",
        "29.5 is not a whole number, it has decimal places. Therefore there is a remainder of 0.5, so the division is not clean.\n",
        "\n",
        "The modulo is written as a percentage sign (%) in Python. It gives you the remainder after a division.\n",
        "\n",
        "e.g.\n",
        "\n",
        "6 ÷ 2 = 3 with no remainder.\n",
        "\n",
        "6 % 2 = 0\n",
        "6 % 2 = 0\n",
        "5 ÷ 2 = 2 x 2 + 1, remainder is 1.\n",
        "\n",
        "5 % 2 = 1\n",
        "5 % 2 = 1\n",
        "14 ÷ 4 = 3 x 4 + 2, remainder is 2.\n",
        "\n",
        "14 % 4 = 2\n",
        "14 % 4 = 2\n",
        "Warning your output should match the Example Output format exactly, even the positions of the commas and full stops.\n",
        "\n",
        "Example Input 1\n",
        "43\n",
        "43\n",
        "Example Output 1\n",
        "This is an odd number.\n",
        "This is an odd number.\n",
        "Example Input 2\n",
        "94\n",
        "94\n",
        "Example Output 2\n",
        "This is an even number.\n",
        "This is an even number.\n",
        "e.g. When you hit run, this is what should happen:"
      ]
    },
    {
      "cell_type": "code",
      "metadata": {
        "id": "OVUCkQoVwg4t"
      },
      "source": [
        "#Write your code below this line 👇\n",
        "#Hint: Remember to import the random module first. 🎲\n",
        "import random\n",
        "random_number = random.randint(1,2)\n",
        "if random_number == 1:\n",
        "  print(\"Heads\")\n",
        "else:\n",
        "  print(\"Tails\")\n"
      ],
      "execution_count": null,
      "outputs": []
    },
    {
      "cell_type": "markdown",
      "metadata": {
        "id": "LquaFY8nwxDg"
      },
      "source": [
        "Who's Paying\n",
        "Instructions\n",
        "You are going to write a program which will select a random name from a list of names. The person selected will have to pay for everybody's food bill.\n",
        "\n",
        "Important: You are not allowed to use the choice() function.\n",
        "\n",
        "Line 8 splits the string names_string into individual names and puts them inside a List called names. For this to work, you must enter all the names as name followed by comma then space. e.g. name, name, name\n",
        "\n",
        "Example Input\n",
        "Angela, Ben, Jenny, Michael, Chloe\n",
        "Angela, Ben, Jenny, Michael, Chloe\n",
        "Note: notice that there is a space between the comma and the next name.\n",
        "\n",
        "Example Output\n",
        "Michael is going to buy the meal today!\n",
        "Michael is going to buy the meal today!\n",
        "Hint\n",
        "You might need the help of the len() function.\n",
        "https://stackoverflow.com/questions/1712227/how-do-i-get-the-number-of-elements-in-a-list\n",
        "\n",
        "Remember that Lists start at index 0!"
      ]
    },
    {
      "cell_type": "code",
      "metadata": {
        "id": "GeED2BALwyag"
      },
      "source": [
        "# Split string method\n",
        "names_string = input(\"Give me everybody's names, separated by a comma. \")\n",
        "names = names_string.split(\", \")\n",
        "# 🚨 Don't change the code above 👆\n",
        "\n",
        "#Write your code below this line 👇\n",
        "import random\n",
        "len=len(names)-1\n",
        "payer = names[random.randint(0, len)]\n",
        "print(f\"{payer} is paying for the meal today!\")\n"
      ],
      "execution_count": null,
      "outputs": []
    },
    {
      "cell_type": "markdown",
      "metadata": {
        "id": "vh0_x-KbxB3t"
      },
      "source": [
        "Rock Paper Scissors"
      ]
    },
    {
      "cell_type": "code",
      "metadata": {
        "colab": {
          "base_uri": "https://localhost:8080/"
        },
        "id": "RmxdAXfExFwq",
        "outputId": "60ec8817-0556-4a5a-a860-71fdbf9540d7"
      },
      "source": [
        "import random\n",
        "\n",
        "user_choice = int(input(\"What do you choose? Type 0 for Rock, 1 for Paper or 2 for Scissors.\\n\"))\n",
        "if user_choice >= 3 or user_choice < 0:\n",
        "  print(\"You types and invalid number, you lose!\")\n",
        "else:\n",
        "  computer_choice = random.randint(0, 2)\n",
        "  print(f\"Computer chose: {computer_choice}\")\n",
        "\n",
        "\n",
        "  if user_choice == 0 and computer_choice == 2:\n",
        "    print(\"You win!\")\n",
        "  elif computer_choice == 0 and user_choice == 2:\n",
        "    print(\"You lose\")\n",
        "  elif computer_choice > user_choice:\n",
        "    print(\"You lose\")\n",
        "  elif user_choice > computer_choice:\n",
        "    print(\"You win!\")\n",
        "  elif computer_choice == user_choice:\n",
        "    print(\"It's a draw\")\n",
        "\n"
      ],
      "execution_count": 20,
      "outputs": [
        {
          "output_type": "stream",
          "name": "stdout",
          "text": [
            "What do you choose? Type 0 for Rock, 1 for Paper or 2 for Scissors.\n",
            "1\n",
            "Computer chose: 2\n",
            "You lose\n"
          ]
        }
      ]
    },
    {
      "cell_type": "markdown",
      "metadata": {
        "id": "NEPJqdq7JwpN"
      },
      "source": [
        "Random Password Generator"
      ]
    },
    {
      "cell_type": "code",
      "metadata": {
        "id": "cLST9T75Jvb3"
      },
      "source": [
        "#Password Generator Project\n",
        "import random\n",
        "letters = ['a', 'b', 'c', 'd', 'e', 'f', 'g', 'h', 'i', 'j', 'k', 'l', 'm', 'n', 'o', 'p', 'q', 'r', 's', 't', 'u', 'v', 'w', 'x', 'y', 'z', 'A', 'B', 'C', 'D', 'E', 'F', 'G', 'H', 'I', 'J', 'K', 'L', 'M', 'N', 'O', 'P', 'Q', 'R', 'S', 'T', 'U', 'V', 'W', 'X', 'Y', 'Z']\n",
        "numbers = ['0', '1', '2', '3', '4', '5', '6', '7', '8', '9']\n",
        "symbols = ['!', '#', '$', '%', '&', '(', ')', '*', '+']\n",
        "\n",
        "print(\"Welcome to the PyPassword Generator!\")\n",
        "nr_letters= int(input(\"How many letters would you like in your password?\\n\")) \n",
        "nr_symbols = int(input(f\"How many symbols would you like?\\n\"))\n",
        "nr_numbers = int(input(f\"How many numbers would you like?\\n\"))\n",
        "\n",
        "password=\"\"\n",
        "for character in range(1,nr_letters+1):\n",
        "  password+=random.choice(letters)\n",
        "\n",
        "for character in range(1,nr_numbers+1):\n",
        "  password+=random.choice(numbers)\n",
        "\n",
        "for character in range(1,nr_symbols+1):\n",
        "  password+=random.choice(symbols)\n",
        "password2=[]\n",
        "password2[:]= password\n",
        "\n",
        "random.shuffle(password2)\n",
        "p=\"\"\n",
        "for pw in password2:\n",
        "  p+=pw\n",
        "print(f\"Your password is: {p}\")"
      ],
      "execution_count": null,
      "outputs": []
    }
  ]
}