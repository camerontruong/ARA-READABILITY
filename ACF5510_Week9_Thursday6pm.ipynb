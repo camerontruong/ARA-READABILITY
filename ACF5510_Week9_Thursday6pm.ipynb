{
  "nbformat": 4,
  "nbformat_minor": 0,
  "metadata": {
    "colab": {
      "name": "ACF5510 Week9 Thursday6pm.ipynb",
      "provenance": [],
      "authorship_tag": "ABX9TyOThrL2Ekwnn9R9bdpGULBT",
      "include_colab_link": true
    },
    "kernelspec": {
      "name": "python3",
      "display_name": "Python 3"
    },
    "language_info": {
      "name": "python"
    }
  },
  "cells": [
    {
      "cell_type": "markdown",
      "metadata": {
        "id": "view-in-github",
        "colab_type": "text"
      },
      "source": [
        "<a href=\"https://colab.research.google.com/github/camerontruong/ARA-READABILITY/blob/main/ACF5510_Week9_Thursday6pm.ipynb\" target=\"_parent\"><img src=\"https://colab.research.google.com/assets/colab-badge.svg\" alt=\"Open In Colab\"/></a>"
      ]
    },
    {
      "cell_type": "markdown",
      "metadata": {
        "id": "QDPfSbYVqk7y"
      },
      "source": [
        "LOOPs"
      ]
    },
    {
      "cell_type": "code",
      "metadata": {
        "colab": {
          "base_uri": "https://localhost:8080/"
        },
        "id": "byZS717iqmNq",
        "outputId": "f2e67c2b-858b-4d58-afb9-a3af7e2daee8"
      },
      "source": [
        "# 🚨 Don't change the code below 👇\n",
        "number = int(input(\"Which number do you want to check? \"))\n",
        "# 🚨 Don't change the code above 👆\n",
        "\n",
        "#Write your code below this line 👇\n",
        "check = number%2\n",
        "if check != 1:\n",
        "  print(\"This is an even number\")\n",
        "else:\n",
        "  print(\"This is an odd number\")"
      ],
      "execution_count": 5,
      "outputs": [
        {
          "output_type": "stream",
          "name": "stdout",
          "text": [
            "Which number do you want to check? 555\n",
            "This is an odd number\n"
          ]
        }
      ]
    },
    {
      "cell_type": "code",
      "metadata": {
        "colab": {
          "base_uri": "https://localhost:8080/"
        },
        "id": "LwtzRWJJr5Fu",
        "outputId": "5ced7fdc-b186-4794-b00d-88b1d9d1de17"
      },
      "source": [
        "odd_sum =0\n",
        "\n",
        "for i in range(1, 100000001):\n",
        "  if i%2==1:\n",
        "    odd_sum += i\n",
        "\n",
        "print(odd_sum)\n",
        "\n",
        "#add all i if it is an odd number\n",
        "#then print the sum"
      ],
      "execution_count": 14,
      "outputs": [
        {
          "output_type": "stream",
          "name": "stdout",
          "text": [
            "2500000000000000\n"
          ]
        }
      ]
    },
    {
      "cell_type": "code",
      "metadata": {
        "colab": {
          "base_uri": "https://localhost:8080/"
        },
        "id": "xDeX32ZNyF5f",
        "outputId": "01e5fdd1-4877-418f-b4cc-4a9ab5ad9994"
      },
      "source": [
        "i=1\n",
        "odd_sum =0\n",
        "\n",
        "while i<=100:\n",
        "  if i%2==1:\n",
        "    odd_sum +=i\n",
        "  i+=1\n",
        "\n",
        "print(odd_sum)"
      ],
      "execution_count": 17,
      "outputs": [
        {
          "output_type": "stream",
          "name": "stdout",
          "text": [
            "2500\n"
          ]
        }
      ]
    },
    {
      "cell_type": "markdown",
      "metadata": {
        "id": "h1IL9VlLziax"
      },
      "source": [
        "LIST"
      ]
    },
    {
      "cell_type": "code",
      "metadata": {
        "colab": {
          "base_uri": "https://localhost:8080/"
        },
        "id": "lzv2rMhvzkqG",
        "outputId": "5dfc5191-7413-48a6-91f4-a9ac5e70fb52"
      },
      "source": [
        "fruits = [\"apple\",\"banana\",\"mango\"]\n",
        "len(fruits)\n",
        "fruits[2]\n",
        "fruits.append(\"melon\")\n",
        "fruits"
      ],
      "execution_count": 22,
      "outputs": [
        {
          "output_type": "execute_result",
          "data": {
            "text/plain": [
              "['apple', 'banana', 'mango', 'melon']"
            ]
          },
          "metadata": {},
          "execution_count": 22
        }
      ]
    },
    {
      "cell_type": "code",
      "metadata": {
        "id": "viCV3YXn0hoE"
      },
      "source": [
        "fruits.remove(\"mango\")\n",
        "fruits"
      ],
      "execution_count": null,
      "outputs": []
    },
    {
      "cell_type": "code",
      "metadata": {
        "colab": {
          "base_uri": "https://localhost:8080/"
        },
        "id": "XSK9ZPnF06ew",
        "outputId": "4fcf63ba-d716-433f-83af-39343cc0ac35"
      },
      "source": [
        "fruits.index(\"banana\")"
      ],
      "execution_count": 25,
      "outputs": [
        {
          "output_type": "execute_result",
          "data": {
            "text/plain": [
              "1"
            ]
          },
          "metadata": {},
          "execution_count": 25
        }
      ]
    },
    {
      "cell_type": "code",
      "metadata": {
        "id": "tJEATUzm1GIq"
      },
      "source": [
        "odd_numbers = []\n",
        "for i in range(1, 1001):\n",
        "  if i%2==1:\n",
        "    odd_numbers.append(i)\n",
        "\n",
        "odd_numbers"
      ],
      "execution_count": null,
      "outputs": []
    },
    {
      "cell_type": "code",
      "metadata": {
        "colab": {
          "base_uri": "https://localhost:8080/"
        },
        "id": "LN2yQsvV2EZW",
        "outputId": "27dc2a23-a6d3-40b8-fe45-af54cbf12d78"
      },
      "source": [
        "# Split string method\n",
        "names_string = input(\"Give me everybody's names, separated by a comma. \")\n",
        "names = names_string.split(\", \")"
      ],
      "execution_count": 32,
      "outputs": [
        {
          "name": "stdout",
          "output_type": "stream",
          "text": [
            "Give me everybody's names, separated by a comma. Cameron, Alvin, Amy, Maya, Russell, Joey, Chris, Lucy, EJ\n"
          ]
        }
      ]
    },
    {
      "cell_type": "code",
      "metadata": {
        "colab": {
          "base_uri": "https://localhost:8080/"
        },
        "id": "9dBUyt9U2kA-",
        "outputId": "089f9239-4f4c-411a-f1a3-b659e7d7963d"
      },
      "source": [
        "import random\n",
        "payer = random.choice(names)\n",
        "print(f\"The payer for meal is {payer}\")"
      ],
      "execution_count": 33,
      "outputs": [
        {
          "output_type": "stream",
          "name": "stdout",
          "text": [
            "The payer for meal is Russell\n"
          ]
        }
      ]
    },
    {
      "cell_type": "code",
      "metadata": {
        "colab": {
          "base_uri": "https://localhost:8080/"
        },
        "id": "ukNyZ_Ui33As",
        "outputId": "8c054726-0292-4521-80a5-e6a81b315176"
      },
      "source": [
        "#Password Generator Project\n",
        "import random\n",
        "letters = ['a', 'b', 'c', 'd', 'e', 'f', 'g', 'h', 'i', 'j', 'k', 'l', 'm', 'n', 'o', 'p', 'q', 'r', 's', 't', 'u', 'v', 'w', 'x', 'y', 'z', 'A', 'B', 'C', 'D', 'E', 'F', 'G', 'H', 'I', 'J', 'K', 'L', 'M', 'N', 'O', 'P', 'Q', 'R', 'S', 'T', 'U', 'V', 'W', 'X', 'Y', 'Z']\n",
        "numbers = ['0', '1', '2', '3', '4', '5', '6', '7', '8', '9']\n",
        "symbols = ['!', '#', '$', '%', '&', '(', ')', '*', '+']\n",
        "\n",
        "\n",
        "print(\"Welcome to the PyPassword Generator. Please let us know your preference\")\n",
        "\n",
        "n_letters = int(input(\"How many letters would you like in your password? \\n\"))\n",
        "n_numbers = int(input(\"How many numbers would you like in your password? \\n\"))\n",
        "n_symbols = int(input(\"How many symbols would you like in your password? \\n\"))\n",
        "\n",
        "\n",
        "password =[]\n",
        "\n",
        "for i in range(1,n_letters+1):\n",
        "  password.append(random.choice(letters))\n",
        "\n",
        "for i in range(1,n_numbers+1):\n",
        "  password.append(random.choice(numbers))\n",
        "\n",
        "for i in range(1,n_symbols+1):\n",
        "  password.append(random.choice(symbols))\n",
        "\n",
        "random.shuffle(password)\n",
        "p = \"\".join(password)\n",
        "\n",
        "print(password)\n",
        "print(f\" Your password as required could be {p}\")"
      ],
      "execution_count": 44,
      "outputs": [
        {
          "output_type": "stream",
          "name": "stdout",
          "text": [
            "Welcome to the PyPassword Generator. Please let us know your preference\n",
            "How many letters would you like in your password? \n",
            "10\n",
            "How many numbers would you like in your password? \n",
            "5\n",
            "How many symbols would you like in your password? \n",
            "6\n",
            "['4', '2', 'G', 'P', 'm', '8', '7', 'o', 'B', 'V', '%', 'q', '&', '(', 'q', '*', 'V', '4', '#', 'G', '(']\n",
            " Your password as required could be 42GPm87oBV%q&(q*V4#G(\n"
          ]
        }
      ]
    },
    {
      "cell_type": "markdown",
      "metadata": {
        "id": "DnLVMGzyA8oS"
      },
      "source": [
        "Instructions\n",
        "You are going to write a program that automatically prints the solution to the FizzBuzz game.\n",
        "\n",
        "Your program should print each number from 1 to 100 in turn.\n",
        "\n",
        "When the number is divisible by 3 then instead of printing the number it should print \"Fizz\".\n",
        "\n",
        "`When the number is divisible by 5, then instead of printing the number it should print \"Buzz\".` \n",
        "`When the number is divisible by 5, then instead of printing the number it should print \"Buzz\".` \n",
        "  `And if the number is divisible by both 3 and 5 e.g. 15 then instead of the number it should print \"FizzBuzz\"`\n",
        "  `And if the number is divisible by both 3 and 5 e.g. 15 then instead of the number it should print \"FizzBuzz\"`\n",
        "e.g. it might start off like this:\n",
        "\n",
        "`1\n",
        "2\n",
        "Fizz\n",
        "4\n",
        "Buzz\n",
        "Fizz\n",
        "7\n",
        "8\n",
        "Fizz\n",
        "Buzz\n",
        "11\n",
        "Fizz\n",
        "13\n",
        "14\n",
        "FizzBuzz`\n",
        "`1\n",
        "2\n",
        "Fizz\n",
        "4\n",
        "Buzz\n",
        "Fizz\n",
        "7\n",
        "8\n",
        "Fizz\n",
        "Buzz\n",
        "11\n",
        "Fizz\n",
        "13\n",
        "14\n",
        "FizzBuzz`\n",
        ".... etc."
      ]
    },
    {
      "cell_type": "code",
      "metadata": {
        "colab": {
          "base_uri": "https://localhost:8080/"
        },
        "id": "w4lIYJcdBBAg",
        "outputId": "2ff5f0a6-ee6e-449e-e313-8ce2b036380e"
      },
      "source": [
        "fizz=[]\n",
        "buzz=[]\n",
        "fizzbuzz=[]\n",
        "\n",
        "for i in range(1,100001):\n",
        "  if i%3==0:\n",
        "    if i%5==0:\n",
        "      # print(\"FizzBuzz\")\n",
        "      fizzbuzz.append(i)\n",
        "    else:\n",
        "      # print(\"Fizz\")\n",
        "      fizz.append(i)\n",
        "  elif i%5==0:\n",
        "    # print(\"Buzz\")\n",
        "    buzz.append(i)\n",
        "  else:\n",
        "    pass\n",
        "    # print(i)\n",
        "    \n",
        "    \n",
        "print(f\"There are {len(fizz)} fizz, {len(buzz)} buzz, and {len(fizzbuzz)} fizzbuzz\")"
      ],
      "execution_count": 54,
      "outputs": [
        {
          "output_type": "stream",
          "name": "stdout",
          "text": [
            "There are 26667 fizz, 13334 buzz, and 6666 fizzbuzz\n"
          ]
        }
      ]
    },
    {
      "cell_type": "code",
      "metadata": {
        "colab": {
          "base_uri": "https://localhost:8080/"
        },
        "id": "EinuGn77CeKh",
        "outputId": "83cf68f8-131d-4fa8-ab73-7ea6a961f433"
      },
      "source": [
        "!pip install pdfplumber\n",
        "import requests\n",
        "import pdfplumber"
      ],
      "execution_count": 55,
      "outputs": [
        {
          "output_type": "stream",
          "name": "stdout",
          "text": [
            "Collecting pdfplumber\n",
            "  Downloading pdfplumber-0.5.28.tar.gz (45 kB)\n",
            "\u001b[K     |████████████████████████████████| 45 kB 1.8 MB/s \n",
            "\u001b[?25hCollecting pdfminer.six==20200517\n",
            "  Downloading pdfminer.six-20200517-py3-none-any.whl (5.6 MB)\n",
            "\u001b[K     |████████████████████████████████| 5.6 MB 7.8 MB/s \n",
            "\u001b[?25hRequirement already satisfied: Pillow>=7.0.0 in /usr/local/lib/python3.7/dist-packages (from pdfplumber) (7.1.2)\n",
            "Collecting Wand\n",
            "  Downloading Wand-0.6.7-py2.py3-none-any.whl (139 kB)\n",
            "\u001b[K     |████████████████████████████████| 139 kB 48.3 MB/s \n",
            "\u001b[?25hRequirement already satisfied: chardet in /usr/local/lib/python3.7/dist-packages (from pdfminer.six==20200517->pdfplumber) (3.0.4)\n",
            "Collecting pycryptodome\n",
            "  Downloading pycryptodome-3.10.1-cp35-abi3-manylinux2010_x86_64.whl (1.9 MB)\n",
            "\u001b[K     |████████████████████████████████| 1.9 MB 33.9 MB/s \n",
            "\u001b[?25hRequirement already satisfied: sortedcontainers in /usr/local/lib/python3.7/dist-packages (from pdfminer.six==20200517->pdfplumber) (2.4.0)\n",
            "Building wheels for collected packages: pdfplumber\n",
            "  Building wheel for pdfplumber (setup.py) ... \u001b[?25l\u001b[?25hdone\n",
            "  Created wheel for pdfplumber: filename=pdfplumber-0.5.28-py3-none-any.whl size=32240 sha256=ac7e3fc93377524509f419a1e88eee1456067ae34a82039609f6cd141cbb3d6e\n",
            "  Stored in directory: /root/.cache/pip/wheels/f2/b1/a0/c0a77b756d580f53b3806ae0e0b3ec945a8d05fca1d6e10cc1\n",
            "Successfully built pdfplumber\n",
            "Installing collected packages: pycryptodome, Wand, pdfminer.six, pdfplumber\n",
            "Successfully installed Wand-0.6.7 pdfminer.six-20200517 pdfplumber-0.5.28 pycryptodome-3.10.1\n"
          ]
        }
      ]
    },
    {
      "cell_type": "code",
      "metadata": {
        "id": "ZfIZ4cAiHjhr"
      },
      "source": [
        "invoice_url = 'http://www.k-billing.com/example_invoices/professionalred_example.pdf'\n",
        "with requests.get(invoice_url) as r:\n",
        "  with open(\"sample_invoice.pdf\",\"wb\") as file:\n",
        "    file.write(r.content)"
      ],
      "execution_count": 56,
      "outputs": []
    },
    {
      "cell_type": "code",
      "metadata": {
        "id": "lMKddQxMIe18"
      },
      "source": [
        "with pdfplumber.open(\"sample_invoice.pdf\") as pdf:\n",
        "  page=pdf.pages[0]\n",
        "  text=page.extract_text()"
      ],
      "execution_count": 57,
      "outputs": []
    },
    {
      "cell_type": "code",
      "metadata": {
        "colab": {
          "base_uri": "https://localhost:8080/"
        },
        "id": "2PqXsPC7I3B9",
        "outputId": "825ae656-c322-4ed6-9030-dfc96f157357"
      },
      "source": [
        "print(text)"
      ],
      "execution_count": 60,
      "outputs": [
        {
          "output_type": "stream",
          "name": "stdout",
          "text": [
            "Demo Company INVOICE\n",
            "Invoice No. I1083\n",
            "Demo Company\n",
            "Account # C1006\n",
            "1234 Main Street\n",
            "Date 08-14-2008\n",
            "Ashland, KY 41102\n",
            "Due By 08-31-2008\n",
            "Terms None\n",
            "Phone : 111-222-3333 PO No. PO1234\n",
            "E-Mail : 333-444-4444 Sales Rep SalesPerson1\n",
            "Web : http://www.ksoftware.net\n",
            "Bill To Ship To\n",
            "Test Customer Test Customer\n",
            "1234 Main Street 1234 Main Street\n",
            "Ashland, KY 41101 Ashland,  41101\n",
            "Code Description QTY Price T Line Total\n",
            "SKU1222 Test Import Name - Description Goes Here 1 $10.00 Y $10.00\n",
            "Labor - Example labor item. Quantity is number of hours  1.5 $100.00 N $150.00\n",
            "spent, price is hourly rate. Quantity accepts decimal values.\n",
            "Shipping $10.00 Tax $0.78 Subtotal $160.00\n",
            "UPS Ground Total $170.78\n",
            "Payments (-) $0.00\n",
            "An invoice note can go here. Multi-line and even multi-page notes are supported. Balance Due $170.78\n",
            "An invoice footer can go here\n"
          ]
        }
      ]
    },
    {
      "cell_type": "code",
      "metadata": {
        "colab": {
          "base_uri": "https://localhost:8080/"
        },
        "id": "lS6SFSxuJK3p",
        "outputId": "4f10e1de-94f0-44fe-e16f-79d0ad1c583c"
      },
      "source": [
        "data = text.split(\"\\n\")\n",
        "data"
      ],
      "execution_count": 63,
      "outputs": [
        {
          "output_type": "execute_result",
          "data": {
            "text/plain": [
              "['Demo Company INVOICE',\n",
              " 'Invoice No. I1083',\n",
              " 'Demo Company',\n",
              " 'Account # C1006',\n",
              " '1234 Main Street',\n",
              " 'Date 08-14-2008',\n",
              " 'Ashland, KY 41102',\n",
              " 'Due By 08-31-2008',\n",
              " 'Terms None',\n",
              " 'Phone : 111-222-3333 PO No. PO1234',\n",
              " 'E-Mail : 333-444-4444 Sales Rep SalesPerson1',\n",
              " 'Web : http://www.ksoftware.net',\n",
              " 'Bill To Ship To',\n",
              " 'Test Customer Test Customer',\n",
              " '1234 Main Street 1234 Main Street',\n",
              " 'Ashland, KY 41101 Ashland,  41101',\n",
              " 'Code Description QTY Price T Line Total',\n",
              " 'SKU1222 Test Import Name - Description Goes Here 1 $10.00 Y $10.00',\n",
              " 'Labor - Example labor item. Quantity is number of hours  1.5 $100.00 N $150.00',\n",
              " 'spent, price is hourly rate. Quantity accepts decimal values.',\n",
              " 'Shipping $10.00 Tax $0.78 Subtotal $160.00',\n",
              " 'UPS Ground Total $170.78',\n",
              " 'Payments (-) $0.00',\n",
              " 'An invoice note can go here. Multi-line and even multi-page notes are supported. Balance Due $170.78',\n",
              " 'An invoice footer can go here']"
            ]
          },
          "metadata": {},
          "execution_count": 63
        }
      ]
    },
    {
      "cell_type": "code",
      "metadata": {
        "colab": {
          "base_uri": "https://localhost:8080/"
        },
        "id": "pGejKR-yJ21W",
        "outputId": "96eb6b67-eeab-40d2-9559-d36e946350e8"
      },
      "source": [
        "for item in data:\n",
        "  if \"Phone\" in item:\n",
        "    phone=item.split(\"Phone :\")[-1].split()[0]\n",
        "    print(phone)"
      ],
      "execution_count": 72,
      "outputs": [
        {
          "output_type": "stream",
          "name": "stdout",
          "text": [
            "111-222-3333\n"
          ]
        }
      ]
    },
    {
      "cell_type": "code",
      "metadata": {
        "colab": {
          "base_uri": "https://localhost:8080/"
        },
        "id": "TmFq_M0tKpZB",
        "outputId": "5fe1fbfa-f73d-40b5-ceb1-14eadcdfa95e"
      },
      "source": [
        "for item in data:\n",
        "  if \"Web\" in item:\n",
        "    web = item.split(\"Web :\")[-1]\n",
        "    print(web)"
      ],
      "execution_count": 75,
      "outputs": [
        {
          "output_type": "stream",
          "name": "stdout",
          "text": [
            " http://www.ksoftware.net\n"
          ]
        }
      ]
    },
    {
      "cell_type": "code",
      "metadata": {
        "colab": {
          "base_uri": "https://localhost:8080/"
        },
        "id": "lJ4mF2ORMK4Q",
        "outputId": "c005a114-fd66-4190-f7d1-2fc85d811a3a"
      },
      "source": [
        "for item in data:\n",
        "  if \"Balance Due\" in item:\n",
        "    balance=item.split(\"Balance Due\")[-1]\n",
        "    print(balance)"
      ],
      "execution_count": 78,
      "outputs": [
        {
          "output_type": "stream",
          "name": "stdout",
          "text": [
            " $170.78\n"
          ]
        }
      ]
    },
    {
      "cell_type": "code",
      "metadata": {
        "colab": {
          "base_uri": "https://localhost:8080/"
        },
        "id": "8BEP4jYmM8H5",
        "outputId": "584aad20-de9f-4a15-f07d-9a7906f55055"
      },
      "source": [
        "for item in data:\n",
        "  if \"Account #\" in item:\n",
        "    account=item.split(\"Account #\")[-1]\n",
        "    print(account)"
      ],
      "execution_count": 79,
      "outputs": [
        {
          "output_type": "stream",
          "name": "stdout",
          "text": [
            " C1006\n"
          ]
        }
      ]
    },
    {
      "cell_type": "code",
      "metadata": {
        "colab": {
          "base_uri": "https://localhost:8080/"
        },
        "id": "Qn7x38U_NPM3",
        "outputId": "bc570105-4511-4967-8ff5-e20f6b14cb97"
      },
      "source": [
        "for item in data:\n",
        "  if \"Invoice No.\" in item:\n",
        "    invoice=item.split(\"Invoice No.\")[-1]\n",
        "    print(invoice)"
      ],
      "execution_count": 81,
      "outputs": [
        {
          "output_type": "stream",
          "name": "stdout",
          "text": [
            " I1083\n"
          ]
        }
      ]
    },
    {
      "cell_type": "code",
      "metadata": {
        "id": "mK9S7TbwNsOz"
      },
      "source": [
        "sample_url = 'https://investor.qantas.com/FormBuilder/_Resource/_module/doLLG5ufYkCyEPjF1tpgyw/file/annual-reports/2020-Annual-Report-ASX.pdf'\n",
        "with requests.get(sample_url) as r:\n",
        "  with open('Qantas2020.pdf', 'wb') as file:\n",
        "    file.write(r.content)"
      ],
      "execution_count": 82,
      "outputs": []
    },
    {
      "cell_type": "code",
      "metadata": {
        "id": "bWHkj2YcOXaZ"
      },
      "source": [
        "fulltext = \"\"\n",
        "\n",
        "with pdfplumber.open('Qantas2020.pdf') as pdf:\n",
        "    for page in pdf.pages:\n",
        "      text = page.extract_text()\n",
        "      fulltext+=text\n",
        "      print(f\"Extracting page {page}\")\n",
        "     \n",
        "\n",
        "fulltext"
      ],
      "execution_count": null,
      "outputs": []
    },
    {
      "cell_type": "code",
      "metadata": {
        "id": "OGiXsuQAPbZc"
      },
      "source": [
        "print(fulltext)"
      ],
      "execution_count": null,
      "outputs": []
    },
    {
      "cell_type": "code",
      "metadata": {
        "colab": {
          "base_uri": "https://localhost:8080/"
        },
        "id": "qwa1603bPofq",
        "outputId": "6eff61e7-d902-4d01-90fd-712c0dd71542"
      },
      "source": [
        "data = fulltext.split(\"\\n\")\n",
        "len(data)"
      ],
      "execution_count": 86,
      "outputs": [
        {
          "output_type": "execute_result",
          "data": {
            "text/plain": [
              "7281"
            ]
          },
          "metadata": {},
          "execution_count": 86
        }
      ]
    },
    {
      "cell_type": "code",
      "metadata": {
        "colab": {
          "base_uri": "https://localhost:8080/"
        },
        "id": "iso4R705QiPn",
        "outputId": "5d4c3c1d-aa82-4552-8980-47996c14d4bc"
      },
      "source": [
        "search_words = [\"total\", \"qantas\", \"revenue\", \"sustainability\", \"tax\",\"alan joyce\"]\n",
        "\n",
        "for word in search_words:\n",
        "  count = fulltext.lower().count(word)\n",
        "  print(f\"Count of {word} is {count}\")\n"
      ],
      "execution_count": 89,
      "outputs": [
        {
          "output_type": "stream",
          "name": "stdout",
          "text": [
            "Count of total is 234\n",
            "Count of qantas is 891\n",
            "Count of revenue is 239\n",
            "Count of sustainability is 3\n",
            "Count of tax is 257\n",
            "Count of alan joyce is 18\n"
          ]
        }
      ]
    }
  ]
}