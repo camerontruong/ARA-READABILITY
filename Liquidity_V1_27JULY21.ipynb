{
  "nbformat": 4,
  "nbformat_minor": 0,
  "metadata": {
    "colab": {
      "name": "Liquidity.ipynb",
      "private_outputs": true,
      "provenance": [],
      "authorship_tag": "ABX9TyPiD/n9YSjR+6DdZHeF13Zj",
      "include_colab_link": true
    },
    "kernelspec": {
      "name": "python3",
      "display_name": "Python 3"
    },
    "language_info": {
      "name": "python"
    }
  },
  "cells": [
    {
      "cell_type": "markdown",
      "metadata": {
        "id": "view-in-github",
        "colab_type": "text"
      },
      "source": [
        "<a href=\"https://colab.research.google.com/github/camerontruong/ARA-READABILITY/blob/main/Liquidity_V1_27JULY21.ipynb\" target=\"_parent\"><img src=\"https://colab.research.google.com/assets/colab-badge.svg\" alt=\"Open In Colab\"/></a>"
      ]
    },
    {
      "cell_type": "code",
      "metadata": {
        "id": "ps4QKwC6jQrv"
      },
      "source": [
        "# api = '95a3aac577bc5eb52d543ac0850ecee2'\n",
        "# end_point = 'https://financialmodelingprep.com/api/v3/balance-sheet-statement'\n",
        "# params= {\n",
        "#     \"apikey\": api,\n",
        "#     \"limit\": 1,\n",
        "# }\n",
        "# import requests\n",
        "# import pandas as pd\n",
        "# stock = 'AAPL'\n",
        "# balance_sheet = requests.get(f\"{end_point}/{stock}\",params=params).json()\n",
        "# # account_receivable = requests.get(f\"{end_point}/{stock}\",params=params).json()\n",
        "# balance_sheet"
      ],
      "execution_count": null,
      "outputs": []
    },
    {
      "cell_type": "code",
      "metadata": {
        "id": "gx0SN1Z0lZpQ"
      },
      "source": [
        "# account_receivables =[item['netReceivables'] for item in balance_sheet]\n",
        "# period =[item['date'] for item in balance_sheet]\n",
        "\n",
        "# receivables = {period[i]:account_receivables[i] for i in range(len(period))}\n",
        "# receivables"
      ],
      "execution_count": null,
      "outputs": []
    },
    {
      "cell_type": "code",
      "metadata": {
        "id": "FwJuW4JvmQrB"
      },
      "source": [
        "# all_receivables = {stock:receivables}\n",
        "# all_receivables"
      ],
      "execution_count": null,
      "outputs": []
    },
    {
      "cell_type": "code",
      "metadata": {
        "id": "tIlv9YsQofvd"
      },
      "source": [
        "# receivables_apple = pd.DataFrame.from_dict(all_receivables)\n",
        "# receivables_apple"
      ],
      "execution_count": null,
      "outputs": []
    },
    {
      "cell_type": "code",
      "metadata": {
        "id": "8d-SZu9borJd"
      },
      "source": [
        "# import plotly.express as px\n",
        "# fig = px.bar(receivables_apple, x=receivables_apple.index, y=receivables_apple[stock], title= \"Account Receivables \" + stock)\n",
        "# fig.show()"
      ],
      "execution_count": null,
      "outputs": []
    },
    {
      "cell_type": "code",
      "metadata": {
        "id": "hkfMlpRUpdCR"
      },
      "source": [
        "import requests\n",
        "import pandas as pd\n",
        "\n",
        "companies = ['AAPL', 'MSFT', 'NVDA', 'ASML', 'ADBE', 'CSCO', 'INTC', 'AVGO', 'TXN', 'QCOM']\n",
        "api = '95a3aac577bc5eb52d543ac0850ecee2'\n",
        "end_point = 'https://financialmodelingprep.com/api/v3/balance-sheet-statement'\n",
        "params= {\n",
        "    \"apikey\": api,\n",
        "    \"limit\": 1,\n",
        "}\n",
        "\n",
        "data = {}\n",
        "for company in companies:\n",
        "  BS = requests.get(f\"{end_point}/{company}\",params=params).json()\n",
        "  print(balance_sheet)\n",
        "  data[company] = BS[0]\n",
        "\n",
        "BS_industry = pd.DataFrame.from_dict(data)\n",
        "BS_industry = BS_industry.T\n",
        "BS_industry\n",
        "\n"
      ],
      "execution_count": null,
      "outputs": []
    },
    {
      "cell_type": "code",
      "metadata": {
        "id": "sqT5N-iUs9mb"
      },
      "source": [
        "current_asssets = BS_industry.totalCurrentAssets\n",
        "current_liabilities = BS_industry.totalCurrentLiabilities\n",
        "BS_industry['current_ratio'] = current_asssets/current_liabilities\n",
        "BS_industry['quick_ratio'] = (BS_industry.cashAndCashEquivalents+BS_industry.shortTermInvestments+BS_industry.netReceivables)/current_liabilities\n",
        "BS_industry['cash_ratio'] = (BS_industry.cashAndCashEquivalents+BS_industry.shortTermInvestments)/current_liabilities"
      ],
      "execution_count": null,
      "outputs": []
    },
    {
      "cell_type": "code",
      "metadata": {
        "id": "9bBHBYUBwyEP"
      },
      "source": [
        "BS_industry[['cash_ratio','quick_ratio','current_ratio']].plot(figsize= (30,5), marker= 'o')"
      ],
      "execution_count": null,
      "outputs": []
    },
    {
      "cell_type": "code",
      "metadata": {
        "id": "Ug3SO0c0zeCu"
      },
      "source": [
        "import matplotlib.pyplot as plt\n",
        "BS_industry[['cash_ratio','quick_ratio','current_ratio']].plot(figsize= (30,5), marker= 'o')\n",
        "# to have all xticks\n",
        "plt.xticks(list(range(len(BS_industry.index))), BS_industry.index, fontsize=10)\n",
        "plt.show()"
      ],
      "execution_count": null,
      "outputs": []
    },
    {
      "cell_type": "code",
      "metadata": {
        "id": "I3TXOGzL1gUC"
      },
      "source": [
        ""
      ],
      "execution_count": null,
      "outputs": []
    }
  ]
}