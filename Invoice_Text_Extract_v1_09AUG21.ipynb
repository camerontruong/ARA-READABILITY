{
  "nbformat": 4,
  "nbformat_minor": 0,
  "metadata": {
    "colab": {
      "name": "Invoice_Text_Extract_v1_09AUG21.ipynb",
      "provenance": [],
      "toc_visible": true,
      "authorship_tag": "ABX9TyN6yrFjqmVtQKXQSdSIHD7t",
      "include_colab_link": true
    },
    "kernelspec": {
      "name": "python3",
      "display_name": "Python 3"
    },
    "language_info": {
      "name": "python"
    }
  },
  "cells": [
    {
      "cell_type": "markdown",
      "metadata": {
        "id": "view-in-github",
        "colab_type": "text"
      },
      "source": [
        "<a href=\"https://colab.research.google.com/github/camerontruong/ARA-READABILITY/blob/main/Invoice_Text_Extract_v1_09AUG21.ipynb\" target=\"_parent\"><img src=\"https://colab.research.google.com/assets/colab-badge.svg\" alt=\"Open In Colab\"/></a>"
      ]
    },
    {
      "cell_type": "code",
      "metadata": {
        "colab": {
          "base_uri": "https://localhost:8080/"
        },
        "id": "aCzVfWkIiJLq",
        "outputId": "a9d6a141-4ea1-4417-d7b8-033ccaf79eee"
      },
      "source": [
        "!pip install pdfplumber"
      ],
      "execution_count": 2,
      "outputs": [
        {
          "output_type": "stream",
          "text": [
            "Collecting pdfplumber\n",
            "  Downloading pdfplumber-0.5.28.tar.gz (45 kB)\n",
            "\u001b[K     |████████████████████████████████| 45 kB 1.5 MB/s \n",
            "\u001b[?25hCollecting pdfminer.six==20200517\n",
            "  Downloading pdfminer.six-20200517-py3-none-any.whl (5.6 MB)\n",
            "\u001b[K     |████████████████████████████████| 5.6 MB 6.0 MB/s \n",
            "\u001b[?25hRequirement already satisfied: Pillow>=7.0.0 in /usr/local/lib/python3.7/dist-packages (from pdfplumber) (7.1.2)\n",
            "Collecting Wand\n",
            "  Downloading Wand-0.6.6-py2.py3-none-any.whl (138 kB)\n",
            "\u001b[K     |████████████████████████████████| 138 kB 55.4 MB/s \n",
            "\u001b[?25hRequirement already satisfied: chardet in /usr/local/lib/python3.7/dist-packages (from pdfminer.six==20200517->pdfplumber) (3.0.4)\n",
            "Requirement already satisfied: sortedcontainers in /usr/local/lib/python3.7/dist-packages (from pdfminer.six==20200517->pdfplumber) (2.4.0)\n",
            "Collecting pycryptodome\n",
            "  Downloading pycryptodome-3.10.1-cp35-abi3-manylinux2010_x86_64.whl (1.9 MB)\n",
            "\u001b[K     |████████████████████████████████| 1.9 MB 32.7 MB/s \n",
            "\u001b[?25hBuilding wheels for collected packages: pdfplumber\n",
            "  Building wheel for pdfplumber (setup.py) ... \u001b[?25l\u001b[?25hdone\n",
            "  Created wheel for pdfplumber: filename=pdfplumber-0.5.28-py3-none-any.whl size=32239 sha256=5174f24d48c59ad23ef4f8399734b3a7733fe8078e1d007ab1152d0fabf911e8\n",
            "  Stored in directory: /root/.cache/pip/wheels/f2/b1/a0/c0a77b756d580f53b3806ae0e0b3ec945a8d05fca1d6e10cc1\n",
            "Successfully built pdfplumber\n",
            "Installing collected packages: pycryptodome, Wand, pdfminer.six, pdfplumber\n",
            "Successfully installed Wand-0.6.6 pdfminer.six-20200517 pdfplumber-0.5.28 pycryptodome-3.10.1\n"
          ],
          "name": "stdout"
        }
      ]
    },
    {
      "cell_type": "code",
      "metadata": {
        "id": "BQNqsyGRgJuD"
      },
      "source": [
        "\n",
        "import re\n",
        "import requests\n",
        "import pdfplumber\n",
        "import pandas as pd\n",
        "from collections import namedtuple"
      ],
      "execution_count": 3,
      "outputs": []
    },
    {
      "cell_type": "code",
      "metadata": {
        "id": "_gh_cUegnyE0"
      },
      "source": [
        "Inv = namedtuple('Inv', 'vend_num vend_name inv_dt due_dt inv_amt net_amt description')"
      ],
      "execution_count": 4,
      "outputs": []
    },
    {
      "cell_type": "code",
      "metadata": {
        "id": "QVTP-N1YgdIN"
      },
      "source": [
        "def download_file(url):\n",
        "    local_filename = url.split('/')[-1]\n",
        "    \n",
        "    with requests.get(url) as r:\n",
        "        with open(local_filename, 'wb') as f:\n",
        "            f.write(r.content)\n",
        "        \n",
        "    return local_filename"
      ],
      "execution_count": 5,
      "outputs": []
    },
    {
      "cell_type": "code",
      "metadata": {
        "id": "pKJ5uOv-hRYl"
      },
      "source": [
        "ap_url = 'https://www.tabs3.com/support/sample/apreports.pdf'"
      ],
      "execution_count": 6,
      "outputs": []
    },
    {
      "cell_type": "code",
      "metadata": {
        "id": "nARf1vBthckz"
      },
      "source": [
        "ap = download_file(ap_url)"
      ],
      "execution_count": 7,
      "outputs": []
    },
    {
      "cell_type": "code",
      "metadata": {
        "colab": {
          "base_uri": "https://localhost:8080/"
        },
        "id": "6Mgpb2iEhgU9",
        "outputId": "4024d1b3-f0b0-49a7-855f-e6708c07e0a5"
      },
      "source": [
        "with pdfplumber.open(ap) as pdf:\n",
        "    page = pdf.pages[16]\n",
        "    text = page.extract_text()\n",
        "print(text)"
      ],
      "execution_count": 13,
      "outputs": [
        {
          "output_type": "stream",
          "text": [
            "AccountsPayableReportPack\n",
            "Invoice by Vendor List\n",
            "Date: 08/25/2020 Invoice by Vendor List Page: 1\n",
            "Jensen, Martin & Anderson, P.C.\n",
            "Inv Due Inv Disc Disc Net\n",
            "Voucher # Invoice # Date Date Amount Amount Date Amount 1099 Ref # Description Codes\n",
            "200 United Parcel Service\n",
            "200.01MLJ 3243387 032620 062620 75.00 P 75.00 1 Overnight document delivery * 1\n",
            "3243387 032720 062720 75.00 P 75.00 3 Postage * 1\n",
            "3243387 072620 072620 75.00 P 75.00 2 Overnight document delivery * 1\n",
            "Vendor Totals 225.00 0.00 225.00\n",
            "202 Software Technology, LLC\n",
            "312205 082020 082520 490.00 P 490.00 1 Software Maintenance Agreement Tabs3 * 1\n",
            "312206 082020 082520 239.00 P 239.00 2 Software Maintenance Agreement Tabs3 General Ledger * 1\n",
            "312207 082020 082520 239.00 P 239.00 3 Software Maintenance Agreement Tabs3 Accounts Payable * 1\n",
            "312208 082020 082520 239.00 P 239.00 4 Software Maintenance Agreement Tabs3 Trust Accounting * 1\n",
            "312209 082020 082520 800.00 P 800.00 5 Software Maintenance Agreement PracticeMaster (9 Users) * 1\n",
            "312210 082020 082520 105.00 P 105.00 6 Software Maintenance Agreement Tabs3 Taskbill * 1\n",
            "320559 082520 083020 205.00 205.00 7 Purchase Tabs3 Device Interface Program 1\n",
            "Vendor Totals 2,317.00 0.00 2,317.00\n",
            "203 Clerk of the County Court\n",
            "200.01PAM 042620 042620 225.00 P 225.00 1 Documentation Fee, Filing Fee, and Sheriff Service Fee * 1\n",
            "Vendor Totals 225.00 0.00 225.00\n",
            "204 Clerk of the District Court\n",
            "032720 032720 75.00 P 75.00 2 Filing fee * 1\n",
            "052020 052020 75.00 P 75.00 3 Filing fee * 1\n",
            "850.00 RON 082020 082020 150.00 150.00 1 Petition for Dissolution of Marriage Filing Fee 1\n",
            "Vendor Totals 300.00 0.00 300.00\n",
            "225 Jackson/Wylinda\n",
            "122419 122419 750.00 P 750.00 Y 2 Holiday Party * 1\n",
            "072620 072620 1,500.00 P 1,500.00 Y 1 Catering/Firm Retreat * 1\n",
            "Vendor Totals 2,250.00 0.00 2,250.00\n",
            "240 NELCO\n",
            "5065 2094756 072620 082620 129.85 P 129.85 1 Check order for APS and TAS Checks * 1\n",
            "Vendor Totals 129.85 0.00 129.85\n",
            "250 D & B Real Estate Management Company\n",
            "AUTO 072220 072220 7,500.00 P 7,500.00 Y 1 Monthly Rent (Including Electric, Gas & Garbage) * 1\n",
            "AUTO 072620 072620 7,500.00 P 7,500.00 Y 2 Monthly Rent (Including Electric, Gas & Garbage) * 1\n",
            "5074 KEY 081320 081320 10.00 10.00 N 3 Duplicate Key for building 1\n",
            "Vendor Totals 15,010.00 0.00 15,010.00\n",
            "300 Thomson Reuters Payment Center\n",
            "042520 042520 4.00 P 4.00 3 Online Legal Research * 1\n",
            "052420 052420 75.00 P 75.00 1 Online Legal Research * 1\n",
            "062520 062520 40.00 P 40.00 4 Online Legal Research * 1\n",
            "072920 072920 4.00 P 4.00 2 Online Legal Research * 1\n",
            "073020 073020 50.00 P 50.00 5 Online Legal Research * 1\n",
            "073020 073020 50.00 P 50.00 6 Online Legal Research * 1\n",
            "073020 073020 50.00 P 50.00 7 Online Legal Research * 1\n",
            "073020 073020 50.00 P 50.00 8 Online Legal Research * 1\n",
            "Vendor Totals 323.00 0.00 323.00\n",
            "325 Professional Messenger Services\n",
            "062120 062120 20.00 P 20.00 Y 2 Courier Fee * 1\n",
            "062420 062420 25.00 P 25.00 Y 4 Courier Fee * 1\n",
            "082520 082520 47.50 P 47.50 Y 1 Courier Fee * 1\n",
            "082520 082520 35.00 P 35.00 Y 3 Courier Fee * 1\n",
            "Vendor Totals 127.50 0.00 127.50\n",
            "400 Sprint Local & Long Distance\n",
            "402310760011 082020 082520 68.96 68.96 1 November Cell Phone Charges  1\n",
            "Vendor Totals 68.96 0.00 68.96\n",
            "700 Clean All Janitorial Services\n",
            "AUTO 072220 072520 750.00 P 750.00 Y 1 Monthly Cleaning Charges (Bi-Weekly Service) * 1\n",
            "AUTO 072620 082520 750.00 750.00 Y 2 Monthly Cleaning Charges (Bi-Weekly Service) 1\n",
            "Vendor Totals 1,500.00 0.00 1,500.00\n",
            "Grand Totals 22,476.31 0.00 22,476.31\n",
            "Menu Reports|Invoices|InvoicebyVendorList\n",
            "Thereportsshownonpages17and19areexamplesoftheInvoicebyVendorList.Theprogramtabsforthisreportincludethe\n",
            "standardVendorandInvoicestabsaswellastheOptionstab.TheOptionstabincludesparametersthatenableyoutoinclude\n",
            "paidinvoices,unpaidinvoicesorboth.Ifyouselecttoincludeonlyunpaidinvoices,youwillhavetheoptiontoincludeposted\n",
            "unpaidinvoices,unpostedunpaidinvoicesorbothaswellastheoptiontoincludeinvoicessettoHold,Payorboth.Alist\n",
            "showingonlypartialpaymentinvoicescanbeprinted.AlistofinvoiceswiththeExcludefrom1099Reportingcheckbox\n",
            "selectedorclearedcanbeprinted.\n",
            "-17-\n"
          ],
          "name": "stdout"
        }
      ]
    },
    {
      "cell_type": "code",
      "metadata": {
        "id": "GDzHq8yDiX57"
      },
      "source": [
        "new_vend_re = re.compile(r'\\d{3} ')\n"
      ],
      "execution_count": 14,
      "outputs": []
    },
    {
      "cell_type": "code",
      "metadata": {
        "colab": {
          "base_uri": "https://localhost:8080/"
        },
        "id": "KJiT2Yhmm2VB",
        "outputId": "82dc43ac-91ad-4cce-bbe8-5e67d283b6e7"
      },
      "source": [
        "for line in text.split('\\n'):\n",
        "  if new_vend_re.match(line):\n",
        "    print(line)\n"
      ],
      "execution_count": 15,
      "outputs": [
        {
          "output_type": "stream",
          "text": [
            "200 United Parcel Service\n",
            "202 Software Technology, LLC\n",
            "203 Clerk of the County Court\n",
            "204 Clerk of the District Court\n",
            "225 Jackson/Wylinda\n",
            "240 NELCO\n",
            "250 D & B Real Estate Management Company\n",
            "300 Thomson Reuters Payment Center\n",
            "325 Professional Messenger Services\n",
            "400 Sprint Local & Long Distance\n",
            "700 Clean All Janitorial Services\n"
          ],
          "name": "stdout"
        }
      ]
    },
    {
      "cell_type": "code",
      "metadata": {
        "colab": {
          "base_uri": "https://localhost:8080/"
        },
        "id": "Df0OwcFBm_4b",
        "outputId": "6feeb2f0-d28a-4337-980e-ba9560235f50"
      },
      "source": [
        "vend_nums =[]\n",
        "vend_names = []\n",
        "for line in text.split('\\n'):\n",
        "  if new_vend_re.match(line):\n",
        "    vend_num, *vend_name = line.split()\n",
        "    vend_name = ' '.join(vend_name)\n",
        "    vend_nums.append(vend_num)\n",
        "    vend_names.append(vend_name)\n",
        "print(vend_nums)\n",
        "print(vend_names)"
      ],
      "execution_count": 22,
      "outputs": [
        {
          "output_type": "stream",
          "text": [
            "['200', '202', '203', '204', '225', '240', '250', '300', '325', '400', '700']\n",
            "['United Parcel Service', 'Software Technology, LLC', 'Clerk of the County Court', 'Clerk of the District Court', 'Jackson/Wylinda', 'NELCO', 'D & B Real Estate Management Company', 'Thomson Reuters Payment Center', 'Professional Messenger Services', 'Sprint Local & Long Distance', 'Clean All Janitorial Services']\n"
          ],
          "name": "stdout"
        }
      ]
    },
    {
      "cell_type": "markdown",
      "metadata": {
        "id": "bqe-amKiSr4g"
      },
      "source": [
        "INVOICES LINE"
      ]
    },
    {
      "cell_type": "code",
      "metadata": {
        "id": "tp5iW7FIRSPi"
      },
      "source": [
        "# inv_line_re = re.compile(r'(\\d{6}) (\\d{6}) ([\\d,]+\\.\\d{2}) [\\sP]*([\\d,]+\\.\\d{2}) [YN ]*\\d (.*?) [*\\s\\d]')\n",
        "inv_line_re = re.compile(r'\\d{6} \\d{6} [\\d,]+\\.\\d{2}')"
      ],
      "execution_count": 32,
      "outputs": []
    },
    {
      "cell_type": "code",
      "metadata": {
        "colab": {
          "base_uri": "https://localhost:8080/"
        },
        "id": "rxPeazSxhPXg",
        "outputId": "14bdf404-ee61-45c6-9265-fad57899dcb5"
      },
      "source": [
        "for line in text.split('\\n'):\n",
        "  line = inv_line_re.search(line)\n",
        "  if line:\n",
        "    print(line.group(3))\n"
      ],
      "execution_count": 39,
      "outputs": [
        {
          "output_type": "stream",
          "text": [
            "75.00\n",
            "75.00\n",
            "75.00\n",
            "490.00\n",
            "239.00\n",
            "239.00\n",
            "239.00\n",
            "800.00\n",
            "105.00\n",
            "205.00\n",
            "225.00\n",
            "75.00\n",
            "75.00\n",
            "150.00\n",
            "750.00\n",
            "1,500.00\n",
            "129.85\n",
            "7,500.00\n",
            "7,500.00\n",
            "10.00\n",
            "4.00\n",
            "75.00\n",
            "40.00\n",
            "4.00\n",
            "50.00\n",
            "50.00\n",
            "50.00\n",
            "50.00\n",
            "20.00\n",
            "25.00\n",
            "47.50\n",
            "35.00\n",
            "68.96\n",
            "750.00\n",
            "750.00\n"
          ],
          "name": "stdout"
        }
      ]
    },
    {
      "cell_type": "code",
      "metadata": {
        "id": "dBp9D2UThkZl"
      },
      "source": [
        "inv_line_re = re.compile(r'\\d{6} \\d{6} [\\d,]+\\.\\d{2} [\\sP]')"
      ],
      "execution_count": 35,
      "outputs": []
    },
    {
      "cell_type": "code",
      "metadata": {
        "id": "33Mzvu8jhsfG"
      },
      "source": [
        "for line in text.split('\\n'):\n",
        "  line=  inv_line_re.search(line)\n",
        "  if "
      ],
      "execution_count": null,
      "outputs": []
    },
    {
      "cell_type": "code",
      "metadata": {
        "id": "VxdORVPEUBPo"
      },
      "source": [
        "line_items = []\n",
        "for line in text.split('\\n'):\n",
        "    if new_vend_re.match(line):\n",
        "        vend_num, *vend_name = line.split()\n",
        "        vend_name = ' '.join(vend_name)    \n",
        "    \n",
        "    line = inv_line_re.search(line)\n",
        "    if line:\n",
        "        inv_dt = line.group(1)\n",
        "        due_dt = line.group(2)\n",
        "        inv_amt = line.group(3)\n",
        "        net_amt = line.group(4)\n",
        "        desc = line.group(5)\n",
        "        line_items.append(Inv(vend_num, vend_name, inv_dt, due_dt, inv_amt, net_amt, desc))"
      ],
      "execution_count": 29,
      "outputs": []
    },
    {
      "cell_type": "code",
      "metadata": {
        "id": "gtt5IL_CUN8t"
      },
      "source": [
        "\n",
        "df = pd.DataFrame(line_items)"
      ],
      "execution_count": 30,
      "outputs": []
    },
    {
      "cell_type": "code",
      "metadata": {
        "colab": {
          "base_uri": "https://localhost:8080/",
          "height": 1000
        },
        "id": "0E9YX9ZFUQp-",
        "outputId": "6c5a5a2a-ebe5-4fea-d3fb-ed52a73b31d8"
      },
      "source": [
        "df"
      ],
      "execution_count": 31,
      "outputs": [
        {
          "output_type": "execute_result",
          "data": {
            "text/html": [
              "<div>\n",
              "<style scoped>\n",
              "    .dataframe tbody tr th:only-of-type {\n",
              "        vertical-align: middle;\n",
              "    }\n",
              "\n",
              "    .dataframe tbody tr th {\n",
              "        vertical-align: top;\n",
              "    }\n",
              "\n",
              "    .dataframe thead th {\n",
              "        text-align: right;\n",
              "    }\n",
              "</style>\n",
              "<table border=\"1\" class=\"dataframe\">\n",
              "  <thead>\n",
              "    <tr style=\"text-align: right;\">\n",
              "      <th></th>\n",
              "      <th>vend_num</th>\n",
              "      <th>vend_name</th>\n",
              "      <th>inv_dt</th>\n",
              "      <th>due_dt</th>\n",
              "      <th>inv_amt</th>\n",
              "      <th>net_amt</th>\n",
              "      <th>description</th>\n",
              "    </tr>\n",
              "  </thead>\n",
              "  <tbody>\n",
              "    <tr>\n",
              "      <th>0</th>\n",
              "      <td>200</td>\n",
              "      <td>United Parcel Service</td>\n",
              "      <td>032620</td>\n",
              "      <td>062620</td>\n",
              "      <td>75.00</td>\n",
              "      <td>75.00</td>\n",
              "      <td>Overnight document delivery</td>\n",
              "    </tr>\n",
              "    <tr>\n",
              "      <th>1</th>\n",
              "      <td>200</td>\n",
              "      <td>United Parcel Service</td>\n",
              "      <td>032720</td>\n",
              "      <td>062720</td>\n",
              "      <td>75.00</td>\n",
              "      <td>75.00</td>\n",
              "      <td>Postage</td>\n",
              "    </tr>\n",
              "    <tr>\n",
              "      <th>2</th>\n",
              "      <td>200</td>\n",
              "      <td>United Parcel Service</td>\n",
              "      <td>072620</td>\n",
              "      <td>072620</td>\n",
              "      <td>75.00</td>\n",
              "      <td>75.00</td>\n",
              "      <td>Overnight document delivery</td>\n",
              "    </tr>\n",
              "    <tr>\n",
              "      <th>3</th>\n",
              "      <td>202</td>\n",
              "      <td>Software Technology, LLC</td>\n",
              "      <td>082020</td>\n",
              "      <td>082520</td>\n",
              "      <td>490.00</td>\n",
              "      <td>490.00</td>\n",
              "      <td>Software Maintenance Agreement Tabs3</td>\n",
              "    </tr>\n",
              "    <tr>\n",
              "      <th>4</th>\n",
              "      <td>202</td>\n",
              "      <td>Software Technology, LLC</td>\n",
              "      <td>082020</td>\n",
              "      <td>082520</td>\n",
              "      <td>239.00</td>\n",
              "      <td>239.00</td>\n",
              "      <td>Software Maintenance Agreement Tabs3 General L...</td>\n",
              "    </tr>\n",
              "    <tr>\n",
              "      <th>5</th>\n",
              "      <td>202</td>\n",
              "      <td>Software Technology, LLC</td>\n",
              "      <td>082020</td>\n",
              "      <td>082520</td>\n",
              "      <td>239.00</td>\n",
              "      <td>239.00</td>\n",
              "      <td>Software Maintenance Agreement Tabs3 Accounts ...</td>\n",
              "    </tr>\n",
              "    <tr>\n",
              "      <th>6</th>\n",
              "      <td>202</td>\n",
              "      <td>Software Technology, LLC</td>\n",
              "      <td>082020</td>\n",
              "      <td>082520</td>\n",
              "      <td>239.00</td>\n",
              "      <td>239.00</td>\n",
              "      <td>Software Maintenance Agreement Tabs3 Trust Acc...</td>\n",
              "    </tr>\n",
              "    <tr>\n",
              "      <th>7</th>\n",
              "      <td>202</td>\n",
              "      <td>Software Technology, LLC</td>\n",
              "      <td>082020</td>\n",
              "      <td>082520</td>\n",
              "      <td>800.00</td>\n",
              "      <td>800.00</td>\n",
              "      <td>Software Maintenance Agreement PracticeMaster ...</td>\n",
              "    </tr>\n",
              "    <tr>\n",
              "      <th>8</th>\n",
              "      <td>202</td>\n",
              "      <td>Software Technology, LLC</td>\n",
              "      <td>082020</td>\n",
              "      <td>082520</td>\n",
              "      <td>105.00</td>\n",
              "      <td>105.00</td>\n",
              "      <td>Software Maintenance Agreement Tabs3 Taskbill</td>\n",
              "    </tr>\n",
              "    <tr>\n",
              "      <th>9</th>\n",
              "      <td>202</td>\n",
              "      <td>Software Technology, LLC</td>\n",
              "      <td>082520</td>\n",
              "      <td>083020</td>\n",
              "      <td>205.00</td>\n",
              "      <td>205.00</td>\n",
              "      <td>Purchase Tabs3 Device Interface Program</td>\n",
              "    </tr>\n",
              "    <tr>\n",
              "      <th>10</th>\n",
              "      <td>203</td>\n",
              "      <td>Clerk of the County Court</td>\n",
              "      <td>042620</td>\n",
              "      <td>042620</td>\n",
              "      <td>225.00</td>\n",
              "      <td>225.00</td>\n",
              "      <td>Documentation Fee, Filing Fee, and Sheriff Ser...</td>\n",
              "    </tr>\n",
              "    <tr>\n",
              "      <th>11</th>\n",
              "      <td>204</td>\n",
              "      <td>Clerk of the District Court</td>\n",
              "      <td>032720</td>\n",
              "      <td>032720</td>\n",
              "      <td>75.00</td>\n",
              "      <td>75.00</td>\n",
              "      <td>Filing fee</td>\n",
              "    </tr>\n",
              "    <tr>\n",
              "      <th>12</th>\n",
              "      <td>204</td>\n",
              "      <td>Clerk of the District Court</td>\n",
              "      <td>052020</td>\n",
              "      <td>052020</td>\n",
              "      <td>75.00</td>\n",
              "      <td>75.00</td>\n",
              "      <td>Filing fee</td>\n",
              "    </tr>\n",
              "    <tr>\n",
              "      <th>13</th>\n",
              "      <td>204</td>\n",
              "      <td>Clerk of the District Court</td>\n",
              "      <td>082020</td>\n",
              "      <td>082020</td>\n",
              "      <td>150.00</td>\n",
              "      <td>150.00</td>\n",
              "      <td>Petition for Dissolution of Marriage Filing Fee</td>\n",
              "    </tr>\n",
              "    <tr>\n",
              "      <th>14</th>\n",
              "      <td>225</td>\n",
              "      <td>Jackson/Wylinda</td>\n",
              "      <td>122419</td>\n",
              "      <td>122419</td>\n",
              "      <td>750.00</td>\n",
              "      <td>750.00</td>\n",
              "      <td>Holiday Party</td>\n",
              "    </tr>\n",
              "    <tr>\n",
              "      <th>15</th>\n",
              "      <td>225</td>\n",
              "      <td>Jackson/Wylinda</td>\n",
              "      <td>072620</td>\n",
              "      <td>072620</td>\n",
              "      <td>1,500.00</td>\n",
              "      <td>1,500.00</td>\n",
              "      <td>Catering/Firm Retreat</td>\n",
              "    </tr>\n",
              "    <tr>\n",
              "      <th>16</th>\n",
              "      <td>240</td>\n",
              "      <td>NELCO</td>\n",
              "      <td>072620</td>\n",
              "      <td>082620</td>\n",
              "      <td>129.85</td>\n",
              "      <td>129.85</td>\n",
              "      <td>Check order for APS and TAS Checks</td>\n",
              "    </tr>\n",
              "    <tr>\n",
              "      <th>17</th>\n",
              "      <td>250</td>\n",
              "      <td>D &amp; B Real Estate Management Company</td>\n",
              "      <td>072220</td>\n",
              "      <td>072220</td>\n",
              "      <td>7,500.00</td>\n",
              "      <td>7,500.00</td>\n",
              "      <td>Monthly Rent (Including Electric, Gas &amp; Garbage)</td>\n",
              "    </tr>\n",
              "    <tr>\n",
              "      <th>18</th>\n",
              "      <td>250</td>\n",
              "      <td>D &amp; B Real Estate Management Company</td>\n",
              "      <td>072620</td>\n",
              "      <td>072620</td>\n",
              "      <td>7,500.00</td>\n",
              "      <td>7,500.00</td>\n",
              "      <td>Monthly Rent (Including Electric, Gas &amp; Garbage)</td>\n",
              "    </tr>\n",
              "    <tr>\n",
              "      <th>19</th>\n",
              "      <td>250</td>\n",
              "      <td>D &amp; B Real Estate Management Company</td>\n",
              "      <td>081320</td>\n",
              "      <td>081320</td>\n",
              "      <td>10.00</td>\n",
              "      <td>10.00</td>\n",
              "      <td>Duplicate Key for building</td>\n",
              "    </tr>\n",
              "    <tr>\n",
              "      <th>20</th>\n",
              "      <td>300</td>\n",
              "      <td>Thomson Reuters Payment Center</td>\n",
              "      <td>042520</td>\n",
              "      <td>042520</td>\n",
              "      <td>4.00</td>\n",
              "      <td>4.00</td>\n",
              "      <td>Online Legal Research</td>\n",
              "    </tr>\n",
              "    <tr>\n",
              "      <th>21</th>\n",
              "      <td>300</td>\n",
              "      <td>Thomson Reuters Payment Center</td>\n",
              "      <td>052420</td>\n",
              "      <td>052420</td>\n",
              "      <td>75.00</td>\n",
              "      <td>75.00</td>\n",
              "      <td>Online Legal Research</td>\n",
              "    </tr>\n",
              "    <tr>\n",
              "      <th>22</th>\n",
              "      <td>300</td>\n",
              "      <td>Thomson Reuters Payment Center</td>\n",
              "      <td>062520</td>\n",
              "      <td>062520</td>\n",
              "      <td>40.00</td>\n",
              "      <td>40.00</td>\n",
              "      <td>Online Legal Research</td>\n",
              "    </tr>\n",
              "    <tr>\n",
              "      <th>23</th>\n",
              "      <td>300</td>\n",
              "      <td>Thomson Reuters Payment Center</td>\n",
              "      <td>072920</td>\n",
              "      <td>072920</td>\n",
              "      <td>4.00</td>\n",
              "      <td>4.00</td>\n",
              "      <td>Online Legal Research</td>\n",
              "    </tr>\n",
              "    <tr>\n",
              "      <th>24</th>\n",
              "      <td>300</td>\n",
              "      <td>Thomson Reuters Payment Center</td>\n",
              "      <td>073020</td>\n",
              "      <td>073020</td>\n",
              "      <td>50.00</td>\n",
              "      <td>50.00</td>\n",
              "      <td>Online Legal Research</td>\n",
              "    </tr>\n",
              "    <tr>\n",
              "      <th>25</th>\n",
              "      <td>300</td>\n",
              "      <td>Thomson Reuters Payment Center</td>\n",
              "      <td>073020</td>\n",
              "      <td>073020</td>\n",
              "      <td>50.00</td>\n",
              "      <td>50.00</td>\n",
              "      <td>Online Legal Research</td>\n",
              "    </tr>\n",
              "    <tr>\n",
              "      <th>26</th>\n",
              "      <td>300</td>\n",
              "      <td>Thomson Reuters Payment Center</td>\n",
              "      <td>073020</td>\n",
              "      <td>073020</td>\n",
              "      <td>50.00</td>\n",
              "      <td>50.00</td>\n",
              "      <td>Online Legal Research</td>\n",
              "    </tr>\n",
              "    <tr>\n",
              "      <th>27</th>\n",
              "      <td>300</td>\n",
              "      <td>Thomson Reuters Payment Center</td>\n",
              "      <td>073020</td>\n",
              "      <td>073020</td>\n",
              "      <td>50.00</td>\n",
              "      <td>50.00</td>\n",
              "      <td>Online Legal Research</td>\n",
              "    </tr>\n",
              "    <tr>\n",
              "      <th>28</th>\n",
              "      <td>325</td>\n",
              "      <td>Professional Messenger Services</td>\n",
              "      <td>062120</td>\n",
              "      <td>062120</td>\n",
              "      <td>20.00</td>\n",
              "      <td>20.00</td>\n",
              "      <td>Courier Fee</td>\n",
              "    </tr>\n",
              "    <tr>\n",
              "      <th>29</th>\n",
              "      <td>325</td>\n",
              "      <td>Professional Messenger Services</td>\n",
              "      <td>062420</td>\n",
              "      <td>062420</td>\n",
              "      <td>25.00</td>\n",
              "      <td>25.00</td>\n",
              "      <td>Courier Fee</td>\n",
              "    </tr>\n",
              "    <tr>\n",
              "      <th>30</th>\n",
              "      <td>325</td>\n",
              "      <td>Professional Messenger Services</td>\n",
              "      <td>082520</td>\n",
              "      <td>082520</td>\n",
              "      <td>47.50</td>\n",
              "      <td>47.50</td>\n",
              "      <td>Courier Fee</td>\n",
              "    </tr>\n",
              "    <tr>\n",
              "      <th>31</th>\n",
              "      <td>325</td>\n",
              "      <td>Professional Messenger Services</td>\n",
              "      <td>082520</td>\n",
              "      <td>082520</td>\n",
              "      <td>35.00</td>\n",
              "      <td>35.00</td>\n",
              "      <td>Courier Fee</td>\n",
              "    </tr>\n",
              "    <tr>\n",
              "      <th>32</th>\n",
              "      <td>400</td>\n",
              "      <td>Sprint Local &amp; Long Distance</td>\n",
              "      <td>082020</td>\n",
              "      <td>082520</td>\n",
              "      <td>68.96</td>\n",
              "      <td>68.96</td>\n",
              "      <td>November Cell Phone Charges</td>\n",
              "    </tr>\n",
              "    <tr>\n",
              "      <th>33</th>\n",
              "      <td>700</td>\n",
              "      <td>Clean All Janitorial Services</td>\n",
              "      <td>072220</td>\n",
              "      <td>072520</td>\n",
              "      <td>750.00</td>\n",
              "      <td>750.00</td>\n",
              "      <td>Monthly Cleaning Charges (Bi-Weekly Service)</td>\n",
              "    </tr>\n",
              "    <tr>\n",
              "      <th>34</th>\n",
              "      <td>700</td>\n",
              "      <td>Clean All Janitorial Services</td>\n",
              "      <td>072620</td>\n",
              "      <td>082520</td>\n",
              "      <td>750.00</td>\n",
              "      <td>750.00</td>\n",
              "      <td>Monthly Cleaning Charges (Bi-Weekly Service)</td>\n",
              "    </tr>\n",
              "  </tbody>\n",
              "</table>\n",
              "</div>"
            ],
            "text/plain": [
              "   vend_num  ...                                        description\n",
              "0       200  ...                        Overnight document delivery\n",
              "1       200  ...                                            Postage\n",
              "2       200  ...                        Overnight document delivery\n",
              "3       202  ...               Software Maintenance Agreement Tabs3\n",
              "4       202  ...  Software Maintenance Agreement Tabs3 General L...\n",
              "5       202  ...  Software Maintenance Agreement Tabs3 Accounts ...\n",
              "6       202  ...  Software Maintenance Agreement Tabs3 Trust Acc...\n",
              "7       202  ...  Software Maintenance Agreement PracticeMaster ...\n",
              "8       202  ...      Software Maintenance Agreement Tabs3 Taskbill\n",
              "9       202  ...            Purchase Tabs3 Device Interface Program\n",
              "10      203  ...  Documentation Fee, Filing Fee, and Sheriff Ser...\n",
              "11      204  ...                                         Filing fee\n",
              "12      204  ...                                         Filing fee\n",
              "13      204  ...    Petition for Dissolution of Marriage Filing Fee\n",
              "14      225  ...                                      Holiday Party\n",
              "15      225  ...                              Catering/Firm Retreat\n",
              "16      240  ...                 Check order for APS and TAS Checks\n",
              "17      250  ...   Monthly Rent (Including Electric, Gas & Garbage)\n",
              "18      250  ...   Monthly Rent (Including Electric, Gas & Garbage)\n",
              "19      250  ...                         Duplicate Key for building\n",
              "20      300  ...                              Online Legal Research\n",
              "21      300  ...                              Online Legal Research\n",
              "22      300  ...                              Online Legal Research\n",
              "23      300  ...                              Online Legal Research\n",
              "24      300  ...                              Online Legal Research\n",
              "25      300  ...                              Online Legal Research\n",
              "26      300  ...                              Online Legal Research\n",
              "27      300  ...                              Online Legal Research\n",
              "28      325  ...                                        Courier Fee\n",
              "29      325  ...                                        Courier Fee\n",
              "30      325  ...                                        Courier Fee\n",
              "31      325  ...                                        Courier Fee\n",
              "32      400  ...                        November Cell Phone Charges\n",
              "33      700  ...       Monthly Cleaning Charges (Bi-Weekly Service)\n",
              "34      700  ...       Monthly Cleaning Charges (Bi-Weekly Service)\n",
              "\n",
              "[35 rows x 7 columns]"
            ]
          },
          "metadata": {
            "tags": []
          },
          "execution_count": 31
        }
      ]
    },
    {
      "cell_type": "code",
      "metadata": {
        "id": "4VhUl33IURPa"
      },
      "source": [
        ""
      ],
      "execution_count": null,
      "outputs": []
    }
  ]
}