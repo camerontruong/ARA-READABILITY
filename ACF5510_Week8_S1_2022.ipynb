{
  "nbformat": 4,
  "nbformat_minor": 0,
  "metadata": {
    "colab": {
      "name": "ACF5510_Week8.ipynb",
      "provenance": [],
      "authorship_tag": "ABX9TyPVyygxrlpSHYjcS71GPX/2",
      "include_colab_link": true
    },
    "kernelspec": {
      "name": "python3",
      "display_name": "Python 3"
    },
    "language_info": {
      "name": "python"
    }
  },
  "cells": [
    {
      "cell_type": "markdown",
      "metadata": {
        "id": "view-in-github",
        "colab_type": "text"
      },
      "source": [
        "<a href=\"https://colab.research.google.com/github/camerontruong/ARA-READABILITY/blob/main/ACF5510_Week8_S1_2022.ipynb\" target=\"_parent\"><img src=\"https://colab.research.google.com/assets/colab-badge.svg\" alt=\"Open In Colab\"/></a>"
      ]
    },
    {
      "cell_type": "code",
      "execution_count": 1,
      "metadata": {
        "colab": {
          "base_uri": "https://localhost:8080/"
        },
        "id": "LSEtDXkNDgTX",
        "outputId": "e1cb1589-a706-4e85-93cc-55882d59689d"
      },
      "outputs": [
        {
          "output_type": "stream",
          "name": "stdout",
          "text": [
            "Hello World. We are from ACF5510\n"
          ]
        }
      ],
      "source": [
        "print(\"Hello World. We are from ACF5510\")"
      ]
    },
    {
      "cell_type": "code",
      "source": [
        "name = \"Cameron Truong\"\n",
        "print(name)\n",
        "\n",
        "name1 = \"Alvin Truong\"\n",
        "print(name, name1)"
      ],
      "metadata": {
        "colab": {
          "base_uri": "https://localhost:8080/"
        },
        "id": "venvDgjpFvnj",
        "outputId": "76177e5a-4799-4bb7-8966-4c4bf6502454"
      },
      "execution_count": 3,
      "outputs": [
        {
          "output_type": "stream",
          "name": "stdout",
          "text": [
            "Cameron Truong\n",
            "Cameron Truong Alvin Truong\n"
          ]
        }
      ]
    },
    {
      "cell_type": "code",
      "source": [
        "name = input(\"What is your name?\")\n",
        "print(\"Your name is \" + name)"
      ],
      "metadata": {
        "colab": {
          "base_uri": "https://localhost:8080/"
        },
        "id": "JIm-z19hGfdy",
        "outputId": "5139157f-435c-4fa4-feb0-9f50b335f015"
      },
      "execution_count": 5,
      "outputs": [
        {
          "output_type": "stream",
          "name": "stdout",
          "text": [
            "What is your name?Brad Pitt\n",
            "Your name is Brad Pitt\n"
          ]
        }
      ]
    },
    {
      "cell_type": "code",
      "source": [
        "print(\"What's up! Welcome to ACF5510\")\n",
        "\n",
        "welcome_message= \"Our chief examiner in ACF5510 is \" + name\n",
        "\n",
        "print(welcome_message)"
      ],
      "metadata": {
        "colab": {
          "base_uri": "https://localhost:8080/"
        },
        "id": "nn9qCDqgHSpr",
        "outputId": "5bf32810-6822-4817-ddf5-92b65116da80"
      },
      "execution_count": 7,
      "outputs": [
        {
          "output_type": "stream",
          "name": "stdout",
          "text": [
            "What's up! Welcome to ACF5510\n",
            "Our chief examiner in ACF5510 is Brad Pitt\n"
          ]
        }
      ]
    },
    {
      "cell_type": "code",
      "source": [
        "print(\"Welcome to Group Name Generator\")\n",
        "city=input(\"What is the name of the city where you grew up? \")\n",
        "petname= input(\"What is your pet's name? \")\n",
        "print(\"Your group name can be: \" + city+\" \"+petname)"
      ],
      "metadata": {
        "colab": {
          "base_uri": "https://localhost:8080/"
        },
        "id": "NQ3vVwP8ISkD",
        "outputId": "190b4239-d198-4696-fb61-2fb3e2c74bc8"
      },
      "execution_count": 11,
      "outputs": [
        {
          "output_type": "stream",
          "name": "stdout",
          "text": [
            "Welcome to Group Name Generator\n",
            "What is the name of the city where you grew up? Shanghai\n",
            "What is your pet's name? Aoli\n",
            "Your group name can be: Shanghai Aoli\n"
          ]
        }
      ]
    },
    {
      "cell_type": "markdown",
      "source": [
        "Exercise 1:\n",
        "#Exercise: i) print \"Welcome to Group Name Generator\", ii) city, takes the input of the city where you grew up, \"What is the name of the city where you grew up\"\n",
        "# iii), ask \" What is your pet's name? \"\n",
        "#iv  print out \" Your group name can be\" + city + petname"
      ],
      "metadata": {
        "id": "YnjV2kWRILdT"
      }
    },
    {
      "cell_type": "code",
      "source": [
        "two_digit_number = input(\"Please type a two digit number \")\n",
        "first_digit = int(two_digit_number[0])\n",
        "second_digit = int(two_digit_number[1])\n",
        "\n",
        "sum= first_digit+second_digit\n",
        "print(sum)"
      ],
      "metadata": {
        "colab": {
          "base_uri": "https://localhost:8080/"
        },
        "id": "IFlaxvKeLLLC",
        "outputId": "835e2237-98fc-4967-f300-498b304e5a32"
      },
      "execution_count": 18,
      "outputs": [
        {
          "output_type": "stream",
          "name": "stdout",
          "text": [
            "Please type a two digit number 98\n",
            "17\n"
          ]
        }
      ]
    },
    {
      "cell_type": "markdown",
      "source": [
        "Exercise 1:\n",
        "1) Get the height of the user in m\n",
        "2) Get the weight of the user in kg\n",
        "3) bmi = weight/(height*height)\n",
        "4) print out the bmi"
      ],
      "metadata": {
        "id": "h8qz5gmJOChB"
      }
    },
    {
      "cell_type": "code",
      "source": [
        "height=float(input(\"Enter your height in meter: \"))\n",
        "weight=int(input(\"Enter your weight in kg: \"))\n",
        "bmi = weight/(height*height)\n",
        "print(round(bmi,2))\n"
      ],
      "metadata": {
        "colab": {
          "base_uri": "https://localhost:8080/"
        },
        "id": "S_HfrThsP0E2",
        "outputId": "be49362b-cff6-488c-d5a6-86dd49843f73"
      },
      "execution_count": 24,
      "outputs": [
        {
          "output_type": "stream",
          "name": "stdout",
          "text": [
            "Enter your height in meter: 1.76\n",
            "Enter your weight in kg: 72\n",
            "23.24\n"
          ]
        }
      ]
    },
    {
      "cell_type": "code",
      "source": [
        "name = \"Cameron Truong\"\n",
        "print(len(name))\n",
        "\n",
        "print(name[8])\n",
        "print(name.index(\"a\"))\n",
        "print(name.index(\"ron\"))"
      ],
      "metadata": {
        "colab": {
          "base_uri": "https://localhost:8080/"
        },
        "id": "mdcpmnJZRtCz",
        "outputId": "52982b43-2b22-467f-8ca4-2b74297575df"
      },
      "execution_count": 29,
      "outputs": [
        {
          "output_type": "stream",
          "name": "stdout",
          "text": [
            "14\n",
            "T\n",
            "1\n",
            "4\n"
          ]
        }
      ]
    },
    {
      "cell_type": "code",
      "source": [
        "name=name.replace(\"Cameron\",\"Cam\")\n",
        "print(name)"
      ],
      "metadata": {
        "colab": {
          "base_uri": "https://localhost:8080/"
        },
        "id": "CQ5qcgYUSnIb",
        "outputId": "2385be50-8e1c-4b15-d53d-ed3c88c1b0fd"
      },
      "execution_count": 30,
      "outputs": [
        {
          "output_type": "stream",
          "name": "stdout",
          "text": [
            "Cam Truong\n"
          ]
        }
      ]
    },
    {
      "cell_type": "code",
      "source": [
        "print(name[:3])\n",
        "print(name[8:])"
      ],
      "metadata": {
        "colab": {
          "base_uri": "https://localhost:8080/"
        },
        "id": "c6T9999STATq",
        "outputId": "64930596-2401-4b89-df70-0099f177d86f"
      },
      "execution_count": 33,
      "outputs": [
        {
          "output_type": "stream",
          "name": "stdout",
          "text": [
            "Cam\n",
            "ng\n"
          ]
        }
      ]
    },
    {
      "cell_type": "code",
      "source": [
        "name=name.upper()\n",
        "print(name)"
      ],
      "metadata": {
        "colab": {
          "base_uri": "https://localhost:8080/"
        },
        "id": "ob3qnLGiTp5Y",
        "outputId": "69b53f36-1007-406d-c32f-22bf0bfacd28"
      },
      "execution_count": 34,
      "outputs": [
        {
          "output_type": "stream",
          "name": "stdout",
          "text": [
            "CAM TRUONG\n"
          ]
        }
      ]
    },
    {
      "cell_type": "code",
      "source": [
        "name=name.lower()\n",
        "print(name)"
      ],
      "metadata": {
        "colab": {
          "base_uri": "https://localhost:8080/"
        },
        "id": "SQ-UuXqZTx8g",
        "outputId": "6c721107-37f5-4384-e2bb-a38f8f05b233"
      },
      "execution_count": 35,
      "outputs": [
        {
          "output_type": "stream",
          "name": "stdout",
          "text": [
            "cam truong\n"
          ]
        }
      ]
    },
    {
      "cell_type": "code",
      "source": [
        "name=name.title()\n",
        "print(name)"
      ],
      "metadata": {
        "colab": {
          "base_uri": "https://localhost:8080/"
        },
        "id": "zpiEO9sDT3O5",
        "outputId": "18019a6e-fe16-45fc-84b3-ce41aab083b9"
      },
      "execution_count": 37,
      "outputs": [
        {
          "output_type": "stream",
          "name": "stdout",
          "text": [
            "Cam Truong\n"
          ]
        }
      ]
    },
    {
      "cell_type": "code",
      "source": [
        "name =\" Cameron cam cameron cameron Cameron CAmeron CAMeron  cameron cam truong TRUONG trg ACF5510\"\n",
        "name=name.lower()\n",
        "print(name)\n",
        "print(name.count(\"cameron\"))\n"
      ],
      "metadata": {
        "colab": {
          "base_uri": "https://localhost:8080/"
        },
        "id": "Xd5KkBDnUECh",
        "outputId": "aaa29a79-a724-417c-ef1d-59f183ad6c39"
      },
      "execution_count": 39,
      "outputs": [
        {
          "output_type": "stream",
          "name": "stdout",
          "text": [
            " cameron cam cameron cameron cameron cameron cameron  cameron cam truong truong trg acf5510\n",
            "7\n"
          ]
        }
      ]
    },
    {
      "cell_type": "code",
      "source": [
        "sustainability = \" Qantas is highly concerned with sustainability issues. We have our own Sustainability manager and she looks after key sustainability strategies.\"\n",
        "sustainability=sustainability.lower()\n",
        "print(sustainability.count(\"sustainability\"))"
      ],
      "metadata": {
        "colab": {
          "base_uri": "https://localhost:8080/"
        },
        "id": "ooWMqm7AVAgU",
        "outputId": "da47325e-5d08-48e9-ae26-832c3f915966"
      },
      "execution_count": 40,
      "outputs": [
        {
          "output_type": "stream",
          "name": "stdout",
          "text": [
            "3\n"
          ]
        }
      ]
    },
    {
      "cell_type": "code",
      "source": [
        "name = \"           Cameron Truong\"\n",
        "print(name)\n",
        "name=name.strip()\n",
        "print(name)"
      ],
      "metadata": {
        "colab": {
          "base_uri": "https://localhost:8080/"
        },
        "id": "BYM0ZphYViR0",
        "outputId": "d1f9977a-28d8-4026-a300-4448cb0b429b"
      },
      "execution_count": 42,
      "outputs": [
        {
          "output_type": "stream",
          "name": "stdout",
          "text": [
            "           Cameron Truong\n",
            "Cameron Truong\n"
          ]
        }
      ]
    },
    {
      "cell_type": "markdown",
      "source": [
        "Exercise 3:\n",
        "Your life in days, weeks, months exercise: Create a program using maths and f-Strings that tells us how many days, weeks, months we have left if we live until 90 years old.\n",
        "\n",
        "It will take your current age as the input and output a message with our time left in this format:\n",
        "\n",
        "You have x days, y weeks, and z months left.\n",
        "\n",
        "Where x, y and z are replaced with the actual calculated numbers.\n",
        "\n",
        "Warning your output should match the Example Output format exactly, even the positions of the commas and full stops.\n",
        "\n",
        "Example Input 56 56 Example Output You have 12410 days, 1768 weeks, and 408 months left. You have 12410 days, 1768 weeks, and 408 months left. e.g. When you hit run, this is what should happen:"
      ],
      "metadata": {
        "id": "JhJ-ZZbEZBux"
      }
    },
    {
      "cell_type": "code",
      "source": [
        "age =int(input(\"What is your current age? \\n\"))\n",
        "\n",
        "days_left = 32850-age*365\n",
        "weeks_left= 4680 - age*52\n",
        "months_left = 1080- age*12\n",
        "\n",
        "print(f\"You have {days_left} days, {weeks_left} weeks, and {months_left} months left. \")\n"
      ],
      "metadata": {
        "colab": {
          "base_uri": "https://localhost:8080/"
        },
        "id": "pc8GgwDpZlCO",
        "outputId": "e40e5808-aefd-4faa-b047-57b47cb56774"
      },
      "execution_count": 49,
      "outputs": [
        {
          "output_type": "stream",
          "name": "stdout",
          "text": [
            "What is your current age? \n",
            "25\n",
            "You have 23725 days, 3380 weeks, and 780 months left. \n"
          ]
        }
      ]
    },
    {
      "cell_type": "markdown",
      "source": [
        "Conditional statement"
      ],
      "metadata": {
        "id": "_JSuOwkEbnTn"
      }
    },
    {
      "cell_type": "code",
      "source": [
        "age=int(input(\"What is your age \\n\"))\n",
        "if age<35:\n",
        "    print(\"You must be a student\")\n",
        "else:\n",
        "    print(\"You must be a lecturer\")"
      ],
      "metadata": {
        "colab": {
          "base_uri": "https://localhost:8080/"
        },
        "id": "__hPIHUDaAYq",
        "outputId": "b3a37342-6857-4c83-9783-fc43db8eef9d"
      },
      "execution_count": 51,
      "outputs": [
        {
          "output_type": "stream",
          "name": "stdout",
          "text": [
            "What is your age \n",
            "21\n",
            "You must be a student\n"
          ]
        }
      ]
    },
    {
      "cell_type": "code",
      "source": [
        "student_age=int(input(\"What is the student's age? \\n\"))\n",
        "lecturer_age=int(input(\"What is the lecturer's age? \\n\"))\n",
        "\n",
        "if student_age< lecturer_age:\n",
        "    print(\"Students are so young\")\n",
        "    print(\"Our lecturer is kinda young\")\n",
        "elif student_age>lecturer_age and student_age>50:\n",
        "    print(\"Our student must be a corporate manager\")\n",
        "\n",
        "elif student_age>lecturer_age:\n",
        "    print(\"Our lecturer is so young\") \n",
        "    print(\"Our student is so mature\")\n",
        "else:\n",
        "    print(\"Our student and our lecturer are mates!\")"
      ],
      "metadata": {
        "colab": {
          "base_uri": "https://localhost:8080/"
        },
        "id": "bjINFqoCcicm",
        "outputId": "535139f3-9923-4787-e5be-b4b32141b169"
      },
      "execution_count": 54,
      "outputs": [
        {
          "output_type": "stream",
          "name": "stdout",
          "text": [
            "What is the student's age? \n",
            "43\n",
            "What is the lecturer's age? \n",
            "43\n",
            "Our student and our lecturer are mates!\n"
          ]
        }
      ]
    },
    {
      "cell_type": "code",
      "source": [
        "height =  float(input(\"Please enter your height in meter: \\n\"))\n",
        "weight= float(input(\"Please enter your weight in kg: \\n\"))\n",
        "bmi = round(weight/(height*height),2)\n",
        "\n",
        "if bmi<=18.5:\n",
        "    print(f\"Your bmi value is {bmi}, you are underweight\")\n",
        "elif bmi<25:\n",
        "    print(f\"Your bmi value is {bmi}, you are normal weight\")\n",
        "elif bmi<30:\n",
        "    print(f\"Your bmi value is {bmi}, you are overweight\")\n",
        "elif bmi<35:\n",
        "    print(f\"Your bmi value is {bmi}, you are obese\")\n",
        "else:\n",
        "    print(f\"Your bmi value is {bmi}, you are clinically obese\")\n"
      ],
      "metadata": {
        "colab": {
          "base_uri": "https://localhost:8080/"
        },
        "id": "HVnOlQ-nhvC9",
        "outputId": "21352f64-90bc-4251-e5ee-1e26f4006b6c"
      },
      "execution_count": 62,
      "outputs": [
        {
          "output_type": "stream",
          "name": "stdout",
          "text": [
            "Please enter your height in meter: \n",
            "1.76\n",
            "Please enter your weight in kg: \n",
            "110\n",
            "Your bmi value is 35.51, you are clinically obese\n"
          ]
        }
      ]
    },
    {
      "cell_type": "markdown",
      "source": [
        "Love Calulator: You are going to write a program that tests the compatibility between two people.\n",
        "\n",
        "To work out the love score between two people:\n",
        "\n",
        "Take both people's names and check for the number of times the letters in the word TRUE occurs. Then check for the number of times the letters in the word LOVE occurs. Then combine these numbers to make a 2 digit number.\n",
        "\n",
        "For Love Scores less than 10 or greater than 90, the message should be:\n",
        "\n",
        "\"Your score is x, you go together like coke and mentos.\"\n",
        "\n",
        "For Love Scores between 40 and 50, the message should be:\n",
        "\n",
        "\"Your score is y, you are alright together.\"\n",
        "\n",
        "Otherwise, the message will just be their score. e.g.:\n",
        "\n",
        "\"Your score is z.\"\n",
        "\n",
        "Example Input 1 name1 = \"Kanye West\" name2 = \"Kim Kardashian\" Example Output 1 Your score is 42, you are alright together. Example Input 2 name1 = \"Brad Pitt\" name2 = \"Jennifer Aniston\" Example Output 2 Your score is 73.\n",
        "\n"
      ],
      "metadata": {
        "id": "xdkVrgvYlF4c"
      }
    },
    {
      "cell_type": "code",
      "source": [
        "print(\"Welcome to the Love Calculator\")\n",
        "name1=input(\"What is the name of the first person\")\n",
        "name2=input(\"What is the name of the second person\")\n",
        "\n",
        "name1=name1.lower()\n",
        "name2=name2.lower()\n",
        "\n",
        "t=name1.count(\"t\")+name2.count(\"t\")\n",
        "r=name1.count(\"r\")+name2.count(\"r\")\n",
        "u=name1.count(\"u\")+name2.count(\"u\")\n",
        "e=name1.count(\"e\")+name2.count(\"e\")\n",
        "\n",
        "l=name1.count(\"l\")+name2.count(\"l\")\n",
        "o=name1.count(\"o\")+name2.count(\"o\")\n",
        "v=name1.count(\"v\")+name2.count(\"v\")\n",
        "e=name1.count(\"e\")+name2.count(\"e\")\n",
        "\n",
        "n1=str(t+r+u+e)\n",
        "n2=str(l+o+v+e)\n",
        "score=n1+n2\n",
        "score=int(score)\n",
        "\n",
        "if score<10 and score>90:\n",
        "    print(f\"Your love score is {score}, you go together like coke and mentos.\")\n",
        "elif score>40 and score<50:\n",
        "    print(f\"Your love score is {score}, you are alright together\")\n",
        "else:\n",
        "    print(f\"Your love score is {score}\")\n",
        "\n",
        "\n",
        "\n"
      ],
      "metadata": {
        "colab": {
          "base_uri": "https://localhost:8080/"
        },
        "id": "OinrjvvDlJvZ",
        "outputId": "75884c79-6cf5-42ae-9bd2-78666978bd78"
      },
      "execution_count": 66,
      "outputs": [
        {
          "output_type": "stream",
          "name": "stdout",
          "text": [
            "Welcome to the Love Calculator\n",
            "What is the name of the first personAlvin\n",
            "What is the name of the second personLaura\n",
            "Your love score is 23\n"
          ]
        }
      ]
    },
    {
      "cell_type": "markdown",
      "source": [
        "Exercise 3:\n",
        "Conditional statement exercise BMI version 2.0:\n",
        "\n",
        "if BMI<= 18.5, underweight if 18.5<BMI <25, normal weight if 25<=bmi<30, overweight if 30<=BMI<35, obese if BMI>=35, clinicaly obese You can use fstring to print out the BMI value too."
      ],
      "metadata": {
        "id": "AU7YKLO0eRxH"
      }
    },
    {
      "cell_type": "markdown",
      "source": [
        "Ctrl+Enter to execute code in a cell\n",
        "Ctrl+m+b to add a new code cell"
      ],
      "metadata": {
        "id": "Jx3J3OfIGIIr"
      }
    },
    {
      "cell_type": "markdown",
      "source": [
        "Note: This is the first line of code I will write in Python"
      ],
      "metadata": {
        "id": "XH25cAjGEsZv"
      }
    }
  ]
}