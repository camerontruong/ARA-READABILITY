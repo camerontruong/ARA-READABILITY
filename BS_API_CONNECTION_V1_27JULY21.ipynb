{
  "nbformat": 4,
  "nbformat_minor": 0,
  "metadata": {
    "colab": {
      "name": "BS_API_CONNECTION.ipynb",
      "provenance": [],
      "toc_visible": true,
      "include_colab_link": true
    },
    "kernelspec": {
      "name": "python3",
      "display_name": "Python 3"
    },
    "language_info": {
      "name": "python"
    }
  },
  "cells": [
    {
      "cell_type": "markdown",
      "metadata": {
        "id": "view-in-github",
        "colab_type": "text"
      },
      "source": [
        "<a href=\"https://colab.research.google.com/github/camerontruong/ARA-READABILITY/blob/main/BS_API_CONNECTION_V1_27JULY21.ipynb\" target=\"_parent\"><img src=\"https://colab.research.google.com/assets/colab-badge.svg\" alt=\"Open In Colab\"/></a>"
      ]
    },
    {
      "cell_type": "code",
      "metadata": {
        "id": "i1bLtLctmkvW"
      },
      "source": [
        "api = '95a3aac577bc5eb52d543ac0850ecee2'\n",
        "end_point = 'https://financialmodelingprep.com/api/v3/balance-sheet-statement'\n",
        "params= {\n",
        "    \"apikey\": api,\n",
        "    \"limit\": 5,\n",
        "}\n",
        "company = 'AAPL'\n"
      ],
      "execution_count": null,
      "outputs": []
    },
    {
      "cell_type": "code",
      "metadata": {
        "id": "rsHdB_1kqcnG"
      },
      "source": [
        "import requests\n",
        "import pandas as pd\n",
        "BS = requests.get(f\"{end_point}/{company}\", params=params).json()\n",
        "\n",
        "BS = pd.DataFrame.from_dict(BS)\n",
        "BS"
      ],
      "execution_count": null,
      "outputs": []
    },
    {
      "cell_type": "code",
      "metadata": {
        "colab": {
          "base_uri": "https://localhost:8080/"
        },
        "id": "v1ErpdwxrqyA",
        "outputId": "519c0ce0-033b-41f7-f94c-dccd0a08d5fa"
      },
      "source": [
        "BS.columns"
      ],
      "execution_count": null,
      "outputs": [
        {
          "output_type": "execute_result",
          "data": {
            "text/plain": [
              "Index(['date', 'symbol', 'reportedCurrency', 'fillingDate', 'acceptedDate',\n",
              "       'period', 'cashAndCashEquivalents', 'shortTermInvestments',\n",
              "       'cashAndShortTermInvestments', 'netReceivables', 'inventory',\n",
              "       'otherCurrentAssets', 'totalCurrentAssets', 'propertyPlantEquipmentNet',\n",
              "       'goodwill', 'intangibleAssets', 'goodwillAndIntangibleAssets',\n",
              "       'longTermInvestments', 'taxAssets', 'otherNonCurrentAssets',\n",
              "       'totalNonCurrentAssets', 'otherAssets', 'totalAssets',\n",
              "       'accountPayables', 'shortTermDebt', 'taxPayables', 'deferredRevenue',\n",
              "       'otherCurrentLiabilities', 'totalCurrentLiabilities', 'longTermDebt',\n",
              "       'deferredRevenueNonCurrent', 'deferredTaxLiabilitiesNonCurrent',\n",
              "       'otherNonCurrentLiabilities', 'totalNonCurrentLiabilities',\n",
              "       'otherLiabilities', 'totalLiabilities', 'commonStock',\n",
              "       'retainedEarnings', 'accumulatedOtherComprehensiveIncomeLoss',\n",
              "       'othertotalStockholdersEquity', 'totalStockholdersEquity',\n",
              "       'totalLiabilitiesAndStockholdersEquity', 'totalInvestments',\n",
              "       'totalDebt', 'netDebt', 'link', 'finalLink'],\n",
              "      dtype='object')"
            ]
          },
          "metadata": {
            "tags": []
          },
          "execution_count": 35
        }
      ]
    },
    {
      "cell_type": "code",
      "metadata": {
        "id": "14SFJVNRsCJH"
      },
      "source": [
        "BS_our_Columns = ['date', 'symbol', 'reportedCurrency', 'fillingDate', 'acceptedDate',\n",
        "       'period', 'cashAndCashEquivalents', 'shortTermInvestments',\n",
        "       'cashAndShortTermInvestments', 'netReceivables', 'inventory',\n",
        "       'otherCurrentAssets', 'totalCurrentAssets', 'propertyPlantEquipmentNet',\n",
        "       'goodwill', 'intangibleAssets', 'goodwillAndIntangibleAssets',\n",
        "       'longTermInvestments', 'taxAssets', 'otherNonCurrentAssets',\n",
        "       'totalNonCurrentAssets', 'otherAssets', 'totalAssets',\n",
        "       'accountPayables', 'shortTermDebt', 'taxPayables', 'deferredRevenue',\n",
        "       'otherCurrentLiabilities', 'totalCurrentLiabilities', 'longTermDebt',\n",
        "       'deferredRevenueNonCurrent', 'deferredTaxLiabilitiesNonCurrent',\n",
        "       'otherNonCurrentLiabilities', 'totalNonCurrentLiabilities',\n",
        "       'otherLiabilities', 'totalLiabilities', 'commonStock',\n",
        "       'retainedEarnings', 'accumulatedOtherComprehensiveIncomeLoss',\n",
        "       'othertotalStockholdersEquity', 'totalStockholdersEquity',\n",
        "       'totalLiabilitiesAndStockholdersEquity', 'totalInvestments',\n",
        "       'totalDebt', 'netDebt']"
      ],
      "execution_count": null,
      "outputs": []
    },
    {
      "cell_type": "code",
      "metadata": {
        "id": "_42EqWOPz97h"
      },
      "source": [
        "BS = BS [BS_our_Columns]\n",
        "BS"
      ],
      "execution_count": null,
      "outputs": []
    },
    {
      "cell_type": "code",
      "metadata": {
        "id": "mBIjTGuW0LAS"
      },
      "source": [
        "BS=BS.T\n"
      ],
      "execution_count": null,
      "outputs": []
    },
    {
      "cell_type": "code",
      "metadata": {
        "id": "LIrVUy5m0dT6"
      },
      "source": [
        "BS.columns = BS.iloc[0]\n",
        "BS"
      ],
      "execution_count": null,
      "outputs": []
    },
    {
      "cell_type": "code",
      "metadata": {
        "id": "B41P3WVR1Eic"
      },
      "source": [
        ""
      ],
      "execution_count": null,
      "outputs": []
    },
    {
      "cell_type": "code",
      "metadata": {
        "id": "AjDlZy_G1Ls2"
      },
      "source": [
        "BS = BS. iloc[1:]\n",
        "BS"
      ],
      "execution_count": null,
      "outputs": []
    },
    {
      "cell_type": "code",
      "metadata": {
        "id": "OPehzpeH2O-n"
      },
      "source": [
        "import requests\n",
        "import pandas as pd\n",
        "api = '95a3aac577bc5eb52d543ac0850ecee2'\n",
        "end_point = 'https://financialmodelingprep.com/api/v3/stock-screener'\n",
        "params= {\n",
        "    \"apikey\": api,\n",
        "    \"limit\": 10,\n",
        "    \"marketCapMoreThan\": 100000000000,\n",
        "    \"sector\": 'Technology',\n",
        "    \"exchange\": 'NASDAQ'\n",
        "\n",
        "}\n",
        "screener = requests.get(end_point,params=params).json()\n",
        "    \n",
        "screener"
      ],
      "execution_count": null,
      "outputs": []
    },
    {
      "cell_type": "code",
      "metadata": {
        "colab": {
          "base_uri": "https://localhost:8080/"
        },
        "id": "30PQxseu4Gw2",
        "outputId": "4ff5fcb6-7071-4aec-d650-e06051796716"
      },
      "source": [
        "tickers = [item['symbol'] for item in screener]\n",
        "tickers"
      ],
      "execution_count": null,
      "outputs": [
        {
          "output_type": "execute_result",
          "data": {
            "text/plain": [
              "['AAPL', 'MSFT', 'NVDA', 'ASML', 'ADBE', 'CSCO', 'INTC', 'AVGO', 'TXN', 'QCOM']"
            ]
          },
          "metadata": {
            "tags": []
          },
          "execution_count": 59
        }
      ]
    },
    {
      "cell_type": "code",
      "metadata": {
        "id": "gQJ2Rd_e6gMu"
      },
      "source": [
        "api = '95a3aac577bc5eb52d543ac0850ecee2'\n",
        "end_point = 'https://financialmodelingprep.com/api/v3/balance-sheet-statement'\n",
        "params= {\n",
        "    \"apikey\": api,\n",
        "    \"limit\": 1,\n",
        "}\n",
        "\n",
        "companies ={}\n",
        "\n",
        "for ticker in tickers:\n",
        "  BS = requests.get(f\"{end_point}/{ticker}\", params=params).json()\n",
        "  companies[ticker]=BS[0]\n",
        "\n",
        "companies\n"
      ],
      "execution_count": null,
      "outputs": []
    },
    {
      "cell_type": "code",
      "metadata": {
        "id": "qR83nRRO7jLJ"
      },
      "source": [
        "BS_industry= pd.DataFrame.from_dict(companies)\n",
        "BS_industry"
      ],
      "execution_count": null,
      "outputs": []
    },
    {
      "cell_type": "code",
      "metadata": {
        "id": "qtMbuIoO73uu"
      },
      "source": [
        "BS_our_Columns = ['date', 'symbol', 'reportedCurrency', 'fillingDate', 'acceptedDate',\n",
        "       'period', 'cashAndCashEquivalents', 'shortTermInvestments',\n",
        "       'cashAndShortTermInvestments', 'netReceivables', 'inventory',\n",
        "       'otherCurrentAssets', 'totalCurrentAssets', 'propertyPlantEquipmentNet',\n",
        "       'goodwill', 'intangibleAssets', 'goodwillAndIntangibleAssets',\n",
        "       'longTermInvestments', 'taxAssets', 'otherNonCurrentAssets',\n",
        "       'totalNonCurrentAssets', 'otherAssets', 'totalAssets',\n",
        "       'accountPayables', 'shortTermDebt', 'taxPayables', 'deferredRevenue',\n",
        "       'otherCurrentLiabilities', 'totalCurrentLiabilities', 'longTermDebt',\n",
        "       'deferredRevenueNonCurrent', 'deferredTaxLiabilitiesNonCurrent',\n",
        "       'otherNonCurrentLiabilities', 'totalNonCurrentLiabilities',\n",
        "       'otherLiabilities', 'totalLiabilities', 'commonStock',\n",
        "       'retainedEarnings', 'accumulatedOtherComprehensiveIncomeLoss',\n",
        "       'othertotalStockholdersEquity', 'totalStockholdersEquity',\n",
        "       'totalLiabilitiesAndStockholdersEquity', 'totalInvestments',\n",
        "       'totalDebt', 'netDebt']"
      ],
      "execution_count": null,
      "outputs": []
    },
    {
      "cell_type": "code",
      "metadata": {
        "id": "YyucEMwBKJeW"
      },
      "source": [
        "BS_industry=BS_industry.T\n",
        "BS_industry"
      ],
      "execution_count": null,
      "outputs": []
    },
    {
      "cell_type": "code",
      "metadata": {
        "id": "59E4Wr-4Ka7u"
      },
      "source": [
        "# BS_industry=BS_industry[BS_our_Columns]\n",
        "# BS_industry=BS_industry.T\n",
        "BS_industry"
      ],
      "execution_count": null,
      "outputs": []
    },
    {
      "cell_type": "code",
      "metadata": {
        "id": "JPAVLm9_K8oT"
      },
      "source": [
        "BS_industry1 = BS_industry.iloc[6:]/1000000\n",
        "BS_industry1"
      ],
      "execution_count": null,
      "outputs": []
    },
    {
      "cell_type": "code",
      "metadata": {
        "id": "9-Oj04QyLfnA"
      },
      "source": [
        "BS_industry1= BS_industry1.T\n",
        "BS_industry1"
      ],
      "execution_count": null,
      "outputs": []
    },
    {
      "cell_type": "code",
      "metadata": {
        "id": "omsfikWPLw_F"
      },
      "source": [
        "BS_industry1.cashAndCashEquivalents.plot(legend=True, figsize = (15,5))"
      ],
      "execution_count": null,
      "outputs": []
    },
    {
      "cell_type": "code",
      "metadata": {
        "id": "XZ4Q8yGLPbnQ"
      },
      "source": [
        "total_assets= BS_industry1.T.iloc[16]\n"
      ],
      "execution_count": null,
      "outputs": []
    },
    {
      "cell_type": "code",
      "metadata": {
        "id": "Ls5xxSrmQJH6"
      },
      "source": [
        "common_size=BS_industry1.T/total_assets\n",
        "common_size"
      ],
      "execution_count": null,
      "outputs": []
    },
    {
      "cell_type": "code",
      "metadata": {
        "id": "3Mivz_XfRbQX"
      },
      "source": [
        " import requests\n",
        " import plotly.express as px\n",
        " companies = ['AAPL', 'MSFT', 'NVDA', 'ASML', 'ADBE', 'CSCO', 'INTC', 'AVGO', 'TXN', 'QCOM']\n",
        " assets = []\n",
        " liabilities =[] \n",
        " equities = []\n",
        "\n",
        "api = '95a3aac577bc5eb52d543ac0850ecee2'\n",
        "end_point = 'https://financialmodelingprep.com/api/v3/balance-sheet-statement'\n",
        "params= {\n",
        "    \"apikey\": api,\n",
        "    \"limit\": 1,\n",
        "}\n",
        "\n",
        "for company in companies:\n",
        "  BS = requests.get(f\"{end_point}/{company}\", params=params).json()\n",
        "  print(company)\n",
        "  assets.append(BS[0]['totalAssets'])\n",
        "  print(BS[0]['totalAssets'])\n",
        "  liabilities.append(BS[0]['totalLiabilities'])\n",
        "  print(BS[0]['totalLiabilities'])\n",
        "  equities.append(BS[0]['totalStockholdersEquity'])\n",
        "  print(BS[0]['totalStockholdersEquity'])"
      ],
      "execution_count": null,
      "outputs": []
    },
    {
      "cell_type": "code",
      "metadata": {
        "colab": {
          "base_uri": "https://localhost:8080/",
          "height": 542
        },
        "id": "kKhmojcLUGCG",
        "outputId": "13720bcb-03c2-4b39-f1f7-5eb8dd15bfbd"
      },
      "source": [
        " import plotly.graph_objects as go\n",
        "fig =go.Figure(data=[\n",
        "                     go.Bar(name='Assets', x=companies, y=assets),\n",
        "                     go.Bar(name='Liabilities', x=companies, y=liabilities),\n",
        "                     go.Bar(name='Equities', x=companies, y=equities),\n",
        "])\n",
        "fig.update_layout(barmode= 'stack', title = 'Balance Sheet Lastest Annual')\n",
        "fig.show()"
      ],
      "execution_count": null,
      "outputs": [
        {
          "output_type": "display_data",
          "data": {
            "text/html": [
              "<html>\n",
              "<head><meta charset=\"utf-8\" /></head>\n",
              "<body>\n",
              "    <div>\n",
              "            <script src=\"https://cdnjs.cloudflare.com/ajax/libs/mathjax/2.7.5/MathJax.js?config=TeX-AMS-MML_SVG\"></script><script type=\"text/javascript\">if (window.MathJax) {MathJax.Hub.Config({SVG: {font: \"STIX-Web\"}});}</script>\n",
              "                <script type=\"text/javascript\">window.PlotlyConfig = {MathJaxConfig: 'local'};</script>\n",
              "        <script src=\"https://cdn.plot.ly/plotly-latest.min.js\"></script>    \n",
              "            <div id=\"d2ff4539-737b-4a39-bd6d-92a9abbc2f7a\" class=\"plotly-graph-div\" style=\"height:525px; width:100%;\"></div>\n",
              "            <script type=\"text/javascript\">\n",
              "                \n",
              "                    window.PLOTLYENV=window.PLOTLYENV || {};\n",
              "                    \n",
              "                if (document.getElementById(\"d2ff4539-737b-4a39-bd6d-92a9abbc2f7a\")) {\n",
              "                    Plotly.newPlot(\n",
              "                        'd2ff4539-737b-4a39-bd6d-92a9abbc2f7a',\n",
              "                        [{\"name\": \"Assets\", \"type\": \"bar\", \"x\": [\"AAPL\", \"MSFT\", \"NVDA\", \"ASML\", \"ADBE\", \"CSCO\", \"INTC\", \"AVGO\", \"TXN\", \"QCOM\"], \"y\": [323888000000, 301311000000, 28791000000, 27267400000, 24284000000, 94853000000, 153091000000, 75933000000, 19351000000, 35594000000]}, {\"name\": \"Liabilities\", \"type\": \"bar\", \"x\": [\"AAPL\", \"MSFT\", \"NVDA\", \"ASML\", \"ADBE\", \"CSCO\", \"INTC\", \"AVGO\", \"TXN\", \"QCOM\"], \"y\": [258549000000, 183007000000, 11898000000, 13402000000, 11020000000, 56933000000, 72053000000, 52032000000, 10164000000, 29517000000]}, {\"name\": \"Equities\", \"type\": \"bar\", \"x\": [\"AAPL\", \"MSFT\", \"NVDA\", \"ASML\", \"ADBE\", \"CSCO\", \"INTC\", \"AVGO\", \"TXN\", \"QCOM\"], \"y\": [65339000000, 118304000000, 16893000000, 13865400000, 13264000000, 37920000000, 81038000000, 23901000000, 9187000000, 6077000000]}],\n",
              "                        {\"barmode\": \"stack\", \"template\": {\"data\": {\"bar\": [{\"error_x\": {\"color\": \"#2a3f5f\"}, \"error_y\": {\"color\": \"#2a3f5f\"}, \"marker\": {\"line\": {\"color\": \"#E5ECF6\", \"width\": 0.5}}, \"type\": \"bar\"}], \"barpolar\": [{\"marker\": {\"line\": {\"color\": \"#E5ECF6\", \"width\": 0.5}}, \"type\": \"barpolar\"}], \"carpet\": [{\"aaxis\": {\"endlinecolor\": \"#2a3f5f\", \"gridcolor\": \"white\", \"linecolor\": \"white\", \"minorgridcolor\": \"white\", \"startlinecolor\": \"#2a3f5f\"}, \"baxis\": {\"endlinecolor\": \"#2a3f5f\", \"gridcolor\": \"white\", \"linecolor\": \"white\", \"minorgridcolor\": \"white\", \"startlinecolor\": \"#2a3f5f\"}, \"type\": \"carpet\"}], \"choropleth\": [{\"colorbar\": {\"outlinewidth\": 0, \"ticks\": \"\"}, \"type\": \"choropleth\"}], \"contour\": [{\"colorbar\": {\"outlinewidth\": 0, \"ticks\": \"\"}, \"colorscale\": [[0.0, \"#0d0887\"], [0.1111111111111111, \"#46039f\"], [0.2222222222222222, \"#7201a8\"], [0.3333333333333333, \"#9c179e\"], [0.4444444444444444, \"#bd3786\"], [0.5555555555555556, \"#d8576b\"], [0.6666666666666666, \"#ed7953\"], [0.7777777777777778, \"#fb9f3a\"], [0.8888888888888888, \"#fdca26\"], [1.0, \"#f0f921\"]], \"type\": \"contour\"}], \"contourcarpet\": [{\"colorbar\": {\"outlinewidth\": 0, \"ticks\": \"\"}, \"type\": \"contourcarpet\"}], \"heatmap\": [{\"colorbar\": {\"outlinewidth\": 0, \"ticks\": \"\"}, \"colorscale\": [[0.0, \"#0d0887\"], [0.1111111111111111, \"#46039f\"], [0.2222222222222222, \"#7201a8\"], [0.3333333333333333, \"#9c179e\"], [0.4444444444444444, \"#bd3786\"], [0.5555555555555556, \"#d8576b\"], [0.6666666666666666, \"#ed7953\"], [0.7777777777777778, \"#fb9f3a\"], [0.8888888888888888, \"#fdca26\"], [1.0, \"#f0f921\"]], \"type\": \"heatmap\"}], \"heatmapgl\": [{\"colorbar\": {\"outlinewidth\": 0, \"ticks\": \"\"}, \"colorscale\": [[0.0, \"#0d0887\"], [0.1111111111111111, \"#46039f\"], [0.2222222222222222, \"#7201a8\"], [0.3333333333333333, \"#9c179e\"], [0.4444444444444444, \"#bd3786\"], [0.5555555555555556, \"#d8576b\"], [0.6666666666666666, \"#ed7953\"], [0.7777777777777778, \"#fb9f3a\"], [0.8888888888888888, \"#fdca26\"], [1.0, \"#f0f921\"]], \"type\": \"heatmapgl\"}], \"histogram\": [{\"marker\": {\"colorbar\": {\"outlinewidth\": 0, \"ticks\": \"\"}}, \"type\": \"histogram\"}], \"histogram2d\": [{\"colorbar\": {\"outlinewidth\": 0, \"ticks\": \"\"}, \"colorscale\": [[0.0, \"#0d0887\"], [0.1111111111111111, \"#46039f\"], [0.2222222222222222, \"#7201a8\"], [0.3333333333333333, \"#9c179e\"], [0.4444444444444444, \"#bd3786\"], [0.5555555555555556, \"#d8576b\"], [0.6666666666666666, \"#ed7953\"], [0.7777777777777778, \"#fb9f3a\"], [0.8888888888888888, \"#fdca26\"], [1.0, \"#f0f921\"]], \"type\": \"histogram2d\"}], \"histogram2dcontour\": [{\"colorbar\": {\"outlinewidth\": 0, \"ticks\": \"\"}, \"colorscale\": [[0.0, \"#0d0887\"], [0.1111111111111111, \"#46039f\"], [0.2222222222222222, \"#7201a8\"], [0.3333333333333333, \"#9c179e\"], [0.4444444444444444, \"#bd3786\"], [0.5555555555555556, \"#d8576b\"], [0.6666666666666666, \"#ed7953\"], [0.7777777777777778, \"#fb9f3a\"], [0.8888888888888888, \"#fdca26\"], [1.0, \"#f0f921\"]], \"type\": \"histogram2dcontour\"}], \"mesh3d\": [{\"colorbar\": {\"outlinewidth\": 0, \"ticks\": \"\"}, \"type\": \"mesh3d\"}], \"parcoords\": [{\"line\": {\"colorbar\": {\"outlinewidth\": 0, \"ticks\": \"\"}}, \"type\": \"parcoords\"}], \"pie\": [{\"automargin\": true, \"type\": \"pie\"}], \"scatter\": [{\"marker\": {\"colorbar\": {\"outlinewidth\": 0, \"ticks\": \"\"}}, \"type\": \"scatter\"}], \"scatter3d\": [{\"line\": {\"colorbar\": {\"outlinewidth\": 0, \"ticks\": \"\"}}, \"marker\": {\"colorbar\": {\"outlinewidth\": 0, \"ticks\": \"\"}}, \"type\": \"scatter3d\"}], \"scattercarpet\": [{\"marker\": {\"colorbar\": {\"outlinewidth\": 0, \"ticks\": \"\"}}, \"type\": \"scattercarpet\"}], \"scattergeo\": [{\"marker\": {\"colorbar\": {\"outlinewidth\": 0, \"ticks\": \"\"}}, \"type\": \"scattergeo\"}], \"scattergl\": [{\"marker\": {\"colorbar\": {\"outlinewidth\": 0, \"ticks\": \"\"}}, \"type\": \"scattergl\"}], \"scattermapbox\": [{\"marker\": {\"colorbar\": {\"outlinewidth\": 0, \"ticks\": \"\"}}, \"type\": \"scattermapbox\"}], \"scatterpolar\": [{\"marker\": {\"colorbar\": {\"outlinewidth\": 0, \"ticks\": \"\"}}, \"type\": \"scatterpolar\"}], \"scatterpolargl\": [{\"marker\": {\"colorbar\": {\"outlinewidth\": 0, \"ticks\": \"\"}}, \"type\": \"scatterpolargl\"}], \"scatterternary\": [{\"marker\": {\"colorbar\": {\"outlinewidth\": 0, \"ticks\": \"\"}}, \"type\": \"scatterternary\"}], \"surface\": [{\"colorbar\": {\"outlinewidth\": 0, \"ticks\": \"\"}, \"colorscale\": [[0.0, \"#0d0887\"], [0.1111111111111111, \"#46039f\"], [0.2222222222222222, \"#7201a8\"], [0.3333333333333333, \"#9c179e\"], [0.4444444444444444, \"#bd3786\"], [0.5555555555555556, \"#d8576b\"], [0.6666666666666666, \"#ed7953\"], [0.7777777777777778, \"#fb9f3a\"], [0.8888888888888888, \"#fdca26\"], [1.0, \"#f0f921\"]], \"type\": \"surface\"}], \"table\": [{\"cells\": {\"fill\": {\"color\": \"#EBF0F8\"}, \"line\": {\"color\": \"white\"}}, \"header\": {\"fill\": {\"color\": \"#C8D4E3\"}, \"line\": {\"color\": \"white\"}}, \"type\": \"table\"}]}, \"layout\": {\"annotationdefaults\": {\"arrowcolor\": \"#2a3f5f\", \"arrowhead\": 0, \"arrowwidth\": 1}, \"coloraxis\": {\"colorbar\": {\"outlinewidth\": 0, \"ticks\": \"\"}}, \"colorscale\": {\"diverging\": [[0, \"#8e0152\"], [0.1, \"#c51b7d\"], [0.2, \"#de77ae\"], [0.3, \"#f1b6da\"], [0.4, \"#fde0ef\"], [0.5, \"#f7f7f7\"], [0.6, \"#e6f5d0\"], [0.7, \"#b8e186\"], [0.8, \"#7fbc41\"], [0.9, \"#4d9221\"], [1, \"#276419\"]], \"sequential\": [[0.0, \"#0d0887\"], [0.1111111111111111, \"#46039f\"], [0.2222222222222222, \"#7201a8\"], [0.3333333333333333, \"#9c179e\"], [0.4444444444444444, \"#bd3786\"], [0.5555555555555556, \"#d8576b\"], [0.6666666666666666, \"#ed7953\"], [0.7777777777777778, \"#fb9f3a\"], [0.8888888888888888, \"#fdca26\"], [1.0, \"#f0f921\"]], \"sequentialminus\": [[0.0, \"#0d0887\"], [0.1111111111111111, \"#46039f\"], [0.2222222222222222, \"#7201a8\"], [0.3333333333333333, \"#9c179e\"], [0.4444444444444444, \"#bd3786\"], [0.5555555555555556, \"#d8576b\"], [0.6666666666666666, \"#ed7953\"], [0.7777777777777778, \"#fb9f3a\"], [0.8888888888888888, \"#fdca26\"], [1.0, \"#f0f921\"]]}, \"colorway\": [\"#636efa\", \"#EF553B\", \"#00cc96\", \"#ab63fa\", \"#FFA15A\", \"#19d3f3\", \"#FF6692\", \"#B6E880\", \"#FF97FF\", \"#FECB52\"], \"font\": {\"color\": \"#2a3f5f\"}, \"geo\": {\"bgcolor\": \"white\", \"lakecolor\": \"white\", \"landcolor\": \"#E5ECF6\", \"showlakes\": true, \"showland\": true, \"subunitcolor\": \"white\"}, \"hoverlabel\": {\"align\": \"left\"}, \"hovermode\": \"closest\", \"mapbox\": {\"style\": \"light\"}, \"paper_bgcolor\": \"white\", \"plot_bgcolor\": \"#E5ECF6\", \"polar\": {\"angularaxis\": {\"gridcolor\": \"white\", \"linecolor\": \"white\", \"ticks\": \"\"}, \"bgcolor\": \"#E5ECF6\", \"radialaxis\": {\"gridcolor\": \"white\", \"linecolor\": \"white\", \"ticks\": \"\"}}, \"scene\": {\"xaxis\": {\"backgroundcolor\": \"#E5ECF6\", \"gridcolor\": \"white\", \"gridwidth\": 2, \"linecolor\": \"white\", \"showbackground\": true, \"ticks\": \"\", \"zerolinecolor\": \"white\"}, \"yaxis\": {\"backgroundcolor\": \"#E5ECF6\", \"gridcolor\": \"white\", \"gridwidth\": 2, \"linecolor\": \"white\", \"showbackground\": true, \"ticks\": \"\", \"zerolinecolor\": \"white\"}, \"zaxis\": {\"backgroundcolor\": \"#E5ECF6\", \"gridcolor\": \"white\", \"gridwidth\": 2, \"linecolor\": \"white\", \"showbackground\": true, \"ticks\": \"\", \"zerolinecolor\": \"white\"}}, \"shapedefaults\": {\"line\": {\"color\": \"#2a3f5f\"}}, \"ternary\": {\"aaxis\": {\"gridcolor\": \"white\", \"linecolor\": \"white\", \"ticks\": \"\"}, \"baxis\": {\"gridcolor\": \"white\", \"linecolor\": \"white\", \"ticks\": \"\"}, \"bgcolor\": \"#E5ECF6\", \"caxis\": {\"gridcolor\": \"white\", \"linecolor\": \"white\", \"ticks\": \"\"}}, \"title\": {\"x\": 0.05}, \"xaxis\": {\"automargin\": true, \"gridcolor\": \"white\", \"linecolor\": \"white\", \"ticks\": \"\", \"title\": {\"standoff\": 15}, \"zerolinecolor\": \"white\", \"zerolinewidth\": 2}, \"yaxis\": {\"automargin\": true, \"gridcolor\": \"white\", \"linecolor\": \"white\", \"ticks\": \"\", \"title\": {\"standoff\": 15}, \"zerolinecolor\": \"white\", \"zerolinewidth\": 2}}}, \"title\": {\"text\": \"Balance Sheet Lastest Annual\"}},\n",
              "                        {\"responsive\": true}\n",
              "                    ).then(function(){\n",
              "                            \n",
              "var gd = document.getElementById('d2ff4539-737b-4a39-bd6d-92a9abbc2f7a');\n",
              "var x = new MutationObserver(function (mutations, observer) {{\n",
              "        var display = window.getComputedStyle(gd).display;\n",
              "        if (!display || display === 'none') {{\n",
              "            console.log([gd, 'removed!']);\n",
              "            Plotly.purge(gd);\n",
              "            observer.disconnect();\n",
              "        }}\n",
              "}});\n",
              "\n",
              "// Listen for the removal of the full notebook cells\n",
              "var notebookContainer = gd.closest('#notebook-container');\n",
              "if (notebookContainer) {{\n",
              "    x.observe(notebookContainer, {childList: true});\n",
              "}}\n",
              "\n",
              "// Listen for the clearing of the current output cell\n",
              "var outputEl = gd.closest('.output');\n",
              "if (outputEl) {{\n",
              "    x.observe(outputEl, {childList: true});\n",
              "}}\n",
              "\n",
              "                        })\n",
              "                };\n",
              "                \n",
              "            </script>\n",
              "        </div>\n",
              "</body>\n",
              "</html>"
            ]
          },
          "metadata": {
            "tags": []
          }
        }
      ]
    },
    {
      "cell_type": "code",
      "metadata": {
        "id": "jDRhq2pnUE49"
      },
      "source": [
        "\n"
      ],
      "execution_count": null,
      "outputs": []
    }
  ]
}