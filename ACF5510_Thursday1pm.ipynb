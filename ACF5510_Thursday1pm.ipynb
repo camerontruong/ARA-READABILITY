{
  "nbformat": 4,
  "nbformat_minor": 0,
  "metadata": {
    "colab": {
      "name": "ACF5510_Thursday1pm.ipynb",
      "provenance": [],
      "authorship_tag": "ABX9TyPoOqK406ofYI0CTZsHSg4M",
      "include_colab_link": true
    },
    "kernelspec": {
      "name": "python3",
      "display_name": "Python 3"
    },
    "language_info": {
      "name": "python"
    }
  },
  "cells": [
    {
      "cell_type": "markdown",
      "metadata": {
        "id": "view-in-github",
        "colab_type": "text"
      },
      "source": [
        "<a href=\"https://colab.research.google.com/github/camerontruong/ARA-READABILITY/blob/main/ACF5510_Thursday1pm.ipynb\" target=\"_parent\"><img src=\"https://colab.research.google.com/assets/colab-badge.svg\" alt=\"Open In Colab\"/></a>"
      ]
    },
    {
      "cell_type": "markdown",
      "source": [
        "Love Calulator: You are going to write a program that tests the compatibility between two people.\n",
        "\n",
        "To work out the love score between two people:\n",
        "\n",
        "Take both people's names and check for the number of times the letters in the word TRUE occurs. Then check for the number of times the letters in the word LOVE occurs. Then combine these numbers to make a 2 digit number.\n",
        "\n",
        "For Love Scores less than 10 or greater than 90, the message should be:\n",
        "\n",
        "\"Your score is x, you go together like coke and mentos.\"\n",
        "\n",
        "For Love Scores between 40 and 50, the message should be:\n",
        "\n",
        "\"Your score is y, you are alright together.\"\n",
        "\n",
        "Otherwise, the message will just be their score. e.g.:\n",
        "\n",
        "\"Your score is z.\"\n",
        "\n",
        "Example Input 1 name1 = \"Kanye West\" name2 = \"Kim Kardashian\" Example Output 1 Your score is 42, you are alright together. Example Input 2 name1 = \"Brad Pitt\" name2 = \"Jennifer Aniston\" Example Output 2 Your score is 73."
      ],
      "metadata": {
        "id": "aDthQ19AKduu"
      }
    },
    {
      "cell_type": "code",
      "source": [
        "print(\"Welcome to the Love Score\")\n",
        "name1=input(\"What is your name? \\n\")\n",
        "name2=input(\"What is the other person's name? \\n\")\n",
        "# print(name1,name2)\n",
        "name1=name1.lower()\n",
        "name2=name2.lower()\n",
        "\n",
        "t=name1.count('t')+name2.count('t')\n",
        "r=name1.count('r')+name2.count('r')\n",
        "u=name1.count('u')+name2.count('u')\n",
        "e=name1.count('e')+name2.count('e')\n",
        "\n",
        "l=name1.count('l')+name2.count('l')\n",
        "o=name1.count('o')+name2.count('o')\n",
        "v=name1.count('v')+name2.count('v')\n",
        "e=name1.count('e')+name2.count('e')\n",
        "\n",
        "number1=t+r+u+e\n",
        "number2=l+o+v+e\n",
        "score=str(number1)+str(number2)\n",
        "score=int(score)\n",
        "\n",
        "if score<10 or score>90:\n",
        "    print(f\"Your love score is {score}, you go together like coke and mentos.\")\n",
        "elif score>40 and score<50:\n",
        "    print(f\"Your love score is {score}, you are alright together. \")\n",
        "else:\n",
        "    print(f\"Your love score is {score}.\")\n"
      ],
      "metadata": {
        "colab": {
          "base_uri": "https://localhost:8080/"
        },
        "id": "2f-7Tr1IKfgm",
        "outputId": "0e57deb2-ee9c-4790-fcf7-ad89dc523c95"
      },
      "execution_count": 6,
      "outputs": [
        {
          "output_type": "stream",
          "name": "stdout",
          "text": [
            "Welcome to the Love Score\n",
            "What is your name? \n",
            "Kayne West\n",
            "What is the other person's name? \n",
            "Kim Kardashian\n",
            "Your love score is 42, you are alright together. \n"
          ]
        }
      ]
    },
    {
      "cell_type": "code",
      "source": [
        "number =int(input(\"Please give a number \\n\"))\n",
        "check=number%2\n",
        "\n",
        "if check==0:\n",
        "    print(\"This is an even number\")\n",
        "else:\n",
        "    print(\"This is an odd number\")"
      ],
      "metadata": {
        "colab": {
          "base_uri": "https://localhost:8080/"
        },
        "id": "b94H4YR3Pq5H",
        "outputId": "6844bd5f-8c26-413b-a328-a87d1112df95"
      },
      "execution_count": 10,
      "outputs": [
        {
          "output_type": "stream",
          "name": "stdout",
          "text": [
            "Please give a number \n",
            "7\n",
            "This is an odd number\n"
          ]
        }
      ]
    },
    {
      "cell_type": "code",
      "source": [
        "#LOOPS\n",
        "for i in range(1,101):\n",
        "    print(i)"
      ],
      "metadata": {
        "id": "dJoMIMXLQBAu"
      },
      "execution_count": null,
      "outputs": []
    },
    {
      "cell_type": "code",
      "source": [
        "#Exercise: print out odd number between 1 to 100\n",
        "for i in range(1,101):\n",
        "    if i%2!=0:\n",
        "        print(i)\n",
        "        "
      ],
      "metadata": {
        "id": "xaqb_m_BRkap"
      },
      "execution_count": null,
      "outputs": []
    },
    {
      "cell_type": "code",
      "source": [
        "#Exercise: sum all odd numbers between 1 to 100\n",
        "odd_sum=0\n",
        "for i in range(1,100000001):\n",
        "    if i%2!=0:\n",
        "        odd_sum+=i\n",
        "print(f\"The sum of all odd numbers from 1 to 100 is: {odd_sum}\")"
      ],
      "metadata": {
        "colab": {
          "base_uri": "https://localhost:8080/"
        },
        "id": "h_xuuJAFSp2W",
        "outputId": "4a4413da-6232-4d7a-9aee-ce04e6e32cf3"
      },
      "execution_count": 17,
      "outputs": [
        {
          "output_type": "stream",
          "name": "stdout",
          "text": [
            "The sum of all odd numbers from 1 to 100 is: 2500000000000000\n"
          ]
        }
      ]
    },
    {
      "cell_type": "code",
      "source": [
        "#WHILE LOOP\n",
        "i=1\n",
        "while i<=100:\n",
        "    print(i)\n",
        "    i+=1"
      ],
      "metadata": {
        "id": "5NrtjXSZUQrd"
      },
      "execution_count": null,
      "outputs": []
    },
    {
      "cell_type": "code",
      "source": [
        "i=1\n",
        "while i<=100:\n",
        "    if i%2!=0:\n",
        "        print(i)\n",
        "    i+=1"
      ],
      "metadata": {
        "id": "fHdgMLzeVDZI"
      },
      "execution_count": null,
      "outputs": []
    },
    {
      "cell_type": "code",
      "source": [
        "i=1\n",
        "odd_sum=0\n",
        "while i<=100:\n",
        "    if i%2!=0:\n",
        "        odd_sum+=i\n",
        "    i+=1\n",
        "print(f\"The sum of all odd numbers from 1 to 100 is : {odd_sum}\")"
      ],
      "metadata": {
        "colab": {
          "base_uri": "https://localhost:8080/"
        },
        "id": "hzKgrrS4Wp8F",
        "outputId": "12244f7b-fec9-43de-a9c6-38d0662bafa4"
      },
      "execution_count": 22,
      "outputs": [
        {
          "output_type": "stream",
          "name": "stdout",
          "text": [
            "The sum of all odd numbers from 1 to 100 is : 2500\n"
          ]
        }
      ]
    },
    {
      "cell_type": "code",
      "source": [
        "# Instructions You are going to write a program that automatically prints the solution to the FizzBuzz game.\n",
        "# Your program should print each number from 1 to 100 in turn.\n",
        "# When the number is divisible by 3 then instead of printing the number it should print \"Fizz\".\n",
        "# When the number is divisible by 5, then instead of printing the number it should print \"Buzz\". When the number is divisible by 5,\n",
        "# then instead of printing the number it should print \"Buzz\". \n",
        "#And if the number is divisible by both 3 and 5 e.g. 15 then instead of the number it should print \"FizzBuzz\" \n",
        "# 1 2 Fizz 4 Buzz Fizz 7 8 Fizz Buzz 11 Fizz 13 14 FizzBuzz .... etc.\n",
        "# Hint Remember your answer should start from 1 and go up to and including 100.\n",
        "# Each number/text should be printed on a separate line.\n",
        "\n",
        "for i in range (1,101):\n",
        "    if i%3==0:\n",
        "        if i%5==0:\n",
        "            print(\"FIZZBUZZ\")\n",
        "        else:\n",
        "            print(\"FIZZ\")\n",
        "    elif i%5==0:\n",
        "        print(\"BUZZ\")\n",
        "    else:\n",
        "        print(i)\n"
      ],
      "metadata": {
        "id": "gy0pbLbDXcoZ"
      },
      "execution_count": null,
      "outputs": []
    },
    {
      "cell_type": "code",
      "source": [
        "#LIST\n",
        "fruits = ['apple','banana','mango']\n",
        "print(fruits)\n",
        "type(fruits)\n",
        "len(fruits)"
      ],
      "metadata": {
        "colab": {
          "base_uri": "https://localhost:8080/"
        },
        "id": "Z7qJqqp1Z65x",
        "outputId": "36245f84-3632-44ad-c167-9879e9fecf4d"
      },
      "execution_count": 26,
      "outputs": [
        {
          "output_type": "stream",
          "name": "stdout",
          "text": [
            "['apple', 'banana', 'mango']\n"
          ]
        },
        {
          "output_type": "execute_result",
          "data": {
            "text/plain": [
              "3"
            ]
          },
          "metadata": {},
          "execution_count": 26
        }
      ]
    },
    {
      "cell_type": "code",
      "source": [
        "fruits.append(\"pear\")\n",
        "fruits"
      ],
      "metadata": {
        "colab": {
          "base_uri": "https://localhost:8080/"
        },
        "id": "Moqc7C3vaZo-",
        "outputId": "42bf7624-ff31-4d6d-cd86-4fac1e13a487"
      },
      "execution_count": 27,
      "outputs": [
        {
          "output_type": "execute_result",
          "data": {
            "text/plain": [
              "['apple', 'banana', 'mango', 'pear']"
            ]
          },
          "metadata": {},
          "execution_count": 27
        }
      ]
    },
    {
      "cell_type": "code",
      "source": [
        "fruits.index('mango')"
      ],
      "metadata": {
        "colab": {
          "base_uri": "https://localhost:8080/"
        },
        "id": "wo9ckOO5auVZ",
        "outputId": "2d71429b-98a7-44b5-bb98-e05367cf0ae3"
      },
      "execution_count": 28,
      "outputs": [
        {
          "output_type": "execute_result",
          "data": {
            "text/plain": [
              "2"
            ]
          },
          "metadata": {},
          "execution_count": 28
        }
      ]
    },
    {
      "cell_type": "code",
      "source": [
        "fruits.remove('banana')\n",
        "fruits"
      ],
      "metadata": {
        "colab": {
          "base_uri": "https://localhost:8080/"
        },
        "id": "TEIc_1GRa4b6",
        "outputId": "8e948cd3-1e38-4890-b959-40a0b0dfc9c6"
      },
      "execution_count": 29,
      "outputs": [
        {
          "output_type": "execute_result",
          "data": {
            "text/plain": [
              "['apple', 'mango', 'pear']"
            ]
          },
          "metadata": {},
          "execution_count": 29
        }
      ]
    },
    {
      "cell_type": "code",
      "source": [
        "all_names =input(\"Pleas give everyone's names, seperated by comma. \\n\")\n",
        "names=all_names.split(\",\")\n",
        "names\n",
        "\n",
        "import random\n",
        "payer=random.choice(names)\n",
        "print(f\"The payer for the meal today is {payer}\")"
      ],
      "metadata": {
        "colab": {
          "base_uri": "https://localhost:8080/"
        },
        "id": "pO3G4hnBbJOA",
        "outputId": "16361c97-0970-45b5-8c1c-f2db08bc1607"
      },
      "execution_count": 33,
      "outputs": [
        {
          "output_type": "stream",
          "name": "stdout",
          "text": [
            "Pleas give everyone's names, seperated by comma. \n",
            "Cam,Alvin,Maya,Amy,Chris,Russell,Joey\n",
            "The payer for the meal today is Amy\n"
          ]
        }
      ]
    },
    {
      "cell_type": "code",
      "source": [
        "#Password Generator Project\n",
        "import random\n",
        "letters = ['a', 'b', 'c', 'd', 'e', 'f', 'g', 'h', 'i', 'j', 'k', 'l', 'm', 'n', 'o', 'p', 'q', 'r', 's', 't', 'u', 'v', 'w', 'x', 'y', 'z', 'A', 'B', 'C', 'D', 'E', 'F', 'G', 'H', 'I', 'J', 'K', 'L', 'M', 'N', 'O', 'P', 'Q', 'R', 'S', 'T', 'U', 'V', 'W', 'X', 'Y', 'Z']\n",
        "numbers = ['0', '1', '2', '3', '4', '5', '6', '7', '8', '9']\n",
        "symbols = ['!', '#', '$', '%', '&', '(', ')', '*', '+']\n",
        "\n",
        "#gererate a password with 4 letters, 3 numbers, and 2 symbols\n",
        "password =[]\n",
        "\n",
        "l=int(input(\"How many letters do you want for the password? \\n\"))\n",
        "n=int(input(\"How many numbers do you want for the password? \\n\"))\n",
        "s=int(input(\"How many symbols do you want for the password? \\n\"))\n",
        "\n",
        "\n",
        "for i in range(1,l+1):\n",
        "    password.append(random.choice(letters))\n",
        "\n",
        "for i in range(1,n+1):\n",
        "    password.append(random.choice(numbers))\n",
        "\n",
        "for i in range(1,s+1):\n",
        "    password.append(random.choice(symbols))\n",
        "\n",
        "random.shuffle(password)\n",
        "\n",
        "password_text=\"\".join(password)\n",
        "\n",
        "print(f\"Your password is {password_text}\")"
      ],
      "metadata": {
        "colab": {
          "base_uri": "https://localhost:8080/"
        },
        "id": "4yggFLLfffSJ",
        "outputId": "3e334359-4d79-4443-c3eb-cfe4b63bc679"
      },
      "execution_count": 46,
      "outputs": [
        {
          "output_type": "stream",
          "name": "stdout",
          "text": [
            "How many letters do you want for the password? \n",
            "10\n",
            "How many numbers do you want for the password? \n",
            "8\n",
            "How many symbols do you want for the password? \n",
            "6\n",
            "Your password is 7yET07oZe87)O+b)c7)7S!6%\n"
          ]
        }
      ]
    },
    {
      "cell_type": "code",
      "source": [
        "# install pdf plumber\n",
        "!pip install pdfplumber"
      ],
      "metadata": {
        "colab": {
          "base_uri": "https://localhost:8080/",
          "height": 537
        },
        "id": "5OrKwCmPltTp",
        "outputId": "67e2a4be-d6da-4af5-edb4-8a9e5b2e27ee"
      },
      "execution_count": 47,
      "outputs": [
        {
          "output_type": "stream",
          "name": "stdout",
          "text": [
            "Collecting pdfplumber\n",
            "  Downloading pdfplumber-0.6.1-py3-none-any.whl (33 kB)\n",
            "Collecting pdfminer.six==20220319\n",
            "  Downloading pdfminer.six-20220319-py3-none-any.whl (5.6 MB)\n",
            "\u001b[K     |████████████████████████████████| 5.6 MB 7.5 MB/s \n",
            "\u001b[?25hCollecting Wand>=0.6.7\n",
            "  Downloading Wand-0.6.7-py2.py3-none-any.whl (139 kB)\n",
            "\u001b[K     |████████████████████████████████| 139 kB 57.3 MB/s \n",
            "\u001b[?25hCollecting Pillow>=9.1\n",
            "  Downloading Pillow-9.1.0-cp37-cp37m-manylinux_2_17_x86_64.manylinux2014_x86_64.whl (4.3 MB)\n",
            "\u001b[K     |████████████████████████████████| 4.3 MB 53.0 MB/s \n",
            "\u001b[?25hCollecting cryptography\n",
            "  Downloading cryptography-37.0.2-cp36-abi3-manylinux_2_24_x86_64.whl (4.0 MB)\n",
            "\u001b[K     |████████████████████████████████| 4.0 MB 36.7 MB/s \n",
            "\u001b[?25hRequirement already satisfied: chardet in /usr/local/lib/python3.7/dist-packages (from pdfminer.six==20220319->pdfplumber) (3.0.4)\n",
            "Requirement already satisfied: cffi>=1.12 in /usr/local/lib/python3.7/dist-packages (from cryptography->pdfminer.six==20220319->pdfplumber) (1.15.0)\n",
            "Requirement already satisfied: pycparser in /usr/local/lib/python3.7/dist-packages (from cffi>=1.12->cryptography->pdfminer.six==20220319->pdfplumber) (2.21)\n",
            "Installing collected packages: cryptography, Wand, Pillow, pdfminer.six, pdfplumber\n",
            "  Attempting uninstall: Pillow\n",
            "    Found existing installation: Pillow 7.1.2\n",
            "    Uninstalling Pillow-7.1.2:\n",
            "      Successfully uninstalled Pillow-7.1.2\n",
            "\u001b[31mERROR: pip's dependency resolver does not currently take into account all the packages that are installed. This behaviour is the source of the following dependency conflicts.\n",
            "albumentations 0.1.12 requires imgaug<0.2.7,>=0.2.5, but you have imgaug 0.2.9 which is incompatible.\u001b[0m\n",
            "Successfully installed Pillow-9.1.0 Wand-0.6.7 cryptography-37.0.2 pdfminer.six-20220319 pdfplumber-0.6.1\n"
          ]
        },
        {
          "output_type": "display_data",
          "data": {
            "application/vnd.colab-display-data+json": {
              "pip_warning": {
                "packages": [
                  "PIL"
                ]
              }
            }
          },
          "metadata": {}
        }
      ]
    },
    {
      "cell_type": "code",
      "source": [
        "import pdfplumber\n",
        "import requests"
      ],
      "metadata": {
        "id": "IgCDWo0Qmm_a"
      },
      "execution_count": 48,
      "outputs": []
    },
    {
      "cell_type": "code",
      "source": [
        "url =\"https://slicedinvoices.com/pdf/wordpress-pdf-invoice-plugin-sample.pdf\"\n",
        "with requests.get(url) as r:\n",
        "    with open(\"sample_invoice.pdf\",\"wb\") as file:\n",
        "        file.write(r.content)"
      ],
      "metadata": {
        "id": "pRvoDDfqmwFw"
      },
      "execution_count": 49,
      "outputs": []
    },
    {
      "cell_type": "code",
      "source": [
        "with pdfplumber.open(\"sample_invoice.pdf\") as pdf:\n",
        "    page=pdf.pages[0]\n",
        "    text=page.extract_text()"
      ],
      "metadata": {
        "id": "z_lBttmMnqY0"
      },
      "execution_count": 50,
      "outputs": []
    },
    {
      "cell_type": "code",
      "source": [
        "data = text.split(\"\\n\")\n",
        "data"
      ],
      "metadata": {
        "colab": {
          "base_uri": "https://localhost:8080/"
        },
        "id": "nDGpbXCgn92t",
        "outputId": "be143362-910f-4aaa-ff90-7d971ee95258"
      },
      "execution_count": 53,
      "outputs": [
        {
          "output_type": "execute_result",
          "data": {
            "text/plain": [
              "['Invoice',\n",
              " 'Invoice Number INV-3337',\n",
              " 'From:',\n",
              " 'DEMO - Sliced Invoices Order Number 12345',\n",
              " 'Suite 5A-1204 Invoice Date January 25, 2016',\n",
              " '123 Somewhere Street',\n",
              " 'Due Date January 31, 2016',\n",
              " 'Your City AZ 12345',\n",
              " 'Total Due $93.50',\n",
              " 'admin@slicedinvoices.com',\n",
              " 'To:',\n",
              " 'Test Business',\n",
              " '123 Somewhere St',\n",
              " 'd',\n",
              " 'Melbourne, VIC 3000',\n",
              " 'test@test.com',\n",
              " 'i',\n",
              " 'Hrs/Qty Service Rate/Price Adjust Sub Total',\n",
              " 'a',\n",
              " 'Web Design',\n",
              " '1.00 $85.00 0.00% $85.00',\n",
              " 'This is a sample description...',\n",
              " 'P',\n",
              " 'Sub Total $85.00',\n",
              " 'Tax $8.50',\n",
              " 'Total $93.50',\n",
              " 'ANZ Bank',\n",
              " 'ACC # 1234 1234',\n",
              " 'BSB # 4321 432',\n",
              " 'Payment is due within 30 days from date of invoice. Late payment is subject to fees of 5% per month.',\n",
              " 'Thanks for choosing DEMO - Sliced Invoices | admin@slicedinvoices.com',\n",
              " 'Page 1/1']"
            ]
          },
          "metadata": {},
          "execution_count": 53
        }
      ]
    },
    {
      "cell_type": "code",
      "source": [
        "for item in data:\n",
        "    if \"Invoice Number\" in item:\n",
        "        inv=item.split()[-1]\n",
        "inv"
      ],
      "metadata": {
        "colab": {
          "base_uri": "https://localhost:8080/",
          "height": 35
        },
        "id": "RMZRklBWofP1",
        "outputId": "74bc710c-32a1-483d-9635-70eed68b75f2"
      },
      "execution_count": 58,
      "outputs": [
        {
          "output_type": "execute_result",
          "data": {
            "text/plain": [
              "'INV-3337'"
            ],
            "application/vnd.google.colaboratory.intrinsic+json": {
              "type": "string"
            }
          },
          "metadata": {},
          "execution_count": 58
        }
      ]
    },
    {
      "cell_type": "code",
      "source": [
        "#exercise : get $93.50\n",
        "for item in data:\n",
        "    if \"Total Due\" in item:\n",
        "        pay=item.split()[-1]\n",
        "pay"
      ],
      "metadata": {
        "colab": {
          "base_uri": "https://localhost:8080/",
          "height": 35
        },
        "id": "gvsJEY9hpR2B",
        "outputId": "6ae739d9-811e-44fb-d795-c7c51fc71e22"
      },
      "execution_count": 59,
      "outputs": [
        {
          "output_type": "execute_result",
          "data": {
            "text/plain": [
              "'$93.50'"
            ],
            "application/vnd.google.colaboratory.intrinsic+json": {
              "type": "string"
            }
          },
          "metadata": {},
          "execution_count": 59
        }
      ]
    },
    {
      "cell_type": "code",
      "source": [
        "#exercise: get ACC number\n",
        "for item in data:\n",
        "    if \"ACC # \" in item:\n",
        "        acc=item.split(\"#\")[-1]\n",
        "acc"
      ],
      "metadata": {
        "colab": {
          "base_uri": "https://localhost:8080/",
          "height": 35
        },
        "id": "4Htho_unp9ub",
        "outputId": "3ab50861-4ec2-42b1-85c6-cb19504f4e0a"
      },
      "execution_count": 61,
      "outputs": [
        {
          "output_type": "execute_result",
          "data": {
            "text/plain": [
              "' 1234 1234'"
            ],
            "application/vnd.google.colaboratory.intrinsic+json": {
              "type": "string"
            }
          },
          "metadata": {},
          "execution_count": 61
        }
      ]
    },
    {
      "cell_type": "code",
      "source": [
        "url = \"https://www.anz.com/content/dam/anzcom/shareholder/2021-anz-annual-report.pdf\"\n",
        "with requests.get(url) as r:\n",
        "    with open(\"ANZ.pdf\",\"wb\") as file:\n",
        "        file.write(r.content)"
      ],
      "metadata": {
        "id": "yli5PVhPq1jj"
      },
      "execution_count": 62,
      "outputs": []
    },
    {
      "cell_type": "code",
      "source": [
        "fulltext=\"\"\n",
        "with pdfplumber.open(\"ANZ.pdf\") as pdf:\n",
        "    for page in pdf.pages:\n",
        "        text=page.extract_text()\n",
        "        fulltext+=text\n",
        "        print(f\"We are extracting page {page}\")"
      ],
      "metadata": {
        "id": "WLaMNij3rQDE"
      },
      "execution_count": null,
      "outputs": []
    },
    {
      "cell_type": "code",
      "source": [
        ""
      ],
      "metadata": {
        "colab": {
          "base_uri": "https://localhost:8080/"
        },
        "id": "BcQ6-ggAsUwz",
        "outputId": "b796b60a-f7b6-4dbb-e03b-f4f5ea761b87"
      },
      "execution_count": 67,
      "outputs": [
        {
          "output_type": "execute_result",
          "data": {
            "text/plain": [
              "13824"
            ]
          },
          "metadata": {},
          "execution_count": 67
        }
      ]
    },
    {
      "cell_type": "code",
      "source": [
        "fulltext=fulltext.lower()\n",
        "# print(fulltext)\n",
        "data = fulltext.split(\"\\n\")\n",
        "data"
      ],
      "metadata": {
        "id": "V07kEcwjtGui"
      },
      "execution_count": null,
      "outputs": []
    },
    {
      "cell_type": "code",
      "source": [
        "count=0\n",
        "for item in data:\n",
        "    if 'covid' in item:\n",
        "        count+=1\n",
        "        print(item)\n",
        "print(count)"
      ],
      "metadata": {
        "id": "d-DfHMEpte1D"
      },
      "execution_count": null,
      "outputs": []
    },
    {
      "cell_type": "code",
      "source": [
        "sus=fulltext.count('sustainability')\n",
        "sus"
      ],
      "metadata": {
        "colab": {
          "base_uri": "https://localhost:8080/"
        },
        "id": "xSC4k7ZTt4PM",
        "outputId": "5727619e-6d49-4ff3-fb0e-d4f3996b31e8"
      },
      "execution_count": 72,
      "outputs": [
        {
          "output_type": "execute_result",
          "data": {
            "text/plain": [
              "65"
            ]
          },
          "metadata": {},
          "execution_count": 72
        }
      ]
    },
    {
      "cell_type": "code",
      "source": [
        "crisk=fulltext.count('climate risk')\n",
        "crisk"
      ],
      "metadata": {
        "colab": {
          "base_uri": "https://localhost:8080/"
        },
        "id": "KJrMXGoOuFu_",
        "outputId": "bb6f0e79-51d4-4dc5-a841-ae9986d2d681"
      },
      "execution_count": 73,
      "outputs": [
        {
          "output_type": "execute_result",
          "data": {
            "text/plain": [
              "2"
            ]
          },
          "metadata": {},
          "execution_count": 73
        }
      ]
    },
    {
      "cell_type": "code",
      "source": [
        "evn =fulltext.count('environment')\n",
        "evn"
      ],
      "metadata": {
        "colab": {
          "base_uri": "https://localhost:8080/"
        },
        "id": "YD4w_IWeuR6h",
        "outputId": "ee430548-198a-44ff-97b9-6538c3e8454d"
      },
      "execution_count": 74,
      "outputs": [
        {
          "output_type": "execute_result",
          "data": {
            "text/plain": [
              "103"
            ]
          },
          "metadata": {},
          "execution_count": 74
        }
      ]
    }
  ]
}