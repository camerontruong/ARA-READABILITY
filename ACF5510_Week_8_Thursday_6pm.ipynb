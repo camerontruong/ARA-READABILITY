{
  "nbformat": 4,
  "nbformat_minor": 0,
  "metadata": {
    "colab": {
      "name": "ACF5510 Week 8 Thursday 6pm.ipynb",
      "provenance": [],
      "authorship_tag": "ABX9TyP1W7PE6Fx1fmoxlOS6q6N3",
      "include_colab_link": true
    },
    "kernelspec": {
      "name": "python3",
      "display_name": "Python 3"
    },
    "language_info": {
      "name": "python"
    }
  },
  "cells": [
    {
      "cell_type": "markdown",
      "metadata": {
        "id": "view-in-github",
        "colab_type": "text"
      },
      "source": [
        "<a href=\"https://colab.research.google.com/github/camerontruong/ARA-READABILITY/blob/main/ACF5510_Week_8_Thursday_6pm.ipynb\" target=\"_parent\"><img src=\"https://colab.research.google.com/assets/colab-badge.svg\" alt=\"Open In Colab\"/></a>"
      ]
    },
    {
      "cell_type": "markdown",
      "metadata": {
        "id": "Fv3givpAqmRH"
      },
      "source": [
        "This is notebook for week 8"
      ]
    },
    {
      "cell_type": "code",
      "metadata": {
        "colab": {
          "base_uri": "https://localhost:8080/"
        },
        "id": "VlYu_yB1q1E3",
        "outputId": "16134617-515b-4a8a-81bf-41f6b1c369b6"
      },
      "source": [
        "print(\"Hello World. We are from ACF5510\")"
      ],
      "execution_count": 3,
      "outputs": [
        {
          "output_type": "stream",
          "name": "stdout",
          "text": [
            "Hello World. We are from ACF5510\n"
          ]
        }
      ]
    },
    {
      "cell_type": "code",
      "metadata": {
        "colab": {
          "base_uri": "https://localhost:8080/"
        },
        "id": "Mn-kslBarYpO",
        "outputId": "00d81233-c65c-4bc7-d871-b0d8faeff24f"
      },
      "source": [
        "name = \"Cameron Truong\"\n",
        "print(name)"
      ],
      "execution_count": 4,
      "outputs": [
        {
          "output_type": "stream",
          "name": "stdout",
          "text": [
            "Cameron Truong\n"
          ]
        }
      ]
    },
    {
      "cell_type": "code",
      "metadata": {
        "colab": {
          "base_uri": "https://localhost:8080/"
        },
        "id": "lzDYQEjQr8En",
        "outputId": "e80e9fb0-4e19-4505-8549-d38a966cf58a"
      },
      "source": [
        "name = input(\"What is your name? \")\n",
        "print(len(name))"
      ],
      "execution_count": 6,
      "outputs": [
        {
          "output_type": "stream",
          "name": "stdout",
          "text": [
            "What is your name? Cameron Truong\n",
            "14\n"
          ]
        }
      ]
    },
    {
      "cell_type": "code",
      "metadata": {
        "colab": {
          "base_uri": "https://localhost:8080/"
        },
        "id": "nkCxOCSisi5l",
        "outputId": "f973481f-b065-474f-cb7e-b34ccd794636"
      },
      "source": [
        "welcome_message = \"My name is \" + name\n",
        "print(welcome_message)"
      ],
      "execution_count": 7,
      "outputs": [
        {
          "output_type": "stream",
          "name": "stdout",
          "text": [
            "My name is Cameron Truong\n"
          ]
        }
      ]
    },
    {
      "cell_type": "markdown",
      "metadata": {
        "id": "f14CWO0_tBjp"
      },
      "source": [
        "Exercise: Group Name Generator: i) take the city where you live in, ii) take the pet name, and iii) print out the suggested group name as city + petname\n",
        "Print \"Welcome to the Group Name Generator.\"\n",
        "Take input : \"What's the name of the city you grew up in?\"\n",
        "Take input : \"What's your pet's name?\"\n",
        "Print out \"Your group name could be\" + name of city + name of pet"
      ]
    },
    {
      "cell_type": "code",
      "metadata": {
        "colab": {
          "base_uri": "https://localhost:8080/"
        },
        "id": "1d6fwSZYtFdv",
        "outputId": "85dfd6f9-89f0-444a-a6f6-37de0821c0ee"
      },
      "source": [
        "print(\"Welcome to the Group Name Generator\")\n",
        "city = input(\"What's the name of the city you grew up in? \\n\")\n",
        "pet = input(\"What's your pet's name? \\n\")\n",
        "print(\"Your group name could be \"+city+\" \"+pet)"
      ],
      "execution_count": 9,
      "outputs": [
        {
          "output_type": "stream",
          "name": "stdout",
          "text": [
            "Welcome to the Group Name Generator\n",
            "What's the name of the city you grew up in? \n",
            "Melbourne\n",
            "What's your pet's name? \n",
            "Russell\n",
            "Your group name could be Melbourne Russell\n"
          ]
        }
      ]
    },
    {
      "cell_type": "markdown",
      "metadata": {
        "id": "VYiYA6PkwJM-"
      },
      "source": [
        "String manipulation"
      ]
    },
    {
      "cell_type": "code",
      "metadata": {
        "colab": {
          "base_uri": "https://localhost:8080/"
        },
        "id": "e-4l4QrnwMS5",
        "outputId": "0b7a607c-6e51-466a-ddec-b92c1a992bb3"
      },
      "source": [
        "name = \"Cameron Truong is the chief examiner in ACF5510 semester 2 2021\"\n",
        "print(len(name))\n",
        "print(name[0])\n",
        "print(name[6])"
      ],
      "execution_count": 18,
      "outputs": [
        {
          "output_type": "stream",
          "name": "stdout",
          "text": [
            "63\n",
            "C\n",
            "n\n"
          ]
        }
      ]
    },
    {
      "cell_type": "code",
      "metadata": {
        "colab": {
          "base_uri": "https://localhost:8080/"
        },
        "id": "ZLguaP1Vw34h",
        "outputId": "31eccd0b-02bf-45e7-b14f-f75d10f0546e"
      },
      "source": [
        "print(name.index(\"C\"))\n",
        "print(name.index(\"ron\"))"
      ],
      "execution_count": 16,
      "outputs": [
        {
          "output_type": "stream",
          "name": "stdout",
          "text": [
            "0\n",
            "4\n"
          ]
        }
      ]
    },
    {
      "cell_type": "code",
      "metadata": {
        "colab": {
          "base_uri": "https://localhost:8080/"
        },
        "id": "4oPbDwCdxV3m",
        "outputId": "64d981db-76dd-4260-b9c3-d39513e8a43b"
      },
      "source": [
        "print(name.split(\" \"))"
      ],
      "execution_count": 19,
      "outputs": [
        {
          "output_type": "stream",
          "name": "stdout",
          "text": [
            "['Cameron', 'Truong', 'is', 'the', 'chief', 'examiner', 'in', 'ACF5510', 'semester', '2', '2021']\n"
          ]
        }
      ]
    },
    {
      "cell_type": "code",
      "metadata": {
        "colab": {
          "base_uri": "https://localhost:8080/"
        },
        "id": "V41VfMJ2x941",
        "outputId": "586727ed-0c97-43be-fb4c-7b1cd806d594"
      },
      "source": [
        "name = name.replace(\"Cameron\", \"Cam\")\n",
        "print(name)"
      ],
      "execution_count": 20,
      "outputs": [
        {
          "output_type": "stream",
          "name": "stdout",
          "text": [
            "Cam Truong is the chief examiner in ACF5510 semester 2 2021\n"
          ]
        }
      ]
    },
    {
      "cell_type": "code",
      "metadata": {
        "colab": {
          "base_uri": "https://localhost:8080/"
        },
        "id": "SxmQxP9xyYxb",
        "outputId": "651d72f8-4da2-4cf7-bd04-22dfa2d3b286"
      },
      "source": [
        "name = \"Cameron Truong is the chief examiner \"\n",
        "print(name[:3])\n",
        "print(name[8:])\n",
        "print(name[2:7])"
      ],
      "execution_count": 24,
      "outputs": [
        {
          "output_type": "stream",
          "name": "stdout",
          "text": [
            "Cam\n",
            "Truong is the chief examiner \n",
            "meron\n"
          ]
        }
      ]
    },
    {
      "cell_type": "code",
      "metadata": {
        "colab": {
          "base_uri": "https://localhost:8080/"
        },
        "id": "rtYWbmXNzsMn",
        "outputId": "a959ff6e-5a14-456b-8b95-97b46d5162ec"
      },
      "source": [
        "name=name.upper()\n",
        "print(name)"
      ],
      "execution_count": 25,
      "outputs": [
        {
          "output_type": "stream",
          "name": "stdout",
          "text": [
            "CAMERON TRUONG IS THE CHIEF EXAMINER \n"
          ]
        }
      ]
    },
    {
      "cell_type": "code",
      "metadata": {
        "colab": {
          "base_uri": "https://localhost:8080/"
        },
        "id": "6fq_UuAJz2yO",
        "outputId": "fd98b9d6-5355-486b-cebc-ff27931464ac"
      },
      "source": [
        "name = name.lower()\n",
        "print(name)\n"
      ],
      "execution_count": 26,
      "outputs": [
        {
          "output_type": "stream",
          "name": "stdout",
          "text": [
            "cameron truong is the chief examiner \n"
          ]
        }
      ]
    },
    {
      "cell_type": "code",
      "metadata": {
        "colab": {
          "base_uri": "https://localhost:8080/"
        },
        "id": "o4thjE8Rz-FR",
        "outputId": "0e26aa57-4c29-4b45-8366-d571019e6153"
      },
      "source": [
        "name = name.title()\n",
        "print(name)"
      ],
      "execution_count": 27,
      "outputs": [
        {
          "output_type": "stream",
          "name": "stdout",
          "text": [
            "Cameron Truong Is The Chief Examiner \n"
          ]
        }
      ]
    },
    {
      "cell_type": "code",
      "metadata": {
        "colab": {
          "base_uri": "https://localhost:8080/"
        },
        "id": "524idRv90Qv7",
        "outputId": "53600752-0ac3-406f-80d5-9eddcb71cc48"
      },
      "source": [
        "name = \"Cameron Cameron Cameron cam Cam Truong teaches Python in colab\"\n",
        "print(name.count(\"Cameron\"))"
      ],
      "execution_count": 28,
      "outputs": [
        {
          "output_type": "stream",
          "name": "stdout",
          "text": [
            "3\n"
          ]
        }
      ]
    },
    {
      "cell_type": "markdown",
      "metadata": {
        "id": "iYH7VwuY0xus"
      },
      "source": [
        "Data types Exercise: Instructions Write a program that adds the digits in a 2 digit number. e.g. if the input was 35, then the output should be 3 + 5 = 8\n",
        "\n",
        "Warning. Do not change the code on lines 1-3. Your program should work for different inputs. e.g. any two-digit number.\n",
        "\n",
        "Example Input 39 Example Output 3 + 9 = 12\n",
        "\n",
        "Hints: string the input number, get the element, and intergeter it"
      ]
    },
    {
      "cell_type": "code",
      "metadata": {
        "colab": {
          "base_uri": "https://localhost:8080/"
        },
        "id": "nTRi2mML0zGW",
        "outputId": "66232655-082f-40fa-de34-c0ac5cc2e60b"
      },
      "source": [
        "two_digit_number = input(\"Type a two digit number: \")\n",
        "first_digit=int(two_digit_number[0])\n",
        "second_digit=int(two_digit_number[1])\n",
        "sum=first_digit+second_digit\n",
        "\n",
        "print(sum)\n",
        "# type(two_digit_number)\n",
        "# print(two_digit_number)"
      ],
      "execution_count": 33,
      "outputs": [
        {
          "output_type": "stream",
          "name": "stdout",
          "text": [
            "Type a two digit number: 54\n",
            "9\n"
          ]
        }
      ]
    },
    {
      "cell_type": "code",
      "metadata": {
        "colab": {
          "base_uri": "https://localhost:8080/"
        },
        "id": "w6_DFryX2pYg",
        "outputId": "23f23c9f-821c-4139-869d-aeff93cf9452"
      },
      "source": [
        "pi = 3.00\n",
        "type(pi)"
      ],
      "execution_count": 37,
      "outputs": [
        {
          "output_type": "execute_result",
          "data": {
            "text/plain": [
              "float"
            ]
          },
          "metadata": {},
          "execution_count": 37
        }
      ]
    },
    {
      "cell_type": "markdown",
      "metadata": {
        "id": "e071OMhm3SeN"
      },
      "source": [
        "BMI Calculator: Write a program that calculates the Body Mass Index (BMI) from a user's weight and height.\n",
        "\n",
        "The BMI is a measure of some's weight taking into account their height. e.g. If a tall person and a short person both weigh the same amount, the short person is usually more overweight.\n",
        "\n",
        "The BMI is calculated by dividing a person's weight (in kg) by the square of their height (in m):\n",
        "\n",
        "https://cdn.fs.teachablecdn.com/jKHjnLrNQjqzdz3MTMyv\n",
        "\n",
        "Warning you should convert the result to a whole number.\n",
        "\n",
        "Example Input weight = 80 weight = 80 height = 1.75 height = 1.75 Example Output 80 ÷ (1.75 x 1.75) = 26.122448979591837\n",
        "\n",
        "26 Hint Check the data type of the inputs. Try to use the exponent operator in your code. Remember PEMDAS. Remember to convert your result to a whole number (int).\n",
        "\n",
        "BMI=weight/(height*height)"
      ]
    },
    {
      "cell_type": "code",
      "metadata": {
        "colab": {
          "base_uri": "https://localhost:8080/"
        },
        "id": "mv6gWZHP3V9x",
        "outputId": "ce42c9f9-e0a4-40ce-f069-b0c85385f3d5"
      },
      "source": [
        "height = float(input(\"enter your height in m: \"))\n",
        "weight = int(input(\"enter your weight in kg: \"))\n",
        "\n",
        "bmi=round(weight/(height**2),2)\n",
        "print(bmi)\n"
      ],
      "execution_count": 40,
      "outputs": [
        {
          "output_type": "stream",
          "name": "stdout",
          "text": [
            "enter your height in m: 1.76\n",
            "enter your weight in kg: 72\n",
            "23.24\n"
          ]
        }
      ]
    },
    {
      "cell_type": "markdown",
      "metadata": {
        "id": "tdyuzisd6I4i"
      },
      "source": [
        "Your life in days, weeks, months exercise: Create a program using maths and f-Strings that tells us how many days, weeks, months we have left if we live until 90 years old.\n",
        "\n",
        "It will take your current age as the input and output a message with our time left in this format:\n",
        "\n",
        "You have x days, y weeks, and z months left.\n",
        "\n",
        "Where x, y and z are replaced with the actual calculated numbers.\n",
        "\n",
        "Warning your output should match the Example Output format exactly, even the positions of the commas and full stops.\n",
        "\n",
        "Example Input 56 56 Example Output You have 12410 days, 1768 weeks, and 408 months left. You have 12410 days, 1768 weeks, and 408 months left."
      ]
    },
    {
      "cell_type": "code",
      "metadata": {
        "colab": {
          "base_uri": "https://localhost:8080/"
        },
        "id": "UaesZlVy6YxL",
        "outputId": "9340aae2-1d68-41f8-9d2f-4218b063fd83"
      },
      "source": [
        "age = int(input(\"What is your current age? \"))\n",
        "x = 32850 -age*365\n",
        "y = 4680 -age*52\n",
        "z = 1080 -age*12\n",
        "\n",
        "print(f\"You have {x} days, {y} weeks, and {z} months left.\")\n",
        "\n"
      ],
      "execution_count": 46,
      "outputs": [
        {
          "output_type": "stream",
          "name": "stdout",
          "text": [
            "What is your current age? 22\n",
            "You have 24820 days, 3536 weeks, and 816 months left.\n"
          ]
        }
      ]
    },
    {
      "cell_type": "markdown",
      "metadata": {
        "id": "IBXeVupW_NTP"
      },
      "source": [
        "Conditional Statement"
      ]
    },
    {
      "cell_type": "code",
      "metadata": {
        "colab": {
          "base_uri": "https://localhost:8080/"
        },
        "id": "922ONA7h_Qef",
        "outputId": "114499dd-be79-408a-b175-48213e304230"
      },
      "source": [
        "student_age = int(input(\"What's students' age? \"))\n",
        "lecturer_age = int(input(\"What's lecturer's age?\"))\n",
        "\n",
        "if student_age<lecturer_age:\n",
        "  print(\"Students are so young\")\n",
        "  print(\"It's wonderful to be young\")\n",
        "elif student_age>lecturer_age and student_age==50:\n",
        "  print(\"Mid life crisis is coming\")\n",
        "elif student_age>lecturer_age:\n",
        "  print(f\"The sum of the ages is {student_age+lecturer_age}\")\n",
        "else:\n",
        "  print(\"Students are so mature\")\n",
        "  print(\"Students must be corporate managers\")"
      ],
      "execution_count": 55,
      "outputs": [
        {
          "output_type": "stream",
          "name": "stdout",
          "text": [
            "What's students' age? 51\n",
            "What's lecturer's age?42\n",
            "The sum of the ages is 93\n"
          ]
        }
      ]
    },
    {
      "cell_type": "markdown",
      "metadata": {
        "id": "H8hEAYpdDdRa"
      },
      "source": [
        "Conditional statement exercise BMI 2.0 if BMI< 18.5, underweight if 18.5<=BMI <25, normal weight if 25<=bmi<30, overweight if 30<=BMI<35, obese if BMI>=35, clinicaly obese\n"
      ]
    },
    {
      "cell_type": "code",
      "metadata": {
        "colab": {
          "base_uri": "https://localhost:8080/"
        },
        "id": "2ZpewcYDDin9",
        "outputId": "5be2b85d-64ea-4093-f976-889453746a7a"
      },
      "source": [
        "height = float(input(\"enter your height in m: \"))\n",
        "weight = float(input(\"enter your weight in kg: \"))\n",
        "\n",
        "bmi = round(weight/(height**2),2)\n",
        "if bmi<18.5:\n",
        "  print(f\"Your bmi is {bmi}, you are underweight\")\n",
        "elif bmi<25:\n",
        "  print(f\"Your bmi is {bmi}, you are normal weight\")\n",
        "elif bmi<30:\n",
        "  print(f\"Your bmi is {bmi}, you are overweight\")\n",
        "elif bmi<35:\n",
        "  print(f\"Your bmi is {bmi}, you are obese\")\n",
        "else:\n",
        "  print(f\"Your bmi is {bmi}, you are clinically obese\")"
      ],
      "execution_count": 58,
      "outputs": [
        {
          "output_type": "stream",
          "name": "stdout",
          "text": [
            "enter your height in m: 1.76\n",
            "enter your weight in kg: 120\n",
            "Your bmi is 38.74, you are clinically obese\n"
          ]
        }
      ]
    },
    {
      "cell_type": "markdown",
      "metadata": {
        "id": "sAiYdVbrIXJX"
      },
      "source": [
        "Love Calulator: You are going to write a program that tests the compatibility between two people.\n",
        "\n",
        "To work out the love score between two people:\n",
        "\n",
        "Take both people's names and check for the number of times the letters in the word TRUE occurs. Then check for the number of times the letters in the word LOVE occurs. Then combine these numbers to make a 2 digit number.\n",
        "\n",
        "For Love Scores less than 10 or greater than 90, the message should be:\n",
        "\n",
        "\"Your score is x, you go together like coke and mentos.\"\n",
        "\n",
        "For Love Scores between 40 and 50, the message should be:\n",
        "\n",
        "\"Your score is y, you are alright together.\"\n",
        "\n",
        "Otherwise, the message will just be their score. e.g.:\n",
        "\n",
        "\"Your score is z.\"\n",
        "\n",
        "Example Input 1 name1 = \"Kanye West\" name2 = \"Kim Kardashian\" Example Output 1 Your score is 42, you are alright together. Example Input 2 name1 = \"Brad Pitt\" name2 = \"Jennifer Aniston\" Example Output 2 Your score is 73."
      ]
    },
    {
      "cell_type": "code",
      "metadata": {
        "colab": {
          "base_uri": "https://localhost:8080/"
        },
        "id": "L1iYLaASIdwQ",
        "outputId": "a8fab796-a77a-4d27-bfb5-1c273bc5883c"
      },
      "source": [
        "print(\"Welcome to the Love Calculator\")\n",
        "name1 = input(\"What is your name? \\n\")\n",
        "name2 = input(\"What is your crush' name? \\n\")\n",
        "name1 = name1.lower()\n",
        "name2 = name2.lower()\n",
        "\n",
        "t = name1.count('t')+name2.count('t')\n",
        "r = name1.count('r')+name2.count('r')\n",
        "u = name1.count('u')+name2.count('u')\n",
        "e = name1.count('e')+name2.count('e')\n",
        "\n",
        "l = name1.count('l')+name2.count('l')\n",
        "o = name1.count('o')+name2.count('o')\n",
        "v = name1.count('v')+name2.count('v')\n",
        "e = name1.count('e')+name2.count('e')\n",
        "\n",
        "number1 = t+r+u+e\n",
        "number2 = l+o+v+e\n",
        "\n",
        "score =str(number1)+str(number2)\n",
        "score=int(score)\n",
        "\n",
        "if score<10 or score>90:\n",
        "  print(f\"Your score is  {score}, you go together like coke and mentos.\")\n",
        "elif score>40 and score<50:\n",
        "  print(f\"Your score is {score}, you are alright together.\")\n",
        "else:\n",
        "  print(f\"Your score is {score}.\")\n",
        "\n",
        "\n",
        "# print(score)"
      ],
      "execution_count": 64,
      "outputs": [
        {
          "output_type": "stream",
          "name": "stdout",
          "text": [
            "Welcome to the Love Calculator\n",
            "What is your name? \n",
            "True\n",
            "What is your crush' name? \n",
            "Love\n",
            "Your score is 55.\n"
          ]
        }
      ]
    },
    {
      "cell_type": "code",
      "metadata": {
        "id": "TjpkvJedIja5"
      },
      "source": [
        "\n"
      ],
      "execution_count": null,
      "outputs": []
    },
    {
      "cell_type": "markdown",
      "metadata": {
        "id": "oYAfhnmwIj8K"
      },
      "source": [
        "true love"
      ]
    }
  ]
}