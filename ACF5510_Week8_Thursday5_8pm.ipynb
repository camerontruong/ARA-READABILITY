{
  "nbformat": 4,
  "nbformat_minor": 0,
  "metadata": {
    "colab": {
      "name": "ACF5510_Week8_Thursday5_8pm.ipynb",
      "provenance": [],
      "authorship_tag": "ABX9TyPMzz2u16PL275yv9qwooFa",
      "include_colab_link": true
    },
    "kernelspec": {
      "name": "python3",
      "display_name": "Python 3"
    },
    "language_info": {
      "name": "python"
    }
  },
  "cells": [
    {
      "cell_type": "markdown",
      "metadata": {
        "id": "view-in-github",
        "colab_type": "text"
      },
      "source": [
        "<a href=\"https://colab.research.google.com/github/camerontruong/ARA-READABILITY/blob/main/ACF5510_Week8_Thursday5_8pm.ipynb\" target=\"_parent\"><img src=\"https://colab.research.google.com/assets/colab-badge.svg\" alt=\"Open In Colab\"/></a>"
      ]
    },
    {
      "cell_type": "code",
      "execution_count": 2,
      "metadata": {
        "colab": {
          "base_uri": "https://localhost:8080/"
        },
        "id": "Lx5rg8k9_62J",
        "outputId": "5b967d59-f6e8-40c7-b90e-0c2d9359d0b0"
      },
      "outputs": [
        {
          "output_type": "stream",
          "name": "stdout",
          "text": [
            "Hello World. We are from ACF5510\n"
          ]
        }
      ],
      "source": [
        "print(\"Hello World. We are from ACF5510\")"
      ]
    },
    {
      "cell_type": "code",
      "source": [
        "name = \"Cameron Truong\"\n",
        "print(name)\n",
        "\n",
        "name1= \"Dharmendra Naidu\"\n",
        "name2= \"Alvin Truong\"\n",
        "\n",
        "print(name, name1, name2)"
      ],
      "metadata": {
        "colab": {
          "base_uri": "https://localhost:8080/"
        },
        "id": "KZ98qlZBB7Wl",
        "outputId": "f45eb8a4-a083-469b-ca35-0485e37fd8c2"
      },
      "execution_count": 4,
      "outputs": [
        {
          "output_type": "stream",
          "name": "stdout",
          "text": [
            "Cameron Truong\n",
            "Cameron Truong Dharmendra Naidu Alvin Truong\n"
          ]
        }
      ]
    },
    {
      "cell_type": "code",
      "source": [
        "name = input(\"What is your name? \")\n",
        "print(\"Your name is \"+name)"
      ],
      "metadata": {
        "colab": {
          "base_uri": "https://localhost:8080/"
        },
        "id": "O19qZegxCrDZ",
        "outputId": "4cc2a797-6443-47f7-bb62-ee3b95869e50"
      },
      "execution_count": 6,
      "outputs": [
        {
          "output_type": "stream",
          "name": "stdout",
          "text": [
            "What is your name? Dharmendra Naidu\n",
            "Your name is Dharmendra Naidu\n"
          ]
        }
      ]
    },
    {
      "cell_type": "code",
      "source": [
        "print(\"What'sup! Welcom to ACF5510\")\n",
        "welcome_message=\"Our chief examiner in ACF5510 S1 2022 is \" + name\n",
        "print(welcome_message)\n"
      ],
      "metadata": {
        "colab": {
          "base_uri": "https://localhost:8080/"
        },
        "id": "AEMHTyrqDYtY",
        "outputId": "8f86854f-403c-4ed7-cd16-af09011340fa"
      },
      "execution_count": 8,
      "outputs": [
        {
          "output_type": "stream",
          "name": "stdout",
          "text": [
            "What'sup! Welcom to ACF5510\n",
            "Our chief examiner in ACF5510 S1 2022 is Dharmendra Naidu\n"
          ]
        }
      ]
    },
    {
      "cell_type": "code",
      "source": [
        "# Exercise 1:\n",
        "# Exercise: i) print \"Welcome to Group Name Generator\", ii) city, takes the input of the city where you grew up, \"What is the name of the city where you grew up\"\n",
        "# iii), ask \" What is your pet's name? \"\n",
        "# iv) print out \" Your group name can be\" + city + petname\n",
        "print(\"Welcome to Group Name Generator\")\n",
        "city=input(\"What is the name of the city where you grew up? \")\n",
        "petname = input(\"What is your pet's name?\")\n",
        "\n",
        "print(\"Your group name can be \"+city+\" \"+petname)\n"
      ],
      "metadata": {
        "colab": {
          "base_uri": "https://localhost:8080/"
        },
        "id": "udqOVmkND-eh",
        "outputId": "5d4d548a-2aff-4038-d5f0-38aade2067cc"
      },
      "execution_count": 11,
      "outputs": [
        {
          "output_type": "stream",
          "name": "stdout",
          "text": [
            "Welcome to Group Name Generator\n",
            "What is the name of the city where you grew up? Adelaide\n",
            "What is your pet's name?Joey\n",
            "Your group name can be Adelaide Joey\n"
          ]
        }
      ]
    },
    {
      "cell_type": "code",
      "source": [
        "#add the digits from a two digit number given by the user\n",
        "two_digit_number=input(\"Please enter a two digit number: \")\n",
        "digit1=two_digit_number[0]\n",
        "digit2=two_digit_number[1]\n",
        "\n",
        "sum=int(digit2)+ int(digit1)\n",
        "\n",
        "print(sum)\n",
        "type(sum)\n"
      ],
      "metadata": {
        "colab": {
          "base_uri": "https://localhost:8080/"
        },
        "id": "gCjM1T3tHGB1",
        "outputId": "f2e37c58-4c73-47ba-bd5d-4a83fcea889a"
      },
      "execution_count": 19,
      "outputs": [
        {
          "output_type": "stream",
          "name": "stdout",
          "text": [
            "Please enter a two digit number: 52\n",
            "7\n"
          ]
        },
        {
          "output_type": "execute_result",
          "data": {
            "text/plain": [
              "int"
            ]
          },
          "metadata": {},
          "execution_count": 19
        }
      ]
    },
    {
      "cell_type": "code",
      "source": [
        "two_digit_number=input(\"Please enter a decimal number: \")\n",
        "number=float(two_digit_number)\n",
        "print(number)\n",
        "type(number)"
      ],
      "metadata": {
        "colab": {
          "base_uri": "https://localhost:8080/"
        },
        "id": "vxwG4FnUJqFW",
        "outputId": "d217d71a-274d-4cba-ae7d-ec9c22f6f7e2"
      },
      "execution_count": 21,
      "outputs": [
        {
          "output_type": "stream",
          "name": "stdout",
          "text": [
            "Please enter a decimal number: 2.22\n",
            "2.22\n"
          ]
        },
        {
          "output_type": "execute_result",
          "data": {
            "text/plain": [
              "float"
            ]
          },
          "metadata": {},
          "execution_count": 21
        }
      ]
    },
    {
      "cell_type": "code",
      "source": [
        "#Exercise 2:\n",
        "# 1) Ask the user for their height in m\n",
        "height=float(input(\"What is your height in m? \\n\"))\n",
        "\n",
        "# 2) Ask the user for their weight in kg\n",
        "weight=float(input(\"What is your weight in kg? \\n\"))\n",
        "\n",
        "# 3) Print out the bmi for the user, bmi=weight/(height*height)\n",
        "bmi=round(weight/(height*height),2)\n",
        "\n",
        "print(\"Your body mass index (bmi) is \" + str(bmi))"
      ],
      "metadata": {
        "colab": {
          "base_uri": "https://localhost:8080/"
        },
        "id": "fdoZixLhKLbc",
        "outputId": "281f2d68-3092-420e-e448-4999fdf3f32d"
      },
      "execution_count": 26,
      "outputs": [
        {
          "output_type": "stream",
          "name": "stdout",
          "text": [
            "What is your height in m? \n",
            "1.76\n",
            "What is your weight in kg? \n",
            "72.15\n",
            "Your body mass index (bmi) is 23.29\n"
          ]
        }
      ]
    },
    {
      "cell_type": "code",
      "source": [
        "#String manipulation\n",
        "name =\"Cameron Truong is the lecturer in charge for weeks 7-10 in ACF5510. Cameron will be teaching Python scriptting in the cloud and host group presentations and the accounting debate.\"\n",
        "print(name[0])\n",
        "print(name[6])\n",
        "print(name[7])\n",
        "print(len(name))"
      ],
      "metadata": {
        "colab": {
          "base_uri": "https://localhost:8080/"
        },
        "id": "up27Mf9zON8m",
        "outputId": "bd02e960-9054-41c4-9e92-f53ffb974b6f"
      },
      "execution_count": 37,
      "outputs": [
        {
          "output_type": "stream",
          "name": "stdout",
          "text": [
            "C\n",
            "n\n",
            " \n",
            "179\n"
          ]
        }
      ]
    },
    {
      "cell_type": "code",
      "source": [
        "name.index(\"a\")\n",
        "name.index(\"ron\")\n",
        "name.index(\"7\")\n",
        "name.index(\".\")"
      ],
      "metadata": {
        "colab": {
          "base_uri": "https://localhost:8080/"
        },
        "id": "j1W5TW37PX0-",
        "outputId": "612935af-ad80-4850-80a9-6bb26b6eeca1"
      },
      "execution_count": 38,
      "outputs": [
        {
          "output_type": "execute_result",
          "data": {
            "text/plain": [
              "66"
            ]
          },
          "metadata": {},
          "execution_count": 38
        }
      ]
    },
    {
      "cell_type": "code",
      "source": [
        "name.split()"
      ],
      "metadata": {
        "colab": {
          "base_uri": "https://localhost:8080/"
        },
        "id": "MLQx7cgbP713",
        "outputId": "37f6b8f1-ab5d-4dab-aae6-02d7c5f94d91"
      },
      "execution_count": 39,
      "outputs": [
        {
          "output_type": "execute_result",
          "data": {
            "text/plain": [
              "['Cameron',\n",
              " 'Truong',\n",
              " 'is',\n",
              " 'the',\n",
              " 'lecturer',\n",
              " 'in',\n",
              " 'charge',\n",
              " 'for',\n",
              " 'weeks',\n",
              " '7-10',\n",
              " 'in',\n",
              " 'ACF5510.',\n",
              " 'Cameron',\n",
              " 'will',\n",
              " 'be',\n",
              " 'teaching',\n",
              " 'Python',\n",
              " 'scriptting',\n",
              " 'in',\n",
              " 'the',\n",
              " 'cloud',\n",
              " 'and',\n",
              " 'host',\n",
              " 'group',\n",
              " 'presentations',\n",
              " 'and',\n",
              " 'the',\n",
              " 'accounting',\n",
              " 'debate.']"
            ]
          },
          "metadata": {},
          "execution_count": 39
        }
      ]
    },
    {
      "cell_type": "code",
      "source": [
        "name.split(\"7-10\")"
      ],
      "metadata": {
        "colab": {
          "base_uri": "https://localhost:8080/"
        },
        "id": "nXbnAnI5QYwZ",
        "outputId": "85206121-39a2-473d-9711-494d3e593211"
      },
      "execution_count": 40,
      "outputs": [
        {
          "output_type": "execute_result",
          "data": {
            "text/plain": [
              "['Cameron Truong is the lecturer in charge for weeks ',\n",
              " ' in ACF5510. Cameron will be teaching Python scriptting in the cloud and host group presentations and the accounting debate.']"
            ]
          },
          "metadata": {},
          "execution_count": 40
        }
      ]
    },
    {
      "cell_type": "code",
      "source": [
        "name.split(\".\")"
      ],
      "metadata": {
        "colab": {
          "base_uri": "https://localhost:8080/"
        },
        "id": "Ahm3r0X6Qk0C",
        "outputId": "e9cf3e9f-d59b-4e6f-f375-881c4720d5f9"
      },
      "execution_count": 41,
      "outputs": [
        {
          "output_type": "execute_result",
          "data": {
            "text/plain": [
              "['Cameron Truong is the lecturer in charge for weeks 7-10 in ACF5510',\n",
              " ' Cameron will be teaching Python scriptting in the cloud and host group presentations and the accounting debate',\n",
              " '']"
            ]
          },
          "metadata": {},
          "execution_count": 41
        }
      ]
    },
    {
      "cell_type": "code",
      "source": [
        "name=name.replace(\"Cameron\",\"Cam\")\n",
        "print(name)"
      ],
      "metadata": {
        "colab": {
          "base_uri": "https://localhost:8080/"
        },
        "id": "cGTygkAjQyWG",
        "outputId": "f1e5e0fa-b053-4f70-b908-65706e7049f8"
      },
      "execution_count": 42,
      "outputs": [
        {
          "output_type": "stream",
          "name": "stdout",
          "text": [
            "Cam Truong is the lecturer in charge for weeks 7-10 in ACF5510. Cam will be teaching Python scriptting in the cloud and host group presentations and the accounting debate.\n"
          ]
        }
      ]
    },
    {
      "cell_type": "code",
      "source": [
        "print(name[:3])\n",
        "print(name[51:])"
      ],
      "metadata": {
        "colab": {
          "base_uri": "https://localhost:8080/"
        },
        "id": "HavIeg6VRDj8",
        "outputId": "81caba66-2994-4ee1-b623-3f52148fbd57"
      },
      "execution_count": 44,
      "outputs": [
        {
          "output_type": "stream",
          "name": "stdout",
          "text": [
            "Cam\n",
            " in ACF5510. Cam will be teaching Python scriptting in the cloud and host group presentations and the accounting debate.\n"
          ]
        }
      ]
    },
    {
      "cell_type": "code",
      "source": [
        "print(name[:name.index(\".\")])"
      ],
      "metadata": {
        "colab": {
          "base_uri": "https://localhost:8080/"
        },
        "id": "YmEd88BhRcvd",
        "outputId": "99015011-5963-4f62-a588-057a45cafe39"
      },
      "execution_count": 45,
      "outputs": [
        {
          "output_type": "stream",
          "name": "stdout",
          "text": [
            "Cam Truong is the lecturer in charge for weeks 7-10 in ACF5510\n"
          ]
        }
      ]
    },
    {
      "cell_type": "code",
      "source": [
        "name=name.upper()\n",
        "print(name)"
      ],
      "metadata": {
        "colab": {
          "base_uri": "https://localhost:8080/"
        },
        "id": "ssvHh6znRspG",
        "outputId": "976f1484-ed1f-477c-9a5b-ae29f5eec9df"
      },
      "execution_count": 46,
      "outputs": [
        {
          "output_type": "stream",
          "name": "stdout",
          "text": [
            "CAM TRUONG IS THE LECTURER IN CHARGE FOR WEEKS 7-10 IN ACF5510. CAM WILL BE TEACHING PYTHON SCRIPTTING IN THE CLOUD AND HOST GROUP PRESENTATIONS AND THE ACCOUNTING DEBATE.\n"
          ]
        }
      ]
    },
    {
      "cell_type": "code",
      "source": [
        "name=name.lower()\n",
        "print(name)"
      ],
      "metadata": {
        "colab": {
          "base_uri": "https://localhost:8080/"
        },
        "id": "Q8GpdSq1R0pW",
        "outputId": "a136b096-5f4a-4439-d34c-1163d206f184"
      },
      "execution_count": 47,
      "outputs": [
        {
          "output_type": "stream",
          "name": "stdout",
          "text": [
            "cam truong is the lecturer in charge for weeks 7-10 in acf5510. cam will be teaching python scriptting in the cloud and host group presentations and the accounting debate.\n"
          ]
        }
      ]
    },
    {
      "cell_type": "code",
      "source": [
        "name=name.title()\n",
        "print(name)"
      ],
      "metadata": {
        "colab": {
          "base_uri": "https://localhost:8080/"
        },
        "id": "rLMmbyuXR-MO",
        "outputId": "d14d9e58-2108-4f60-95db-dc10f76140cc"
      },
      "execution_count": 48,
      "outputs": [
        {
          "output_type": "stream",
          "name": "stdout",
          "text": [
            "Cam Truong Is The Lecturer In Charge For Weeks 7-10 In Acf5510. Cam Will Be Teaching Python Scriptting In The Cloud And Host Group Presentations And The Accounting Debate.\n"
          ]
        }
      ]
    },
    {
      "cell_type": "code",
      "source": [
        "text = \"Qantas is highly concerned with sustainability issues. We have our own Sustainability Manager and she looks after all key sustainability activities. SUSTAINABILITY.\"\n",
        "text=text.lower()\n",
        "print(text)\n",
        "print(text.count(\"sustainability\"))"
      ],
      "metadata": {
        "colab": {
          "base_uri": "https://localhost:8080/"
        },
        "id": "fABT7JaySMN2",
        "outputId": "8662421d-2153-4d87-d45b-ab5a6010f1eb"
      },
      "execution_count": 50,
      "outputs": [
        {
          "output_type": "stream",
          "name": "stdout",
          "text": [
            "qantas is highly concerned with sustainability issues. we have our own sustainability manager and she looks after all key sustainability activities. sustainability.\n",
            "4\n"
          ]
        }
      ]
    },
    {
      "cell_type": "code",
      "source": [
        "name=\"                           Cameron Truong\"\n",
        "name=name.strip()\n",
        "print(name)\n"
      ],
      "metadata": {
        "colab": {
          "base_uri": "https://localhost:8080/"
        },
        "id": "yCo0Un6pTFDx",
        "outputId": "0de28a8a-c786-4437-ad38-59ba7675ff29"
      },
      "execution_count": 52,
      "outputs": [
        {
          "output_type": "stream",
          "name": "stdout",
          "text": [
            "Cameron Truong\n"
          ]
        }
      ]
    },
    {
      "cell_type": "code",
      "source": [
        "# Exercise 4: Your life in days, weeks, months exercise: Create a program using maths and f-Strings that tells us how many days, weeks, months we have left if we live until 90 years old.\n",
        "\n",
        "# It will take your current age as the input and output a message with our time left in this format:\n",
        "\n",
        "# You have x days, y weeks, and z months left.\n",
        "\n",
        "# Where x, y and z are replaced with the actual calculated numbers.\n",
        "\n",
        "# Warning your output should match the Example Output format exactly, even the positions of the commas and full stops.\n",
        "\n",
        "# Example Input 56 56 Example Output You have 12410 days, 1768 weeks, and 408 months left. You have 12410 days, 1768 weeks, and 408 months left. e.g. When you hit run, this is what should happen:\n",
        "\n",
        "\n",
        "age = int(input(\"What is your current age? \\n\"))\n",
        "days_left = 32850-age*365\n",
        "weeks_left = 4680-age*52\n",
        "months_left =1080-age*12\n",
        "\n",
        "# print(\"The number of days left is: \"+str(days_left))\n",
        "# print(\"The number of weeks left is: \" +str(weeks_left))\n",
        "# print(\"The number of months left is: \" +str(months_left))\n",
        "print(f\"You have got {days_left} days left, {weeks_left} weeks left, and {months_left} months left.\")\n",
        "\n"
      ],
      "metadata": {
        "colab": {
          "base_uri": "https://localhost:8080/"
        },
        "id": "e-X2aT3_WyL0",
        "outputId": "e00c0fff-8ead-4eff-9808-72301e2438c2"
      },
      "execution_count": 58,
      "outputs": [
        {
          "output_type": "stream",
          "name": "stdout",
          "text": [
            "What is your current age? \n",
            "25\n",
            "You have got 23725 days left, 3380 weeks left, and 780 months left.\n"
          ]
        }
      ]
    },
    {
      "cell_type": "code",
      "source": [
        "#Conditional statement\n",
        "age = int(input(\"What is your age? \\n\"))\n",
        "\n",
        "if age<30:\n",
        "    print(\"You are so young\")\n",
        "else:\n",
        "    print(\"You are no longer young\")"
      ],
      "metadata": {
        "colab": {
          "base_uri": "https://localhost:8080/"
        },
        "id": "gXj_z0jValq6",
        "outputId": "911b4df5-ecc3-4991-9c92-80026d1df290"
      },
      "execution_count": 60,
      "outputs": [
        {
          "output_type": "stream",
          "name": "stdout",
          "text": [
            "What is your age? \n",
            "35\n",
            "You are no longer young\n"
          ]
        }
      ]
    },
    {
      "cell_type": "code",
      "source": [
        "student_age= int(input(\"What is the student's age? \\n\"))\n",
        "lecturer_age=int(input(\"What is the lecturer's age?\\n\"))\n",
        "\n",
        "if student_age<lecturer_age:\n",
        "    print(\"The student is so young\")\n",
        "    print(\"The lecturer is kinda young\")\n",
        "\n",
        "elif student_age>lecturer_age and student_age>50:\n",
        "    print(\"THe student must be a corporate manager\")\n",
        "\n",
        "elif student_age>lecturer_age:\n",
        "    print(\" The lecturer is so younng\")\n",
        "    print(\" The student is mature\")\n",
        "\n",
        "else:\n",
        "    print(\"The student and the lecturer are mates!\")"
      ],
      "metadata": {
        "colab": {
          "base_uri": "https://localhost:8080/"
        },
        "id": "1GNXRW16bgEj",
        "outputId": "02614c9e-001d-4753-db77-f1b1d16513ed"
      },
      "execution_count": 64,
      "outputs": [
        {
          "output_type": "stream",
          "name": "stdout",
          "text": [
            "What is the student's age? \n",
            "43\n",
            "What is the lecturer's age?\n",
            "43\n",
            "The student and the lecturer are mates!\n"
          ]
        }
      ]
    },
    {
      "cell_type": "code",
      "source": [
        "# Exercise 4: BMI version 2.0\n",
        "# 1) Get the user height\n",
        "# 2) Get the user weight\n",
        "# 3) Compute bmi\n",
        "# 4) Advise the user: bmi<=18.5, \"underweight\",18.5<bmi<25, \"normal weight\", 25<=bmi<30, \"overweight\", 30<=bmi<35, \"obese\", bmi>=35, \"clinically obese\"\n",
        "\n",
        "height=float(input(\"What is your height in meter? \\n\"))\n",
        "weight=float(input(\"What is your weight in kg? \\n\"))\n",
        "bmi=round(weight/(height*height),2)\n",
        "\n",
        "if bmi<=18.5:\n",
        "    print(f\"Your bmi value is {bmi}, you are underweight\")\n",
        "\n",
        "elif bmi<25:\n",
        "    print(f\"Your bmi value is {bmi}, you are normal weight\")\n",
        "\n",
        "elif bmi<30:\n",
        "    print(f\"Your bmi value is {bmi}, you are overweight\")\n",
        "\n",
        "elif bmi<35:\n",
        "    print(f\"Your bmi value is {bmi}, you are obese\")\n",
        "\n",
        "else:\n",
        "    print(f\"Your bmi value is {bmi}, you are clinically obsese\")\n"
      ],
      "metadata": {
        "colab": {
          "base_uri": "https://localhost:8080/"
        },
        "id": "wqMUW08ddWpz",
        "outputId": "c46e4bc4-1cc0-4c88-a830-6ec9e670599b"
      },
      "execution_count": 72,
      "outputs": [
        {
          "output_type": "stream",
          "name": "stdout",
          "text": [
            "What is your height in meter? \n",
            "1.76\n",
            "What is your weight in kg? \n",
            "110\n",
            "Your bmi value is 35.51, you are clinically obsese\n"
          ]
        }
      ]
    },
    {
      "cell_type": "markdown",
      "source": [
        "This is our first line of code in Python.\n",
        "Ctrl+enter  to execute code\n",
        "Ctrl+m+b to insert new code cell\n",
        "Selected code, then Ctrl+/ to comment out\n",
        "To uncomment, also select text and Ctrl+/"
      ],
      "metadata": {
        "id": "Ii6mbfGhAyzL"
      }
    }
  ]
}