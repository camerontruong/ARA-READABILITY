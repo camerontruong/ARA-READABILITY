{
  "nbformat": 4,
  "nbformat_minor": 0,
  "metadata": {
    "colab": {
      "name": "READABILITY_CONTROLS_V2_07JUNE.ipynb",
      "provenance": [],
      "include_colab_link": true
    },
    "kernelspec": {
      "name": "python3",
      "display_name": "Python 3"
    },
    "language_info": {
      "name": "python"
    }
  },
  "cells": [
    {
      "cell_type": "markdown",
      "metadata": {
        "id": "view-in-github",
        "colab_type": "text"
      },
      "source": [
        "<a href=\"https://colab.research.google.com/github/camerontruong/ARA-READABILITY/blob/main/READABILITY_CONTROLS_V2_07JUNE.ipynb\" target=\"_parent\"><img src=\"https://colab.research.google.com/assets/colab-badge.svg\" alt=\"Open In Colab\"/></a>"
      ]
    },
    {
      "cell_type": "code",
      "metadata": {
        "colab": {
          "base_uri": "https://localhost:8080/"
        },
        "id": "cJ5NcQkKt5dL",
        "outputId": "5875ee0a-28f1-4800-f359-dbca64f88154"
      },
      "source": [
        "from google.colab import drive\n",
        "drive.mount('/content/drive')"
      ],
      "execution_count": null,
      "outputs": [
        {
          "output_type": "stream",
          "text": [
            "Drive already mounted at /content/drive; to attempt to forcibly remount, call drive.mount(\"/content/drive\", force_remount=True).\n"
          ],
          "name": "stdout"
        }
      ]
    },
    {
      "cell_type": "code",
      "metadata": {
        "colab": {
          "base_uri": "https://localhost:8080/"
        },
        "id": "zLG65ApguAu_",
        "outputId": "a1003546-9d0c-429e-ef0e-1761a6ab8f9e"
      },
      "source": [
        "!pip install textstat\n",
        "!pip install PyPDF2\n",
        "!pip install -U textblob\n",
        "import os\n",
        "import glob\n",
        "import textstat\n",
        "import csv\n",
        "import PyPDF2\n",
        "from textblob import TextBlob"
      ],
      "execution_count": null,
      "outputs": [
        {
          "output_type": "stream",
          "text": [
            "Requirement already satisfied: textstat in /usr/local/lib/python3.7/dist-packages (0.7.1)\n",
            "Requirement already satisfied: pyphen in /usr/local/lib/python3.7/dist-packages (from textstat) (0.10.0)\n",
            "Requirement already satisfied: PyPDF2 in /usr/local/lib/python3.7/dist-packages (1.26.0)\n",
            "Requirement already up-to-date: textblob in /usr/local/lib/python3.7/dist-packages (0.15.3)\n",
            "Requirement already satisfied, skipping upgrade: nltk>=3.1 in /usr/local/lib/python3.7/dist-packages (from textblob) (3.2.5)\n",
            "Requirement already satisfied, skipping upgrade: six in /usr/local/lib/python3.7/dist-packages (from nltk>=3.1->textblob) (1.15.0)\n"
          ],
          "name": "stdout"
        }
      ]
    },
    {
      "cell_type": "code",
      "metadata": {
        "id": "Bd_HPEzruc74"
      },
      "source": [
        "TARGET_FILES = r'/content/drive/My Drive/Control sample/*.pdf'\n",
        "file_list = glob.glob(TARGET_FILES)"
      ],
      "execution_count": null,
      "outputs": []
    },
    {
      "cell_type": "code",
      "metadata": {
        "id": "WIS8b2gi9uif",
        "colab": {
          "base_uri": "https://localhost:8080/"
        },
        "outputId": "03fcb928-c9b9-4545-fe49-0215af449a4f"
      },
      "source": [
        "new_list=[]\n",
        "name=[]\n",
        "size=[]\n",
        "pagen=[]\n",
        "for file in file_list:\n",
        "  print(file)\n",
        "  n=(file.split('.pdf',0))\n",
        "  name.append(n)\n",
        "  size.append((os.stat(file).st_size)/1000000)\n",
        "    \n",
        "  \n",
        "  if file.endswith(\".pdf\"):\n",
        "    with open (file,'rb') as pdfobject:\n",
        "      pdfreader=PyPDF2.PdfFileReader(pdfobject)\n",
        "      page_numbers=pdfreader.numPages\n",
        "      pagen.append(page_numbers)\n",
        "      if pdfreader.isEncrypted == True:\n",
        "        pass\n",
        "      else:\n",
        "          currentpage = 0\n",
        "          text = \"\"\n",
        "          while (currentpage <page_numbers):\n",
        "            page=pdfreader.getPage(currentpage)\n",
        "            try:\n",
        "              text=text+page.extractText()\n",
        "            except:\n",
        "                print(currentpage) #to print the error page\n",
        "            currentpage +=1\n",
        "          new_list.append(text)  \n",
        "          \n"
      ],
      "execution_count": null,
      "outputs": [
        {
          "output_type": "stream",
          "text": [
            "/content/drive/My Drive/Control sample/AMP_2013.pdf\n",
            "/content/drive/My Drive/Control sample/AMP_2014.pdf\n",
            "/content/drive/My Drive/Control sample/AMP_2016.pdf\n",
            "/content/drive/My Drive/Control sample/ASX_2015.pdf\n",
            "/content/drive/My Drive/Control sample/ASX_2012.pdf\n",
            "/content/drive/My Drive/Control sample/BAP_2015.pdf\n"
          ],
          "name": "stdout"
        },
        {
          "output_type": "stream",
          "text": [
            "PdfReadWarning: Xref table not zero-indexed. ID numbers for objects will be corrected. [pdf.py:1736]\n"
          ],
          "name": "stderr"
        },
        {
          "output_type": "stream",
          "text": [
            "/content/drive/My Drive/Control sample/BAP_2014.pdf\n",
            "/content/drive/My Drive/Control sample/BAP_2016.pdf\n",
            "/content/drive/My Drive/Control sample/BHP_2016.pdf\n",
            "/content/drive/My Drive/Control sample/BXB_2014.pdf\n",
            "/content/drive/My Drive/Control sample/BXB_2016.pdf\n",
            "/content/drive/My Drive/Control sample/BXB_2015.pdf\n",
            "/content/drive/My Drive/Control sample/CGF_2013.pdf\n",
            "/content/drive/My Drive/Control sample/CGF_2014.pdf\n",
            "/content/drive/My Drive/Control sample/CWY_2012.pdf\n",
            "/content/drive/My Drive/Control sample/CWY_2013.pdf\n",
            "/content/drive/My Drive/Control sample/CWY_2014.pdf\n",
            "/content/drive/My Drive/Control sample/DXS_2016.pdf\n",
            "/content/drive/My Drive/Control sample/GMG_2012.pdf\n",
            "/content/drive/My Drive/Control sample/GMG_2014.pdf\n",
            "/content/drive/My Drive/Control sample/GMG_2015.pdf\n",
            "/content/drive/My Drive/Control sample/GMG_2016.pdf\n",
            "/content/drive/My Drive/Control sample/HVN_2014.pdf\n",
            "/content/drive/My Drive/Control sample/HVN_2015.pdf\n",
            "/content/drive/My Drive/Control sample/HVN_2016.pdf\n",
            "/content/drive/My Drive/Control sample/MQG_2015.pdf\n",
            "/content/drive/My Drive/Control sample/NCM_2012.pdf\n",
            "/content/drive/My Drive/Control sample/NCM_2014.pdf\n",
            "/content/drive/My Drive/Control sample/NCM_2016.pdf\n",
            "/content/drive/My Drive/Control sample/ORG_2013.pdf\n",
            "/content/drive/My Drive/Control sample/ORG_2014.pdf\n",
            "134\n",
            "/content/drive/My Drive/Control sample/ORG_2015.pdf\n",
            "/content/drive/My Drive/Control sample/ORG_2016.pdf\n",
            "/content/drive/My Drive/Control sample/QAN_2013.pdf\n",
            "/content/drive/My Drive/Control sample/QAN_2014.pdf\n",
            "/content/drive/My Drive/Control sample/S32_2015.pdf\n",
            "/content/drive/My Drive/Control sample/QBE_2012.pdf\n",
            "/content/drive/My Drive/Control sample/SCG_2013.pdf\n",
            "/content/drive/My Drive/Control sample/SCG_2016.pdf\n",
            "/content/drive/My Drive/Control sample/STO_2015.pdf\n",
            "/content/drive/My Drive/Control sample/STO_2014.pdf\n",
            "/content/drive/My Drive/Control sample/SUN_2012.pdf\n",
            "/content/drive/My Drive/Control sample/SUN_2013.pdf\n",
            "/content/drive/My Drive/Control sample/SUN_2015.pdf\n",
            "/content/drive/My Drive/Control sample/SYD_2013.pdf\n",
            "/content/drive/My Drive/Control sample/SUN_2016.pdf\n",
            "/content/drive/My Drive/Control sample/TLS_2013.pdf\n",
            "/content/drive/My Drive/Control sample/WOW_2012.pdf\n",
            "/content/drive/My Drive/Control sample/WOW_2015.pdf\n",
            "/content/drive/My Drive/Control sample/WPL_2012.pdf\n"
          ],
          "name": "stdout"
        }
      ]
    },
    {
      "cell_type": "code",
      "metadata": {
        "id": "0LhrioSKvEEl"
      },
      "source": [
        "gf=[]\n",
        "kg=[]\n",
        "ke=[]\n",
        "dc=[]\n",
        "sc=[]\n",
        "dif=[]\n",
        "st=[]\n",
        "ct=[]\n",
        "sep=[]\n",
        "ses=[]\n",
        "for test in new_list:\n",
        "  #print(textstat.gunning_fog(test))\n",
        "  #print(textstat.lexicon_count(test, removepunct=True))\n",
        "  gf.append(textstat.gunning_fog(test))\n",
        "  kg.append(textstat.flesch_kincaid_grade(test))\n",
        "  ke.append(textstat.flesch_reading_ease(test))\n",
        "  dc.append(textstat.dale_chall_readability_score(test))\n",
        "  sc.append(textstat.sentence_count(test))\n",
        "  dif.append(textstat.difficult_words(test))\n",
        "  st.append(textstat.text_standard(test))\n",
        "  ct.append(textstat.lexicon_count(test, removepunct=True))\n",
        "  sep.append(TextBlob(test).sentiment.polarity)\n",
        "  ses.append(TextBlob(test).sentiment.subjectivity)"
      ],
      "execution_count": null,
      "outputs": []
    },
    {
      "cell_type": "code",
      "metadata": {
        "id": "Q0aRlgLnozly"
      },
      "source": [
        "ticker=[]\n",
        "year=[]\n",
        "for file in file_list:\n",
        "  ticker.append((file.rsplit('/content/drive/My Drive/Control sample/')[1][0:3]))\n",
        "  year.append((file.rsplit('/content/drive/My Drive/Control sample/')[1][4:8]))"
      ],
      "execution_count": null,
      "outputs": []
    },
    {
      "cell_type": "code",
      "metadata": {
        "id": "a5RtqEXBNVlr"
      },
      "source": [
        "from itertools import zip_longest\n",
        "data = [ticker, year, gf, kg,ke,dc,sc,dif,st,name,ct, pagen, size,sep,ses]\n",
        "export_data = zip_longest(*data, fillvalue = '')\n",
        "with open('/content/drive/My Drive/MSFT/READABILITY_CONTROLS.csv', 'w', encoding=\"ISO-8859-1\", newline='') as file:\n",
        "      write = csv.writer(file)\n",
        "      write.writerow((\"TICKER\", \"YEAR\", \"GUNNING FOG\", \"FLESCH-KINCAID GRADE\",\"FLESCH-READING EASE\",\"DALE-CHALL\",\"SENTENCE COUNT\",\"DIFFICULT WORDS\",\"STANDARD READABILITY\",\"NAME\",\"TOTAL WORDS\",\"TOTAL PAGES\",\"FILE SIZE\",\"SENTIMENT POLARITY\",\"SENTIMENT SUBJECTIVITY\"))\n",
        "      write.writerows(export_data)"
      ],
      "execution_count": null,
      "outputs": []
    }
  ]
}