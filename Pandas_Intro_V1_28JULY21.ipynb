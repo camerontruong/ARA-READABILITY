{
  "nbformat": 4,
  "nbformat_minor": 0,
  "metadata": {
    "colab": {
      "name": "Pandas_Intro.ipynb",
      "private_outputs": true,
      "provenance": [],
      "authorship_tag": "ABX9TyMgCCzk4jpdmHatdJzWb56A",
      "include_colab_link": true
    },
    "kernelspec": {
      "name": "python3",
      "display_name": "Python 3"
    },
    "language_info": {
      "name": "python"
    }
  },
  "cells": [
    {
      "cell_type": "markdown",
      "metadata": {
        "id": "view-in-github",
        "colab_type": "text"
      },
      "source": [
        "<a href=\"https://colab.research.google.com/github/camerontruong/ARA-READABILITY/blob/main/Pandas_Intro_V1_28JULY21.ipynb\" target=\"_parent\"><img src=\"https://colab.research.google.com/assets/colab-badge.svg\" alt=\"Open In Colab\"/></a>"
      ]
    },
    {
      "cell_type": "code",
      "metadata": {
        "id": "KjTmSkPzQKNH"
      },
      "source": [
        "import numpy as np\n",
        "import pandas as pd"
      ],
      "execution_count": null,
      "outputs": []
    },
    {
      "cell_type": "markdown",
      "metadata": {
        "id": "j4fzTne8QOre"
      },
      "source": [
        "*Object creation with pandas\n",
        "*"
      ]
    },
    {
      "cell_type": "code",
      "metadata": {
        "id": "krsK69kkQdNk"
      },
      "source": [
        "s = pd.Series([1,3,4, np.nan, 6,8])\n",
        "s"
      ],
      "execution_count": null,
      "outputs": []
    },
    {
      "cell_type": "code",
      "metadata": {
        "id": "h8yzqndQQlSl"
      },
      "source": [
        "#Creating dataframe by passing a NumPy array, with datetime index and lablelled columns:\n",
        "dates = pd.date_range(\"20140101\", periods=6)\n",
        "dates"
      ],
      "execution_count": null,
      "outputs": []
    },
    {
      "cell_type": "code",
      "metadata": {
        "id": "ggZmkWYeQ_ov"
      },
      "source": [
        "df = pd.DataFrame(np.random.randn(6,4), index=dates, columns=list('ABCD'))\n",
        "df"
      ],
      "execution_count": null,
      "outputs": []
    },
    {
      "cell_type": "code",
      "metadata": {
        "id": "y1cOzOZBSLJc"
      },
      "source": [
        "#Creating a DataFrame by passing a dic of objects that can be converted to series-like\n",
        "df2 = pd.DataFrame(\n",
        "    {\n",
        "        \"A\": 1.0,\n",
        "        \"B\": pd.Timestamp(\"20140102\"),\n",
        "        \"C\": pd.Series(1, index=list(range(4)), dtype= 'float32'),\n",
        "        \"D\": np.array([3]*4, dtype='int32'),\n",
        "        \"E\": pd.Categorical([\"test\", \"train\", \"test\", \"train\"]),\n",
        "        \"F\": \"foo\",  \n",
        "     \n",
        "    }\n",
        ")\n",
        "\n",
        "df2"
      ],
      "execution_count": null,
      "outputs": []
    },
    {
      "cell_type": "markdown",
      "metadata": {
        "id": "2Upip_LVT2W0"
      },
      "source": [
        "VIEWING DATA"
      ]
    },
    {
      "cell_type": "code",
      "metadata": {
        "id": "sfZOL0SOTrw4"
      },
      "source": [
        "df.head(2)"
      ],
      "execution_count": null,
      "outputs": []
    },
    {
      "cell_type": "code",
      "metadata": {
        "id": "EvLxOwFcTtSW"
      },
      "source": [
        "df.tail(3)"
      ],
      "execution_count": null,
      "outputs": []
    },
    {
      "cell_type": "code",
      "metadata": {
        "id": "SPe-rwhZTyyz"
      },
      "source": [
        "df.index"
      ],
      "execution_count": null,
      "outputs": []
    },
    {
      "cell_type": "code",
      "metadata": {
        "id": "OmBZD5cDT8h4"
      },
      "source": [
        "df.columns"
      ],
      "execution_count": null,
      "outputs": []
    },
    {
      "cell_type": "code",
      "metadata": {
        "id": "Ik29FNvTT9-g"
      },
      "source": [
        "df.to_numpy()"
      ],
      "execution_count": null,
      "outputs": []
    },
    {
      "cell_type": "code",
      "metadata": {
        "id": "vZV5_zO4UfgO"
      },
      "source": [
        ""
      ],
      "execution_count": null,
      "outputs": []
    },
    {
      "cell_type": "code",
      "metadata": {
        "id": "-RAFnwUvUpEn"
      },
      "source": [
        "df.describe()"
      ],
      "execution_count": null,
      "outputs": []
    },
    {
      "cell_type": "code",
      "metadata": {
        "id": "d_9n4f3SUq7m"
      },
      "source": [
        "df.T"
      ],
      "execution_count": null,
      "outputs": []
    },
    {
      "cell_type": "code",
      "metadata": {
        "id": "YGa8Cga1UvlA"
      },
      "source": [
        "df.sort_index(axis =0, ascending=False)"
      ],
      "execution_count": null,
      "outputs": []
    },
    {
      "cell_type": "code",
      "metadata": {
        "id": "xm-lS_btU6Gm"
      },
      "source": [
        "df.sort_index(axis =1, ascending=False)"
      ],
      "execution_count": null,
      "outputs": []
    },
    {
      "cell_type": "code",
      "metadata": {
        "id": "rOYl_DbyVIiE"
      },
      "source": [
        "df.sort_values(by = 'B')"
      ],
      "execution_count": null,
      "outputs": []
    },
    {
      "cell_type": "markdown",
      "metadata": {
        "id": "f-6ZIk9pVSdL"
      },
      "source": [
        "SELECTION"
      ]
    },
    {
      "cell_type": "code",
      "metadata": {
        "id": "1OeMJ-pNWo7o"
      },
      "source": [
        "df.A"
      ],
      "execution_count": null,
      "outputs": []
    },
    {
      "cell_type": "code",
      "metadata": {
        "id": "-5NrIfxTWp22"
      },
      "source": [
        ""
      ],
      "execution_count": null,
      "outputs": []
    },
    {
      "cell_type": "code",
      "metadata": {
        "id": "aUntI8hAWrSS"
      },
      "source": [
        "#slice by rows\n",
        "df[0:3]"
      ],
      "execution_count": null,
      "outputs": []
    },
    {
      "cell_type": "code",
      "metadata": {
        "id": "M8BtlbRKWyxD"
      },
      "source": [
        "#selection by label\n",
        "df.loc[dates[0]]"
      ],
      "execution_count": null,
      "outputs": []
    },
    {
      "cell_type": "code",
      "metadata": {
        "id": "NkOB-vc6XK0m"
      },
      "source": [
        "#selct on a multi-axis by label:\n",
        "df.loc[:,['A','B']]"
      ],
      "execution_count": null,
      "outputs": []
    },
    {
      "cell_type": "code",
      "metadata": {
        "id": "QMrQsyvIXuWm"
      },
      "source": [
        "# select by position\n",
        "df.iloc[3]"
      ],
      "execution_count": null,
      "outputs": []
    },
    {
      "cell_type": "code",
      "metadata": {
        "id": "WfBPcOTEX179"
      },
      "source": [
        "df.iloc[0:2, 0:2]"
      ],
      "execution_count": null,
      "outputs": []
    },
    {
      "cell_type": "code",
      "metadata": {
        "id": "xLim8KnjYRiH"
      },
      "source": [
        "df.iloc[1:3,:]"
      ],
      "execution_count": null,
      "outputs": []
    },
    {
      "cell_type": "code",
      "metadata": {
        "id": "Ygp1ZwaZYZIq"
      },
      "source": [
        "df.iloc[:,1:3]"
      ],
      "execution_count": null,
      "outputs": []
    },
    {
      "cell_type": "code",
      "metadata": {
        "id": "JhxFJzTWYdzc"
      },
      "source": [
        "#getting exact value\n",
        "df.iloc[1,1]"
      ],
      "execution_count": null,
      "outputs": []
    },
    {
      "cell_type": "code",
      "metadata": {
        "id": "wW8LjTc1cmn0"
      },
      "source": [
        "#BOOLEAN indexing\n",
        "df[df[\"A\"]>0]"
      ],
      "execution_count": null,
      "outputs": []
    },
    {
      "cell_type": "code",
      "metadata": {
        "id": "qnqLkHiocw_Z"
      },
      "source": [
        "df[df>0]"
      ],
      "execution_count": null,
      "outputs": []
    },
    {
      "cell_type": "code",
      "metadata": {
        "id": "deHUVaUXc2Tr"
      },
      "source": [
        "# Using isin method\n",
        "df2 = df.copy()\n",
        "df2['E'] = [\"one\", \"one\",\"two\", \"three\", \"four\", \"three\"]\n",
        "df2"
      ],
      "execution_count": null,
      "outputs": []
    },
    {
      "cell_type": "code",
      "metadata": {
        "id": "NSWe5U_tdVOE"
      },
      "source": [
        "df2[df2[\"E\"].isin([\"two\",\"four\"])]"
      ],
      "execution_count": null,
      "outputs": []
    },
    {
      "cell_type": "markdown",
      "metadata": {
        "id": "us3sPvb0djKH"
      },
      "source": [
        "SETTING\n"
      ]
    },
    {
      "cell_type": "code",
      "metadata": {
        "id": "lr6e6bPfdlBr"
      },
      "source": [
        ""
      ],
      "execution_count": null,
      "outputs": []
    },
    {
      "cell_type": "markdown",
      "metadata": {
        "id": "h9K_JNNOd6Ih"
      },
      "source": [
        "STAT"
      ]
    },
    {
      "cell_type": "code",
      "metadata": {
        "id": "Glz0q7BJd7hP"
      },
      "source": [
        "df.mean()"
      ],
      "execution_count": null,
      "outputs": []
    },
    {
      "cell_type": "code",
      "metadata": {
        "id": "O72geetyd9Ev"
      },
      "source": [
        "# on the other axis\n",
        "df.mean(1)"
      ],
      "execution_count": null,
      "outputs": []
    },
    {
      "cell_type": "code",
      "metadata": {
        "id": "3rgepyZjeFBQ"
      },
      "source": [
        "#APPLY\n",
        "df.apply(np.cumsum)"
      ],
      "execution_count": null,
      "outputs": []
    },
    {
      "cell_type": "code",
      "metadata": {
        "id": "VpzjivmMeg3A"
      },
      "source": [
        "#concatenation\n",
        "df = pd.DataFrame(np.random.randn(10,4), columns=list('ABCD'))\n",
        "df"
      ],
      "execution_count": null,
      "outputs": []
    },
    {
      "cell_type": "code",
      "metadata": {
        "id": "IA6dcw8uerXG"
      },
      "source": [
        "pieces = [df[:3], df[3:7], df[7:]]"
      ],
      "execution_count": null,
      "outputs": []
    },
    {
      "cell_type": "code",
      "metadata": {
        "id": "2jQDZ8j1nhE-"
      },
      "source": [
        "pieces"
      ],
      "execution_count": null,
      "outputs": []
    },
    {
      "cell_type": "code",
      "metadata": {
        "id": "CfeYk3zvnie2"
      },
      "source": [
        "new=pd.concat(pieces)\n",
        "new"
      ],
      "execution_count": null,
      "outputs": []
    },
    {
      "cell_type": "code",
      "metadata": {
        "id": "QV-gR4RknnGk"
      },
      "source": [
        "#JOIN\n",
        "left =pd.DataFrame({'key':['foo','foo'], 'lval':[1,2]})\n",
        "right =pd.DataFrame({'key':['foo','foo'], 'rval':[4,5]})\n",
        "left\n",
        "right"
      ],
      "execution_count": null,
      "outputs": []
    },
    {
      "cell_type": "code",
      "metadata": {
        "id": "9AUm9rP2oMVg"
      },
      "source": [
        "merge = pd.merge(left, right, on ='key')\n",
        "merge"
      ],
      "execution_count": null,
      "outputs": []
    },
    {
      "cell_type": "code",
      "metadata": {
        "id": "VJfTuTnQoYGD"
      },
      "source": [
        "#GROUPING\n",
        "df = pd.DataFrame(\n",
        "    {\n",
        "       \"A\": [\"foo\", \"bar\", \"foo\", \"bar\", \"foo\", \"bar\", \"foo\", \"foo\"],\n",
        "       \"B\": [\"one\", \"one\", \"two\", \"three\", \"two\", \"two\", \"one\", \"three\"],\n",
        "       \"C\": np.random.randn(8),\n",
        "       \"D\": np.random.randn(8), \n",
        "    }\n",
        ")\n",
        "df"
      ],
      "execution_count": null,
      "outputs": []
    },
    {
      "cell_type": "code",
      "metadata": {
        "id": "2cdkTyu9pV6e"
      },
      "source": [
        "df.groupby(\"B\").sum()"
      ],
      "execution_count": null,
      "outputs": []
    },
    {
      "cell_type": "code",
      "metadata": {
        "id": "EBLEPaCFqU82"
      },
      "source": [
        "df.groupby([\"A\",\"B\"]).sum()"
      ],
      "execution_count": null,
      "outputs": []
    },
    {
      "cell_type": "code",
      "metadata": {
        "id": "xCXsqsxLqxmw"
      },
      "source": [
        "#PIVOT TABLE\n",
        "In [101]: df = pd.DataFrame(\n",
        "   .....:     {\n",
        "   .....:         \"A\": [\"one\", \"one\", \"two\", \"three\"] * 3,\n",
        "   .....:         \"B\": [\"A\", \"B\", \"C\"] * 4,\n",
        "   .....:         \"C\": [\"foo\", \"foo\", \"foo\", \"bar\", \"bar\", \"bar\"] * 2,\n",
        "   .....:         \"D\": np.random.randn(12),\n",
        "   .....:         \"E\": np.random.randn(12),\n",
        "   .....:     }\n",
        "   .....: )\n",
        "   .....: \n"
      ],
      "execution_count": null,
      "outputs": []
    },
    {
      "cell_type": "code",
      "metadata": {
        "id": "W7KMUZ-6rYXB"
      },
      "source": [
        "df"
      ],
      "execution_count": null,
      "outputs": []
    },
    {
      "cell_type": "code",
      "metadata": {
        "id": "Suw2koiNrbNG"
      },
      "source": [
        " pd.pivot_table(df, values=\"D\", index=[\"A\", \"B\"], columns=[\"C\"])"
      ],
      "execution_count": null,
      "outputs": []
    },
    {
      "cell_type": "code",
      "metadata": {
        "id": "RfVJ2ISlryro"
      },
      "source": [
        ""
      ],
      "execution_count": null,
      "outputs": []
    }
  ]
}