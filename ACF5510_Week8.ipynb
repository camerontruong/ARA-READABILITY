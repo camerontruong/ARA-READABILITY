{
  "nbformat": 4,
  "nbformat_minor": 0,
  "metadata": {
    "colab": {
      "name": "ACF5510_Week8.ipynb",
      "provenance": [],
      "authorship_tag": "ABX9TyO8NxRhteuX09SUgrIwwe4J",
      "include_colab_link": true
    },
    "kernelspec": {
      "name": "python3",
      "display_name": "Python 3"
    },
    "language_info": {
      "name": "python"
    }
  },
  "cells": [
    {
      "cell_type": "markdown",
      "metadata": {
        "id": "view-in-github",
        "colab_type": "text"
      },
      "source": [
        "<a href=\"https://colab.research.google.com/github/camerontruong/ARA-READABILITY/blob/main/ACF5510_Week8.ipynb\" target=\"_parent\"><img src=\"https://colab.research.google.com/assets/colab-badge.svg\" alt=\"Open In Colab\"/></a>"
      ]
    },
    {
      "cell_type": "code",
      "metadata": {
        "colab": {
          "base_uri": "https://localhost:8080/"
        },
        "id": "RQMaJq7f5utW",
        "outputId": "a6b5eefc-c1de-43cc-bb90-3597a2caa945"
      },
      "source": [
        "print(\"Hello World. We are from ACF5510\")"
      ],
      "execution_count": 2,
      "outputs": [
        {
          "output_type": "stream",
          "name": "stdout",
          "text": [
            "Hello World. We are from ACF5510\n"
          ]
        }
      ]
    },
    {
      "cell_type": "code",
      "metadata": {
        "colab": {
          "base_uri": "https://localhost:8080/"
        },
        "id": "nxET4LGQ8OB2",
        "outputId": "8a9983d0-1fc8-4a44-a019-48057fa4a40f"
      },
      "source": [
        "name = \"Cameron Truong\"\n",
        "print(name)\n",
        "\n",
        "name1 = \"Alvin Truong\"\n",
        "print(name, name1)"
      ],
      "execution_count": 5,
      "outputs": [
        {
          "output_type": "stream",
          "name": "stdout",
          "text": [
            "Cameron Truong\n",
            "Cameron Truong Alvin Truong\n"
          ]
        }
      ]
    },
    {
      "cell_type": "code",
      "metadata": {
        "colab": {
          "base_uri": "https://localhost:8080/"
        },
        "id": "HTx-wJpk8vwc",
        "outputId": "833e8b6a-efc5-4489-8bcb-41e4eda4b3d4"
      },
      "source": [
        "name = input(\"What is your name? \")\n",
        "print(len(name))"
      ],
      "execution_count": 8,
      "outputs": [
        {
          "output_type": "stream",
          "name": "stdout",
          "text": [
            "What is your name? Cameron Truong\n",
            "14\n"
          ]
        }
      ]
    },
    {
      "cell_type": "code",
      "metadata": {
        "colab": {
          "base_uri": "https://localhost:8080/"
        },
        "id": "UYWXRXX09aul",
        "outputId": "0905b369-eb3f-4375-cd4b-6f48e5823c33"
      },
      "source": [
        "print(\"What's up! Welcome to ACF5510\")\n",
        "welcome_message = \"Our CE of ACF5510 is \"+name\n",
        "print(welcome_message)"
      ],
      "execution_count": 10,
      "outputs": [
        {
          "output_type": "stream",
          "name": "stdout",
          "text": [
            "What's up! Welcome to ACF5510\n",
            "Our CE of ACF5510 is Cameron Truong\n"
          ]
        }
      ]
    },
    {
      "cell_type": "code",
      "metadata": {
        "colab": {
          "base_uri": "https://localhost:8080/"
        },
        "id": "Co_g7W6I-E9A",
        "outputId": "a2d6a32c-3781-4ad4-94a2-801ff0ac0781"
      },
      "source": [
        "#Exercise: i) print \"Welcome to Group Name Generator\", ii) city, takes the input of the city where you grew up, \"What is the name of the city where you grew up\"\n",
        "# iii), ask \" What is your pet's name? \"\n",
        "#iv  print out \" Your group name can be\" + city + petname\n",
        "print(\"Welcome to Group Name Generator\")\n",
        "city = input(\"What is the name of the city where you grew up?\\n\")\n",
        "pet = input(\"What is your pet's name?\\n\")\n",
        "print(\"Your group name can be \" + city+ \" \" +pet)\n"
      ],
      "execution_count": 13,
      "outputs": [
        {
          "output_type": "stream",
          "name": "stdout",
          "text": [
            "Welcome to Group Name Generator\n",
            "What is the name of the city where you grew up?\n",
            "Melbourne\n",
            "What is your pet's name?\n",
            "Russell\n",
            "Your group name can be Melbourne Russell\n"
          ]
        }
      ]
    },
    {
      "cell_type": "code",
      "metadata": {
        "colab": {
          "base_uri": "https://localhost:8080/"
        },
        "id": "zhR4hhDQBI9j",
        "outputId": "45271651-c211-4b0d-e86f-f647d9fee32c"
      },
      "source": [
        "two_digit_number = input(\"Type a two digit number: \")\n",
        "#Say, user input 54 => print out 9\n",
        "# type(two_digit_number) ctrl /\n",
        "first_digit=int(two_digit_number[0])\n",
        "second_digit=int(two_digit_number[1])\n",
        "sum=first_digit+second_digit\n",
        "print(sum)"
      ],
      "execution_count": 18,
      "outputs": [
        {
          "output_type": "stream",
          "name": "stdout",
          "text": [
            "Type a two digit number: 54\n",
            "9\n"
          ]
        }
      ]
    },
    {
      "cell_type": "code",
      "metadata": {
        "colab": {
          "base_uri": "https://localhost:8080/"
        },
        "id": "NtUiYzAiBh-d",
        "outputId": "80ac359c-730b-43fd-cd71-8db0cceae530"
      },
      "source": [
        "height = float(input(\"enter your height in m: \"))\n",
        "weight = int(input(\"enter your weight in kg: \"))\n",
        "bmi=int(weight/(height*height))\n",
        "print(bmi)\n"
      ],
      "execution_count": 24,
      "outputs": [
        {
          "output_type": "stream",
          "name": "stdout",
          "text": [
            "enter your height in m: 1.76\n",
            "enter your weight in kg: 72\n",
            "23\n"
          ]
        }
      ]
    },
    {
      "cell_type": "markdown",
      "metadata": {
        "id": "KH33ujoaD4SM"
      },
      "source": [
        "BMI_index =weight/(height*height)"
      ]
    },
    {
      "cell_type": "markdown",
      "metadata": {
        "id": "XUSSNimrG7lO"
      },
      "source": [
        "String manipulation"
      ]
    },
    {
      "cell_type": "code",
      "metadata": {
        "colab": {
          "base_uri": "https://localhost:8080/"
        },
        "id": "qAYRuof0HASu",
        "outputId": "26c70f9c-ec6b-4ddc-cf4c-6ecdc1f6ab23"
      },
      "source": [
        "name = \"Cameron  Truong\"\n",
        "print(len(name))\n",
        "print(name[0])\n",
        "print(name[6])"
      ],
      "execution_count": 41,
      "outputs": [
        {
          "output_type": "stream",
          "name": "stdout",
          "text": [
            "15\n",
            "C\n",
            "n\n"
          ]
        }
      ]
    },
    {
      "cell_type": "code",
      "metadata": {
        "colab": {
          "base_uri": "https://localhost:8080/"
        },
        "id": "Uskt99diHH2u",
        "outputId": "3452a9c8-741f-4ec4-e343-f06fe9b5fe26"
      },
      "source": [
        "print(name.index(\"a\"))\n",
        "print(name.index(\"ron\"))"
      ],
      "execution_count": 29,
      "outputs": [
        {
          "output_type": "stream",
          "name": "stdout",
          "text": [
            "1\n",
            "4\n"
          ]
        }
      ]
    },
    {
      "cell_type": "code",
      "metadata": {
        "colab": {
          "base_uri": "https://localhost:8080/"
        },
        "id": "rYR7B_WBHdCH",
        "outputId": "55a85419-4191-4505-fd4d-666e27d4a569"
      },
      "source": [
        "# print(name.split())\n",
        "name = name.replace(\"Cameron\",\"Cam\")\n",
        "print(name)"
      ],
      "execution_count": 42,
      "outputs": [
        {
          "output_type": "stream",
          "name": "stdout",
          "text": [
            "Cam  Truong\n"
          ]
        }
      ]
    },
    {
      "cell_type": "code",
      "metadata": {
        "colab": {
          "base_uri": "https://localhost:8080/"
        },
        "id": "2wBTjVmWIElF",
        "outputId": "b0988f7d-da27-41c8-916f-9d4c10803000"
      },
      "source": [
        "print(name[:3])"
      ],
      "execution_count": 34,
      "outputs": [
        {
          "output_type": "stream",
          "name": "stdout",
          "text": [
            "Cam\n"
          ]
        }
      ]
    },
    {
      "cell_type": "code",
      "metadata": {
        "colab": {
          "base_uri": "https://localhost:8080/"
        },
        "id": "kMqmDKvAIQT-",
        "outputId": "bfac546b-08f6-44cc-afdb-f5db0c93d5fa"
      },
      "source": [
        "print(name[8:])"
      ],
      "execution_count": 43,
      "outputs": [
        {
          "output_type": "stream",
          "name": "stdout",
          "text": [
            "ong\n"
          ]
        }
      ]
    },
    {
      "cell_type": "code",
      "metadata": {
        "colab": {
          "base_uri": "https://localhost:8080/"
        },
        "id": "b53eg2cdIrWI",
        "outputId": "193b0f2d-a3ee-4284-c937-38d1f07f7e7b"
      },
      "source": [
        "name = name.upper()\n",
        "print(name)"
      ],
      "execution_count": 37,
      "outputs": [
        {
          "output_type": "stream",
          "name": "stdout",
          "text": [
            "CAM TRUONG\n"
          ]
        }
      ]
    },
    {
      "cell_type": "code",
      "metadata": {
        "colab": {
          "base_uri": "https://localhost:8080/"
        },
        "id": "gx1BX8BPI5WH",
        "outputId": "fce0d1b5-23f3-49cf-e195-a8c84e13ee90"
      },
      "source": [
        "name = name.lower()\n",
        "print(name)"
      ],
      "execution_count": 38,
      "outputs": [
        {
          "output_type": "stream",
          "name": "stdout",
          "text": [
            "cam truong\n"
          ]
        }
      ]
    },
    {
      "cell_type": "code",
      "metadata": {
        "colab": {
          "base_uri": "https://localhost:8080/"
        },
        "id": "SDtKkicwI-B-",
        "outputId": "7ebe4cd6-e201-48c7-b2e3-83d86a85fc98"
      },
      "source": [
        "name = name.title()\n",
        "print(name)"
      ],
      "execution_count": 40,
      "outputs": [
        {
          "output_type": "stream",
          "name": "stdout",
          "text": [
            "Cam Truong\n"
          ]
        }
      ]
    },
    {
      "cell_type": "code",
      "metadata": {
        "colab": {
          "base_uri": "https://localhost:8080/"
        },
        "id": "8wRI4p_7JNoB",
        "outputId": "7f300881-6165-4519-91a6-517d1c9475e0"
      },
      "source": [
        "name = \"Cameron cam cameron  cameron Cameron Cameron Cameron Truong trg truong AC5510\"\n",
        "name =name.lower()\n",
        "print(name)\n",
        "print(name.count(\"cameron\"))"
      ],
      "execution_count": 48,
      "outputs": [
        {
          "output_type": "stream",
          "name": "stdout",
          "text": [
            "cameron cam cameron  cameron cameron cameron cameron truong trg truong ac5510\n",
            "6\n"
          ]
        }
      ]
    },
    {
      "cell_type": "code",
      "metadata": {
        "id": "d6x6ctr_KWCk"
      },
      "source": [
        "sustainability = \" Qantas is highly concerned with sustainability issues. We have our own Sustainability manager and she looks after key sustainability strategies.\""
      ],
      "execution_count": 49,
      "outputs": []
    },
    {
      "cell_type": "code",
      "metadata": {
        "colab": {
          "base_uri": "https://localhost:8080/"
        },
        "id": "S-ntK-ekLXiQ",
        "outputId": "d592a05f-69e3-43de-eec8-b0dec62a645d"
      },
      "source": [
        "sustainability=sustainability.lower()\n",
        "print(sustainability.count(\"sustainability\"))"
      ],
      "execution_count": 51,
      "outputs": [
        {
          "output_type": "stream",
          "name": "stdout",
          "text": [
            "3\n"
          ]
        }
      ]
    },
    {
      "cell_type": "code",
      "metadata": {
        "colab": {
          "base_uri": "https://localhost:8080/"
        },
        "id": "NV3L9h8FLcYt",
        "outputId": "0dbc5c49-8d57-4251-ba8f-084f9f272e09"
      },
      "source": [
        "name = \"Cam 123\"\n",
        "print(name[0].isdigit())"
      ],
      "execution_count": 55,
      "outputs": [
        {
          "output_type": "stream",
          "name": "stdout",
          "text": [
            "False\n"
          ]
        }
      ]
    },
    {
      "cell_type": "code",
      "metadata": {
        "colab": {
          "base_uri": "https://localhost:8080/"
        },
        "id": "h80rvljiL9Qn",
        "outputId": "f7a113d2-3a92-4dd4-b33c-06e7211e7b5d"
      },
      "source": [
        "name = \"           Cameron Truong\"\n",
        "print(name)\n",
        "name = name.strip()\n",
        "print(name)"
      ],
      "execution_count": 57,
      "outputs": [
        {
          "output_type": "stream",
          "name": "stdout",
          "text": [
            "           Cameron Truong\n",
            "Cameron Truong\n"
          ]
        }
      ]
    },
    {
      "cell_type": "markdown",
      "metadata": {
        "id": "tdIa8aP2WYOf"
      },
      "source": [
        "Your life in days, weeks, months exercise:\n",
        "Create a program using maths and f-Strings that tells us how many days, weeks, months we have left if we live until 90 years old.\n",
        "\n",
        "It will take your current age as the input and output a message with our time left in this format:\n",
        "\n",
        "You have x days, y weeks, and z months left.\n",
        "\n",
        "Where x, y and z are replaced with the actual calculated numbers.\n",
        "\n",
        "Warning your output should match the Example Output format exactly, even the positions of the commas and full stops.\n",
        "\n",
        "Example Input\n",
        "56\n",
        "56\n",
        "Example Output\n",
        "You have 12410 days, 1768 weeks, and 408 months left.\n",
        "You have 12410 days, 1768 weeks, and 408 months left.\n",
        "e.g. When you hit run, this is what should happen:"
      ]
    },
    {
      "cell_type": "code",
      "metadata": {
        "colab": {
          "base_uri": "https://localhost:8080/"
        },
        "id": "M_91S18dPlv7",
        "outputId": "18e8a32b-21a0-4cc5-de58-985fc3e17f18"
      },
      "source": [
        "age = int(input(\" What is your current age? \\n\"))\n",
        "x = 32850 - age*365\n",
        "y = 4680 -age*52\n",
        "z = 1080 -age*12\n",
        "print(f\"You have {x} days, {y} weeks, {z} months left.\")"
      ],
      "execution_count": 70,
      "outputs": [
        {
          "output_type": "stream",
          "name": "stdout",
          "text": [
            " What is your current age? \n",
            "12\n",
            "You have 28470 days, 4056 weeks, 936 months left.\n"
          ]
        }
      ]
    },
    {
      "cell_type": "markdown",
      "metadata": {
        "id": "fIbvKvkaVoEY"
      },
      "source": [
        "Conditional statement"
      ]
    },
    {
      "cell_type": "code",
      "metadata": {
        "colab": {
          "base_uri": "https://localhost:8080/"
        },
        "id": "jYmNk3jSVEah",
        "outputId": "04856298-d1c1-4b5d-f270-346295e30536"
      },
      "source": [
        "student_age = 49\n",
        "lecturer_age = 42\n",
        "\n",
        "if student_age<lecturer_age:\n",
        "  print(\"Students are so young\")\n",
        "  print(\"Our lecturer is kinda young\")\n",
        "elif student_age>lecturer_age and student_age>50:\n",
        "  print(\"Our students must be corporate managers\")\n",
        "\n",
        "elif student_age>lecturer_age:\n",
        "  print(\"Our lecturer is so young\")\n",
        "  print(\"Students are so mature\")\n",
        "else:\n",
        "  print(\"Students and our lecturer are mates!\")"
      ],
      "execution_count": 82,
      "outputs": [
        {
          "output_type": "stream",
          "name": "stdout",
          "text": [
            "Our lecturer is so young\n",
            "Students are so mature\n"
          ]
        }
      ]
    },
    {
      "cell_type": "markdown",
      "metadata": {
        "id": "-eUhTdqWafKa"
      },
      "source": [
        ""
      ]
    },
    {
      "cell_type": "markdown",
      "metadata": {
        "id": "psOHCDqHW1ur"
      },
      "source": [
        "Conditional statement exercise BMI version 2.0:\n",
        "\n",
        "if BMI<= 18.5, underweight\n",
        "if 18.5<BMI <25, normal weight\n",
        "if 25<=bmi<30, overweight\n",
        "if 30<=BMI<35, obese\n",
        "if BMI>=35, clinicaly obese\n",
        "You can use fstring to print out the BMI value too."
      ]
    },
    {
      "cell_type": "code",
      "metadata": {
        "colab": {
          "base_uri": "https://localhost:8080/"
        },
        "id": "ZTSaXcjeWWIp",
        "outputId": "296a7a76-ac89-4a3e-8cfb-52e130a2cefe"
      },
      "source": [
        "height = float(input(\"enter your height in m: \"))\n",
        "weight = float(input(\"enter your weight in kg: \"))\n",
        "bmi=(weight/(height*height))\n",
        "bmi_int=int(bmi)\n",
        "\n",
        "if bmi<=18.5:\n",
        "  print(f\"Your bmi is {bmi_int}, you are underweight\")\n",
        "elif bmi<25:\n",
        "  print(f\"Your bmi is {bmi_int}, you are normal weight\")\n",
        "elif bmi<30:\n",
        "  print(f\"Your bmi is {bmi_int}, you are over weight\")\n",
        "elif bmi<35:\n",
        "  print(f\"Your bmi is {bmi_int}, you are obese\")\n",
        "else:\n",
        "  print(f\"Your bmi is {bmi_int}, you are clinically obese\")"
      ],
      "execution_count": 89,
      "outputs": [
        {
          "output_type": "stream",
          "name": "stdout",
          "text": [
            "enter your height in m: 1.76\n",
            "enter your weight in kg: 180\n",
            "Your bmi is 58, you are clinically obese\n"
          ]
        }
      ]
    },
    {
      "cell_type": "markdown",
      "metadata": {
        "id": "hCiIJgTGadXT"
      },
      "source": [
        ""
      ]
    }
  ]
}