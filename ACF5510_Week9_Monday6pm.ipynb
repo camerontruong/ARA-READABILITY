{
  "nbformat": 4,
  "nbformat_minor": 0,
  "metadata": {
    "colab": {
      "name": "ACF5510_Week9_Monday6pm.ipynb",
      "provenance": [],
      "authorship_tag": "ABX9TyN6gLgJUDf9U8aH/98NhCCv",
      "include_colab_link": true
    },
    "kernelspec": {
      "name": "python3",
      "display_name": "Python 3"
    },
    "language_info": {
      "name": "python"
    }
  },
  "cells": [
    {
      "cell_type": "markdown",
      "metadata": {
        "id": "view-in-github",
        "colab_type": "text"
      },
      "source": [
        "<a href=\"https://colab.research.google.com/github/camerontruong/ARA-READABILITY/blob/main/ACF5510_Week9_Monday6pm.ipynb\" target=\"_parent\"><img src=\"https://colab.research.google.com/assets/colab-badge.svg\" alt=\"Open In Colab\"/></a>"
      ]
    },
    {
      "cell_type": "markdown",
      "metadata": {
        "id": "DjcPOYqLO6yh"
      },
      "source": [
        "Love Calulator:\n",
        "You are going to write a program that tests the compatibility between two people.\n",
        "\n",
        "To work out the love score between two people:\n",
        "\n",
        "Take both people's names and check for the number of times the letters in the word TRUE occurs. Then check for the number of times the letters in the word LOVE occurs. Then combine these numbers to make a 2 digit number.\n",
        "\n",
        "For Love Scores less than 10 or greater than 90, the message should be:\n",
        "\n",
        "\"Your score is **x**, you go together like coke and mentos.\"\n",
        "\n",
        "For Love Scores between 40 and 50, the message should be:\n",
        "\n",
        "\"Your score is **y**, you are alright together.\"\n",
        "\n",
        "Otherwise, the message will just be their score. e.g.:\n",
        "\n",
        "\"Your score is **z**.\"\n",
        "\n",
        "Example Input 1\n",
        "name1 = \"Kanye West\"\n",
        "name2 = \"Kim Kardashian\"\n",
        "Example Output 1\n",
        "Your score is 42, you are alright together.\n",
        "Example Input 2\n",
        "name1 = \"Brad Pitt\"\n",
        "name2 = \"Jennifer Aniston\"\n",
        "Example Output 2\n",
        "Your score is 73."
      ]
    },
    {
      "cell_type": "code",
      "metadata": {
        "colab": {
          "base_uri": "https://localhost:8080/"
        },
        "id": "ZbMa8aG1O-KZ",
        "outputId": "d921b631-942f-4fff-f03e-f00179e950a9"
      },
      "source": [
        "#true love\n",
        "print(\"Welcome to the Love Score Calculator\")\n",
        "name1= input(\"What is your name? \\n\")\n",
        "name2= input(\"What is your crush's name? \\n\")\n",
        "\n",
        "name1=name1.lower()\n",
        "name2=name2.lower()\n",
        "\n",
        "t = name1.count(\"t\")+name2.count(\"t\")\n",
        "r = name1.count(\"r\")+name2.count(\"r\")\n",
        "u = name1.count(\"u\")+name2.count(\"u\")\n",
        "e = name1.count(\"e\")+name2.count(\"e\")\n",
        "\n",
        "l = name1.count(\"l\")+name2.count(\"l\")\n",
        "o = name1.count(\"o\")+name2.count(\"o\")\n",
        "v = name1.count(\"v\")+name2.count(\"v\")\n",
        "e = name1.count(\"e\")+name2.count(\"e\")\n",
        "\n",
        "number1 = t+r+u+e\n",
        "number2 = l+o+v+e\n",
        "\n",
        "score=str(number1)+str(number2)\n",
        "score=int(score)\n",
        "\n",
        "if score<10 or score>90:\n",
        "  print(f\"Your love score is {score}, you go together like coke and mentos.\")\n",
        "elif score>40 and score<50:\n",
        "  print(f\"Your love score is {score}, you are alright together.\")\n",
        "else:\n",
        "  print(f\"Your love score is {score}.\")\n",
        "\n",
        "# print(score)"
      ],
      "execution_count": 5,
      "outputs": [
        {
          "output_type": "stream",
          "name": "stdout",
          "text": [
            "Welcome to the Love Score Calculator\n",
            "What is your name? \n",
            "Christiano Ronaldo\n",
            "What is your crush's name? \n",
            "Mary Walsh\n",
            "Your love score is 45, you are alright together.\n"
          ]
        }
      ]
    },
    {
      "cell_type": "code",
      "metadata": {
        "colab": {
          "base_uri": "https://localhost:8080/"
        },
        "id": "KyrLuMwcSoSJ",
        "outputId": "446a556c-6df3-48a2-f646-bd4c47e0dfde"
      },
      "source": [
        "# 🚨 Don't change the code below 👇\n",
        "number = int(input(\"Which number do you want to check? \"))\n",
        "# 🚨 Don't change the code above 👆\n",
        "check = number%2\n",
        "if check==0:\n",
        "  print(f\"This {number} is an even number.\")\n",
        "else:\n",
        "  print(f\"This {number} is an odd number.\")"
      ],
      "execution_count": 9,
      "outputs": [
        {
          "output_type": "stream",
          "name": "stdout",
          "text": [
            "Which number do you want to check? 22\n",
            "This 22 is an even number.\n"
          ]
        }
      ]
    },
    {
      "cell_type": "markdown",
      "metadata": {
        "id": "5zlHNYfvUsmg"
      },
      "source": [
        "LOOPS"
      ]
    },
    {
      "cell_type": "code",
      "metadata": {
        "colab": {
          "base_uri": "https://localhost:8080/"
        },
        "id": "sPejOLBNStXA",
        "outputId": "36e2c309-cd80-4843-896a-0ed3c2ffc443"
      },
      "source": [
        "odd_sum = 0\n",
        "for i in range(1,100000001):\n",
        "  if i%2==1:\n",
        "    odd_sum +=i\n",
        "\n",
        "print(odd_sum)"
      ],
      "execution_count": 17,
      "outputs": [
        {
          "output_type": "stream",
          "name": "stdout",
          "text": [
            "2500000000000000\n"
          ]
        }
      ]
    },
    {
      "cell_type": "code",
      "metadata": {
        "colab": {
          "base_uri": "https://localhost:8080/"
        },
        "id": "efhxRZGAX6v3",
        "outputId": "fb3f67e7-48c8-4b89-d9de-9867206e0184"
      },
      "source": [
        "i=1\n",
        "odd_sum = 0\n",
        "while i<=100:\n",
        "  if i%2==1:\n",
        "    odd_sum+=i\n",
        "  i+=1\n",
        "\n",
        "print(odd_sum)"
      ],
      "execution_count": 19,
      "outputs": [
        {
          "output_type": "stream",
          "name": "stdout",
          "text": [
            "2500\n"
          ]
        }
      ]
    },
    {
      "cell_type": "markdown",
      "metadata": {
        "id": "VeplLisYZopb"
      },
      "source": [
        "Instructions\n",
        "You are going to write a program that automatically prints the solution to the FizzBuzz game.\n",
        "\n",
        "Your program should print each number from 1 to 100 in turn.\n",
        "\n",
        "When the number is divisible by 3 then instead of printing the number it should print \"Fizz\".\n",
        "\n",
        "`When the number is divisible by 5, then instead of printing the number it should print \"Buzz\".` \n",
        "`When the number is divisible by 5, then instead of printing the number it should print \"Buzz\".` \n",
        "  `And if the number is divisible by both 3 and 5 e.g. 15 then instead of the number it should print \"FizzBuzz\"`\n",
        "  `And if the number is divisible by both 3 and 5 e.g. 15 then instead of the number it should print \"FizzBuzz\"`\n",
        "e.g. it might start off like this:\n",
        "\n",
        "`1\n",
        "2\n",
        "Fizz\n",
        "4\n",
        "Buzz\n",
        "Fizz\n",
        "7\n",
        "8\n",
        "Fizz\n",
        "Buzz\n",
        "11\n",
        "Fizz\n",
        "13\n",
        "14\n",
        "FizzBuzz`\n",
        "`1\n",
        "2\n",
        "Fizz\n",
        "4\n",
        "Buzz\n",
        "Fizz\n",
        "7\n",
        "8\n",
        "Fizz\n",
        "Buzz\n",
        "11\n",
        "Fizz\n",
        "13\n",
        "14\n",
        "FizzBuzz`\n",
        ".... etc.\n",
        "\n",
        "Hint\n",
        "Remember your answer should start from 1 and go up to and including 100.\n"
      ]
    },
    {
      "cell_type": "code",
      "metadata": {
        "id": "au4nsj-XZusK"
      },
      "source": [
        "#FIZZBUZZ\n",
        "#Write your code below this row 👇\n",
        "for number in range(1,101):\n",
        "  if number%3==0:\n",
        "    if number%5==0:\n",
        "      print(\"FizzBuzz\")\n",
        "    else:\n",
        "      print(\"Fizz\")\n",
        "  elif number%5==0:\n",
        "    print(\"Buzz\")\n",
        "  else:\n",
        "    print(number)"
      ],
      "execution_count": null,
      "outputs": []
    },
    {
      "cell_type": "markdown",
      "metadata": {
        "id": "Jo2L7FmidUc5"
      },
      "source": [
        "LIST"
      ]
    },
    {
      "cell_type": "code",
      "metadata": {
        "colab": {
          "base_uri": "https://localhost:8080/",
          "height": 35
        },
        "id": "YVTGqN-xaTZ3",
        "outputId": "a96adb22-f3e8-47c1-d1f6-e9c7bc179d80"
      },
      "source": [
        "fruits = [\"apple\", \"banana\",\"melon\"]\n",
        "type(fruits)\n",
        "fruits[2]"
      ],
      "execution_count": 28,
      "outputs": [
        {
          "output_type": "execute_result",
          "data": {
            "application/vnd.google.colaboratory.intrinsic+json": {
              "type": "string"
            },
            "text/plain": [
              "'melon'"
            ]
          },
          "metadata": {},
          "execution_count": 28
        }
      ]
    },
    {
      "cell_type": "code",
      "metadata": {
        "colab": {
          "base_uri": "https://localhost:8080/"
        },
        "id": "7ymUUcuFeGJ6",
        "outputId": "dcb30aa9-0c0a-4630-a91f-5b24591ea99d"
      },
      "source": [
        "fruits.append(\"mango\")\n",
        "fruits"
      ],
      "execution_count": 29,
      "outputs": [
        {
          "output_type": "execute_result",
          "data": {
            "text/plain": [
              "['apple', 'banana', 'melon', 'mango']"
            ]
          },
          "metadata": {},
          "execution_count": 29
        }
      ]
    },
    {
      "cell_type": "code",
      "metadata": {
        "colab": {
          "base_uri": "https://localhost:8080/"
        },
        "id": "62j84_UmeVd7",
        "outputId": "33155809-06df-4d37-cd1e-129b9820c146"
      },
      "source": [
        "fruits.remove(\"banana\")\n",
        "fruits"
      ],
      "execution_count": 30,
      "outputs": [
        {
          "output_type": "execute_result",
          "data": {
            "text/plain": [
              "['apple', 'melon', 'mango']"
            ]
          },
          "metadata": {},
          "execution_count": 30
        }
      ]
    },
    {
      "cell_type": "code",
      "metadata": {
        "colab": {
          "base_uri": "https://localhost:8080/"
        },
        "id": "WxjTgCd6ecnQ",
        "outputId": "e7c1a6e8-2184-4d3e-d52c-36b5c7506caa"
      },
      "source": [
        "fruits.index(\"melon\")"
      ],
      "execution_count": 31,
      "outputs": [
        {
          "output_type": "execute_result",
          "data": {
            "text/plain": [
              "1"
            ]
          },
          "metadata": {},
          "execution_count": 31
        }
      ]
    },
    {
      "cell_type": "code",
      "metadata": {
        "id": "3dlQfZEce2xz"
      },
      "source": [
        "numbers = []\n",
        "for i in range(1, 101):\n",
        "  if i%2==1:\n",
        "    numbers.append(i)\n",
        "numbers"
      ],
      "execution_count": null,
      "outputs": []
    },
    {
      "cell_type": "code",
      "metadata": {
        "colab": {
          "base_uri": "https://localhost:8080/"
        },
        "id": "Zk9aw6o8favw",
        "outputId": "6f935551-9e4b-4844-bed9-a5cdc2ab32b0"
      },
      "source": [
        "# Split string method\n",
        "names_string = input(\"Give me everybody's names, separated by a comma. \")\n",
        "print(names_string)\n",
        "names = names_string.split(\", \")\n",
        "names\n",
        "\n",
        "import random\n",
        "payer= random.choice(names)\n",
        "print(f\"The payer for dinner is {payer}\")"
      ],
      "execution_count": 38,
      "outputs": [
        {
          "output_type": "stream",
          "name": "stdout",
          "text": [
            "Give me everybody's names, separated by a comma. Cameron, Alvin, Amy, Maya, Russell, Joey, Chris, Lucy\n",
            "Cameron, Alvin, Amy, Maya, Russell, Joey, Chris, Lucy\n",
            "The payer for dinner is Joey\n"
          ]
        }
      ]
    },
    {
      "cell_type": "code",
      "metadata": {
        "colab": {
          "base_uri": "https://localhost:8080/"
        },
        "id": "iH8ynz_nhWXF",
        "outputId": "c428b802-1024-4bb2-dae2-ada414580fdd"
      },
      "source": [
        "#Password Generator Project\n",
        "import random\n",
        "letters = ['a', 'b', 'c', 'd', 'e', 'f', 'g', 'h', 'i', 'j', 'k', 'l', 'm', 'n', 'o', 'p', 'q', 'r', 's', 't', 'u', 'v', 'w', 'x', 'y', 'z', 'A', 'B', 'C', 'D', 'E', 'F', 'G', 'H', 'I', 'J', 'K', 'L', 'M', 'N', 'O', 'P', 'Q', 'R', 'S', 'T', 'U', 'V', 'W', 'X', 'Y', 'Z']\n",
        "numbers = ['0', '1', '2', '3', '4', '5', '6', '7', '8', '9']\n",
        "symbols = ['!', '#', '$', '%', '&', '(', ')', '*', '+']\n",
        "\n",
        "# 6 letters, 4 numbers, 3 symbols\n",
        "password = []\n",
        "\n",
        "for i in range(1,7):\n",
        "  password.append(random.choice(letters))\n",
        "\n",
        "for i in range(1,5):\n",
        "  password.append(random.choice(numbers))\n",
        "\n",
        "for i in range(1,4):\n",
        "  password.append(random.choice(symbols))\n",
        "\n",
        "random.shuffle(password)\n",
        "password\n",
        "p=\"\".join(password)\n",
        "print(f\"Your password could be {p}\")\n"
      ],
      "execution_count": 63,
      "outputs": [
        {
          "output_type": "stream",
          "name": "stdout",
          "text": [
            "Your password could be th$Bz509X7l&(\n"
          ]
        }
      ]
    },
    {
      "cell_type": "code",
      "metadata": {
        "colab": {
          "base_uri": "https://localhost:8080/"
        },
        "id": "cJhxIRk4n108",
        "outputId": "f5eba1fa-d984-4da5-e87f-4e3ceb5f0020"
      },
      "source": [
        "!pip install pdfplumber\n",
        "import requests\n",
        "import pdfplumber"
      ],
      "execution_count": 64,
      "outputs": [
        {
          "output_type": "stream",
          "name": "stdout",
          "text": [
            "Collecting pdfplumber\n",
            "  Downloading pdfplumber-0.5.28.tar.gz (45 kB)\n",
            "\u001b[K     |████████████████████████████████| 45 kB 1.5 MB/s \n",
            "\u001b[?25hCollecting pdfminer.six==20200517\n",
            "  Downloading pdfminer.six-20200517-py3-none-any.whl (5.6 MB)\n",
            "\u001b[K     |████████████████████████████████| 5.6 MB 7.6 MB/s \n",
            "\u001b[?25hRequirement already satisfied: Pillow>=7.0.0 in /usr/local/lib/python3.7/dist-packages (from pdfplumber) (7.1.2)\n",
            "Collecting Wand\n",
            "  Downloading Wand-0.6.7-py2.py3-none-any.whl (139 kB)\n",
            "\u001b[K     |████████████████████████████████| 139 kB 53.7 MB/s \n",
            "\u001b[?25hRequirement already satisfied: sortedcontainers in /usr/local/lib/python3.7/dist-packages (from pdfminer.six==20200517->pdfplumber) (2.4.0)\n",
            "Requirement already satisfied: chardet in /usr/local/lib/python3.7/dist-packages (from pdfminer.six==20200517->pdfplumber) (3.0.4)\n",
            "Collecting pycryptodome\n",
            "  Downloading pycryptodome-3.10.1-cp35-abi3-manylinux2010_x86_64.whl (1.9 MB)\n",
            "\u001b[K     |████████████████████████████████| 1.9 MB 40.3 MB/s \n",
            "\u001b[?25hBuilding wheels for collected packages: pdfplumber\n",
            "  Building wheel for pdfplumber (setup.py) ... \u001b[?25l\u001b[?25hdone\n",
            "  Created wheel for pdfplumber: filename=pdfplumber-0.5.28-py3-none-any.whl size=32240 sha256=54a9fd8187b3b9e79f6c9dddb2a2a6e147a0711cdb2f31ee855a49f2e95b4c49\n",
            "  Stored in directory: /root/.cache/pip/wheels/f2/b1/a0/c0a77b756d580f53b3806ae0e0b3ec945a8d05fca1d6e10cc1\n",
            "Successfully built pdfplumber\n",
            "Installing collected packages: pycryptodome, Wand, pdfminer.six, pdfplumber\n",
            "Successfully installed Wand-0.6.7 pdfminer.six-20200517 pdfplumber-0.5.28 pycryptodome-3.10.1\n"
          ]
        }
      ]
    },
    {
      "cell_type": "code",
      "metadata": {
        "id": "vO7U302hpBtH"
      },
      "source": [
        "invoice_url = 'http://www.k-billing.com/example_invoices/professionalred_example.pdf'\n",
        "with requests.get(invoice_url) as r:\n",
        "  with open(\"sample_invoice.pdf\", \"wb\") as file:\n",
        "    file.write(r.content)"
      ],
      "execution_count": 66,
      "outputs": []
    },
    {
      "cell_type": "code",
      "metadata": {
        "colab": {
          "base_uri": "https://localhost:8080/"
        },
        "id": "lTKPFwKdqOA2",
        "outputId": "31ff6867-4588-47df-fad3-020d0a30e72c"
      },
      "source": [
        "with pdfplumber.open(\"sample_invoice.pdf\") as pdf:\n",
        "  page=pdf.pages[0]\n",
        "  text=page.extract_text()\n",
        "\n",
        "print(text)"
      ],
      "execution_count": 70,
      "outputs": [
        {
          "output_type": "stream",
          "name": "stdout",
          "text": [
            "Demo Company INVOICE\n",
            "Invoice No. I1083\n",
            "Demo Company\n",
            "Account # C1006\n",
            "1234 Main Street\n",
            "Date 08-14-2008\n",
            "Ashland, KY 41102\n",
            "Due By 08-31-2008\n",
            "Terms None\n",
            "Phone : 111-222-3333 PO No. PO1234\n",
            "E-Mail : 333-444-4444 Sales Rep SalesPerson1\n",
            "Web : http://www.ksoftware.net\n",
            "Bill To Ship To\n",
            "Test Customer Test Customer\n",
            "1234 Main Street 1234 Main Street\n",
            "Ashland, KY 41101 Ashland,  41101\n",
            "Code Description QTY Price T Line Total\n",
            "SKU1222 Test Import Name - Description Goes Here 1 $10.00 Y $10.00\n",
            "Labor - Example labor item. Quantity is number of hours  1.5 $100.00 N $150.00\n",
            "spent, price is hourly rate. Quantity accepts decimal values.\n",
            "Shipping $10.00 Tax $0.78 Subtotal $160.00\n",
            "UPS Ground Total $170.78\n",
            "Payments (-) $0.00\n",
            "An invoice note can go here. Multi-line and even multi-page notes are supported. Balance Due $170.78\n",
            "An invoice footer can go here\n"
          ]
        }
      ]
    },
    {
      "cell_type": "code",
      "metadata": {
        "colab": {
          "base_uri": "https://localhost:8080/"
        },
        "id": "7bPGc3ctrEUO",
        "outputId": "1af4d7cf-6d01-4ffb-ae4e-e0d4f1ffea10"
      },
      "source": [
        "data = text.split(\"\\n\")\n",
        "len(data)\n",
        "data"
      ],
      "execution_count": 73,
      "outputs": [
        {
          "output_type": "execute_result",
          "data": {
            "text/plain": [
              "['Demo Company INVOICE',\n",
              " 'Invoice No. I1083',\n",
              " 'Demo Company',\n",
              " 'Account # C1006',\n",
              " '1234 Main Street',\n",
              " 'Date 08-14-2008',\n",
              " 'Ashland, KY 41102',\n",
              " 'Due By 08-31-2008',\n",
              " 'Terms None',\n",
              " 'Phone : 111-222-3333 PO No. PO1234',\n",
              " 'E-Mail : 333-444-4444 Sales Rep SalesPerson1',\n",
              " 'Web : http://www.ksoftware.net',\n",
              " 'Bill To Ship To',\n",
              " 'Test Customer Test Customer',\n",
              " '1234 Main Street 1234 Main Street',\n",
              " 'Ashland, KY 41101 Ashland,  41101',\n",
              " 'Code Description QTY Price T Line Total',\n",
              " 'SKU1222 Test Import Name - Description Goes Here 1 $10.00 Y $10.00',\n",
              " 'Labor - Example labor item. Quantity is number of hours  1.5 $100.00 N $150.00',\n",
              " 'spent, price is hourly rate. Quantity accepts decimal values.',\n",
              " 'Shipping $10.00 Tax $0.78 Subtotal $160.00',\n",
              " 'UPS Ground Total $170.78',\n",
              " 'Payments (-) $0.00',\n",
              " 'An invoice note can go here. Multi-line and even multi-page notes are supported. Balance Due $170.78',\n",
              " 'An invoice footer can go here']"
            ]
          },
          "metadata": {},
          "execution_count": 73
        }
      ]
    },
    {
      "cell_type": "code",
      "metadata": {
        "colab": {
          "base_uri": "https://localhost:8080/"
        },
        "id": "FvxgyU9wrqnm",
        "outputId": "ce4c03cb-3d7c-4881-8120-b04151982380"
      },
      "source": [
        "for item in data:\n",
        "  if 'Phone' in item:\n",
        "    phone=item.split(\"Phone : \")[-1].split()[0]\n",
        "    print(phone)"
      ],
      "execution_count": 82,
      "outputs": [
        {
          "output_type": "stream",
          "name": "stdout",
          "text": [
            "111-222-3333\n"
          ]
        }
      ]
    },
    {
      "cell_type": "code",
      "metadata": {
        "colab": {
          "base_uri": "https://localhost:8080/"
        },
        "id": "Z36WgRhKtgK4",
        "outputId": "283c3974-9d96-460a-de9f-ae9995eab805"
      },
      "source": [
        "for item in data:\n",
        "  if 'Web' in item:\n",
        "    website=item.split(\"Web : \")[-1]\n",
        "    print(website)"
      ],
      "execution_count": 85,
      "outputs": [
        {
          "output_type": "stream",
          "name": "stdout",
          "text": [
            "http://www.ksoftware.net\n"
          ]
        }
      ]
    },
    {
      "cell_type": "code",
      "metadata": {
        "colab": {
          "base_uri": "https://localhost:8080/"
        },
        "id": "t8jMnpvQuPaZ",
        "outputId": "75728fd2-8581-43d9-8c1a-3ac861cf2ba9"
      },
      "source": [
        "# Grab Balance Due $170.78, but just the number\n",
        "for item in data:\n",
        "  if \"Balance Due\" in item:\n",
        "    balance=item.split(\"Balance Due\")[-1]\n",
        "    print(balance)"
      ],
      "execution_count": 88,
      "outputs": [
        {
          "output_type": "stream",
          "name": "stdout",
          "text": [
            " $170.78\n"
          ]
        }
      ]
    },
    {
      "cell_type": "code",
      "metadata": {
        "colab": {
          "base_uri": "https://localhost:8080/"
        },
        "id": "Rn5BSPvVv6s2",
        "outputId": "063cd426-cef3-4bfe-fcc2-af4ffbf67192"
      },
      "source": [
        "for item in data:\n",
        "  if \"Account #\" in item:\n",
        "    account=item.split(\"Account #\")[-1]\n",
        "    print(account)"
      ],
      "execution_count": 91,
      "outputs": [
        {
          "output_type": "stream",
          "name": "stdout",
          "text": [
            " C1006\n"
          ]
        }
      ]
    },
    {
      "cell_type": "code",
      "metadata": {
        "id": "GnZ9F9Kiw3XH"
      },
      "source": [
        "sample_url = 'https://investor.qantas.com/FormBuilder/_Resource/_module/doLLG5ufYkCyEPjF1tpgyw/file/annual-reports/2020-Annual-Report-ASX.pdf'\n",
        "with requests.get(sample_url) as r:\n",
        "  with open('Qantas2020.pdf', 'wb') as file:\n",
        "    file.write(r.content)"
      ],
      "execution_count": 92,
      "outputs": []
    },
    {
      "cell_type": "code",
      "metadata": {
        "colab": {
          "base_uri": "https://localhost:8080/"
        },
        "id": "M8ZiVcOyxT__",
        "outputId": "46986fb1-3f0b-4cec-f569-6f1b9946c0a8"
      },
      "source": [
        "fulltext = \"\"\n",
        "\n",
        "with pdfplumber.open('Qantas2020.pdf') as pdf:\n",
        "    for page in pdf.pages:\n",
        "      text = page.extract_text()\n",
        "      fulltext+=text\n",
        "      print(f\"Extracting page {page}\")"
      ],
      "execution_count": 93,
      "outputs": [
        {
          "output_type": "stream",
          "name": "stdout",
          "text": [
            "Extracting page <Page:1>\n",
            "Extracting page <Page:2>\n",
            "Extracting page <Page:3>\n",
            "Extracting page <Page:4>\n",
            "Extracting page <Page:5>\n",
            "Extracting page <Page:6>\n",
            "Extracting page <Page:7>\n",
            "Extracting page <Page:8>\n",
            "Extracting page <Page:9>\n",
            "Extracting page <Page:10>\n",
            "Extracting page <Page:11>\n",
            "Extracting page <Page:12>\n",
            "Extracting page <Page:13>\n",
            "Extracting page <Page:14>\n",
            "Extracting page <Page:15>\n",
            "Extracting page <Page:16>\n",
            "Extracting page <Page:17>\n",
            "Extracting page <Page:18>\n",
            "Extracting page <Page:19>\n",
            "Extracting page <Page:20>\n",
            "Extracting page <Page:21>\n",
            "Extracting page <Page:22>\n",
            "Extracting page <Page:23>\n",
            "Extracting page <Page:24>\n",
            "Extracting page <Page:25>\n",
            "Extracting page <Page:26>\n",
            "Extracting page <Page:27>\n",
            "Extracting page <Page:28>\n",
            "Extracting page <Page:29>\n",
            "Extracting page <Page:30>\n",
            "Extracting page <Page:31>\n",
            "Extracting page <Page:32>\n",
            "Extracting page <Page:33>\n",
            "Extracting page <Page:34>\n",
            "Extracting page <Page:35>\n",
            "Extracting page <Page:36>\n",
            "Extracting page <Page:37>\n",
            "Extracting page <Page:38>\n",
            "Extracting page <Page:39>\n",
            "Extracting page <Page:40>\n",
            "Extracting page <Page:41>\n",
            "Extracting page <Page:42>\n",
            "Extracting page <Page:43>\n",
            "Extracting page <Page:44>\n",
            "Extracting page <Page:45>\n",
            "Extracting page <Page:46>\n",
            "Extracting page <Page:47>\n",
            "Extracting page <Page:48>\n",
            "Extracting page <Page:49>\n",
            "Extracting page <Page:50>\n",
            "Extracting page <Page:51>\n",
            "Extracting page <Page:52>\n",
            "Extracting page <Page:53>\n",
            "Extracting page <Page:54>\n",
            "Extracting page <Page:55>\n",
            "Extracting page <Page:56>\n",
            "Extracting page <Page:57>\n",
            "Extracting page <Page:58>\n",
            "Extracting page <Page:59>\n",
            "Extracting page <Page:60>\n",
            "Extracting page <Page:61>\n",
            "Extracting page <Page:62>\n",
            "Extracting page <Page:63>\n",
            "Extracting page <Page:64>\n",
            "Extracting page <Page:65>\n",
            "Extracting page <Page:66>\n",
            "Extracting page <Page:67>\n",
            "Extracting page <Page:68>\n",
            "Extracting page <Page:69>\n",
            "Extracting page <Page:70>\n",
            "Extracting page <Page:71>\n",
            "Extracting page <Page:72>\n",
            "Extracting page <Page:73>\n",
            "Extracting page <Page:74>\n",
            "Extracting page <Page:75>\n",
            "Extracting page <Page:76>\n",
            "Extracting page <Page:77>\n",
            "Extracting page <Page:78>\n",
            "Extracting page <Page:79>\n",
            "Extracting page <Page:80>\n",
            "Extracting page <Page:81>\n",
            "Extracting page <Page:82>\n",
            "Extracting page <Page:83>\n",
            "Extracting page <Page:84>\n",
            "Extracting page <Page:85>\n",
            "Extracting page <Page:86>\n",
            "Extracting page <Page:87>\n",
            "Extracting page <Page:88>\n",
            "Extracting page <Page:89>\n",
            "Extracting page <Page:90>\n",
            "Extracting page <Page:91>\n",
            "Extracting page <Page:92>\n",
            "Extracting page <Page:93>\n",
            "Extracting page <Page:94>\n",
            "Extracting page <Page:95>\n",
            "Extracting page <Page:96>\n",
            "Extracting page <Page:97>\n",
            "Extracting page <Page:98>\n",
            "Extracting page <Page:99>\n",
            "Extracting page <Page:100>\n",
            "Extracting page <Page:101>\n",
            "Extracting page <Page:102>\n",
            "Extracting page <Page:103>\n",
            "Extracting page <Page:104>\n",
            "Extracting page <Page:105>\n",
            "Extracting page <Page:106>\n",
            "Extracting page <Page:107>\n",
            "Extracting page <Page:108>\n",
            "Extracting page <Page:109>\n",
            "Extracting page <Page:110>\n",
            "Extracting page <Page:111>\n",
            "Extracting page <Page:112>\n",
            "Extracting page <Page:113>\n",
            "Extracting page <Page:114>\n",
            "Extracting page <Page:115>\n",
            "Extracting page <Page:116>\n",
            "Extracting page <Page:117>\n",
            "Extracting page <Page:118>\n",
            "Extracting page <Page:119>\n",
            "Extracting page <Page:120>\n",
            "Extracting page <Page:121>\n",
            "Extracting page <Page:122>\n",
            "Extracting page <Page:123>\n",
            "Extracting page <Page:124>\n",
            "Extracting page <Page:125>\n",
            "Extracting page <Page:126>\n",
            "Extracting page <Page:127>\n",
            "Extracting page <Page:128>\n",
            "Extracting page <Page:129>\n",
            "Extracting page <Page:130>\n",
            "Extracting page <Page:131>\n",
            "Extracting page <Page:132>\n",
            "Extracting page <Page:133>\n",
            "Extracting page <Page:134>\n",
            "Extracting page <Page:135>\n",
            "Extracting page <Page:136>\n",
            "Extracting page <Page:137>\n",
            "Extracting page <Page:138>\n"
          ]
        }
      ]
    },
    {
      "cell_type": "code",
      "metadata": {
        "id": "wvYFuJEux9pu"
      },
      "source": [
        "print(fulltext)"
      ],
      "execution_count": null,
      "outputs": []
    },
    {
      "cell_type": "code",
      "metadata": {
        "colab": {
          "base_uri": "https://localhost:8080/"
        },
        "id": "M5kaijvEyXu6",
        "outputId": "30d7d374-6c42-436f-f1dd-0b4128a41f85"
      },
      "source": [
        "search_words = [\"total\", \"qantas\", \"revenue\", \"sustainability\", \"tax\"]\n",
        "\n",
        "for word in search_words:\n",
        "  count = fulltext.lower().count(word)\n",
        "  print(f\"The number of counts of {word} is {count}\")"
      ],
      "execution_count": 101,
      "outputs": [
        {
          "output_type": "stream",
          "name": "stdout",
          "text": [
            "The number of counts of total is 234\n",
            "The number of counts of qantas is 891\n",
            "The number of counts of revenue is 239\n",
            "The number of counts of sustainability is 3\n",
            "The number of counts of tax is 257\n"
          ]
        }
      ]
    },
    {
      "cell_type": "code",
      "metadata": {
        "id": "ps_s9OgNzqD5"
      },
      "source": [
        ""
      ],
      "execution_count": null,
      "outputs": []
    },
    {
      "cell_type": "code",
      "metadata": {
        "colab": {
          "base_uri": "https://localhost:8080/"
        },
        "id": "yE95N4LUzGZu",
        "outputId": "213cc542-100c-41a9-8272-7ee05eede57e"
      },
      "source": [
        "data = fulltext.split(\"\\n\")\n",
        "len(data)"
      ],
      "execution_count": 103,
      "outputs": [
        {
          "output_type": "execute_result",
          "data": {
            "text/plain": [
              "7281"
            ]
          },
          "metadata": {},
          "execution_count": 103
        }
      ]
    },
    {
      "cell_type": "code",
      "metadata": {
        "colab": {
          "base_uri": "https://localhost:8080/"
        },
        "id": "8LfyWY_Gz-oX",
        "outputId": "294b93c6-37e3-4ed0-c789-d7650dc31573"
      },
      "source": [
        "for item in data:\n",
        "  if 'sustainability' in item.lower():\n",
        "    print(item)"
      ],
      "execution_count": 104,
      "outputs": [
        {
          "output_type": "stream",
          "name": "stdout",
          "text": [
            "Material business risks arising from COVID-19, notably liquidity risks, are being critically managed to ensure the ongoing sustainability \n",
            "The Qantas Group is committed to environmental sustainability with high standards for environmental performance. The Board places \n",
            "Material business risks arising from COVID-19, notably liquidity risks, are being critically managed to ensure the ongoing sustainability \n"
          ]
        }
      ]
    },
    {
      "cell_type": "markdown",
      "metadata": {
        "id": "Uekgs92DZqYY"
      },
      "source": [
        ""
      ]
    }
  ]
}