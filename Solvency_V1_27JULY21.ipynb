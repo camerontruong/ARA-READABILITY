{
  "nbformat": 4,
  "nbformat_minor": 0,
  "metadata": {
    "colab": {
      "name": "Solvency.ipynb",
      "private_outputs": true,
      "provenance": [],
      "authorship_tag": "ABX9TyNBH7U2PfHQ7W8zpSGqObKz",
      "include_colab_link": true
    },
    "kernelspec": {
      "name": "python3",
      "display_name": "Python 3"
    },
    "language_info": {
      "name": "python"
    }
  },
  "cells": [
    {
      "cell_type": "markdown",
      "metadata": {
        "id": "view-in-github",
        "colab_type": "text"
      },
      "source": [
        "<a href=\"https://colab.research.google.com/github/camerontruong/ARA-READABILITY/blob/main/Solvency_V1_27JULY21.ipynb\" target=\"_parent\"><img src=\"https://colab.research.google.com/assets/colab-badge.svg\" alt=\"Open In Colab\"/></a>"
      ]
    },
    {
      "cell_type": "code",
      "metadata": {
        "id": "ps4QKwC6jQrv"
      },
      "source": [
        "# api = '95a3aac577bc5eb52d543ac0850ecee2'\n",
        "# end_point = 'https://financialmodelingprep.com/api/v3/balance-sheet-statement'\n",
        "# params= {\n",
        "#     \"apikey\": api,\n",
        "#     \"limit\": 1,\n",
        "# }\n",
        "# import requests\n",
        "# import pandas as pd\n",
        "# stock = 'AAPL'\n",
        "# balance_sheet = requests.get(f\"{end_point}/{stock}\",params=params).json()\n",
        "# # account_receivable = requests.get(f\"{end_point}/{stock}\",params=params).json()\n",
        "# balance_sheet"
      ],
      "execution_count": null,
      "outputs": []
    },
    {
      "cell_type": "code",
      "metadata": {
        "id": "gx0SN1Z0lZpQ"
      },
      "source": [
        "# account_receivables =[item['netReceivables'] for item in balance_sheet]\n",
        "# period =[item['date'] for item in balance_sheet]\n",
        "\n",
        "# receivables = {period[i]:account_receivables[i] for i in range(len(period))}\n",
        "# receivables"
      ],
      "execution_count": null,
      "outputs": []
    },
    {
      "cell_type": "code",
      "metadata": {
        "id": "FwJuW4JvmQrB"
      },
      "source": [
        "# all_receivables = {stock:receivables}\n",
        "# all_receivables"
      ],
      "execution_count": null,
      "outputs": []
    },
    {
      "cell_type": "code",
      "metadata": {
        "id": "tIlv9YsQofvd"
      },
      "source": [
        "# receivables_apple = pd.DataFrame.from_dict(all_receivables)\n",
        "# receivables_apple"
      ],
      "execution_count": null,
      "outputs": []
    },
    {
      "cell_type": "code",
      "metadata": {
        "id": "8d-SZu9borJd"
      },
      "source": [
        "# import plotly.express as px\n",
        "# fig = px.bar(receivables_apple, x=receivables_apple.index, y=receivables_apple[stock], title= \"Account Receivables \" + stock)\n",
        "# fig.show()"
      ],
      "execution_count": null,
      "outputs": []
    },
    {
      "cell_type": "code",
      "metadata": {
        "id": "hkfMlpRUpdCR"
      },
      "source": [
        "import requests\n",
        "import pandas as pd\n",
        "\n",
        "companies = ['AAPL', 'MSFT', 'NVDA', 'ASML', 'ADBE', 'CSCO', 'INTC', 'AVGO', 'TXN', 'QCOM']\n",
        "api = '95a3aac577bc5eb52d543ac0850ecee2'\n",
        "end_point = 'https://financialmodelingprep.com/api/v3/balance-sheet-statement'\n",
        "params= {\n",
        "    \"apikey\": api,\n",
        "    \"limit\": 1,\n",
        "}\n",
        "\n",
        "data = {}\n",
        "for company in companies:\n",
        "  BS = requests.get(f\"{end_point}/{company}\",params=params).json()\n",
        "  print(BS)\n",
        "  data[company] = BS[0]\n",
        "\n",
        "BS_industry = pd.DataFrame.from_dict(data)\n",
        "BS_industry = BS_industry.T\n",
        "BS_industry\n",
        "\n"
      ],
      "execution_count": null,
      "outputs": []
    },
    {
      "cell_type": "code",
      "metadata": {
        "id": "Nw51tUMycYsB"
      },
      "source": [
        "BS_industry.index"
      ],
      "execution_count": null,
      "outputs": []
    },
    {
      "cell_type": "code",
      "metadata": {
        "id": "RNa8XknEd1W-"
      },
      "source": [
        "BS_industry['debt_to_Assets'] = BS_industry.totalDebt/BS_industry.totalAssets"
      ],
      "execution_count": null,
      "outputs": []
    },
    {
      "cell_type": "code",
      "metadata": {
        "id": "nXMfxyD7d6BJ"
      },
      "source": [
        "BS_industry['debt_to_Capital'] = BS_industry.totalDebt/(BS_industry.totalDebt+BS_industry.totalStockholdersEquity)"
      ],
      "execution_count": null,
      "outputs": []
    },
    {
      "cell_type": "code",
      "metadata": {
        "id": "MUvKaY_reOaU"
      },
      "source": [
        "BS_industry['debt_to_Equity'] = BS_industry.totalDebt/BS_industry.totalStockholdersEquity "
      ],
      "execution_count": null,
      "outputs": []
    },
    {
      "cell_type": "code",
      "metadata": {
        "id": "7YkB0ozgeTWN"
      },
      "source": [
        "BS_industry['financial_Leverage'] =BS_industry.totalAssets/BS_industry.totalStockholdersEquity"
      ],
      "execution_count": null,
      "outputs": []
    },
    {
      "cell_type": "code",
      "metadata": {
        "id": "9WYzyfepe-bv"
      },
      "source": [
        "BS_industry1 =BS_industry[['debt_to_Assets','debt_to_Capital','debt_to_Equity','financial_Leverage']]\n",
        "# BS_industry1.loc['mean']=BS_industry.astype('float').mean()\n",
        "BS_industry1"
      ],
      "execution_count": null,
      "outputs": []
    },
    {
      "cell_type": "code",
      "metadata": {
        "id": "yQ3A5spsf6XA"
      },
      "source": [
        "BS_industry1.loc['mean']=BS_industry1.astype('float').mean()\n",
        "BS_industry1"
      ],
      "execution_count": null,
      "outputs": []
    },
    {
      "cell_type": "code",
      "metadata": {
        "id": "9bBHBYUBwyEP"
      },
      "source": [
        "BS_industry[['debt_to_Assets','debt_to_Capital','debt_to_Equity','financial_Leverage']].plot(figsize= (30,5), marker= 'o')"
      ],
      "execution_count": null,
      "outputs": []
    },
    {
      "cell_type": "code",
      "metadata": {
        "id": "Ug3SO0c0zeCu"
      },
      "source": [
        "import matplotlib.pyplot as plt\n",
        "BS_industry[['debt_to_Assets','debt_to_Capital','debt_to_Equity','financial_Leverage']].plot(figsize= (30,5), marker= 'o')\n",
        "# to have all xticks\n",
        "plt.xticks(list(range(len(BS_industry.index))), BS_industry.index, fontsize=10)\n",
        "plt.show()"
      ],
      "execution_count": null,
      "outputs": []
    },
    {
      "cell_type": "code",
      "metadata": {
        "id": "I3TXOGzL1gUC"
      },
      "source": [
        ""
      ],
      "execution_count": null,
      "outputs": []
    }
  ]
}